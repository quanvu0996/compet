{
  "nbformat": 4,
  "nbformat_minor": 0,
  "metadata": {
    "kernelspec": {
      "language": "python",
      "display_name": "Python 3",
      "name": "python3"
    },
    "language_info": {
      "pygments_lexer": "ipython3",
      "nbconvert_exporter": "python",
      "version": "3.6.4",
      "file_extension": ".py",
      "codemirror_mode": {
        "name": "ipython",
        "version": 3
      },
      "name": "python",
      "mimetype": "text/x-python"
    },
    "colab": {
      "name": "moa-stacked-ensemble-multimodels.ipynb",
      "provenance": []
    },
    "accelerator": "GPU"
  },
  "cells": [
    {
      "cell_type": "markdown",
      "metadata": {
        "id": "d3opyzGTGHcN"
      },
      "source": [
        "COLAB"
      ]
    },
    {
      "cell_type": "code",
      "metadata": {
        "id": "TNZPYerEGF3Q"
      },
      "source": [
        "folder_path = '/content/drive/MyDrive/Data/colabs_data/MOA_kaggle/'"
      ],
      "execution_count": 2,
      "outputs": []
    },
    {
      "cell_type": "code",
      "metadata": {
        "id": "oVvLybRlJSW3",
        "colab": {
          "base_uri": "https://localhost:8080/"
        },
        "outputId": "25c1346f-9cc4-4675-f6d3-8dbe35ac5ad9"
      },
      "source": [
        "from google.colab import drive\n",
        "drive.mount('/content/drive')"
      ],
      "execution_count": 3,
      "outputs": [
        {
          "output_type": "stream",
          "text": [
            "Mounted at /content/drive\n"
          ],
          "name": "stdout"
        }
      ]
    },
    {
      "cell_type": "code",
      "metadata": {
        "id": "5ux7iJfNKQub"
      },
      "source": [
        "!cp '/content/drive/MyDrive/Data/colabs_data/MOA_kaggle/quanvh8_funcs.py' ."
      ],
      "execution_count": 4,
      "outputs": []
    },
    {
      "cell_type": "code",
      "metadata": {
        "id": "yeA_6TZdugph"
      },
      "source": [
        ""
      ],
      "execution_count": null,
      "outputs": []
    },
    {
      "cell_type": "markdown",
      "metadata": {
        "id": "Dya6YyhbGMo-"
      },
      "source": [
        "KAGGLE"
      ]
    },
    {
      "cell_type": "code",
      "metadata": {
        "id": "672aJy7uGQ47"
      },
      "source": [
        "# folder_path = '../input/lish-moa/'"
      ],
      "execution_count": null,
      "outputs": []
    },
    {
      "cell_type": "code",
      "metadata": {
        "_uuid": "8f2839f25d086af736a60e9eeb907d3b93b6e0e5",
        "_cell_guid": "b1076dfc-b9ad-4769-8c92-a6c4dae69d19",
        "trusted": true,
        "id": "NVgqVGJhGDpU"
      },
      "source": [
        "# !cp '../input/coded-file/quanvh8_funcs.py' ."
      ],
      "execution_count": null,
      "outputs": []
    },
    {
      "cell_type": "code",
      "metadata": {
        "_uuid": "d629ff2d2480ee46fbb7e2d37f6b5fab8052498a",
        "_cell_guid": "79c7e3d0-c299-4dcb-8224-4455121ee9b0",
        "trusted": true,
        "id": "SPXySQXZGDpW",
        "colab": {
          "base_uri": "https://localhost:8080/"
        },
        "outputId": "6b530d4b-06f9-43f1-f2b4-40ffacc1871a"
      },
      "source": [
        "'''ENSEMBLE NETS\n",
        "Inspire by https://www.kaggle.com/c/otto-group-product-classification-challenge/discussion/14335'''\n",
        "\n",
        "import numpy as np, pandas as pd, copy, tensorflow as tf, matplotlib.pyplot as plt, sklearn\n",
        "\n",
        "from tensorflow import feature_column as fc\n",
        "from tensorflow.keras.losses import BinaryCrossentropy\n",
        "from tensorflow.keras.layers import (Dense, DenseFeatures, Dropout, \n",
        "                                     BatchNormalization, Embedding, Input, Concatenate, Average,\n",
        "                                     InputLayer, Lambda)\n",
        "from tensorflow.keras.metrics import AUC, Precision, Recall\n",
        "from tensorflow.keras import backend as K, Sequential, Model\n",
        "from tensorflow.keras.callbacks import ReduceLROnPlateau, EarlyStopping\n",
        "from tensorflow.keras.optimizers import Adam, RMSprop\n",
        "\n",
        "import tensorflow_addons as tfa\n",
        "from tensorflow_addons.layers import WeightNormalization\n",
        "\n",
        "from sklearn.preprocessing import QuantileTransformer, StandardScaler\n",
        "from sklearn.base import BaseEstimator, TransformerMixin\n",
        "from sklearn.pipeline import Pipeline, FeatureUnion\n",
        "from sklearn.compose import ColumnTransformer\n",
        "from sklearn.feature_selection import VarianceThreshold\n",
        "from sklearn.decomposition import PCA\n",
        "from sklearn.model_selection import KFold\n",
        "from sklearn.cluster import KMeans\n",
        "\n",
        "from quanvh8_funcs import (DerivedFeatures, kfolds_bagging_training, voting_predict,\n",
        "                           kolds_stacked_ensemble_training, stacked_ensemble_predict )\n",
        "\n",
        "import sys\n",
        "\n",
        "def log_loss_metric(y_true, y_pred):\n",
        "    bce = tf.keras.losses.BinaryCrossentropy()\n",
        "    return bce(y_true, y_pred).numpy()\n",
        "\n",
        "print(pd.__version__)\n",
        "print(tf.__version__)"
      ],
      "execution_count": 5,
      "outputs": [
        {
          "output_type": "stream",
          "text": [
            "1.1.4\n",
            "2.3.0\n"
          ],
          "name": "stdout"
        }
      ]
    },
    {
      "cell_type": "code",
      "metadata": {
        "trusted": true,
        "id": "Fl1NAQ3LGDpW"
      },
      "source": [
        "# Loading data and encoding\n",
        "\n",
        "\n",
        "raw_test = pd.read_csv(folder_path + 'test_features.csv')\n",
        "raw_train = pd.read_csv(folder_path + 'train_features.csv')\n",
        "raw_targets = pd.read_csv(folder_path + 'train_targets_scored.csv')\n",
        "raw_nonscored = pd.read_csv(folder_path + 'train_targets_nonscored.csv')\n",
        "\n",
        "# Phân loại dữ liệu\n",
        "cols_id = ['sig_id']\n",
        "cols_to_remove = ['cp_type']\n",
        "cols_fts = [i for i in raw_train.columns if i not in cols_id +cols_to_remove]\n",
        "cols_gene = [col for col in raw_train.columns if col.startswith(\"g-\")]\n",
        "cols_cell = [col for col in raw_train.columns if col.startswith(\"c-\")]\n",
        "cols_experiment = [col for col in cols_fts if col not in cols_gene+cols_cell]\n",
        "cols_target = [i for i in raw_targets.columns if i not in cols_id]\n",
        "num_fts, num_labels = len(cols_fts), len(cols_target)\n",
        "\n",
        "# xử lý categorical\n",
        "def transform_data(input_data):\n",
        "    '''Clean data and encoding\n",
        "        * input_data: table '''\n",
        "    out = input_data.copy()\n",
        "    out['cp_dose'] = out['cp_dose'].map({'D1':0, 'D2':1})\n",
        "    out['cp_time'] = out['cp_time']/72\n",
        "    \n",
        "    return out\n",
        "\n",
        "to_train = transform_data(raw_train[raw_train['cp_type'] != 'ctl_vehicle'])\n",
        "to_train_targets = raw_targets.iloc[to_train.index]\n",
        "full_pred  = transform_data(raw_test)\n",
        "to_pred = full_pred[full_pred['cp_type'] != 'ctl_vehicle']"
      ],
      "execution_count": 6,
      "outputs": []
    },
    {
      "cell_type": "code",
      "metadata": {
        "trusted": true,
        "id": "7rIjLd5UGDpW"
      },
      "source": [
        "# preprocessing pipeline\n",
        "def pipe_line_builder(quantiles_num, pca_dims, kmean_clusters):\n",
        "    '''Dựng pipe line cho từng nhóm columns\n",
        "    :quantiles_num: int: số quantile khi normalise\n",
        "    :pca_dims: int: số chiều pca'''\n",
        "    norm = QuantileTransformer(n_quantiles=quantiles_num,random_state=0, output_distribution=\"normal\")\n",
        "    pca = PCA(n_components = pca_dims)\n",
        "    derived_ft = DerivedFeatures(n_clusters = kmean_clusters)\n",
        "    tsne = sklearn.manifold.TSNE(n_components = int(pca_dims/2))\n",
        "    isomap = sklearn.manifold.Isomap(n_neighbors = 128, n_components = int(pca_dims/2) )\n",
        "\n",
        "    p_derived_ft = Pipeline([\n",
        "        ('norm', norm), \n",
        "        ('derived', derived_ft)])\n",
        "    \n",
        "    p_isomap = Pipeline([\n",
        "        ('norm', norm), \n",
        "        ('isomap', isomap)])\n",
        "\n",
        "    p_norm_pca = Pipeline([ \n",
        "        ('norm', norm),\n",
        "        ('pca', pca) ])\n",
        "    return FeatureUnion([\n",
        "        ('norm', norm), \n",
        "        ('norm_pca', p_norm_pca),\n",
        "        ('derived', p_derived_ft),\n",
        "#         ('isomap', p_isomap)\n",
        "    ])\n",
        "\n",
        "# Dựng pipe transform data\n",
        "\n",
        "pipe = Pipeline([\n",
        "    ('norm_pca', ColumnTransformer([\n",
        "                     ('gene', pipe_line_builder(quantiles_num = 200, pca_dims = 600, kmean_clusters = 5), cols_gene),\n",
        "                     ('cell', pipe_line_builder(quantiles_num = 200, pca_dims = 50, kmean_clusters = 5), cols_cell),\n",
        "                    ]) \n",
        "    ), \n",
        "    ('var', VarianceThreshold(0.0)) \n",
        "])\n",
        "\n",
        "pipe = ColumnTransformer([\n",
        "    ('gene_cell', pipe, cols_gene+ cols_cell),\n",
        "    ('experiment', 'passthrough', cols_experiment)\n",
        "])"
      ],
      "execution_count": 7,
      "outputs": []
    },
    {
      "cell_type": "code",
      "metadata": {
        "trusted": true,
        "id": "nQyBLx8OGDpX"
      },
      "source": [
        "# Transform data\n",
        "# pipe.fit(to_train[cols_fts].append(to_pred[cols_fts]))\n",
        "# X_train = pipe.transform(to_train[cols_fts])\n",
        "# X_pred = pipe.transform(to_pred[cols_fts])\n",
        "y_train = to_train_targets[cols_target].values"
      ],
      "execution_count": 11,
      "outputs": []
    },
    {
      "cell_type": "code",
      "metadata": {
        "colab": {
          "base_uri": "https://localhost:8080/"
        },
        "id": "yNh0I-suE6OZ",
        "outputId": "496bfcfc-285d-4eb8-8444-42c5831881ff"
      },
      "source": [
        "bias_init_carefully = np.log([16844/(21948*206 - 16844)])\n",
        "bias_init_carefully"
      ],
      "execution_count": 8,
      "outputs": [
        {
          "output_type": "execute_result",
          "data": {
            "text/plain": [
              "array([-5.58882523])"
            ]
          },
          "metadata": {
            "tags": []
          },
          "execution_count": 8
        }
      ]
    },
    {
      "cell_type": "code",
      "metadata": {
        "trusted": true,
        "id": "6brIdJSDGDpX",
        "colab": {
          "base_uri": "https://localhost:8080/",
          "height": 540
        },
        "outputId": "eb2fd425-5013-4b07-f97b-c48904da6dc9"
      },
      "source": [
        "\n",
        "def get_list_contains_ohe(keywords, cols_list):\n",
        "    ouput = []\n",
        "    for keyword in keywords:\n",
        "        ouput.append( [1 if keyword in i else 0 for i in cols_list] )\n",
        "    return ouput\n",
        "\n",
        "def layer_BDWD( n_components, activation = 'relu',  kn_init = 'glorot_uniform', kn_reg = None, bias_init = None):\n",
        "  def layer_cpl(input_layer):\n",
        "    '''BN - DROPOUT - WEIGHTNORMAL - DENSE'''\n",
        "    layer = BatchNormalization() (input_layer)\n",
        "    layer = Dropout(0.25 ) (layer)\n",
        "    dense = Dense(n_components, activation = activation, \n",
        "                  kernel_initializer = initializer, kernel_regularizer = kn_reg ,\n",
        "                  bias_initializer = bias_init)\n",
        "    layer = WeightNormalization(dense) (layer)\n",
        "    return layer\n",
        "  return layer_cpl\n",
        "\n",
        "bias_init_carefully = tf.keras.initializers.Constant(np.log([16844/(21948*206 - 16844)]))\n",
        "\n",
        "# Tiếp cận theo hướng recommend - cell -> chemical | cell/gene: user, chemial: item\n",
        "n_components = 256 # <-- update\n",
        "\n",
        "u_fts_num = X_train.shape[1]\n",
        "i_fts_num = num_labels\n",
        "\n",
        "initializer = tf.keras.initializers.LecunNormal() #'he_normal'  # <-- update\n",
        "kn_reg =  None  # tf.keras.regularizers.l2(0.00001)  <-- update\n",
        "activation = 'selu'  # <-- update\n",
        "#User embedding\n",
        "input_u = Input(shape = (u_fts_num,) )\n",
        "layer_u = layer_BDWD(1024, activation = activation, kn_init = initializer, kn_reg = kn_reg, bias_init = bias_init_carefully) (input_u)\n",
        "layer_u = layer_BDWD(1024, activation = activation, kn_init = initializer, kn_reg = kn_reg, bias_init = bias_init_carefully) (layer_u)\n",
        "layer_u = layer_BDWD(n_components, activation = activation, kn_init = initializer, kn_reg = kn_reg, bias_init = bias_init_carefully) (layer_u)\n",
        "layer_u = BatchNormalization() (layer_u)\n",
        "\n",
        "#Item embedding\n",
        "  # Addition information for item_info\n",
        "list_chem_gr = ['_inhibitor', '_agonist', '_agent', '_antagonist', '_blocker', '_activator']\n",
        "chemical_category = tf.transpose( tf.constant( get_list_contains_ohe( list_chem_gr, cols_target  ) ))\n",
        "  # Full item fts: addition + onehot\n",
        "item_ft = tf.concat(\n",
        "    [chemical_category ,\n",
        "     tf.eye(i_fts_num, dtype = tf.int32) # Create tensor 0-1 coresponse with chemical labels\n",
        "    ], axis = 1\n",
        ")\n",
        "layer_i = WeightNormalization(Dense(n_components, activation = activation, \n",
        "  kernel_initializer = initializer, kernel_regularizer = kn_reg, bias_initializer = bias_init_carefully)) (item_ft)\n",
        "layer_i = BatchNormalization() (layer_i)\n",
        "\n",
        "# Dot product user - item\n",
        "def dot_2layer(x):\n",
        "    return K.dot( x[0], K.transpose(x[1]))\n",
        "dot_ui = Lambda( dot_2layer, name = 'lambda_dot' ) ([layer_u,layer_i])\n",
        "dot_ui= layer_BDWD(512, activation = 'relu', kn_init = 'he_normal', kn_reg = kn_reg, bias_init = bias_init_carefully) (dot_ui)\n",
        "dot_ui= layer_BDWD(n_components, activation = 'relu', kn_init = 'he_normal', kn_reg = kn_reg, bias_init = bias_init_carefully) (dot_ui)\n",
        "dot_ui = WeightNormalization(Dense(i_fts_num, activation = 'sigmoid' ))(dot_ui)\n",
        "\n",
        "# Compile model\n",
        "model = Model(inputs=[input_u, ], outputs= [dot_ui])\n",
        "\n",
        "opt = tf.keras.optimizers.Adam(learning_rate=0.0001)\n",
        "\n",
        "bce = tf.keras.losses.BinaryCrossentropy()\n",
        "model.compile(loss= BinaryCrossentropy(label_smoothing=0.001), optimizer=opt \n",
        "              , metrics= [bce])\n",
        "# print( model.summary() )\n",
        "\n",
        "# tf.keras.utils.plot_model(model,show_shapes=True)\n",
        "def exp_decay(lr0, s):\n",
        "    def exp_decay_fn(epoch):\n",
        "        return lr0 * 0.1*(epoch%s)\n",
        "    return exp_decay_fn\n",
        "\n",
        "lr_schedule = tf.keras.callbacks.LearningRateScheduler ( exp_decay(0.01, 5) )\n",
        "\n",
        "reduce_lr = ReduceLROnPlateau(monitor='val_binary_crossentropy', factor=0.1, patience=5, mode='min', min_lr=1E-5, verbose= 0)\n",
        "early_stopping = EarlyStopping(monitor='val_binary_crossentropy', min_delta=1E-5, patience=15, mode='min',restore_best_weights=True, verbose= 0)\n",
        "    \n",
        "model.fit(\n",
        "        X_train, y_train, validation_split = 0.25, \n",
        "        callbacks=[reduce_lr, early_stopping, lr_schedule], epochs=150, verbose =1,\n",
        "        batch_size=128 ,\n",
        "        class_weight=class_weight)"
      ],
      "execution_count": 34,
      "outputs": [
        {
          "output_type": "stream",
          "text": [
            "Epoch 1/150\n"
          ],
          "name": "stdout"
        },
        {
          "output_type": "error",
          "ename": "InvalidArgumentError",
          "evalue": "ignored",
          "traceback": [
            "\u001b[0;31m---------------------------------------------------------------------------\u001b[0m",
            "\u001b[0;31mInvalidArgumentError\u001b[0m                      Traceback (most recent call last)",
            "\u001b[0;32m<ipython-input-34-2fc1f4f194b5>\u001b[0m in \u001b[0;36m<module>\u001b[0;34m()\u001b[0m\n\u001b[1;32m     83\u001b[0m         \u001b[0mcallbacks\u001b[0m\u001b[0;34m=\u001b[0m\u001b[0;34m[\u001b[0m\u001b[0mreduce_lr\u001b[0m\u001b[0;34m,\u001b[0m \u001b[0mearly_stopping\u001b[0m\u001b[0;34m,\u001b[0m \u001b[0mlr_schedule\u001b[0m\u001b[0;34m]\u001b[0m\u001b[0;34m,\u001b[0m \u001b[0mepochs\u001b[0m\u001b[0;34m=\u001b[0m\u001b[0;36m150\u001b[0m\u001b[0;34m,\u001b[0m \u001b[0mverbose\u001b[0m \u001b[0;34m=\u001b[0m\u001b[0;36m1\u001b[0m\u001b[0;34m,\u001b[0m\u001b[0;34m\u001b[0m\u001b[0;34m\u001b[0m\u001b[0m\n\u001b[1;32m     84\u001b[0m         \u001b[0mbatch_size\u001b[0m\u001b[0;34m=\u001b[0m\u001b[0;36m128\u001b[0m \u001b[0;34m,\u001b[0m\u001b[0;34m\u001b[0m\u001b[0;34m\u001b[0m\u001b[0m\n\u001b[0;32m---> 85\u001b[0;31m         class_weight=class_weight)\n\u001b[0m",
            "\u001b[0;32m/usr/local/lib/python3.6/dist-packages/tensorflow/python/keras/engine/training.py\u001b[0m in \u001b[0;36m_method_wrapper\u001b[0;34m(self, *args, **kwargs)\u001b[0m\n\u001b[1;32m    106\u001b[0m   \u001b[0;32mdef\u001b[0m \u001b[0m_method_wrapper\u001b[0m\u001b[0;34m(\u001b[0m\u001b[0mself\u001b[0m\u001b[0;34m,\u001b[0m \u001b[0;34m*\u001b[0m\u001b[0margs\u001b[0m\u001b[0;34m,\u001b[0m \u001b[0;34m**\u001b[0m\u001b[0mkwargs\u001b[0m\u001b[0;34m)\u001b[0m\u001b[0;34m:\u001b[0m\u001b[0;34m\u001b[0m\u001b[0;34m\u001b[0m\u001b[0m\n\u001b[1;32m    107\u001b[0m     \u001b[0;32mif\u001b[0m \u001b[0;32mnot\u001b[0m \u001b[0mself\u001b[0m\u001b[0;34m.\u001b[0m\u001b[0m_in_multi_worker_mode\u001b[0m\u001b[0;34m(\u001b[0m\u001b[0;34m)\u001b[0m\u001b[0;34m:\u001b[0m  \u001b[0;31m# pylint: disable=protected-access\u001b[0m\u001b[0;34m\u001b[0m\u001b[0;34m\u001b[0m\u001b[0m\n\u001b[0;32m--> 108\u001b[0;31m       \u001b[0;32mreturn\u001b[0m \u001b[0mmethod\u001b[0m\u001b[0;34m(\u001b[0m\u001b[0mself\u001b[0m\u001b[0;34m,\u001b[0m \u001b[0;34m*\u001b[0m\u001b[0margs\u001b[0m\u001b[0;34m,\u001b[0m \u001b[0;34m**\u001b[0m\u001b[0mkwargs\u001b[0m\u001b[0;34m)\u001b[0m\u001b[0;34m\u001b[0m\u001b[0;34m\u001b[0m\u001b[0m\n\u001b[0m\u001b[1;32m    109\u001b[0m \u001b[0;34m\u001b[0m\u001b[0m\n\u001b[1;32m    110\u001b[0m     \u001b[0;31m# Running inside `run_distribute_coordinator` already.\u001b[0m\u001b[0;34m\u001b[0m\u001b[0;34m\u001b[0m\u001b[0;34m\u001b[0m\u001b[0m\n",
            "\u001b[0;32m/usr/local/lib/python3.6/dist-packages/tensorflow/python/keras/engine/training.py\u001b[0m in \u001b[0;36mfit\u001b[0;34m(self, x, y, batch_size, epochs, verbose, callbacks, validation_split, validation_data, shuffle, class_weight, sample_weight, initial_epoch, steps_per_epoch, validation_steps, validation_batch_size, validation_freq, max_queue_size, workers, use_multiprocessing)\u001b[0m\n\u001b[1;32m   1096\u001b[0m                 batch_size=batch_size):\n\u001b[1;32m   1097\u001b[0m               \u001b[0mcallbacks\u001b[0m\u001b[0;34m.\u001b[0m\u001b[0mon_train_batch_begin\u001b[0m\u001b[0;34m(\u001b[0m\u001b[0mstep\u001b[0m\u001b[0;34m)\u001b[0m\u001b[0;34m\u001b[0m\u001b[0;34m\u001b[0m\u001b[0m\n\u001b[0;32m-> 1098\u001b[0;31m               \u001b[0mtmp_logs\u001b[0m \u001b[0;34m=\u001b[0m \u001b[0mtrain_function\u001b[0m\u001b[0;34m(\u001b[0m\u001b[0miterator\u001b[0m\u001b[0;34m)\u001b[0m\u001b[0;34m\u001b[0m\u001b[0;34m\u001b[0m\u001b[0m\n\u001b[0m\u001b[1;32m   1099\u001b[0m               \u001b[0;32mif\u001b[0m \u001b[0mdata_handler\u001b[0m\u001b[0;34m.\u001b[0m\u001b[0mshould_sync\u001b[0m\u001b[0;34m:\u001b[0m\u001b[0;34m\u001b[0m\u001b[0;34m\u001b[0m\u001b[0m\n\u001b[1;32m   1100\u001b[0m                 \u001b[0mcontext\u001b[0m\u001b[0;34m.\u001b[0m\u001b[0masync_wait\u001b[0m\u001b[0;34m(\u001b[0m\u001b[0;34m)\u001b[0m\u001b[0;34m\u001b[0m\u001b[0;34m\u001b[0m\u001b[0m\n",
            "\u001b[0;32m/usr/local/lib/python3.6/dist-packages/tensorflow/python/eager/def_function.py\u001b[0m in \u001b[0;36m__call__\u001b[0;34m(self, *args, **kwds)\u001b[0m\n\u001b[1;32m    778\u001b[0m       \u001b[0;32melse\u001b[0m\u001b[0;34m:\u001b[0m\u001b[0;34m\u001b[0m\u001b[0;34m\u001b[0m\u001b[0m\n\u001b[1;32m    779\u001b[0m         \u001b[0mcompiler\u001b[0m \u001b[0;34m=\u001b[0m \u001b[0;34m\"nonXla\"\u001b[0m\u001b[0;34m\u001b[0m\u001b[0;34m\u001b[0m\u001b[0m\n\u001b[0;32m--> 780\u001b[0;31m         \u001b[0mresult\u001b[0m \u001b[0;34m=\u001b[0m \u001b[0mself\u001b[0m\u001b[0;34m.\u001b[0m\u001b[0m_call\u001b[0m\u001b[0;34m(\u001b[0m\u001b[0;34m*\u001b[0m\u001b[0margs\u001b[0m\u001b[0;34m,\u001b[0m \u001b[0;34m**\u001b[0m\u001b[0mkwds\u001b[0m\u001b[0;34m)\u001b[0m\u001b[0;34m\u001b[0m\u001b[0;34m\u001b[0m\u001b[0m\n\u001b[0m\u001b[1;32m    781\u001b[0m \u001b[0;34m\u001b[0m\u001b[0m\n\u001b[1;32m    782\u001b[0m       \u001b[0mnew_tracing_count\u001b[0m \u001b[0;34m=\u001b[0m \u001b[0mself\u001b[0m\u001b[0;34m.\u001b[0m\u001b[0m_get_tracing_count\u001b[0m\u001b[0;34m(\u001b[0m\u001b[0;34m)\u001b[0m\u001b[0;34m\u001b[0m\u001b[0;34m\u001b[0m\u001b[0m\n",
            "\u001b[0;32m/usr/local/lib/python3.6/dist-packages/tensorflow/python/eager/def_function.py\u001b[0m in \u001b[0;36m_call\u001b[0;34m(self, *args, **kwds)\u001b[0m\n\u001b[1;32m    838\u001b[0m         \u001b[0;31m# Lifting succeeded, so variables are initialized and we can run the\u001b[0m\u001b[0;34m\u001b[0m\u001b[0;34m\u001b[0m\u001b[0;34m\u001b[0m\u001b[0m\n\u001b[1;32m    839\u001b[0m         \u001b[0;31m# stateless function.\u001b[0m\u001b[0;34m\u001b[0m\u001b[0;34m\u001b[0m\u001b[0;34m\u001b[0m\u001b[0m\n\u001b[0;32m--> 840\u001b[0;31m         \u001b[0;32mreturn\u001b[0m \u001b[0mself\u001b[0m\u001b[0;34m.\u001b[0m\u001b[0m_stateless_fn\u001b[0m\u001b[0;34m(\u001b[0m\u001b[0;34m*\u001b[0m\u001b[0margs\u001b[0m\u001b[0;34m,\u001b[0m \u001b[0;34m**\u001b[0m\u001b[0mkwds\u001b[0m\u001b[0;34m)\u001b[0m\u001b[0;34m\u001b[0m\u001b[0;34m\u001b[0m\u001b[0m\n\u001b[0m\u001b[1;32m    841\u001b[0m     \u001b[0;32melse\u001b[0m\u001b[0;34m:\u001b[0m\u001b[0;34m\u001b[0m\u001b[0;34m\u001b[0m\u001b[0m\n\u001b[1;32m    842\u001b[0m       \u001b[0mcanon_args\u001b[0m\u001b[0;34m,\u001b[0m \u001b[0mcanon_kwds\u001b[0m \u001b[0;34m=\u001b[0m\u001b[0;31m \u001b[0m\u001b[0;31m\\\u001b[0m\u001b[0;34m\u001b[0m\u001b[0;34m\u001b[0m\u001b[0m\n",
            "\u001b[0;32m/usr/local/lib/python3.6/dist-packages/tensorflow/python/eager/function.py\u001b[0m in \u001b[0;36m__call__\u001b[0;34m(self, *args, **kwargs)\u001b[0m\n\u001b[1;32m   2827\u001b[0m     \u001b[0;32mwith\u001b[0m \u001b[0mself\u001b[0m\u001b[0;34m.\u001b[0m\u001b[0m_lock\u001b[0m\u001b[0;34m:\u001b[0m\u001b[0;34m\u001b[0m\u001b[0;34m\u001b[0m\u001b[0m\n\u001b[1;32m   2828\u001b[0m       \u001b[0mgraph_function\u001b[0m\u001b[0;34m,\u001b[0m \u001b[0margs\u001b[0m\u001b[0;34m,\u001b[0m \u001b[0mkwargs\u001b[0m \u001b[0;34m=\u001b[0m \u001b[0mself\u001b[0m\u001b[0;34m.\u001b[0m\u001b[0m_maybe_define_function\u001b[0m\u001b[0;34m(\u001b[0m\u001b[0margs\u001b[0m\u001b[0;34m,\u001b[0m \u001b[0mkwargs\u001b[0m\u001b[0;34m)\u001b[0m\u001b[0;34m\u001b[0m\u001b[0;34m\u001b[0m\u001b[0m\n\u001b[0;32m-> 2829\u001b[0;31m     \u001b[0;32mreturn\u001b[0m \u001b[0mgraph_function\u001b[0m\u001b[0;34m.\u001b[0m\u001b[0m_filtered_call\u001b[0m\u001b[0;34m(\u001b[0m\u001b[0margs\u001b[0m\u001b[0;34m,\u001b[0m \u001b[0mkwargs\u001b[0m\u001b[0;34m)\u001b[0m  \u001b[0;31m# pylint: disable=protected-access\u001b[0m\u001b[0;34m\u001b[0m\u001b[0;34m\u001b[0m\u001b[0m\n\u001b[0m\u001b[1;32m   2830\u001b[0m \u001b[0;34m\u001b[0m\u001b[0m\n\u001b[1;32m   2831\u001b[0m   \u001b[0;34m@\u001b[0m\u001b[0mproperty\u001b[0m\u001b[0;34m\u001b[0m\u001b[0;34m\u001b[0m\u001b[0m\n",
            "\u001b[0;32m/usr/local/lib/python3.6/dist-packages/tensorflow/python/eager/function.py\u001b[0m in \u001b[0;36m_filtered_call\u001b[0;34m(self, args, kwargs, cancellation_manager)\u001b[0m\n\u001b[1;32m   1846\u001b[0m                            resource_variable_ops.BaseResourceVariable))],\n\u001b[1;32m   1847\u001b[0m         \u001b[0mcaptured_inputs\u001b[0m\u001b[0;34m=\u001b[0m\u001b[0mself\u001b[0m\u001b[0;34m.\u001b[0m\u001b[0mcaptured_inputs\u001b[0m\u001b[0;34m,\u001b[0m\u001b[0;34m\u001b[0m\u001b[0;34m\u001b[0m\u001b[0m\n\u001b[0;32m-> 1848\u001b[0;31m         cancellation_manager=cancellation_manager)\n\u001b[0m\u001b[1;32m   1849\u001b[0m \u001b[0;34m\u001b[0m\u001b[0m\n\u001b[1;32m   1850\u001b[0m   \u001b[0;32mdef\u001b[0m \u001b[0m_call_flat\u001b[0m\u001b[0;34m(\u001b[0m\u001b[0mself\u001b[0m\u001b[0;34m,\u001b[0m \u001b[0margs\u001b[0m\u001b[0;34m,\u001b[0m \u001b[0mcaptured_inputs\u001b[0m\u001b[0;34m,\u001b[0m \u001b[0mcancellation_manager\u001b[0m\u001b[0;34m=\u001b[0m\u001b[0;32mNone\u001b[0m\u001b[0;34m)\u001b[0m\u001b[0;34m:\u001b[0m\u001b[0;34m\u001b[0m\u001b[0;34m\u001b[0m\u001b[0m\n",
            "\u001b[0;32m/usr/local/lib/python3.6/dist-packages/tensorflow/python/eager/function.py\u001b[0m in \u001b[0;36m_call_flat\u001b[0;34m(self, args, captured_inputs, cancellation_manager)\u001b[0m\n\u001b[1;32m   1922\u001b[0m       \u001b[0;31m# No tape is watching; skip to running the function.\u001b[0m\u001b[0;34m\u001b[0m\u001b[0;34m\u001b[0m\u001b[0;34m\u001b[0m\u001b[0m\n\u001b[1;32m   1923\u001b[0m       return self._build_call_outputs(self._inference_function.call(\n\u001b[0;32m-> 1924\u001b[0;31m           ctx, args, cancellation_manager=cancellation_manager))\n\u001b[0m\u001b[1;32m   1925\u001b[0m     forward_backward = self._select_forward_and_backward_functions(\n\u001b[1;32m   1926\u001b[0m         \u001b[0margs\u001b[0m\u001b[0;34m,\u001b[0m\u001b[0;34m\u001b[0m\u001b[0;34m\u001b[0m\u001b[0m\n",
            "\u001b[0;32m/usr/local/lib/python3.6/dist-packages/tensorflow/python/eager/function.py\u001b[0m in \u001b[0;36mcall\u001b[0;34m(self, ctx, args, cancellation_manager)\u001b[0m\n\u001b[1;32m    548\u001b[0m               \u001b[0minputs\u001b[0m\u001b[0;34m=\u001b[0m\u001b[0margs\u001b[0m\u001b[0;34m,\u001b[0m\u001b[0;34m\u001b[0m\u001b[0;34m\u001b[0m\u001b[0m\n\u001b[1;32m    549\u001b[0m               \u001b[0mattrs\u001b[0m\u001b[0;34m=\u001b[0m\u001b[0mattrs\u001b[0m\u001b[0;34m,\u001b[0m\u001b[0;34m\u001b[0m\u001b[0;34m\u001b[0m\u001b[0m\n\u001b[0;32m--> 550\u001b[0;31m               ctx=ctx)\n\u001b[0m\u001b[1;32m    551\u001b[0m         \u001b[0;32melse\u001b[0m\u001b[0;34m:\u001b[0m\u001b[0;34m\u001b[0m\u001b[0;34m\u001b[0m\u001b[0m\n\u001b[1;32m    552\u001b[0m           outputs = execute.execute_with_cancellation(\n",
            "\u001b[0;32m/usr/local/lib/python3.6/dist-packages/tensorflow/python/eager/execute.py\u001b[0m in \u001b[0;36mquick_execute\u001b[0;34m(op_name, num_outputs, inputs, attrs, ctx, name)\u001b[0m\n\u001b[1;32m     58\u001b[0m     \u001b[0mctx\u001b[0m\u001b[0;34m.\u001b[0m\u001b[0mensure_initialized\u001b[0m\u001b[0;34m(\u001b[0m\u001b[0;34m)\u001b[0m\u001b[0;34m\u001b[0m\u001b[0;34m\u001b[0m\u001b[0m\n\u001b[1;32m     59\u001b[0m     tensors = pywrap_tfe.TFE_Py_Execute(ctx._handle, device_name, op_name,\n\u001b[0;32m---> 60\u001b[0;31m                                         inputs, attrs, num_outputs)\n\u001b[0m\u001b[1;32m     61\u001b[0m   \u001b[0;32mexcept\u001b[0m \u001b[0mcore\u001b[0m\u001b[0;34m.\u001b[0m\u001b[0m_NotOkStatusException\u001b[0m \u001b[0;32mas\u001b[0m \u001b[0me\u001b[0m\u001b[0;34m:\u001b[0m\u001b[0;34m\u001b[0m\u001b[0;34m\u001b[0m\u001b[0m\n\u001b[1;32m     62\u001b[0m     \u001b[0;32mif\u001b[0m \u001b[0mname\u001b[0m \u001b[0;32mis\u001b[0m \u001b[0;32mnot\u001b[0m \u001b[0;32mNone\u001b[0m\u001b[0;34m:\u001b[0m\u001b[0;34m\u001b[0m\u001b[0;34m\u001b[0m\u001b[0m\n",
            "\u001b[0;31mInvalidArgumentError\u001b[0m: 2 root error(s) found.\n  (0) Invalid argument:  indices[0] = 54 is not in [0, 2)\n\t [[{{node GatherV2}}]]\n\t [[IteratorGetNext]]\n  (1) Invalid argument:  indices[0] = 54 is not in [0, 2)\n\t [[{{node GatherV2}}]]\n\t [[IteratorGetNext]]\n\t [[IteratorGetNext/_2]]\n0 successful operations.\n0 derived errors ignored. [Op:__inference_train_function_304874]\n\nFunction call stack:\ntrain_function -> train_function\n"
          ]
        }
      ]
    },
    {
      "cell_type": "code",
      "metadata": {
        "id": "A7LdkeCTMzDh"
      },
      "source": [
        "pos = 16844\n",
        "total = 21948*206 \n",
        "neg = total - pos\n",
        "weight_for_0 = (1 / neg)*(total)/2.0 \n",
        "weight_for_1 = (1 / pos)*(total)/2.0\n",
        "\n",
        "class_weight = {0: weight_for_0, 1: weight_for_1}"
      ],
      "execution_count": 9,
      "outputs": []
    },
    {
      "cell_type": "code",
      "metadata": {
        "id": "L75BQr9-kBgB",
        "outputId": "75311a2b-e5ac-4764-f41e-bd528b1f3d22",
        "colab": {
          "base_uri": "https://localhost:8080/"
        }
      },
      "source": [
        "tf.keras.activations.get( fn_leakly_relu )"
      ],
      "execution_count": 72,
      "outputs": [
        {
          "output_type": "execute_result",
          "data": {
            "text/plain": [
              "<function __main__.fn_leakly_relu>"
            ]
          },
          "metadata": {
            "tags": []
          },
          "execution_count": 72
        }
      ]
    },
    {
      "cell_type": "code",
      "metadata": {
        "id": "Z_hzRVHMUgK6",
        "outputId": "539b9ab0-c0c1-4b99-92f7-6a0439c0e1f6",
        "colab": {
          "base_uri": "https://localhost:8080/",
          "height": 1000
        }
      },
      "source": [
        "X_train = to_train[cols_fts]\n",
        "u_fts_num = X_train.shape[1]\n",
        "i_fts_num = num_labels\n",
        "\n",
        "initializer = tf.keras.initializers.LecunNormal()# 'he_normal'  # <-- update\n",
        "kn_reg = tf.keras.regularizers.l1(2e-7) # <-- update\n",
        "activation = 'selu'  # <-- update\n",
        "\n",
        "bias_init_carefully = tf.keras.initializers.Constant(np.log([16844/(21948*206 - 16844)]))\n",
        "def layer_BDWD( n_components, activation = 'relu',  kn_init = 'glorot_uniform', kn_reg = None, bias_init = None):\n",
        "  def layer_cpl(input_layer):\n",
        "    '''BN - DROPOUT - WEIGHTNORMAL - DENSE'''\n",
        "    layer = BatchNormalization() (input_layer)\n",
        "    layer = Dropout(0.25 ) (layer)\n",
        "    dense = Dense(n_components, activation = activation, \n",
        "                  kernel_initializer = initializer, kernel_regularizer = kn_reg ,\n",
        "                  bias_initializer = bias_init)\n",
        "    layer = WeightNormalization(dense) (layer)\n",
        "    return layer\n",
        "  return layer_cpl\n",
        "\n",
        "#User embedding\n",
        "input_u = Input(shape = (u_fts_num,) )\n",
        "layer_u = layer_BDWD(1024, activation = activation, kn_init = initializer, kn_reg = kn_reg, bias_init = bias_init_carefully) (input_u)\n",
        "layer_u = layer_BDWD(1024, activation = activation, kn_init = initializer, kn_reg = kn_reg, bias_init = bias_init_carefully) (layer_u)\n",
        "layer_u = layer_BDWD(512, activation = activation, kn_init = initializer, kn_reg = kn_reg, bias_init = bias_init_carefully) (layer_u)\n",
        "\n",
        "out_put = WeightNormalization(Dense(i_fts_num, activation = 'sigmoid' ))(layer_u)\n",
        "\n",
        "model = Model(inputs=[input_u, ], outputs= [out_put])\n",
        "\n",
        "opt = tf.keras.optimizers.Adam(learning_rate=0.001)\n",
        "\n",
        "bce = tf.keras.losses.BinaryCrossentropy()\n",
        "model.compile(loss= BinaryCrossentropy(), optimizer=opt \n",
        "              , metrics= [bce])\n",
        "\n",
        "def exp_decay(lr0, s, down_hill):\n",
        "    def exp_decay_fn(epoch):\n",
        "        if epoch <= 5:\n",
        "            out = lr0*2\n",
        "        elif epoch%s <= 1:\n",
        "            out = lr0\n",
        "        else:\n",
        "            out = lr0 + 0.015*(epoch%s/ (s - 1))* down_hill/ (down_hill + int(epoch/s) )\n",
        "        return np.clip( out, 0.001, 0.05)\n",
        "    return exp_decay_fn\n",
        "\n",
        "fn_lr = exp_decay(0.001, 5, 50)\n",
        "lr_schedule = tf.keras.callbacks.LearningRateScheduler ( fn_lr )\n",
        "\n",
        "reduce_lr = ReduceLROnPlateau(monitor='val_binary_crossentropy', factor=0.1, patience=5, mode='min', min_lr=1E-5, verbose= 0)\n",
        "early_stopping = EarlyStopping(monitor='val_binary_crossentropy', min_delta=1E-5, patience=15, mode='min',restore_best_weights=True, verbose= 0)\n",
        "    \n",
        "history = model.fit(\n",
        "        X_train, y_train, validation_split = 0.25, \n",
        "        callbacks=[early_stopping, lr_schedule], epochs=72, verbose =1,\n",
        "        batch_size= 128)\n",
        "\n",
        "# Graph___________________________________\n",
        "hí = history.history\n",
        "đầu_ra = {x: hí[x] for x in ['binary_crossentropy', 'val_binary_crossentropy']}\n",
        "plt.plot(pd.DataFrame(đầu_ra).iloc[4:,:])\n",
        "plt.show()\n",
        "lr = []\n",
        "for i in range(70) :\n",
        "  lr.append( fn_lr(i+1) )\n",
        "plt.plot(np.array(lr)[4:])\n",
        "plt.show()"
      ],
      "execution_count": 100,
      "outputs": [
        {
          "output_type": "stream",
          "text": [
            "Epoch 1/72\n",
            "129/129 [==============================] - 2s 13ms/step - loss: 0.0646 - binary_crossentropy: 0.0383 - val_loss: 0.0545 - val_binary_crossentropy: 0.0286\n",
            "Epoch 2/72\n",
            "129/129 [==============================] - 1s 8ms/step - loss: 0.0453 - binary_crossentropy: 0.0201 - val_loss: 0.0441 - val_binary_crossentropy: 0.0196\n",
            "Epoch 3/72\n",
            "129/129 [==============================] - 1s 8ms/step - loss: 0.0422 - binary_crossentropy: 0.0183 - val_loss: 0.0424 - val_binary_crossentropy: 0.0191\n",
            "Epoch 4/72\n",
            "129/129 [==============================] - 1s 8ms/step - loss: 0.0409 - binary_crossentropy: 0.0180 - val_loss: 0.0406 - val_binary_crossentropy: 0.0181\n",
            "Epoch 5/72\n",
            "129/129 [==============================] - 1s 8ms/step - loss: 0.0396 - binary_crossentropy: 0.0174 - val_loss: 0.0404 - val_binary_crossentropy: 0.0184\n",
            "Epoch 6/72\n",
            "129/129 [==============================] - 1s 8ms/step - loss: 0.0389 - binary_crossentropy: 0.0172 - val_loss: 0.0403 - val_binary_crossentropy: 0.0187\n",
            "Epoch 7/72\n",
            "129/129 [==============================] - 1s 8ms/step - loss: 0.0370 - binary_crossentropy: 0.0158 - val_loss: 0.0383 - val_binary_crossentropy: 0.0175\n",
            "Epoch 8/72\n",
            "129/129 [==============================] - 1s 8ms/step - loss: 0.0460 - binary_crossentropy: 0.0211 - val_loss: 0.0415 - val_binary_crossentropy: 0.0186\n",
            "Epoch 9/72\n",
            "129/129 [==============================] - 1s 8ms/step - loss: 0.0417 - binary_crossentropy: 0.0190 - val_loss: 0.0406 - val_binary_crossentropy: 0.0187\n",
            "Epoch 10/72\n",
            "129/129 [==============================] - 1s 8ms/step - loss: 0.0402 - binary_crossentropy: 0.0188 - val_loss: 0.0389 - val_binary_crossentropy: 0.0185\n",
            "Epoch 11/72\n",
            "129/129 [==============================] - 1s 8ms/step - loss: 0.0362 - binary_crossentropy: 0.0167 - val_loss: 0.0354 - val_binary_crossentropy: 0.0167\n",
            "Epoch 12/72\n",
            "129/129 [==============================] - 1s 8ms/step - loss: 0.0343 - binary_crossentropy: 0.0161 - val_loss: 0.0344 - val_binary_crossentropy: 0.0166\n",
            "Epoch 13/72\n",
            "129/129 [==============================] - 1s 8ms/step - loss: 0.0365 - binary_crossentropy: 0.0175 - val_loss: 0.0363 - val_binary_crossentropy: 0.0175\n",
            "Epoch 14/72\n",
            "129/129 [==============================] - 1s 8ms/step - loss: 0.0373 - binary_crossentropy: 0.0180 - val_loss: 0.0369 - val_binary_crossentropy: 0.0179\n",
            "Epoch 15/72\n",
            "129/129 [==============================] - 1s 8ms/step - loss: 0.0374 - binary_crossentropy: 0.0182 - val_loss: 0.0366 - val_binary_crossentropy: 0.0180\n",
            "Epoch 16/72\n",
            "129/129 [==============================] - 1s 8ms/step - loss: 0.0342 - binary_crossentropy: 0.0164 - val_loss: 0.0337 - val_binary_crossentropy: 0.0165\n",
            "Epoch 17/72\n",
            "129/129 [==============================] - 1s 8ms/step - loss: 0.0327 - binary_crossentropy: 0.0158 - val_loss: 0.0331 - val_binary_crossentropy: 0.0164\n",
            "Epoch 18/72\n",
            "129/129 [==============================] - 1s 8ms/step - loss: 0.0344 - binary_crossentropy: 0.0169 - val_loss: 0.0351 - val_binary_crossentropy: 0.0173\n",
            "Epoch 19/72\n",
            "129/129 [==============================] - 1s 8ms/step - loss: 0.0354 - binary_crossentropy: 0.0173 - val_loss: 0.0352 - val_binary_crossentropy: 0.0174\n",
            "Epoch 20/72\n",
            "129/129 [==============================] - 1s 8ms/step - loss: 0.0359 - binary_crossentropy: 0.0177 - val_loss: 0.0358 - val_binary_crossentropy: 0.0177\n",
            "Epoch 21/72\n",
            "129/129 [==============================] - 1s 8ms/step - loss: 0.0335 - binary_crossentropy: 0.0161 - val_loss: 0.0332 - val_binary_crossentropy: 0.0163\n",
            "Epoch 22/72\n",
            "129/129 [==============================] - 1s 8ms/step - loss: 0.0322 - binary_crossentropy: 0.0156 - val_loss: 0.0327 - val_binary_crossentropy: 0.0162\n",
            "Epoch 23/72\n",
            "129/129 [==============================] - 1s 8ms/step - loss: 0.0335 - binary_crossentropy: 0.0165 - val_loss: 0.0340 - val_binary_crossentropy: 0.0169\n",
            "Epoch 24/72\n",
            "129/129 [==============================] - 1s 8ms/step - loss: 0.0345 - binary_crossentropy: 0.0170 - val_loss: 0.0345 - val_binary_crossentropy: 0.0171\n",
            "Epoch 25/72\n",
            "129/129 [==============================] - 1s 8ms/step - loss: 0.0350 - binary_crossentropy: 0.0173 - val_loss: 0.0353 - val_binary_crossentropy: 0.0176\n",
            "Epoch 26/72\n",
            "129/129 [==============================] - 1s 8ms/step - loss: 0.0330 - binary_crossentropy: 0.0160 - val_loss: 0.0329 - val_binary_crossentropy: 0.0163\n",
            "Epoch 27/72\n",
            "129/129 [==============================] - 1s 8ms/step - loss: 0.0318 - binary_crossentropy: 0.0154 - val_loss: 0.0324 - val_binary_crossentropy: 0.0162\n",
            "Epoch 28/72\n",
            "129/129 [==============================] - 1s 8ms/step - loss: 0.0329 - binary_crossentropy: 0.0162 - val_loss: 0.0333 - val_binary_crossentropy: 0.0166\n",
            "Epoch 29/72\n",
            "129/129 [==============================] - 1s 8ms/step - loss: 0.0339 - binary_crossentropy: 0.0168 - val_loss: 0.0341 - val_binary_crossentropy: 0.0170\n",
            "Epoch 30/72\n",
            "129/129 [==============================] - 1s 8ms/step - loss: 0.0344 - binary_crossentropy: 0.0170 - val_loss: 0.0345 - val_binary_crossentropy: 0.0172\n",
            "Epoch 31/72\n",
            "129/129 [==============================] - 1s 8ms/step - loss: 0.0324 - binary_crossentropy: 0.0157 - val_loss: 0.0326 - val_binary_crossentropy: 0.0162\n",
            "Epoch 32/72\n",
            "129/129 [==============================] - 1s 8ms/step - loss: 0.0315 - binary_crossentropy: 0.0153 - val_loss: 0.0322 - val_binary_crossentropy: 0.0161\n",
            "Epoch 33/72\n",
            "129/129 [==============================] - 1s 8ms/step - loss: 0.0325 - binary_crossentropy: 0.0160 - val_loss: 0.0331 - val_binary_crossentropy: 0.0167\n",
            "Epoch 34/72\n",
            "129/129 [==============================] - 1s 8ms/step - loss: 0.0334 - binary_crossentropy: 0.0165 - val_loss: 0.0338 - val_binary_crossentropy: 0.0170\n",
            "Epoch 35/72\n",
            "129/129 [==============================] - 1s 8ms/step - loss: 0.0341 - binary_crossentropy: 0.0168 - val_loss: 0.0347 - val_binary_crossentropy: 0.0174\n",
            "Epoch 36/72\n",
            "129/129 [==============================] - 1s 8ms/step - loss: 0.0323 - binary_crossentropy: 0.0156 - val_loss: 0.0327 - val_binary_crossentropy: 0.0162\n",
            "Epoch 37/72\n",
            "129/129 [==============================] - 1s 8ms/step - loss: 0.0314 - binary_crossentropy: 0.0151 - val_loss: 0.0323 - val_binary_crossentropy: 0.0161\n",
            "Epoch 38/72\n",
            "129/129 [==============================] - 1s 8ms/step - loss: 0.0323 - binary_crossentropy: 0.0158 - val_loss: 0.0331 - val_binary_crossentropy: 0.0166\n",
            "Epoch 39/72\n",
            "129/129 [==============================] - 1s 8ms/step - loss: 0.0331 - binary_crossentropy: 0.0163 - val_loss: 0.0337 - val_binary_crossentropy: 0.0169\n",
            "Epoch 40/72\n",
            "129/129 [==============================] - 1s 8ms/step - loss: 0.0339 - binary_crossentropy: 0.0167 - val_loss: 0.0343 - val_binary_crossentropy: 0.0171\n",
            "Epoch 41/72\n",
            "129/129 [==============================] - 1s 8ms/step - loss: 0.0320 - binary_crossentropy: 0.0154 - val_loss: 0.0325 - val_binary_crossentropy: 0.0161\n",
            "Epoch 42/72\n",
            "129/129 [==============================] - 1s 8ms/step - loss: 0.0312 - binary_crossentropy: 0.0149 - val_loss: 0.0321 - val_binary_crossentropy: 0.0160\n",
            "Epoch 43/72\n",
            "129/129 [==============================] - 1s 8ms/step - loss: 0.0320 - binary_crossentropy: 0.0156 - val_loss: 0.0328 - val_binary_crossentropy: 0.0164\n",
            "Epoch 44/72\n",
            "129/129 [==============================] - 1s 8ms/step - loss: 0.0328 - binary_crossentropy: 0.0160 - val_loss: 0.0336 - val_binary_crossentropy: 0.0167\n",
            "Epoch 45/72\n",
            "129/129 [==============================] - 1s 8ms/step - loss: 0.0337 - binary_crossentropy: 0.0164 - val_loss: 0.0341 - val_binary_crossentropy: 0.0169\n",
            "Epoch 46/72\n",
            "129/129 [==============================] - 1s 9ms/step - loss: 0.0318 - binary_crossentropy: 0.0152 - val_loss: 0.0323 - val_binary_crossentropy: 0.0160\n",
            "Epoch 47/72\n",
            "129/129 [==============================] - 1s 8ms/step - loss: 0.0310 - binary_crossentropy: 0.0148 - val_loss: 0.0321 - val_binary_crossentropy: 0.0160\n",
            "Epoch 48/72\n",
            "129/129 [==============================] - 1s 8ms/step - loss: 0.0319 - binary_crossentropy: 0.0155 - val_loss: 0.0329 - val_binary_crossentropy: 0.0164\n",
            "Epoch 49/72\n",
            "129/129 [==============================] - 1s 8ms/step - loss: 0.0327 - binary_crossentropy: 0.0159 - val_loss: 0.0335 - val_binary_crossentropy: 0.0166\n",
            "Epoch 50/72\n",
            "129/129 [==============================] - 1s 8ms/step - loss: 0.0336 - binary_crossentropy: 0.0163 - val_loss: 0.0341 - val_binary_crossentropy: 0.0168\n",
            "Epoch 51/72\n",
            "129/129 [==============================] - 1s 8ms/step - loss: 0.0317 - binary_crossentropy: 0.0152 - val_loss: 0.0323 - val_binary_crossentropy: 0.0160\n",
            "Epoch 52/72\n",
            "129/129 [==============================] - 1s 8ms/step - loss: 0.0309 - binary_crossentropy: 0.0148 - val_loss: 0.0320 - val_binary_crossentropy: 0.0159\n",
            "Epoch 53/72\n",
            "129/129 [==============================] - 1s 8ms/step - loss: 0.0319 - binary_crossentropy: 0.0154 - val_loss: 0.0328 - val_binary_crossentropy: 0.0163\n",
            "Epoch 54/72\n",
            "129/129 [==============================] - 1s 8ms/step - loss: 0.0326 - binary_crossentropy: 0.0157 - val_loss: 0.0336 - val_binary_crossentropy: 0.0166\n",
            "Epoch 55/72\n",
            "129/129 [==============================] - 1s 8ms/step - loss: 0.0336 - binary_crossentropy: 0.0162 - val_loss: 0.0342 - val_binary_crossentropy: 0.0168\n",
            "Epoch 56/72\n",
            "129/129 [==============================] - 1s 8ms/step - loss: 0.0317 - binary_crossentropy: 0.0151 - val_loss: 0.0323 - val_binary_crossentropy: 0.0159\n",
            "Epoch 57/72\n",
            "129/129 [==============================] - 1s 8ms/step - loss: 0.0308 - binary_crossentropy: 0.0146 - val_loss: 0.0320 - val_binary_crossentropy: 0.0158\n",
            "Epoch 58/72\n",
            "129/129 [==============================] - 1s 8ms/step - loss: 0.0317 - binary_crossentropy: 0.0152 - val_loss: 0.0328 - val_binary_crossentropy: 0.0163\n",
            "Epoch 59/72\n",
            "129/129 [==============================] - 1s 8ms/step - loss: 0.0324 - binary_crossentropy: 0.0156 - val_loss: 0.0336 - val_binary_crossentropy: 0.0166\n",
            "Epoch 60/72\n",
            "129/129 [==============================] - 1s 8ms/step - loss: 0.0335 - binary_crossentropy: 0.0161 - val_loss: 0.0341 - val_binary_crossentropy: 0.0167\n",
            "Epoch 61/72\n",
            "129/129 [==============================] - 1s 8ms/step - loss: 0.0315 - binary_crossentropy: 0.0149 - val_loss: 0.0322 - val_binary_crossentropy: 0.0159\n",
            "Epoch 62/72\n",
            "129/129 [==============================] - 1s 8ms/step - loss: 0.0308 - binary_crossentropy: 0.0145 - val_loss: 0.0320 - val_binary_crossentropy: 0.0158\n",
            "Epoch 63/72\n",
            "129/129 [==============================] - 1s 8ms/step - loss: 0.0316 - binary_crossentropy: 0.0150 - val_loss: 0.0328 - val_binary_crossentropy: 0.0162\n",
            "Epoch 64/72\n",
            "129/129 [==============================] - 1s 8ms/step - loss: 0.0324 - binary_crossentropy: 0.0154 - val_loss: 0.0337 - val_binary_crossentropy: 0.0165\n",
            "Epoch 65/72\n",
            "129/129 [==============================] - 1s 8ms/step - loss: 0.0333 - binary_crossentropy: 0.0159 - val_loss: 0.0342 - val_binary_crossentropy: 0.0166\n",
            "Epoch 66/72\n",
            "129/129 [==============================] - 1s 8ms/step - loss: 0.0315 - binary_crossentropy: 0.0148 - val_loss: 0.0323 - val_binary_crossentropy: 0.0159\n",
            "Epoch 67/72\n",
            "129/129 [==============================] - 1s 8ms/step - loss: 0.0306 - binary_crossentropy: 0.0143 - val_loss: 0.0321 - val_binary_crossentropy: 0.0159\n",
            "Epoch 68/72\n",
            "129/129 [==============================] - 1s 8ms/step - loss: 0.0316 - binary_crossentropy: 0.0149 - val_loss: 0.0329 - val_binary_crossentropy: 0.0162\n",
            "Epoch 69/72\n",
            "129/129 [==============================] - 1s 9ms/step - loss: 0.0324 - binary_crossentropy: 0.0154 - val_loss: 0.0336 - val_binary_crossentropy: 0.0165\n",
            "Epoch 70/72\n",
            "129/129 [==============================] - 1s 9ms/step - loss: 0.0332 - binary_crossentropy: 0.0157 - val_loss: 0.0341 - val_binary_crossentropy: 0.0167\n",
            "Epoch 71/72\n",
            "129/129 [==============================] - 1s 9ms/step - loss: 0.0313 - binary_crossentropy: 0.0147 - val_loss: 0.0323 - val_binary_crossentropy: 0.0159\n",
            "Epoch 72/72\n",
            "129/129 [==============================] - 1s 8ms/step - loss: 0.0305 - binary_crossentropy: 0.0142 - val_loss: 0.0321 - val_binary_crossentropy: 0.0158\n"
          ],
          "name": "stdout"
        },
        {
          "output_type": "display_data",
          "data": {
            "image/png": "[encoded data removed]",
            "text/plain": [
              "<Figure size 432x288 with 1 Axes>"
            ]
          },
          "metadata": {
            "tags": [],
            "needs_background": "light"
          }
        },
        {
          "output_type": "display_data",
          "data": {
            "image/png": "[encoded data removed]",
            "text/plain": [
              "<Figure size 432x288 with 1 Axes>"
            ]
          },
          "metadata": {
            "tags": [],
            "needs_background": "light"
          }
        }
      ]
    },
    {
      "cell_type": "code",
      "metadata": {
        "id": "psNhZk6ESPlz",
        "outputId": "e65a3db4-204e-462d-f5c7-4454e252f641",
        "colab": {
          "base_uri": "https://localhost:8080/"
        }
      },
      "source": [
        "np.clip(0.3, 0.001, 0.2)"
      ],
      "execution_count": 101,
      "outputs": [
        {
          "output_type": "execute_result",
          "data": {
            "text/plain": [
              "0.2"
            ]
          },
          "metadata": {
            "tags": []
          },
          "execution_count": 101
        }
      ]
    },
    {
      "cell_type": "code",
      "metadata": {
        "id": "tzupJESFfSE2",
        "outputId": "926af5e3-d50a-417c-8c57-6edb45f32128",
        "colab": {
          "base_uri": "https://localhost:8080/"
        }
      },
      "source": [
        "lr"
      ],
      "execution_count": 110,
      "outputs": [
        {
          "output_type": "execute_result",
          "data": {
            "text/plain": [
              "[0.011,\n",
              " 0.021,\n",
              " 0.03,\n",
              " 0.03,\n",
              " 0.001,\n",
              " 0.010803921568627452,\n",
              " 0.020607843137254903,\n",
              " 0.03,\n",
              " 0.03,\n",
              " 0.001,\n",
              " 0.010615384615384617,\n",
              " 0.020230769230769233,\n",
              " 0.02984615384615385,\n",
              " 0.03,\n",
              " 0.001,\n",
              " 0.010433962264150942,\n",
              " 0.019867924528301887,\n",
              " 0.02930188679245283,\n",
              " 0.03,\n",
              " 0.001]"
            ]
          },
          "metadata": {
            "tags": []
          },
          "execution_count": 110
        }
      ]
    },
    {
      "cell_type": "code",
      "metadata": {
        "id": "ByTnKvp6B-t9",
        "outputId": "fe514739-47d7-4ac8-ac75-da76d951e8c6",
        "colab": {
          "base_uri": "https://localhost:8080/",
          "height": 297
        }
      },
      "source": [
        "hí = history.history\n",
        "đầu_ra = {x: hí[x] for x in ['loss', 'val_loss']}\n",
        "plt.plot(pd.DataFrame(đầu_ra))"
      ],
      "execution_count": 107,
      "outputs": [
        {
          "output_type": "execute_result",
          "data": {
            "text/plain": [
              "[<matplotlib.lines.Line2D at 0x7f4085276cf8>,\n",
              " <matplotlib.lines.Line2D at 0x7f40db33ca20>]"
            ]
          },
          "metadata": {
            "tags": []
          },
          "execution_count": 107
        },
        {
          "output_type": "display_data",
          "data": {
            "image/png": "[encoded data removed]",
            "text/plain": [
              "<Figure size 432x288 with 1 Axes>"
            ]
          },
          "metadata": {
            "tags": [],
            "needs_background": "light"
          }
        }
      ]
    },
    {
      "cell_type": "code",
      "metadata": {
        "id": "YQC3k8nASJrO",
        "outputId": "6494dbc2-e998-49e4-9454-d9f16b0864d2",
        "colab": {
          "base_uri": "https://localhost:8080/"
        }
      },
      "source": [
        "history.on_test_batch_begin "
      ],
      "execution_count": 40,
      "outputs": [
        {
          "output_type": "execute_result",
          "data": {
            "text/plain": [
              "<bound method Callback.on_test_batch_begin of <tensorflow.python.keras.callbacks.History object at 0x7fd0d24bca20>>"
            ]
          },
          "metadata": {
            "tags": []
          },
          "execution_count": 40
        }
      ]
    },
    {
      "cell_type": "code",
      "metadata": {
        "id": "8zy68ldVR6gH",
        "outputId": "54ab6b04-27ed-41c7-ef59-1c7d657931e4",
        "colab": {
          "base_uri": "https://localhost:8080/"
        }
      },
      "source": [
        "help(history)"
      ],
      "execution_count": 36,
      "outputs": [
        {
          "output_type": "stream",
          "text": [
            "Help on History in module tensorflow.python.keras.callbacks object:\n",
            "\n",
            "class History(Callback)\n",
            " |  Callback that records events into a `History` object.\n",
            " |  \n",
            " |  This callback is automatically applied to\n",
            " |  every Keras model. The `History` object\n",
            " |  gets returned by the `fit` method of models.\n",
            " |  \n",
            " |  Method resolution order:\n",
            " |      History\n",
            " |      Callback\n",
            " |      builtins.object\n",
            " |  \n",
            " |  Methods defined here:\n",
            " |  \n",
            " |  __init__(self)\n",
            " |      Initialize self.  See help(type(self)) for accurate signature.\n",
            " |  \n",
            " |  on_epoch_end(self, epoch, logs=None)\n",
            " |      Called at the end of an epoch.\n",
            " |      \n",
            " |      Subclasses should override for any actions to run. This function should only\n",
            " |      be called during TRAIN mode.\n",
            " |      \n",
            " |      Arguments:\n",
            " |          epoch: Integer, index of epoch.\n",
            " |          logs: Dict, metric results for this training epoch, and for the\n",
            " |            validation epoch if validation is performed. Validation result keys\n",
            " |            are prefixed with `val_`.\n",
            " |  \n",
            " |  on_train_begin(self, logs=None)\n",
            " |      Called at the beginning of training.\n",
            " |      \n",
            " |      Subclasses should override for any actions to run.\n",
            " |      \n",
            " |      Arguments:\n",
            " |          logs: Dict. Currently no data is passed to this argument for this method\n",
            " |            but that may change in the future.\n",
            " |  \n",
            " |  ----------------------------------------------------------------------\n",
            " |  Methods inherited from Callback:\n",
            " |  \n",
            " |  on_batch_begin(self, batch, logs=None)\n",
            " |      A backwards compatibility alias for `on_train_batch_begin`.\n",
            " |  \n",
            " |  on_batch_end(self, batch, logs=None)\n",
            " |      A backwards compatibility alias for `on_train_batch_end`.\n",
            " |  \n",
            " |  on_epoch_begin(self, epoch, logs=None)\n",
            " |      Called at the start of an epoch.\n",
            " |      \n",
            " |      Subclasses should override for any actions to run. This function should only\n",
            " |      be called during TRAIN mode.\n",
            " |      \n",
            " |      Arguments:\n",
            " |          epoch: Integer, index of epoch.\n",
            " |          logs: Dict. Currently no data is passed to this argument for this method\n",
            " |            but that may change in the future.\n",
            " |  \n",
            " |  on_predict_batch_begin(self, batch, logs=None)\n",
            " |      Called at the beginning of a batch in `predict` methods.\n",
            " |      \n",
            " |      Subclasses should override for any actions to run.\n",
            " |      \n",
            " |      Arguments:\n",
            " |          batch: Integer, index of batch within the current epoch.\n",
            " |          logs: Dict, contains the return value of `model.predict_step`,\n",
            " |            it typically returns a dict with a key 'outputs' containing\n",
            " |            the model's outputs.\n",
            " |  \n",
            " |  on_predict_batch_end(self, batch, logs=None)\n",
            " |      Called at the end of a batch in `predict` methods.\n",
            " |      \n",
            " |      Subclasses should override for any actions to run.\n",
            " |      \n",
            " |      Arguments:\n",
            " |          batch: Integer, index of batch within the current epoch.\n",
            " |          logs: Dict. Aggregated metric results up until this batch.\n",
            " |  \n",
            " |  on_predict_begin(self, logs=None)\n",
            " |      Called at the beginning of prediction.\n",
            " |      \n",
            " |      Subclasses should override for any actions to run.\n",
            " |      \n",
            " |      Arguments:\n",
            " |          logs: Dict. Currently no data is passed to this argument for this method\n",
            " |            but that may change in the future.\n",
            " |  \n",
            " |  on_predict_end(self, logs=None)\n",
            " |      Called at the end of prediction.\n",
            " |      \n",
            " |      Subclasses should override for any actions to run.\n",
            " |      \n",
            " |      Arguments:\n",
            " |          logs: Dict. Currently no data is passed to this argument for this method\n",
            " |            but that may change in the future.\n",
            " |  \n",
            " |  on_test_batch_begin(self, batch, logs=None)\n",
            " |      Called at the beginning of a batch in `evaluate` methods.\n",
            " |      \n",
            " |      Also called at the beginning of a validation batch in the `fit`\n",
            " |      methods, if validation data is provided.\n",
            " |      \n",
            " |      Subclasses should override for any actions to run.\n",
            " |      \n",
            " |      Arguments:\n",
            " |          batch: Integer, index of batch within the current epoch.\n",
            " |          logs: Dict, contains the return value of `model.test_step`. Typically,\n",
            " |            the values of the `Model`'s metrics are returned.  Example:\n",
            " |            `{'loss': 0.2, 'accuracy': 0.7}`.\n",
            " |  \n",
            " |  on_test_batch_end(self, batch, logs=None)\n",
            " |      Called at the end of a batch in `evaluate` methods.\n",
            " |      \n",
            " |      Also called at the end of a validation batch in the `fit`\n",
            " |      methods, if validation data is provided.\n",
            " |      \n",
            " |      Subclasses should override for any actions to run.\n",
            " |      \n",
            " |      Arguments:\n",
            " |          batch: Integer, index of batch within the current epoch.\n",
            " |          logs: Dict. Aggregated metric results up until this batch.\n",
            " |  \n",
            " |  on_test_begin(self, logs=None)\n",
            " |      Called at the beginning of evaluation or validation.\n",
            " |      \n",
            " |      Subclasses should override for any actions to run.\n",
            " |      \n",
            " |      Arguments:\n",
            " |          logs: Dict. Currently no data is passed to this argument for this method\n",
            " |            but that may change in the future.\n",
            " |  \n",
            " |  on_test_end(self, logs=None)\n",
            " |      Called at the end of evaluation or validation.\n",
            " |      \n",
            " |      Subclasses should override for any actions to run.\n",
            " |      \n",
            " |      Arguments:\n",
            " |          logs: Dict. Currently the output of the last call to\n",
            " |            `on_test_batch_end()` is passed to this argument for this method\n",
            " |            but that may change in the future.\n",
            " |  \n",
            " |  on_train_batch_begin(self, batch, logs=None)\n",
            " |      Called at the beginning of a training batch in `fit` methods.\n",
            " |      \n",
            " |      Subclasses should override for any actions to run.\n",
            " |      \n",
            " |      Arguments:\n",
            " |          batch: Integer, index of batch within the current epoch.\n",
            " |          logs: Dict, contains the return value of `model.train_step`. Typically,\n",
            " |            the values of the `Model`'s metrics are returned.  Example:\n",
            " |            `{'loss': 0.2, 'accuracy': 0.7}`.\n",
            " |  \n",
            " |  on_train_batch_end(self, batch, logs=None)\n",
            " |      Called at the end of a training batch in `fit` methods.\n",
            " |      \n",
            " |      Subclasses should override for any actions to run.\n",
            " |      \n",
            " |      Arguments:\n",
            " |          batch: Integer, index of batch within the current epoch.\n",
            " |          logs: Dict. Aggregated metric results up until this batch.\n",
            " |  \n",
            " |  on_train_end(self, logs=None)\n",
            " |      Called at the end of training.\n",
            " |      \n",
            " |      Subclasses should override for any actions to run.\n",
            " |      \n",
            " |      Arguments:\n",
            " |          logs: Dict. Currently the output of the last call to `on_epoch_end()`\n",
            " |            is passed to this argument for this method but that may change in\n",
            " |            the future.\n",
            " |  \n",
            " |  set_model(self, model)\n",
            " |  \n",
            " |  set_params(self, params)\n",
            " |  \n",
            " |  ----------------------------------------------------------------------\n",
            " |  Data descriptors inherited from Callback:\n",
            " |  \n",
            " |  __dict__\n",
            " |      dictionary for instance variables (if defined)\n",
            " |  \n",
            " |  __weakref__\n",
            " |      list of weak references to the object (if defined)\n",
            "\n"
          ],
          "name": "stdout"
        }
      ]
    },
    {
      "cell_type": "code",
      "metadata": {
        "id": "cMZbLxjOEVLb",
        "outputId": "a206d43d-a50f-4c79-909e-7f81e04a6945",
        "colab": {
          "base_uri": "https://localhost:8080/",
          "height": 281
        }
      },
      "source": [
        "lr = []\n",
        "for i in range(20) :\n",
        "  lr.append( exp_decay(0.001, 7, 1000000)(i+1) )\n",
        "plt.plot(np.array(lr))"
      ],
      "execution_count": 65,
      "outputs": [
        {
          "output_type": "execute_result",
          "data": {
            "text/plain": [
              "[<matplotlib.lines.Line2D at 0x7f4090bf8be0>]"
            ]
          },
          "metadata": {
            "tags": []
          },
          "execution_count": 65
        },
        {
          "output_type": "display_data",
          "data": {
            "image/png": "[encoded data removed]",
            "text/plain": [
              "<Figure size 432x288 with 1 Axes>"
            ]
          },
          "metadata": {
            "tags": [],
            "needs_background": "light"
          }
        }
      ]
    },
    {
      "cell_type": "code",
      "metadata": {
        "trusted": true,
        "id": "d15oMBhGGDpX",
        "colab": {
          "base_uri": "https://localhost:8080/",
          "height": 1000
        },
        "outputId": "7d07be88-9fe8-4116-916f-91144bc3a2ad"
      },
      "source": [
        "reduce_lr = ReduceLROnPlateau(monitor='val_binary_crossentropy', factor=0.1, patience=5, mode='min', min_lr=1E-5, verbose= 0)\n",
        "early_stopping = EarlyStopping(monitor='val_binary_crossentropy', min_delta=1E-5, patience=15, mode='min',restore_best_weights=True, verbose= 0)\n",
        "    \n",
        "model.fit(\n",
        "        X_train, y_train, validation_split = 0.25, \n",
        "        callbacks=[reduce_lr, early_stopping], epochs=150, verbose =1,\n",
        "        batch_size=32 )"
      ],
      "execution_count": 27,
      "outputs": [
        {
          "output_type": "stream",
          "text": [
            "Epoch 1/150\n",
            "515/515 [==============================] - 5s 10ms/step - loss: 0.5011 - binary_crossentropy: 0.0404 - val_loss: 0.4244 - val_binary_crossentropy: 0.0216\n",
            "Epoch 2/150\n",
            "515/515 [==============================] - 5s 9ms/step - loss: 0.3835 - binary_crossentropy: 0.0227 - val_loss: 0.3488 - val_binary_crossentropy: 0.0212\n",
            "Epoch 3/150\n",
            "515/515 [==============================] - 5s 9ms/step - loss: 0.3305 - binary_crossentropy: 0.0224 - val_loss: 0.3143 - val_binary_crossentropy: 0.0210\n",
            "Epoch 4/150\n",
            "515/515 [==============================] - 5s 9ms/step - loss: 0.3070 - binary_crossentropy: 0.0220 - val_loss: 0.3003 - val_binary_crossentropy: 0.0215\n",
            "Epoch 5/150\n",
            "515/515 [==============================] - 5s 9ms/step - loss: 0.2968 - binary_crossentropy: 0.0218 - val_loss: 0.2931 - val_binary_crossentropy: 0.0208\n",
            "Epoch 6/150\n",
            "515/515 [==============================] - 5s 9ms/step - loss: 0.2923 - binary_crossentropy: 0.0217 - val_loss: 0.2899 - val_binary_crossentropy: 0.0205\n",
            "Epoch 7/150\n",
            "515/515 [==============================] - 5s 9ms/step - loss: 0.2900 - binary_crossentropy: 0.0216 - val_loss: 0.2885 - val_binary_crossentropy: 0.0209\n",
            "Epoch 8/150\n",
            "515/515 [==============================] - 5s 9ms/step - loss: 0.2884 - binary_crossentropy: 0.0214 - val_loss: 0.2870 - val_binary_crossentropy: 0.0206\n",
            "Epoch 9/150\n",
            "515/515 [==============================] - 5s 9ms/step - loss: 0.2873 - binary_crossentropy: 0.0214 - val_loss: 0.2859 - val_binary_crossentropy: 0.0204\n",
            "Epoch 10/150\n",
            "515/515 [==============================] - 5s 9ms/step - loss: 0.2864 - binary_crossentropy: 0.0213 - val_loss: 0.2853 - val_binary_crossentropy: 0.0205\n",
            "Epoch 11/150\n",
            "515/515 [==============================] - 5s 9ms/step - loss: 0.2857 - binary_crossentropy: 0.0213 - val_loss: 0.2847 - val_binary_crossentropy: 0.0205\n",
            "Epoch 12/150\n",
            "515/515 [==============================] - 5s 9ms/step - loss: 0.2853 - binary_crossentropy: 0.0213 - val_loss: 0.2843 - val_binary_crossentropy: 0.0206\n",
            "Epoch 13/150\n",
            "515/515 [==============================] - 5s 9ms/step - loss: 0.2847 - binary_crossentropy: 0.0212 - val_loss: 0.2836 - val_binary_crossentropy: 0.0202\n",
            "Epoch 14/150\n",
            "515/515 [==============================] - 5s 9ms/step - loss: 0.2842 - binary_crossentropy: 0.0211 - val_loss: 0.2832 - val_binary_crossentropy: 0.0202\n",
            "Epoch 15/150\n",
            "515/515 [==============================] - 5s 9ms/step - loss: 0.2837 - binary_crossentropy: 0.0210 - val_loss: 0.2832 - val_binary_crossentropy: 0.0205\n",
            "Epoch 16/150\n",
            "515/515 [==============================] - 5s 9ms/step - loss: 0.2834 - binary_crossentropy: 0.0210 - val_loss: 0.2827 - val_binary_crossentropy: 0.0203\n",
            "Epoch 17/150\n",
            "515/515 [==============================] - 5s 9ms/step - loss: 0.2832 - binary_crossentropy: 0.0210 - val_loss: 0.2821 - val_binary_crossentropy: 0.0200\n",
            "Epoch 18/150\n",
            "515/515 [==============================] - 5s 9ms/step - loss: 0.2829 - binary_crossentropy: 0.0209 - val_loss: 0.2820 - val_binary_crossentropy: 0.0200\n",
            "Epoch 19/150\n",
            "515/515 [==============================] - 5s 9ms/step - loss: 0.2827 - binary_crossentropy: 0.0209 - val_loss: 0.2821 - val_binary_crossentropy: 0.0203\n",
            "Epoch 20/150\n",
            "515/515 [==============================] - 5s 9ms/step - loss: 0.2825 - binary_crossentropy: 0.0208 - val_loss: 0.2818 - val_binary_crossentropy: 0.0202\n",
            "Epoch 21/150\n",
            "515/515 [==============================] - 5s 9ms/step - loss: 0.2824 - binary_crossentropy: 0.0208 - val_loss: 0.2814 - val_binary_crossentropy: 0.0200\n",
            "Epoch 22/150\n",
            "515/515 [==============================] - 5s 9ms/step - loss: 0.2822 - binary_crossentropy: 0.0208 - val_loss: 0.2813 - val_binary_crossentropy: 0.0200\n",
            "Epoch 23/150\n",
            "515/515 [==============================] - 5s 9ms/step - loss: 0.2814 - binary_crossentropy: 0.0202 - val_loss: 0.2806 - val_binary_crossentropy: 0.0195\n",
            "Epoch 24/150\n",
            "515/515 [==============================] - 5s 9ms/step - loss: 0.2811 - binary_crossentropy: 0.0201 - val_loss: 0.2805 - val_binary_crossentropy: 0.0195\n",
            "Epoch 25/150\n",
            "515/515 [==============================] - 5s 9ms/step - loss: 0.2810 - binary_crossentropy: 0.0201 - val_loss: 0.2803 - val_binary_crossentropy: 0.0194\n",
            "Epoch 26/150\n",
            "515/515 [==============================] - 5s 9ms/step - loss: 0.2809 - binary_crossentropy: 0.0200 - val_loss: 0.2804 - val_binary_crossentropy: 0.0195\n",
            "Epoch 27/150\n",
            "515/515 [==============================] - 5s 9ms/step - loss: 0.2808 - binary_crossentropy: 0.0200 - val_loss: 0.2803 - val_binary_crossentropy: 0.0195\n",
            "Epoch 28/150\n",
            "515/515 [==============================] - 5s 9ms/step - loss: 0.2808 - binary_crossentropy: 0.0200 - val_loss: 0.2802 - val_binary_crossentropy: 0.0194\n",
            "Epoch 29/150\n",
            "515/515 [==============================] - 5s 9ms/step - loss: 0.2807 - binary_crossentropy: 0.0200 - val_loss: 0.2802 - val_binary_crossentropy: 0.0194\n",
            "Epoch 30/150\n",
            "515/515 [==============================] - 5s 9ms/step - loss: 0.2808 - binary_crossentropy: 0.0201 - val_loss: 0.2802 - val_binary_crossentropy: 0.0195\n",
            "Epoch 31/150\n",
            "515/515 [==============================] - 5s 9ms/step - loss: 0.2807 - binary_crossentropy: 0.0200 - val_loss: 0.2801 - val_binary_crossentropy: 0.0194\n",
            "Epoch 32/150\n",
            "515/515 [==============================] - 5s 9ms/step - loss: 0.2806 - binary_crossentropy: 0.0199 - val_loss: 0.2801 - val_binary_crossentropy: 0.0194\n",
            "Epoch 33/150\n",
            "515/515 [==============================] - 5s 9ms/step - loss: 0.2805 - binary_crossentropy: 0.0199 - val_loss: 0.2800 - val_binary_crossentropy: 0.0194\n",
            "Epoch 34/150\n",
            "515/515 [==============================] - 5s 9ms/step - loss: 0.2805 - binary_crossentropy: 0.0199 - val_loss: 0.2800 - val_binary_crossentropy: 0.0194\n",
            "Epoch 35/150\n",
            "515/515 [==============================] - 5s 9ms/step - loss: 0.2805 - binary_crossentropy: 0.0199 - val_loss: 0.2800 - val_binary_crossentropy: 0.0194\n",
            "Epoch 36/150\n",
            "515/515 [==============================] - 5s 9ms/step - loss: 0.2805 - binary_crossentropy: 0.0199 - val_loss: 0.2801 - val_binary_crossentropy: 0.0195\n",
            "Epoch 37/150\n",
            "515/515 [==============================] - 5s 9ms/step - loss: 0.2804 - binary_crossentropy: 0.0199 - val_loss: 0.2801 - val_binary_crossentropy: 0.0195\n",
            "Epoch 38/150\n",
            "515/515 [==============================] - 5s 9ms/step - loss: 0.2804 - binary_crossentropy: 0.0199 - val_loss: 0.2800 - val_binary_crossentropy: 0.0194\n",
            "Epoch 39/150\n",
            "515/515 [==============================] - 5s 9ms/step - loss: 0.2804 - binary_crossentropy: 0.0198 - val_loss: 0.2800 - val_binary_crossentropy: 0.0194\n",
            "Epoch 40/150\n",
            "515/515 [==============================] - 5s 9ms/step - loss: 0.2804 - binary_crossentropy: 0.0199 - val_loss: 0.2801 - val_binary_crossentropy: 0.0195\n",
            "Epoch 41/150\n",
            "515/515 [==============================] - 5s 9ms/step - loss: 0.2803 - binary_crossentropy: 0.0198 - val_loss: 0.2799 - val_binary_crossentropy: 0.0194\n",
            "Epoch 42/150\n",
            "515/515 [==============================] - 5s 9ms/step - loss: 0.2804 - binary_crossentropy: 0.0199 - val_loss: 0.2799 - val_binary_crossentropy: 0.0194\n",
            "Epoch 43/150\n",
            "515/515 [==============================] - 5s 9ms/step - loss: 0.2803 - binary_crossentropy: 0.0198 - val_loss: 0.2799 - val_binary_crossentropy: 0.0194\n",
            "Epoch 44/150\n",
            "515/515 [==============================] - 5s 9ms/step - loss: 0.2803 - binary_crossentropy: 0.0198 - val_loss: 0.2799 - val_binary_crossentropy: 0.0194\n",
            "Epoch 45/150\n",
            "515/515 [==============================] - 5s 9ms/step - loss: 0.2803 - binary_crossentropy: 0.0198 - val_loss: 0.2799 - val_binary_crossentropy: 0.0194\n",
            "Epoch 46/150\n",
            "515/515 [==============================] - 5s 9ms/step - loss: 0.2802 - binary_crossentropy: 0.0198 - val_loss: 0.2799 - val_binary_crossentropy: 0.0194\n",
            "Epoch 47/150\n",
            "515/515 [==============================] - 5s 9ms/step - loss: 0.2802 - binary_crossentropy: 0.0198 - val_loss: 0.2799 - val_binary_crossentropy: 0.0194\n",
            "Epoch 48/150\n",
            "355/515 [===================>..........] - ETA: 1s - loss: 0.2800 - binary_crossentropy: 0.0196"
          ],
          "name": "stdout"
        },
        {
          "output_type": "error",
          "ename": "KeyboardInterrupt",
          "evalue": "ignored",
          "traceback": [
            "\u001b[0;31m---------------------------------------------------------------------------\u001b[0m",
            "\u001b[0;31mKeyboardInterrupt\u001b[0m                         Traceback (most recent call last)",
            "\u001b[0;32m<ipython-input-27-10522f480d15>\u001b[0m in \u001b[0;36m<module>\u001b[0;34m()\u001b[0m\n\u001b[1;32m      5\u001b[0m         \u001b[0mX_train\u001b[0m\u001b[0;34m,\u001b[0m \u001b[0my_train\u001b[0m\u001b[0;34m,\u001b[0m \u001b[0mvalidation_split\u001b[0m \u001b[0;34m=\u001b[0m \u001b[0;36m0.25\u001b[0m\u001b[0;34m,\u001b[0m\u001b[0;34m\u001b[0m\u001b[0;34m\u001b[0m\u001b[0m\n\u001b[1;32m      6\u001b[0m         \u001b[0mcallbacks\u001b[0m\u001b[0;34m=\u001b[0m\u001b[0;34m[\u001b[0m\u001b[0mreduce_lr\u001b[0m\u001b[0;34m,\u001b[0m \u001b[0mearly_stopping\u001b[0m\u001b[0;34m]\u001b[0m\u001b[0;34m,\u001b[0m \u001b[0mepochs\u001b[0m\u001b[0;34m=\u001b[0m\u001b[0;36m150\u001b[0m\u001b[0;34m,\u001b[0m \u001b[0mverbose\u001b[0m \u001b[0;34m=\u001b[0m\u001b[0;36m1\u001b[0m\u001b[0;34m,\u001b[0m\u001b[0;34m\u001b[0m\u001b[0;34m\u001b[0m\u001b[0m\n\u001b[0;32m----> 7\u001b[0;31m         batch_size=32 )\n\u001b[0m",
            "\u001b[0;32m/usr/local/lib/python3.6/dist-packages/tensorflow/python/keras/engine/training.py\u001b[0m in \u001b[0;36m_method_wrapper\u001b[0;34m(self, *args, **kwargs)\u001b[0m\n\u001b[1;32m    106\u001b[0m   \u001b[0;32mdef\u001b[0m \u001b[0m_method_wrapper\u001b[0m\u001b[0;34m(\u001b[0m\u001b[0mself\u001b[0m\u001b[0;34m,\u001b[0m \u001b[0;34m*\u001b[0m\u001b[0margs\u001b[0m\u001b[0;34m,\u001b[0m \u001b[0;34m**\u001b[0m\u001b[0mkwargs\u001b[0m\u001b[0;34m)\u001b[0m\u001b[0;34m:\u001b[0m\u001b[0;34m\u001b[0m\u001b[0;34m\u001b[0m\u001b[0m\n\u001b[1;32m    107\u001b[0m     \u001b[0;32mif\u001b[0m \u001b[0;32mnot\u001b[0m \u001b[0mself\u001b[0m\u001b[0;34m.\u001b[0m\u001b[0m_in_multi_worker_mode\u001b[0m\u001b[0;34m(\u001b[0m\u001b[0;34m)\u001b[0m\u001b[0;34m:\u001b[0m  \u001b[0;31m# pylint: disable=protected-access\u001b[0m\u001b[0;34m\u001b[0m\u001b[0;34m\u001b[0m\u001b[0m\n\u001b[0;32m--> 108\u001b[0;31m       \u001b[0;32mreturn\u001b[0m \u001b[0mmethod\u001b[0m\u001b[0;34m(\u001b[0m\u001b[0mself\u001b[0m\u001b[0;34m,\u001b[0m \u001b[0;34m*\u001b[0m\u001b[0margs\u001b[0m\u001b[0;34m,\u001b[0m \u001b[0;34m**\u001b[0m\u001b[0mkwargs\u001b[0m\u001b[0;34m)\u001b[0m\u001b[0;34m\u001b[0m\u001b[0;34m\u001b[0m\u001b[0m\n\u001b[0m\u001b[1;32m    109\u001b[0m \u001b[0;34m\u001b[0m\u001b[0m\n\u001b[1;32m    110\u001b[0m     \u001b[0;31m# Running inside `run_distribute_coordinator` already.\u001b[0m\u001b[0;34m\u001b[0m\u001b[0;34m\u001b[0m\u001b[0;34m\u001b[0m\u001b[0m\n",
            "\u001b[0;32m/usr/local/lib/python3.6/dist-packages/tensorflow/python/keras/engine/training.py\u001b[0m in \u001b[0;36mfit\u001b[0;34m(self, x, y, batch_size, epochs, verbose, callbacks, validation_split, validation_data, shuffle, class_weight, sample_weight, initial_epoch, steps_per_epoch, validation_steps, validation_batch_size, validation_freq, max_queue_size, workers, use_multiprocessing)\u001b[0m\n\u001b[1;32m   1101\u001b[0m               \u001b[0mlogs\u001b[0m \u001b[0;34m=\u001b[0m \u001b[0mtmp_logs\u001b[0m  \u001b[0;31m# No error, now safe to assign to logs.\u001b[0m\u001b[0;34m\u001b[0m\u001b[0;34m\u001b[0m\u001b[0m\n\u001b[1;32m   1102\u001b[0m               \u001b[0mend_step\u001b[0m \u001b[0;34m=\u001b[0m \u001b[0mstep\u001b[0m \u001b[0;34m+\u001b[0m \u001b[0mdata_handler\u001b[0m\u001b[0;34m.\u001b[0m\u001b[0mstep_increment\u001b[0m\u001b[0;34m\u001b[0m\u001b[0;34m\u001b[0m\u001b[0m\n\u001b[0;32m-> 1103\u001b[0;31m               \u001b[0mcallbacks\u001b[0m\u001b[0;34m.\u001b[0m\u001b[0mon_train_batch_end\u001b[0m\u001b[0;34m(\u001b[0m\u001b[0mend_step\u001b[0m\u001b[0;34m,\u001b[0m \u001b[0mlogs\u001b[0m\u001b[0;34m)\u001b[0m\u001b[0;34m\u001b[0m\u001b[0;34m\u001b[0m\u001b[0m\n\u001b[0m\u001b[1;32m   1104\u001b[0m         \u001b[0mepoch_logs\u001b[0m \u001b[0;34m=\u001b[0m \u001b[0mcopy\u001b[0m\u001b[0;34m.\u001b[0m\u001b[0mcopy\u001b[0m\u001b[0;34m(\u001b[0m\u001b[0mlogs\u001b[0m\u001b[0;34m)\u001b[0m\u001b[0;34m\u001b[0m\u001b[0;34m\u001b[0m\u001b[0m\n\u001b[1;32m   1105\u001b[0m \u001b[0;34m\u001b[0m\u001b[0m\n",
            "\u001b[0;32m/usr/local/lib/python3.6/dist-packages/tensorflow/python/keras/callbacks.py\u001b[0m in \u001b[0;36mon_train_batch_end\u001b[0;34m(self, batch, logs)\u001b[0m\n\u001b[1;32m    438\u001b[0m     \"\"\"\n\u001b[1;32m    439\u001b[0m     \u001b[0;32mif\u001b[0m \u001b[0mself\u001b[0m\u001b[0;34m.\u001b[0m\u001b[0m_should_call_train_batch_hooks\u001b[0m\u001b[0;34m:\u001b[0m\u001b[0;34m\u001b[0m\u001b[0;34m\u001b[0m\u001b[0m\n\u001b[0;32m--> 440\u001b[0;31m       \u001b[0mself\u001b[0m\u001b[0;34m.\u001b[0m\u001b[0m_call_batch_hook\u001b[0m\u001b[0;34m(\u001b[0m\u001b[0mModeKeys\u001b[0m\u001b[0;34m.\u001b[0m\u001b[0mTRAIN\u001b[0m\u001b[0;34m,\u001b[0m \u001b[0;34m'end'\u001b[0m\u001b[0;34m,\u001b[0m \u001b[0mbatch\u001b[0m\u001b[0;34m,\u001b[0m \u001b[0mlogs\u001b[0m\u001b[0;34m=\u001b[0m\u001b[0mlogs\u001b[0m\u001b[0;34m)\u001b[0m\u001b[0;34m\u001b[0m\u001b[0;34m\u001b[0m\u001b[0m\n\u001b[0m\u001b[1;32m    441\u001b[0m \u001b[0;34m\u001b[0m\u001b[0m\n\u001b[1;32m    442\u001b[0m   \u001b[0;32mdef\u001b[0m \u001b[0mon_test_batch_begin\u001b[0m\u001b[0;34m(\u001b[0m\u001b[0mself\u001b[0m\u001b[0;34m,\u001b[0m \u001b[0mbatch\u001b[0m\u001b[0;34m,\u001b[0m \u001b[0mlogs\u001b[0m\u001b[0;34m=\u001b[0m\u001b[0;32mNone\u001b[0m\u001b[0;34m)\u001b[0m\u001b[0;34m:\u001b[0m\u001b[0;34m\u001b[0m\u001b[0;34m\u001b[0m\u001b[0m\n",
            "\u001b[0;32m/usr/local/lib/python3.6/dist-packages/tensorflow/python/keras/callbacks.py\u001b[0m in \u001b[0;36m_call_batch_hook\u001b[0;34m(self, mode, hook, batch, logs)\u001b[0m\n\u001b[1;32m    287\u001b[0m       \u001b[0mself\u001b[0m\u001b[0;34m.\u001b[0m\u001b[0m_call_batch_begin_hook\u001b[0m\u001b[0;34m(\u001b[0m\u001b[0mmode\u001b[0m\u001b[0;34m,\u001b[0m \u001b[0mbatch\u001b[0m\u001b[0;34m,\u001b[0m \u001b[0mlogs\u001b[0m\u001b[0;34m)\u001b[0m\u001b[0;34m\u001b[0m\u001b[0;34m\u001b[0m\u001b[0m\n\u001b[1;32m    288\u001b[0m     \u001b[0;32melif\u001b[0m \u001b[0mhook\u001b[0m \u001b[0;34m==\u001b[0m \u001b[0;34m'end'\u001b[0m\u001b[0;34m:\u001b[0m\u001b[0;34m\u001b[0m\u001b[0;34m\u001b[0m\u001b[0m\n\u001b[0;32m--> 289\u001b[0;31m       \u001b[0mself\u001b[0m\u001b[0;34m.\u001b[0m\u001b[0m_call_batch_end_hook\u001b[0m\u001b[0;34m(\u001b[0m\u001b[0mmode\u001b[0m\u001b[0;34m,\u001b[0m \u001b[0mbatch\u001b[0m\u001b[0;34m,\u001b[0m \u001b[0mlogs\u001b[0m\u001b[0;34m)\u001b[0m\u001b[0;34m\u001b[0m\u001b[0;34m\u001b[0m\u001b[0m\n\u001b[0m\u001b[1;32m    290\u001b[0m     \u001b[0;32melse\u001b[0m\u001b[0;34m:\u001b[0m\u001b[0;34m\u001b[0m\u001b[0;34m\u001b[0m\u001b[0m\n\u001b[1;32m    291\u001b[0m       \u001b[0;32mraise\u001b[0m \u001b[0mValueError\u001b[0m\u001b[0;34m(\u001b[0m\u001b[0;34m'Unrecognized hook: {}'\u001b[0m\u001b[0;34m.\u001b[0m\u001b[0mformat\u001b[0m\u001b[0;34m(\u001b[0m\u001b[0mhook\u001b[0m\u001b[0;34m)\u001b[0m\u001b[0;34m)\u001b[0m\u001b[0;34m\u001b[0m\u001b[0;34m\u001b[0m\u001b[0m\n",
            "\u001b[0;32m/usr/local/lib/python3.6/dist-packages/tensorflow/python/keras/callbacks.py\u001b[0m in \u001b[0;36m_call_batch_end_hook\u001b[0;34m(self, mode, batch, logs)\u001b[0m\n\u001b[1;32m    307\u001b[0m       \u001b[0mbatch_time\u001b[0m \u001b[0;34m=\u001b[0m \u001b[0mtime\u001b[0m\u001b[0;34m.\u001b[0m\u001b[0mtime\u001b[0m\u001b[0;34m(\u001b[0m\u001b[0;34m)\u001b[0m \u001b[0;34m-\u001b[0m \u001b[0mself\u001b[0m\u001b[0;34m.\u001b[0m\u001b[0m_batch_start_time\u001b[0m\u001b[0;34m\u001b[0m\u001b[0;34m\u001b[0m\u001b[0m\n\u001b[1;32m    308\u001b[0m \u001b[0;34m\u001b[0m\u001b[0m\n\u001b[0;32m--> 309\u001b[0;31m     \u001b[0mself\u001b[0m\u001b[0;34m.\u001b[0m\u001b[0m_call_batch_hook_helper\u001b[0m\u001b[0;34m(\u001b[0m\u001b[0mhook_name\u001b[0m\u001b[0;34m,\u001b[0m \u001b[0mbatch\u001b[0m\u001b[0;34m,\u001b[0m \u001b[0mlogs\u001b[0m\u001b[0;34m)\u001b[0m\u001b[0;34m\u001b[0m\u001b[0;34m\u001b[0m\u001b[0m\n\u001b[0m\u001b[1;32m    310\u001b[0m \u001b[0;34m\u001b[0m\u001b[0m\n\u001b[1;32m    311\u001b[0m     \u001b[0;32mif\u001b[0m \u001b[0mself\u001b[0m\u001b[0;34m.\u001b[0m\u001b[0m_check_timing\u001b[0m\u001b[0;34m:\u001b[0m\u001b[0;34m\u001b[0m\u001b[0;34m\u001b[0m\u001b[0m\n",
            "\u001b[0;32m/usr/local/lib/python3.6/dist-packages/tensorflow/python/keras/callbacks.py\u001b[0m in \u001b[0;36m_call_batch_hook_helper\u001b[0;34m(self, hook_name, batch, logs)\u001b[0m\n\u001b[1;32m    343\u001b[0m       \u001b[0;32melse\u001b[0m\u001b[0;34m:\u001b[0m\u001b[0;34m\u001b[0m\u001b[0;34m\u001b[0m\u001b[0m\n\u001b[1;32m    344\u001b[0m         \u001b[0;32mif\u001b[0m \u001b[0mnumpy_logs\u001b[0m \u001b[0;32mis\u001b[0m \u001b[0;32mNone\u001b[0m\u001b[0;34m:\u001b[0m  \u001b[0;31m# Only convert once.\u001b[0m\u001b[0;34m\u001b[0m\u001b[0;34m\u001b[0m\u001b[0m\n\u001b[0;32m--> 345\u001b[0;31m           \u001b[0mnumpy_logs\u001b[0m \u001b[0;34m=\u001b[0m \u001b[0mtf_utils\u001b[0m\u001b[0;34m.\u001b[0m\u001b[0mto_numpy_or_python_type\u001b[0m\u001b[0;34m(\u001b[0m\u001b[0mlogs\u001b[0m\u001b[0;34m)\u001b[0m\u001b[0;34m\u001b[0m\u001b[0;34m\u001b[0m\u001b[0m\n\u001b[0m\u001b[1;32m    346\u001b[0m         \u001b[0mhook\u001b[0m\u001b[0;34m(\u001b[0m\u001b[0mbatch\u001b[0m\u001b[0;34m,\u001b[0m \u001b[0mnumpy_logs\u001b[0m\u001b[0;34m)\u001b[0m\u001b[0;34m\u001b[0m\u001b[0;34m\u001b[0m\u001b[0m\n\u001b[1;32m    347\u001b[0m \u001b[0;34m\u001b[0m\u001b[0m\n",
            "\u001b[0;32m/usr/local/lib/python3.6/dist-packages/tensorflow/python/keras/utils/tf_utils.py\u001b[0m in \u001b[0;36mto_numpy_or_python_type\u001b[0;34m(tensors)\u001b[0m\n\u001b[1;32m    535\u001b[0m     \u001b[0;32mreturn\u001b[0m \u001b[0mt\u001b[0m  \u001b[0;31m# Don't turn ragged or sparse tensors to NumPy.\u001b[0m\u001b[0;34m\u001b[0m\u001b[0;34m\u001b[0m\u001b[0m\n\u001b[1;32m    536\u001b[0m \u001b[0;34m\u001b[0m\u001b[0m\n\u001b[0;32m--> 537\u001b[0;31m   \u001b[0;32mreturn\u001b[0m \u001b[0mnest\u001b[0m\u001b[0;34m.\u001b[0m\u001b[0mmap_structure\u001b[0m\u001b[0;34m(\u001b[0m\u001b[0m_to_single_numpy_or_python_type\u001b[0m\u001b[0;34m,\u001b[0m \u001b[0mtensors\u001b[0m\u001b[0;34m)\u001b[0m\u001b[0;34m\u001b[0m\u001b[0;34m\u001b[0m\u001b[0m\n\u001b[0m\u001b[1;32m    538\u001b[0m \u001b[0;34m\u001b[0m\u001b[0m\n\u001b[1;32m    539\u001b[0m \u001b[0;34m\u001b[0m\u001b[0m\n",
            "\u001b[0;32m/usr/local/lib/python3.6/dist-packages/tensorflow/python/util/nest.py\u001b[0m in \u001b[0;36mmap_structure\u001b[0;34m(func, *structure, **kwargs)\u001b[0m\n\u001b[1;32m    633\u001b[0m \u001b[0;34m\u001b[0m\u001b[0m\n\u001b[1;32m    634\u001b[0m   return pack_sequence_as(\n\u001b[0;32m--> 635\u001b[0;31m       \u001b[0mstructure\u001b[0m\u001b[0;34m[\u001b[0m\u001b[0;36m0\u001b[0m\u001b[0;34m]\u001b[0m\u001b[0;34m,\u001b[0m \u001b[0;34m[\u001b[0m\u001b[0mfunc\u001b[0m\u001b[0;34m(\u001b[0m\u001b[0;34m*\u001b[0m\u001b[0mx\u001b[0m\u001b[0;34m)\u001b[0m \u001b[0;32mfor\u001b[0m \u001b[0mx\u001b[0m \u001b[0;32min\u001b[0m \u001b[0mentries\u001b[0m\u001b[0;34m]\u001b[0m\u001b[0;34m,\u001b[0m\u001b[0;34m\u001b[0m\u001b[0;34m\u001b[0m\u001b[0m\n\u001b[0m\u001b[1;32m    636\u001b[0m       expand_composites=expand_composites)\n\u001b[1;32m    637\u001b[0m \u001b[0;34m\u001b[0m\u001b[0m\n",
            "\u001b[0;32m/usr/local/lib/python3.6/dist-packages/tensorflow/python/util/nest.py\u001b[0m in \u001b[0;36m<listcomp>\u001b[0;34m(.0)\u001b[0m\n\u001b[1;32m    633\u001b[0m \u001b[0;34m\u001b[0m\u001b[0m\n\u001b[1;32m    634\u001b[0m   return pack_sequence_as(\n\u001b[0;32m--> 635\u001b[0;31m       \u001b[0mstructure\u001b[0m\u001b[0;34m[\u001b[0m\u001b[0;36m0\u001b[0m\u001b[0;34m]\u001b[0m\u001b[0;34m,\u001b[0m \u001b[0;34m[\u001b[0m\u001b[0mfunc\u001b[0m\u001b[0;34m(\u001b[0m\u001b[0;34m*\u001b[0m\u001b[0mx\u001b[0m\u001b[0;34m)\u001b[0m \u001b[0;32mfor\u001b[0m \u001b[0mx\u001b[0m \u001b[0;32min\u001b[0m \u001b[0mentries\u001b[0m\u001b[0;34m]\u001b[0m\u001b[0;34m,\u001b[0m\u001b[0;34m\u001b[0m\u001b[0;34m\u001b[0m\u001b[0m\n\u001b[0m\u001b[1;32m    636\u001b[0m       expand_composites=expand_composites)\n\u001b[1;32m    637\u001b[0m \u001b[0;34m\u001b[0m\u001b[0m\n",
            "\u001b[0;32m/usr/local/lib/python3.6/dist-packages/tensorflow/python/keras/utils/tf_utils.py\u001b[0m in \u001b[0;36m_to_single_numpy_or_python_type\u001b[0;34m(t)\u001b[0m\n\u001b[1;32m    531\u001b[0m   \u001b[0;32mdef\u001b[0m \u001b[0m_to_single_numpy_or_python_type\u001b[0m\u001b[0;34m(\u001b[0m\u001b[0mt\u001b[0m\u001b[0;34m)\u001b[0m\u001b[0;34m:\u001b[0m\u001b[0;34m\u001b[0m\u001b[0;34m\u001b[0m\u001b[0m\n\u001b[1;32m    532\u001b[0m     \u001b[0;32mif\u001b[0m \u001b[0misinstance\u001b[0m\u001b[0;34m(\u001b[0m\u001b[0mt\u001b[0m\u001b[0;34m,\u001b[0m \u001b[0mops\u001b[0m\u001b[0;34m.\u001b[0m\u001b[0mTensor\u001b[0m\u001b[0;34m)\u001b[0m\u001b[0;34m:\u001b[0m\u001b[0;34m\u001b[0m\u001b[0;34m\u001b[0m\u001b[0m\n\u001b[0;32m--> 533\u001b[0;31m       \u001b[0mx\u001b[0m \u001b[0;34m=\u001b[0m \u001b[0mt\u001b[0m\u001b[0;34m.\u001b[0m\u001b[0mnumpy\u001b[0m\u001b[0;34m(\u001b[0m\u001b[0;34m)\u001b[0m\u001b[0;34m\u001b[0m\u001b[0;34m\u001b[0m\u001b[0m\n\u001b[0m\u001b[1;32m    534\u001b[0m       \u001b[0;32mreturn\u001b[0m \u001b[0mx\u001b[0m\u001b[0;34m.\u001b[0m\u001b[0mitem\u001b[0m\u001b[0;34m(\u001b[0m\u001b[0;34m)\u001b[0m \u001b[0;32mif\u001b[0m \u001b[0mnp\u001b[0m\u001b[0;34m.\u001b[0m\u001b[0mndim\u001b[0m\u001b[0;34m(\u001b[0m\u001b[0mx\u001b[0m\u001b[0;34m)\u001b[0m \u001b[0;34m==\u001b[0m \u001b[0;36m0\u001b[0m \u001b[0;32melse\u001b[0m \u001b[0mx\u001b[0m\u001b[0;34m\u001b[0m\u001b[0;34m\u001b[0m\u001b[0m\n\u001b[1;32m    535\u001b[0m     \u001b[0;32mreturn\u001b[0m \u001b[0mt\u001b[0m  \u001b[0;31m# Don't turn ragged or sparse tensors to NumPy.\u001b[0m\u001b[0;34m\u001b[0m\u001b[0;34m\u001b[0m\u001b[0m\n",
            "\u001b[0;32m/usr/local/lib/python3.6/dist-packages/tensorflow/python/framework/ops.py\u001b[0m in \u001b[0;36mnumpy\u001b[0;34m(self)\u001b[0m\n\u001b[1;32m   1061\u001b[0m     \"\"\"\n\u001b[1;32m   1062\u001b[0m     \u001b[0;31m# TODO(slebedev): Consider avoiding a copy for non-CPU or remote tensors.\u001b[0m\u001b[0;34m\u001b[0m\u001b[0;34m\u001b[0m\u001b[0;34m\u001b[0m\u001b[0m\n\u001b[0;32m-> 1063\u001b[0;31m     \u001b[0mmaybe_arr\u001b[0m \u001b[0;34m=\u001b[0m \u001b[0mself\u001b[0m\u001b[0;34m.\u001b[0m\u001b[0m_numpy\u001b[0m\u001b[0;34m(\u001b[0m\u001b[0;34m)\u001b[0m  \u001b[0;31m# pylint: disable=protected-access\u001b[0m\u001b[0;34m\u001b[0m\u001b[0;34m\u001b[0m\u001b[0m\n\u001b[0m\u001b[1;32m   1064\u001b[0m     \u001b[0;32mreturn\u001b[0m \u001b[0mmaybe_arr\u001b[0m\u001b[0;34m.\u001b[0m\u001b[0mcopy\u001b[0m\u001b[0;34m(\u001b[0m\u001b[0;34m)\u001b[0m \u001b[0;32mif\u001b[0m \u001b[0misinstance\u001b[0m\u001b[0;34m(\u001b[0m\u001b[0mmaybe_arr\u001b[0m\u001b[0;34m,\u001b[0m \u001b[0mnp\u001b[0m\u001b[0;34m.\u001b[0m\u001b[0mndarray\u001b[0m\u001b[0;34m)\u001b[0m \u001b[0;32melse\u001b[0m \u001b[0mmaybe_arr\u001b[0m\u001b[0;34m\u001b[0m\u001b[0;34m\u001b[0m\u001b[0m\n\u001b[1;32m   1065\u001b[0m \u001b[0;34m\u001b[0m\u001b[0m\n",
            "\u001b[0;32m/usr/local/lib/python3.6/dist-packages/tensorflow/python/framework/ops.py\u001b[0m in \u001b[0;36m_numpy\u001b[0;34m(self)\u001b[0m\n\u001b[1;32m   1027\u001b[0m   \u001b[0;32mdef\u001b[0m \u001b[0m_numpy\u001b[0m\u001b[0;34m(\u001b[0m\u001b[0mself\u001b[0m\u001b[0;34m)\u001b[0m\u001b[0;34m:\u001b[0m\u001b[0;34m\u001b[0m\u001b[0;34m\u001b[0m\u001b[0m\n\u001b[1;32m   1028\u001b[0m     \u001b[0;32mtry\u001b[0m\u001b[0;34m:\u001b[0m\u001b[0;34m\u001b[0m\u001b[0;34m\u001b[0m\u001b[0m\n\u001b[0;32m-> 1029\u001b[0;31m       \u001b[0;32mreturn\u001b[0m \u001b[0mself\u001b[0m\u001b[0;34m.\u001b[0m\u001b[0m_numpy_internal\u001b[0m\u001b[0;34m(\u001b[0m\u001b[0;34m)\u001b[0m\u001b[0;34m\u001b[0m\u001b[0;34m\u001b[0m\u001b[0m\n\u001b[0m\u001b[1;32m   1030\u001b[0m     \u001b[0;32mexcept\u001b[0m \u001b[0mcore\u001b[0m\u001b[0;34m.\u001b[0m\u001b[0m_NotOkStatusException\u001b[0m \u001b[0;32mas\u001b[0m \u001b[0me\u001b[0m\u001b[0;34m:\u001b[0m  \u001b[0;31m# pylint: disable=protected-access\u001b[0m\u001b[0;34m\u001b[0m\u001b[0;34m\u001b[0m\u001b[0m\n\u001b[1;32m   1031\u001b[0m       \u001b[0msix\u001b[0m\u001b[0;34m.\u001b[0m\u001b[0mraise_from\u001b[0m\u001b[0;34m(\u001b[0m\u001b[0mcore\u001b[0m\u001b[0;34m.\u001b[0m\u001b[0m_status_to_exception\u001b[0m\u001b[0;34m(\u001b[0m\u001b[0me\u001b[0m\u001b[0;34m.\u001b[0m\u001b[0mcode\u001b[0m\u001b[0;34m,\u001b[0m \u001b[0me\u001b[0m\u001b[0;34m.\u001b[0m\u001b[0mmessage\u001b[0m\u001b[0;34m)\u001b[0m\u001b[0;34m,\u001b[0m \u001b[0;32mNone\u001b[0m\u001b[0;34m)\u001b[0m  \u001b[0;31m# pylint: disable=protected-access\u001b[0m\u001b[0;34m\u001b[0m\u001b[0;34m\u001b[0m\u001b[0m\n",
            "\u001b[0;31mKeyboardInterrupt\u001b[0m: "
          ]
        }
      ]
    },
    {
      "cell_type": "code",
      "metadata": {
        "trusted": true,
        "id": "Ksfh_xIsGDpX"
      },
      "source": [
        "prediction = model.predict(X_pred)\n",
        "df_preds_non_ctl =  pd.DataFrame(prediction, columns= cols_target, index = to_pred.index)\n",
        "\n",
        "# concat with all to pred values\n",
        "df_preds = pd.concat([ full_pred[cols_id], df_preds_non_ctl], axis = 1).fillna(0)\n",
        "\n",
        "df_preds.iloc[:,[34,82]] = 0\n",
        "# to csv\n",
        "df_preds.to_csv(\"submission.csv\", index = None)"
      ],
      "execution_count": null,
      "outputs": []
    },
    {
      "cell_type": "code",
      "metadata": {
        "trusted": true,
        "id": "ZRu1KZ8WGDpX",
        "colab": {
          "base_uri": "https://localhost:8080/",
          "height": 512
        },
        "outputId": "06d768b7-2047-4a11-f297-1b585d6cda84"
      },
      "source": [
        "\n",
        "# Graph___________________________________\n",
        "hí = history.history\n",
        "đầu_ra = {x: hí[x] for x in ['binary_crossentropy', 'val_binary_crossentropy']}\n",
        "plt.plot(pd.DataFrame(đầu_ra).iloc[4:,:])\n",
        "plt.show()\n",
        "lr = []\n",
        "for i in range(50) :\n",
        "  lr.append( fn_lr(i+1) )\n",
        "plt.plot(np.array(lr))\n",
        "plt.show()"
      ],
      "execution_count": 91,
      "outputs": [
        {
          "output_type": "display_data",
          "data": {
            "image/png": "[encoded data removed]",
            "text/plain": [
              "<Figure size 432x288 with 1 Axes>"
            ]
          },
          "metadata": {
            "tags": [],
            "needs_background": "light"
          }
        },
        {
          "output_type": "display_data",
          "data": {
            "image/png": "[encoded data removed]",
            "text/plain": [
              "<Figure size 432x288 with 1 Axes>"
            ]
          },
          "metadata": {
            "tags": [],
            "needs_background": "light"
          }
        }
      ]
    },
    {
      "cell_type": "code",
      "metadata": {
        "id": "_Pwnh9_YOpcg"
      },
      "source": [
        ""
      ],
      "execution_count": null,
      "outputs": []
    }
  ]
}