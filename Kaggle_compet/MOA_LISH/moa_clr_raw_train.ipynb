{
  "nbformat": 4,
  "nbformat_minor": 0,
  "metadata": {
    "kernelspec": {
      "language": "python",
      "display_name": "Python 3",
      "name": "python3"
    },
    "language_info": {
      "pygments_lexer": "ipython3",
      "nbconvert_exporter": "python",
      "version": "3.6.4",
      "file_extension": ".py",
      "codemirror_mode": {
        "name": "ipython",
        "version": 3
      },
      "name": "python",
      "mimetype": "text/x-python"
    },
    "colab": {
      "name": "moa-stacked-ensemble-multimodels.ipynb",
      "provenance": [],
      "toc_visible": true
    },
    "accelerator": "GPU"
  },
  "cells": [
    {
      "cell_type": "markdown",
      "metadata": {
        "id": "d3opyzGTGHcN"
      },
      "source": [
        "COLAB"
      ]
    },
    {
      "cell_type": "code",
      "metadata": {
        "id": "TNZPYerEGF3Q",
        "outputId": "ced9e3c2-a912-47d4-f51d-71f541d58ddd",
        "colab": {
          "base_uri": "https://localhost:8080/"
        }
      },
      "source": [
        "folder_path = '/content/drive/MyDrive/Data/colabs_data/MOA_kaggle/'\n",
        "from google.colab import drive\n",
        "drive.mount('/content/drive')\n",
        "!cp '/content/drive/MyDrive/Data/colabs_data/MOA_kaggle/quanvh8_funcs.py' ."
      ],
      "execution_count": 1,
      "outputs": [
        {
          "output_type": "stream",
          "text": [
            "Mounted at /content/drive\n"
          ],
          "name": "stdout"
        }
      ]
    },
    {
      "cell_type": "markdown",
      "metadata": {
        "id": "Dya6YyhbGMo-"
      },
      "source": [
        "KAGGLE"
      ]
    },
    {
      "cell_type": "code",
      "metadata": {
        "id": "672aJy7uGQ47"
      },
      "source": [
        "# folder_path = '../input/lish-moa/'\n",
        "# !cp '../input/coded-file/quanvh8_funcs.py' ."
      ],
      "execution_count": null,
      "outputs": []
    },
    {
      "cell_type": "markdown",
      "metadata": {
        "id": "m4cOJASOz4_l"
      },
      "source": [
        "# MODELING"
      ]
    },
    {
      "cell_type": "code",
      "metadata": {
        "_uuid": "d629ff2d2480ee46fbb7e2d37f6b5fab8052498a",
        "_cell_guid": "79c7e3d0-c299-4dcb-8224-4455121ee9b0",
        "trusted": true,
        "id": "SPXySQXZGDpW",
        "colab": {
          "base_uri": "https://localhost:8080/"
        },
        "outputId": "eb1a69e9-656e-44f7-96fb-1843e84f7642"
      },
      "source": [
        "'''ENSEMBLE NETS\n",
        "Inspire by https://www.kaggle.com/c/otto-group-product-classification-challenge/discussion/14335'''\n",
        "\n",
        "import numpy as np, pandas as pd, copy, tensorflow as tf, matplotlib.pyplot as plt, sklearn\n",
        "\n",
        "from tensorflow import feature_column as fc\n",
        "from tensorflow.keras.losses import BinaryCrossentropy\n",
        "from tensorflow.keras.layers import (Dense, DenseFeatures, Dropout, \n",
        "                                     BatchNormalization, Embedding, Input, Concatenate, Average,\n",
        "                                     InputLayer, Lambda)\n",
        "from tensorflow.keras.metrics import AUC, Precision, Recall\n",
        "from tensorflow.keras import backend as K, Sequential, Model\n",
        "from tensorflow.keras.callbacks import ReduceLROnPlateau, EarlyStopping\n",
        "from tensorflow.keras.optimizers import Adam, RMSprop\n",
        "\n",
        "import tensorflow_addons as tfa\n",
        "from tensorflow_addons.layers import WeightNormalization\n",
        "\n",
        "from sklearn.preprocessing import QuantileTransformer, StandardScaler\n",
        "from sklearn.base import BaseEstimator, TransformerMixin\n",
        "from sklearn.pipeline import Pipeline, FeatureUnion\n",
        "from sklearn.compose import ColumnTransformer\n",
        "from sklearn.feature_selection import VarianceThreshold\n",
        "from sklearn.decomposition import PCA\n",
        "from sklearn.model_selection import KFold\n",
        "from sklearn.cluster import KMeans\n",
        "\n",
        "from quanvh8_funcs import (DerivedFeatures, kfolds_bagging_training, voting_predict,\n",
        "                           kolds_stacked_ensemble_training, stacked_ensemble_predict )\n",
        "\n",
        "import sys\n",
        "\n",
        "def log_loss_metric(y_true, y_pred):\n",
        "    bce = tf.keras.losses.BinaryCrossentropy()\n",
        "    return bce(y_true, y_pred).numpy()\n",
        "\n",
        "print(pd.__version__)\n",
        "print(tf.__version__)\n",
        "tf.python.client.device_lib.list_local_devices()"
      ],
      "execution_count": 3,
      "outputs": [
        {
          "output_type": "stream",
          "text": [
            "1.1.4\n",
            "2.3.0\n"
          ],
          "name": "stdout"
        },
        {
          "output_type": "execute_result",
          "data": {
            "text/plain": [
              "[name: \"/device:CPU:0\"\n",
              " device_type: \"CPU\"\n",
              " memory_limit: 268435456\n",
              " locality {\n",
              " }\n",
              " incarnation: 7204498311467170958, name: \"/device:XLA_CPU:0\"\n",
              " device_type: \"XLA_CPU\"\n",
              " memory_limit: 17179869184\n",
              " locality {\n",
              " }\n",
              " incarnation: 10888239155524892650\n",
              " physical_device_desc: \"device: XLA_CPU device\", name: \"/device:XLA_GPU:0\"\n",
              " device_type: \"XLA_GPU\"\n",
              " memory_limit: 17179869184\n",
              " locality {\n",
              " }\n",
              " incarnation: 2331832617922034768\n",
              " physical_device_desc: \"device: XLA_GPU device\", name: \"/device:GPU:0\"\n",
              " device_type: \"GPU\"\n",
              " memory_limit: 14640891840\n",
              " locality {\n",
              "   bus_id: 1\n",
              "   links {\n",
              "   }\n",
              " }\n",
              " incarnation: 15069432608085890274\n",
              " physical_device_desc: \"device: 0, name: Tesla T4, pci bus id: 0000:00:04.0, compute capability: 7.5\"]"
            ]
          },
          "metadata": {
            "tags": []
          },
          "execution_count": 3
        }
      ]
    },
    {
      "cell_type": "code",
      "metadata": {
        "trusted": true,
        "id": "Fl1NAQ3LGDpW"
      },
      "source": [
        "# Loading data and encoding\n",
        "raw_test = pd.read_csv(folder_path + 'test_features.csv')\n",
        "raw_train = pd.read_csv(folder_path + 'train_features.csv')\n",
        "raw_targets = pd.read_csv(folder_path + 'train_targets_scored.csv')\n",
        "raw_nonscored = pd.read_csv(folder_path + 'train_targets_nonscored.csv')\n",
        "\n",
        "# Phân loại dữ liệu\n",
        "cols_id = ['sig_id']\n",
        "cols_to_remove = ['cp_type']\n",
        "cols_fts = [i for i in raw_train.columns if i not in cols_id +cols_to_remove]\n",
        "cols_gene = [col for col in raw_train.columns if col.startswith(\"g-\")]\n",
        "cols_cell = [col for col in raw_train.columns if col.startswith(\"c-\")]\n",
        "cols_experiment = [col for col in cols_fts if col not in cols_gene+cols_cell]\n",
        "cols_target = [i for i in raw_targets.columns if i not in cols_id]\n",
        "num_fts, num_labels = len(cols_fts), len(cols_target)\n",
        "\n",
        "# xử lý categorical\n",
        "def transform_data(input_data):\n",
        "    '''Clean data and encoding\n",
        "        * input_data: table '''\n",
        "    out = input_data.copy()\n",
        "    out['cp_dose'] = out['cp_dose'].map({'D1':0, 'D2':1})\n",
        "    out['cp_time'] = out['cp_time']/72\n",
        "    \n",
        "    return out\n",
        "\n",
        "to_train = transform_data(raw_train[raw_train['cp_type'] != 'ctl_vehicle'])\n",
        "to_train_targets = raw_targets.iloc[to_train.index]\n",
        "full_pred  = transform_data(raw_test)\n",
        "to_pred = full_pred[full_pred['cp_type'] != 'ctl_vehicle']\n",
        "\n",
        "y_train = to_train_targets[cols_target].values\n",
        "y_non_scored = raw_nonscored.iloc[to_train.index, 1:].values"
      ],
      "execution_count": 4,
      "outputs": []
    },
    {
      "cell_type": "code",
      "metadata": {
        "trusted": true,
        "id": "7rIjLd5UGDpW"
      },
      "source": [
        "# PARAMS\n",
        "u_fts_num = len(cols_fts)\n",
        "i_fts_num = num_labels\n",
        "\n",
        "initializer = tf.keras.initializers.LecunNormal()# 'he_normal'  # <-- update\n",
        "kn_reg = tf.keras.regularizers.l1(2e-7) # <-- update\n",
        "activation = 'selu'  # <-- update\n",
        "bias_init_carefully = tf.keras.initializers.Constant(np.log([16844/(21948*206 - 16844)]))\n"
      ],
      "execution_count": 6,
      "outputs": []
    },
    {
      "cell_type": "code",
      "metadata": {
        "trusted": true,
        "id": "nQyBLx8OGDpX"
      },
      "source": [
        "# Define model\n",
        "def layer_BDWD( n_components, activation = 'relu',  kn_init = 'glorot_uniform', kn_reg = None, bias_init = None):\n",
        "      def layer_cpl(input_layer):\n",
        "        '''BN - DROPOUT - WEIGHTNORMAL - DENSE'''\n",
        "        layer = BatchNormalization() (input_layer)\n",
        "        layer = Dropout(0.25 ) (layer)\n",
        "        dense = Dense(n_components, activation = activation, \n",
        "                      kernel_initializer = initializer, kernel_regularizer = kn_reg ,\n",
        "                      bias_initializer = bias_init)\n",
        "        layer = WeightNormalization(dense) (layer)\n",
        "        return layer\n",
        "      return layer_cpl\n",
        "    \n",
        "def layer_dense_set(hidden_list):\n",
        "    def layer_cpl(input_layer):\n",
        "        layer = input_layer\n",
        "        for n_hid in hidden_list:\n",
        "            layer = layer_BDWD(n_hid, activation = activation, kn_init = initializer, kn_reg = kn_reg, bias_init = bias_init_carefully) (layer)\n",
        "        return layer\n",
        "    return layer_cpl\n",
        "\n",
        "# Model1 \n",
        "def model1(n_input, n_output):\n",
        "    input_u = Input(shape = (n_input,) )\n",
        "    layer_u = layer_dense_set(hidden_list = [1024, 1024, 512]) (input_u)\n",
        "    out_put = WeightNormalization(Dense(n_output, activation = 'sigmoid' ))(layer_u)\n",
        "    model1 =  Model(inputs=[input_u, ], outputs= [out_put])\n",
        "    opt = tf.keras.optimizers.Adam(learning_rate=0.001)\n",
        "\n",
        "    bce = tf.keras.losses.BinaryCrossentropy()\n",
        "    model1.compile(loss= BinaryCrossentropy(), optimizer=opt , metrics= [bce])\n",
        "    return model1\n",
        "\n",
        "model_nonscored_rep = model1(n_input = to_train[cols_fts].shape[1], n_output = y_non_scored.shape[1])"
      ],
      "execution_count": 7,
      "outputs": []
    },
    {
      "cell_type": "code",
      "metadata": {
        "id": "yNh0I-suE6OZ"
      },
      "source": [
        "# CALLBACK\n",
        "def exp_decay(lr0, s, down_hill):\n",
        "    def exp_decay_fn(epoch):\n",
        "        if epoch <= 5:\n",
        "            out = lr0*2\n",
        "        elif epoch%s <= 1:\n",
        "            out = lr0\n",
        "        else:\n",
        "            out = lr0 + 0.015*(epoch%s/ (s - 1))* down_hill/ (down_hill + int(epoch/s) )\n",
        "        return np.clip( out, 0.001, 0.05)\n",
        "    return exp_decay_fn\n",
        "\n",
        "fn_lr = exp_decay(0.001, 5, 50)\n",
        "lr_schedule = tf.keras.callbacks.LearningRateScheduler ( fn_lr )\n",
        "\n",
        "reduce_lr = ReduceLROnPlateau(monitor='val_binary_crossentropy', factor=0.1, patience=5, mode='min', min_lr=1E-5, verbose= 0)\n",
        "early_stopping = EarlyStopping(monitor='val_binary_crossentropy', min_delta=1E-5, patience=15, mode='min',restore_best_weights=True, verbose= 0)"
      ],
      "execution_count": 8,
      "outputs": []
    },
    {
      "cell_type": "code",
      "metadata": {
        "trusted": true,
        "id": "6brIdJSDGDpX",
        "colab": {
          "base_uri": "https://localhost:8080/",
          "height": 513
        },
        "outputId": "6efd7d72-b5e8-49f8-d324-0e50c7819101"
      },
      "source": [
        "# Add nonscore fts   \n",
        "history = model_nonscored_rep.fit(\n",
        "        to_train[cols_fts], y_non_scored, validation_split = 0.25, \n",
        "        callbacks=[early_stopping, lr_schedule], epochs= 47, verbose = 0,\n",
        "        batch_size= 128)\n",
        "\n",
        "# Graph___________________________________\n",
        "hí = history.history\n",
        "đầu_ra = {x: hí[x] for x in ['binary_crossentropy', 'val_binary_crossentropy']}\n",
        "plt.plot(pd.DataFrame(đầu_ra))\n",
        "plt.show()\n",
        "lr = []\n",
        "for i in range(47) :\n",
        "    lr.append( fn_lr(i+1) )\n",
        "plt.plot(np.array(lr))\n",
        "plt.show()"
      ],
      "execution_count": 9,
      "outputs": [
        {
          "output_type": "display_data",
          "data": {
            "image/png": "[encoded data removed]",
            "text/plain": [
              "<Figure size 432x288 with 1 Axes>"
            ]
          },
          "metadata": {
            "tags": [],
            "needs_background": "light"
          }
        },
        {
          "output_type": "display_data",
          "data": {
            "image/png": "[encoded data removed]",
            "text/plain": [
              "<Figure size 432x288 with 1 Axes>"
            ]
          },
          "metadata": {
            "tags": [],
            "needs_background": "light"
          }
        }
      ]
    },
    {
      "cell_type": "code",
      "metadata": {
        "id": "A7LdkeCTMzDh"
      },
      "source": [
        "# add_fts\n",
        "X_train = np.concatenate([to_train[cols_fts].values, model_nonscored_rep.predict(to_train[cols_fts])], axis = 1)\n",
        "X_pred = np.concatenate([to_pred[cols_fts].values, model_nonscored_rep.predict(to_pred[cols_fts])], axis = 1)"
      ],
      "execution_count": 10,
      "outputs": []
    },
    {
      "cell_type": "code",
      "metadata": {
        "id": "L75BQr9-kBgB",
        "colab": {
          "base_uri": "https://localhost:8080/"
        },
        "outputId": "a383004f-9cc1-47c6-9345-442f752bf112"
      },
      "source": [
        "# Train 1st model\n",
        "\n",
        "model1 = model1(n_input = X_train.shape[1], n_output = y_train.shape[1])\n",
        "\n",
        "# Fitting\n",
        "history = model1.fit(\n",
        "        X_train, y_train, validation_split = 0.25, \n",
        "        callbacks=[early_stopping, lr_schedule], epochs= 47, verbose =1,\n",
        "        batch_size= 128)\n",
        "\n",
        "# Graph___________________________________\n",
        "hí = history.history\n",
        "đầu_ra = {x: hí[x] for x in ['binary_crossentropy', 'val_binary_crossentropy']}\n",
        "plt.plot(pd.DataFrame(đầu_ra))\n",
        "plt.show()\n",
        "lr = []\n",
        "for i in range(47) :\n",
        "    lr.append( fn_lr(i+1) )\n",
        "plt.plot(np.array(lr))\n",
        "plt.show()"
      ],
      "execution_count": null,
      "outputs": [
        {
          "output_type": "stream",
          "text": [
            "Epoch 1/47\n",
            "129/129 [==============================] - 2s 14ms/step - loss: 0.0661 - binary_crossentropy: 0.0386 - val_loss: 0.0581 - val_binary_crossentropy: 0.0317\n",
            "Epoch 2/47\n",
            "129/129 [==============================] - 1s 9ms/step - loss: 0.0458 - binary_crossentropy: 0.0201 - val_loss: 0.0450 - val_binary_crossentropy: 0.0199\n",
            "Epoch 3/47\n",
            "129/129 [==============================] - 1s 9ms/step - loss: 0.0433 - binary_crossentropy: 0.0188 - val_loss: 0.0432 - val_binary_crossentropy: 0.0191\n",
            "Epoch 4/47\n",
            "129/129 [==============================] - 1s 10ms/step - loss: 0.0417 - binary_crossentropy: 0.0180 - val_loss: 0.0423 - val_binary_crossentropy: 0.0190\n",
            "Epoch 5/47\n",
            "129/129 [==============================] - 1s 9ms/step - loss: 0.0408 - binary_crossentropy: 0.0177 - val_loss: 0.0414 - val_binary_crossentropy: 0.0185\n",
            "Epoch 6/47\n",
            "129/129 [==============================] - 1s 9ms/step - loss: 0.0399 - binary_crossentropy: 0.0173 - val_loss: 0.0407 - val_binary_crossentropy: 0.0184\n",
            "Epoch 7/47\n",
            "129/129 [==============================] - 1s 9ms/step - loss: 0.0376 - binary_crossentropy: 0.0157 - val_loss: 0.0391 - val_binary_crossentropy: 0.0175\n",
            "Epoch 8/47\n",
            "129/129 [==============================] - 1s 9ms/step - loss: 0.0468 - binary_crossentropy: 0.0209 - val_loss: 0.0429 - val_binary_crossentropy: 0.0190\n",
            "Epoch 9/47\n",
            "129/129 [==============================] - 1s 9ms/step - loss: 0.0431 - binary_crossentropy: 0.0191 - val_loss: 0.0418 - val_binary_crossentropy: 0.0193\n",
            "Epoch 10/47\n",
            "129/129 [==============================] - 1s 9ms/step - loss: 0.0415 - binary_crossentropy: 0.0188 - val_loss: 0.0404 - val_binary_crossentropy: 0.0184\n",
            "Epoch 11/47\n",
            "129/129 [==============================] - 1s 9ms/step - loss: 0.0376 - binary_crossentropy: 0.0166 - val_loss: 0.0368 - val_binary_crossentropy: 0.0167\n",
            "Epoch 12/47\n",
            "129/129 [==============================] - 1s 10ms/step - loss: 0.0356 - binary_crossentropy: 0.0160 - val_loss: 0.0357 - val_binary_crossentropy: 0.0166\n",
            "Epoch 13/47\n",
            "129/129 [==============================] - 1s 9ms/step - loss: 0.0378 - binary_crossentropy: 0.0175 - val_loss: 0.0373 - val_binary_crossentropy: 0.0174\n",
            "Epoch 14/47\n",
            "129/129 [==============================] - 1s 9ms/step - loss: 0.0385 - binary_crossentropy: 0.0180 - val_loss: 0.0383 - val_binary_crossentropy: 0.0179\n",
            "Epoch 15/47\n",
            "129/129 [==============================] - 1s 10ms/step - loss: 0.0385 - binary_crossentropy: 0.0180 - val_loss: 0.0379 - val_binary_crossentropy: 0.0179\n",
            "Epoch 16/47\n",
            "129/129 [==============================] - 1s 10ms/step - loss: 0.0354 - binary_crossentropy: 0.0163 - val_loss: 0.0350 - val_binary_crossentropy: 0.0164\n",
            "Epoch 17/47\n",
            "129/129 [==============================] - 1s 9ms/step - loss: 0.0339 - binary_crossentropy: 0.0157 - val_loss: 0.0343 - val_binary_crossentropy: 0.0163\n",
            "Epoch 18/47\n",
            "129/129 [==============================] - 1s 10ms/step - loss: 0.0355 - binary_crossentropy: 0.0168 - val_loss: 0.0359 - val_binary_crossentropy: 0.0171\n",
            "Epoch 19/47\n",
            "129/129 [==============================] - 1s 9ms/step - loss: 0.0369 - binary_crossentropy: 0.0174 - val_loss: 0.0369 - val_binary_crossentropy: 0.0176\n",
            "Epoch 20/47\n",
            "129/129 [==============================] - 1s 9ms/step - loss: 0.0371 - binary_crossentropy: 0.0176 - val_loss: 0.0368 - val_binary_crossentropy: 0.0176\n",
            "Epoch 21/47\n",
            "129/129 [==============================] - 1s 9ms/step - loss: 0.0345 - binary_crossentropy: 0.0160 - val_loss: 0.0343 - val_binary_crossentropy: 0.0163\n",
            "Epoch 22/47\n",
            "129/129 [==============================] - 1s 9ms/step - loss: 0.0333 - binary_crossentropy: 0.0155 - val_loss: 0.0337 - val_binary_crossentropy: 0.0162\n",
            "Epoch 23/47\n",
            "129/129 [==============================] - 1s 9ms/step - loss: 0.0346 - binary_crossentropy: 0.0164 - val_loss: 0.0352 - val_binary_crossentropy: 0.0170\n",
            "Epoch 24/47\n",
            "129/129 [==============================] - 1s 9ms/step - loss: 0.0357 - binary_crossentropy: 0.0170 - val_loss: 0.0356 - val_binary_crossentropy: 0.0170\n",
            "Epoch 25/47\n",
            "129/129 [==============================] - 1s 10ms/step - loss: 0.0363 - binary_crossentropy: 0.0173 - val_loss: 0.0363 - val_binary_crossentropy: 0.0174\n",
            "Epoch 26/47\n",
            "129/129 [==============================] - 1s 9ms/step - loss: 0.0341 - binary_crossentropy: 0.0159 - val_loss: 0.0341 - val_binary_crossentropy: 0.0163\n",
            "Epoch 27/47\n",
            "129/129 [==============================] - 1s 10ms/step - loss: 0.0330 - binary_crossentropy: 0.0154 - val_loss: 0.0336 - val_binary_crossentropy: 0.0161\n",
            "Epoch 28/47\n",
            "129/129 [==============================] - 1s 9ms/step - loss: 0.0340 - binary_crossentropy: 0.0161 - val_loss: 0.0346 - val_binary_crossentropy: 0.0167\n",
            "Epoch 29/47\n",
            "129/129 [==============================] - 1s 9ms/step - loss: 0.0351 - binary_crossentropy: 0.0167 - val_loss: 0.0354 - val_binary_crossentropy: 0.0171\n",
            "Epoch 30/47\n",
            "129/129 [==============================] - 1s 9ms/step - loss: 0.0357 - binary_crossentropy: 0.0170 - val_loss: 0.0359 - val_binary_crossentropy: 0.0174\n",
            "Epoch 31/47\n",
            "129/129 [==============================] - 1s 10ms/step - loss: 0.0335 - binary_crossentropy: 0.0156 - val_loss: 0.0337 - val_binary_crossentropy: 0.0162\n",
            "Epoch 32/47\n",
            "129/129 [==============================] - 1s 9ms/step - loss: 0.0326 - binary_crossentropy: 0.0152 - val_loss: 0.0334 - val_binary_crossentropy: 0.0161\n",
            "Epoch 33/47\n",
            " 42/129 [========>.....................] - ETA: 0s - loss: 0.0336 - binary_crossentropy: 0.0160"
          ],
          "name": "stdout"
        }
      ]
    },
    {
      "cell_type": "code",
      "metadata": {
        "id": "Z_hzRVHMUgK6"
      },
      "source": [
        "# KerasFM\n",
        "def get_list_contains_ohe(keywords, cols_list):\n",
        "    ouput = []\n",
        "    for keyword in keywords:\n",
        "        ouput.append( [1 if keyword in i else 0 for i in cols_list] )\n",
        "    return ouput\n",
        "\n",
        "def kerasfm(n_input, n_output, n_components):\n",
        "    # User embedding\n",
        "    input_u = Input(shape = (n_input,) )\n",
        "    layer_u = layer_dense_set(hidden_list = [1024, 1024, n_components]) (input_u)\n",
        "    layer_u = BatchNormalization() (layer_u)\n",
        "    \n",
        "    #Item embedding\n",
        "      # Addition information for item_info\n",
        "    list_chem_gr = ['_inhibitor', '_agonist', '_agent', '_antagonist', '_blocker', '_activator']\n",
        "    chemical_category = tf.transpose( tf.constant( get_list_contains_ohe( list_chem_gr, cols_target  ) ))\n",
        "      # Full item fts: addition + onehot\n",
        "    item_ft = tf.concat(\n",
        "        [chemical_category ,\n",
        "         tf.eye(i_fts_num, dtype = tf.int32) # Create tensor 0-1 coresponse with chemical labels\n",
        "        ], axis = 1\n",
        "    )\n",
        "    layer_i = WeightNormalization(Dense(n_components, activation = activation, \n",
        "                                        kernel_initializer = initializer, kernel_regularizer = kn_reg, \n",
        "                                        bias_initializer = bias_init_carefully)) (item_ft)\n",
        "    layer_i = BatchNormalization() (layer_i)\n",
        "    \n",
        "    # Dot product user - item\n",
        "    def dot_2layer(x):\n",
        "        return K.dot( x[0], K.transpose(x[1]))\n",
        "    dot_ui = Lambda( dot_2layer, name = 'lambda_dot' ) ([layer_u,layer_i])\n",
        "    dot_ui= layer_dense_set(hidden_list = [512] ) (dot_ui)\n",
        "    \n",
        "    out_put = WeightNormalization(Dense(n_output, activation = 'sigmoid' ))(dot_ui)\n",
        "    \n",
        "    # Compile model\n",
        "    model =  Model(inputs=[input_u, ], outputs= [out_put])\n",
        "    opt = tf.keras.optimizers.Adam(learning_rate=0.001)\n",
        "    bce = tf.keras.losses.BinaryCrossentropy()\n",
        "    model.compile(loss= bce , optimizer=opt , metrics= [bce])\n",
        "    \n",
        "    return model\n",
        "\n",
        "model_keras_fm = kerasfm(n_input = X_train.shape[1], n_output = y_train.shape[1], n_components = 300)\n",
        "# NOTE: CÓ REGULARIZATION NÊN KHÔNG KHỚP LOSS - BCE\n",
        "\n",
        "# Fitting\n",
        "history = model1.fit(\n",
        "        X_train, y_train, validation_split = 0.25, \n",
        "        callbacks=[lr_schedule], epochs= 47, verbose =1,\n",
        "        batch_size= 128)\n",
        "\n",
        "# Graph___________________________________\n",
        "his_dict = history.history\n",
        "his_selected = {x: his_dict[x] for x in ['binary_crossentropy', 'val_binary_crossentropy']}\n",
        "plt.plot(pd.DataFrame(his_selected))\n",
        "plt.show()\n",
        "lr = []\n",
        "for i in range(47) :\n",
        "    lr.append( fn_lr(i+1) )\n",
        "plt.plot(np.array(lr))\n",
        "plt.show()"
      ],
      "execution_count": null,
      "outputs": []
    },
    {
      "cell_type": "code",
      "metadata": {
        "id": "psNhZk6ESPlz",
        "colab": {
          "base_uri": "https://localhost:8080/"
        },
        "outputId": "e65a3db4-204e-462d-f5c7-4454e252f641"
      },
      "source": [
        "# BAGGING\n",
        "model_2list = kfolds_bagging_training(7, model1, [], X_train, y_train, bagging_alpha = 0.75, bagging_samples = 5,  callbacks = [early_stopping, lr_schedule]\n",
        "                                      , epochs = 47, batch_size = 128)\n",
        "prediction = voting_predict( sum(model_2list, []), X_pred, 206)"
      ],
      "execution_count": null,
      "outputs": [
        {
          "output_type": "execute_result",
          "data": {
            "text/plain": [
              "0.2"
            ]
          },
          "metadata": {
            "tags": []
          },
          "execution_count": 101
        }
      ]
    },
    {
      "cell_type": "code",
      "metadata": {
        "id": "tzupJESFfSE2",
        "colab": {
          "base_uri": "https://localhost:8080/"
        },
        "outputId": "926af5e3-d50a-417c-8c57-6edb45f32128"
      },
      "source": [
        "prediction = voting_predict( sum(model_2list, []), X_pred, 206)\n",
        "# prediction = model1.predict(X_pred)\n",
        "\n",
        "df_preds_non_ctl =  pd.DataFrame(prediction, columns= cols_target, index = to_pred.index)\n",
        "\n",
        "# concat with all to pred values\n",
        "df_preds = pd.concat([ full_pred[cols_id], df_preds_non_ctl], axis = 1).fillna(0)\n",
        "# to csv\n",
        "df_preds.to_csv(\"submission.csv\", index = None)"
      ],
      "execution_count": null,
      "outputs": [
        {
          "output_type": "execute_result",
          "data": {
            "text/plain": [
              "[0.011,\n",
              " 0.021,\n",
              " 0.03,\n",
              " 0.03,\n",
              " 0.001,\n",
              " 0.010803921568627452,\n",
              " 0.020607843137254903,\n",
              " 0.03,\n",
              " 0.03,\n",
              " 0.001,\n",
              " 0.010615384615384617,\n",
              " 0.020230769230769233,\n",
              " 0.02984615384615385,\n",
              " 0.03,\n",
              " 0.001,\n",
              " 0.010433962264150942,\n",
              " 0.019867924528301887,\n",
              " 0.02930188679245283,\n",
              " 0.03,\n",
              " 0.001]"
            ]
          },
          "metadata": {
            "tags": []
          },
          "execution_count": 110
        }
      ]
    }
  ]
}