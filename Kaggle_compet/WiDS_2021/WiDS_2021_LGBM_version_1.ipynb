{
  "nbformat": 4,
  "nbformat_minor": 0,
  "metadata": {
    "kernelspec": {
      "display_name": "Python 3",
      "language": "python",
      "name": "python3"
    },
    "language_info": {
      "codemirror_mode": {
        "name": "ipython",
        "version": 3
      },
      "file_extension": ".py",
      "mimetype": "text/x-python",
      "name": "python",
      "nbconvert_exporter": "python",
      "pygments_lexer": "ipython3",
      "version": "3.7.4"
    },
    "colab": {
      "name": "WiDS 2021-LGBM_version_1.ipynb",
      "provenance": [],
      "collapsed_sections": [],
      "machine_shape": "hm",
      "include_colab_link": true
    }
  },
  "cells": [
    {
      "cell_type": "markdown",
      "metadata": {
        "id": "view-in-github",
        "colab_type": "text"
      },
      "source": [
        "<a href=\"https://colab.research.google.com/github/quanvu0996/compet/blob/master/Kaggle_compet/WiDS_2021/WiDS_2021_LGBM_version_1.ipynb\" target=\"_parent\"><img src=\"https://colab.research.google.com/assets/colab-badge.svg\" alt=\"Open In Colab\"/></a>"
      ]
    },
    {
      "cell_type": "code",
      "metadata": {
        "_cell_guid": "b1076dfc-b9ad-4769-8c92-a6c4dae69d19",
        "_uuid": "8f2839f25d086af736a60e9eeb907d3b93b6e0e5",
        "id": "SUL2rJ-oYb-w"
      },
      "source": [
        "import numpy as np \n",
        "import pandas as pd # data processing, CSV file I/O (e.g. pd.read_csv)\n",
        "#from catboost import Pool, cv, CatBoostClassifier, CatBoostRegressor\n",
        "\n",
        "from sklearn.metrics import mean_squared_error, classification_report\n",
        "from sklearn.preprocessing import LabelEncoder\n",
        "\n",
        "from sklearn.model_selection import train_test_split\n",
        "import lightgbm as lgb\n",
        "\n",
        "# import xgboost\n",
        "# import lightgbm as lgb\n",
        "# from lightgbm import LGBMClassifier\n",
        "\n",
        "import os\n",
        "# for dirname, _, filenames in os.walk('input'):\n",
        "#     for filename in filenames:\n",
        "#         print(os.path.join(dirname, filename))\n",
        "        \n",
        "import gc\n",
        "import matplotlib.pyplot as plt\n",
        "# import seaborn as sns\n",
        "\n",
        "from sklearn import metrics\n",
        "pd.set_option('max_rows', 500)\n",
        "import re\n",
        "\n",
        "import os\n",
        "# for dirname, _, filenames in os.walk('/Competition/input'):\n",
        "#     for filename in filenames:\n",
        "#         print(os.path.join(dirname, filename))\n",
        "\n",
        "# pd.set_option('display.max_columns', 1000)\n",
        "# np.random.seed(566)\n",
        "# pd.set_option('display.max_rows', 500)\n",
        "# pd.set_option('display.width', 1000)\n",
        "# pd.set_option('display.float_format', '{:20,.2f}'.format)\n",
        "# # pd.set_option('display.max_colwidth', -1)"
      ],
      "execution_count": null,
      "outputs": []
    },
    {
      "cell_type": "code",
      "metadata": {
        "id": "m11WvGRkghqI"
      },
      "source": [
        "import seaborn as sns\r\n",
        "import matplotlib.pyplot as plt"
      ],
      "execution_count": null,
      "outputs": []
    },
    {
      "cell_type": "code",
      "metadata": {
        "colab": {
          "base_uri": "https://localhost:8080/"
        },
        "id": "lCileryCYqVt",
        "outputId": "1d3982ac-8ca9-461f-b22d-d83497f00efe"
      },
      "source": [
        "\r\n",
        "from google.colab import drive\r\n",
        "drive.mount('/content/drive')"
      ],
      "execution_count": null,
      "outputs": [
        {
          "output_type": "stream",
          "text": [
            "Mounted at /content/drive\n"
          ],
          "name": "stdout"
        }
      ]
    },
    {
      "cell_type": "markdown",
      "metadata": {
        "id": "U8BL36RYYb-5"
      },
      "source": [
        "## Load train/test data\n",
        "* If doing feature engineering, we could combine the 2 dataframes together then split them after. But we'll go for a naive approach in this kernel"
      ]
    },
    {
      "cell_type": "code",
      "metadata": {
        "id": "yU8x94doYb-6"
      },
      "source": [
        "TARGET_COL = \"diabetes_mellitus\""
      ],
      "execution_count": null,
      "outputs": []
    },
    {
      "cell_type": "code",
      "metadata": {
        "colab": {
          "base_uri": "https://localhost:8080/",
          "height": 1000
        },
        "id": "meHgZ_fDYb-7",
        "outputId": "1c3eaca2-6900-48df-d4b3-8b4c9f20f755"
      },
      "source": [
        "folder_path = '/content/drive/My Drive/Colab Notebooks/WiDS2021/'\n",
        "input_path = folder_path #'../input/dictfeats/'\n",
        "\n",
        "df = pd.read_csv(folder_path +'TrainingWiDS2021.csv')\n",
        "\n",
        "df.shape\n",
        "\n",
        "test = pd.read_csv(folder_path +'UnlabeledWiDS2021.csv')\n",
        "\n",
        "test.shape\n",
        "print(df.shape)\n",
        "display(df.nunique())\n"
      ],
      "execution_count": null,
      "outputs": [
        {
          "output_type": "stream",
          "text": [
            "(130157, 181)\n"
          ],
          "name": "stdout"
        },
        {
          "output_type": "display_data",
          "data": {
            "text/plain": [
              "Unnamed: 0                     130157\n",
              "encounter_id                   130157\n",
              "hospital_id                       204\n",
              "age                                75\n",
              "bmi                             41453\n",
              "elective_surgery                    2\n",
              "ethnicity                           6\n",
              "gender                              2\n",
              "height                            443\n",
              "hospital_admit_source              15\n",
              "icu_admit_source                    5\n",
              "icu_id                            328\n",
              "icu_stay_type                       3\n",
              "icu_type                            8\n",
              "pre_icu_los_days                10912\n",
              "readmission_status                  1\n",
              "weight                           3636\n",
              "albumin_apache                     36\n",
              "apache_2_diagnosis                 44\n",
              "apache_3j_diagnosis               400\n",
              "apache_post_operative               2\n",
              "arf_apache                          2\n",
              "bilirubin_apache                  585\n",
              "bun_apache                        476\n",
              "creatinine_apache                1198\n",
              "fio2_apache                        87\n",
              "gcs_eyes_apache                     4\n",
              "gcs_motor_apache                    6\n",
              "gcs_unable_apache                   2\n",
              "gcs_verbal_apache                   5\n",
              "glucose_apache                    566\n",
              "heart_rate_apache                 149\n",
              "hematocrit_apache                 353\n",
              "intubated_apache                    2\n",
              "map_apache                        172\n",
              "paco2_apache                      731\n",
              "paco2_for_ph_apache               731\n",
              "pao2_apache                      2043\n",
              "ph_apache                         576\n",
              "resprate_apache                    77\n",
              "sodium_apache                     119\n",
              "temp_apache                       207\n",
              "urineoutput_apache              32958\n",
              "ventilated_apache                   2\n",
              "wbc_apache                       3124\n",
              "d1_diasbp_invasive_max            145\n",
              "d1_diasbp_invasive_min             85\n",
              "d1_diasbp_max                     120\n",
              "d1_diasbp_min                      78\n",
              "d1_diasbp_noninvasive_max         120\n",
              "d1_diasbp_noninvasive_min          78\n",
              "d1_heartrate_max                  120\n",
              "d1_heartrate_min                  156\n",
              "d1_mbp_invasive_max               285\n",
              "d1_mbp_invasive_min               118\n",
              "d1_mbp_max                        158\n",
              "d1_mbp_min                        128\n",
              "d1_mbp_noninvasive_max            155\n",
              "d1_mbp_noninvasive_min            128\n",
              "d1_resprate_max                    79\n",
              "d1_resprate_min                    55\n",
              "d1_spo2_max                        47\n",
              "d1_spo2_min                       101\n",
              "d1_sysbp_invasive_max             225\n",
              "d1_sysbp_invasive_min             163\n",
              "d1_sysbp_max                      143\n",
              "d1_sysbp_min                      120\n",
              "d1_sysbp_noninvasive_max          143\n",
              "d1_sysbp_noninvasive_min          120\n",
              "d1_temp_max                       261\n",
              "d1_temp_min                       309\n",
              "h1_diasbp_invasive_max            103\n",
              "h1_diasbp_invasive_min             86\n",
              "h1_diasbp_max                     107\n",
              "h1_diasbp_min                      92\n",
              "h1_diasbp_noninvasive_max         108\n",
              "h1_diasbp_noninvasive_min          93\n",
              "h1_heartrate_max                  119\n",
              "h1_heartrate_min                  109\n",
              "h1_mbp_invasive_max               255\n",
              "h1_mbp_invasive_min               133\n",
              "h1_mbp_max                        155\n",
              "h1_mbp_min                        137\n",
              "h1_mbp_noninvasive_max            153\n",
              "h1_mbp_noninvasive_min            137\n",
              "h1_resprate_max                    50\n",
              "h1_resprate_min                    94\n",
              "h1_spo2_max                        79\n",
              "h1_spo2_min                       101\n",
              "h1_sysbp_invasive_max             182\n",
              "h1_sysbp_invasive_min             168\n",
              "h1_sysbp_max                      149\n",
              "h1_sysbp_min                      142\n",
              "h1_sysbp_noninvasive_max          149\n",
              "h1_sysbp_noninvasive_min          143\n",
              "h1_temp_max                       383\n",
              "h1_temp_min                       392\n",
              "d1_albumin_max                     40\n",
              "d1_albumin_min                     38\n",
              "d1_bilirubin_max                  593\n",
              "d1_bilirubin_min                  559\n",
              "d1_bun_max                        494\n",
              "d1_bun_min                        471\n",
              "d1_calcium_max                     47\n",
              "d1_calcium_min                     49\n",
              "d1_creatinine_max                1247\n",
              "d1_creatinine_min                1147\n",
              "d1_glucose_max                    538\n",
              "d1_glucose_min                    256\n",
              "d1_hco3_max                       242\n",
              "d1_hco3_min                       273\n",
              "d1_hemaglobin_max                 105\n",
              "d1_hemaglobin_min                 115\n",
              "d1_hematocrit_max                 312\n",
              "d1_hematocrit_min                 340\n",
              "d1_inr_max                        517\n",
              "d1_inr_min                        415\n",
              "d1_lactate_max                    783\n",
              "d1_lactate_min                    546\n",
              "d1_platelets_max                  559\n",
              "d1_platelets_min                  541\n",
              "d1_potassium_max                  104\n",
              "d1_potassium_min                  118\n",
              "d1_sodium_max                      71\n",
              "d1_sodium_min                     138\n",
              "d1_wbc_max                       3141\n",
              "d1_wbc_min                       2810\n",
              "h1_albumin_max                     38\n",
              "h1_albumin_min                     37\n",
              "h1_bilirubin_max                  314\n",
              "h1_bilirubin_min                  314\n",
              "h1_bun_max                        259\n",
              "h1_bun_min                        259\n",
              "h1_calcium_max                     59\n",
              "h1_calcium_min                     62\n",
              "h1_creatinine_max                 879\n",
              "h1_creatinine_min                 876\n",
              "h1_glucose_max                    612\n",
              "h1_glucose_min                    604\n",
              "h1_hco3_max                       224\n",
              "h1_hco3_min                       211\n",
              "h1_hemaglobin_max                 124\n",
              "h1_hemaglobin_min                 124\n",
              "h1_hematocrit_max                 358\n",
              "h1_hematocrit_min                 361\n",
              "h1_inr_max                        517\n",
              "h1_inr_min                        415\n",
              "h1_lactate_max                    599\n",
              "h1_lactate_min                    591\n",
              "h1_platelets_max                  555\n",
              "h1_platelets_min                  555\n",
              "h1_potassium_max                  115\n",
              "h1_potassium_min                  113\n",
              "h1_sodium_max                      99\n",
              "h1_sodium_min                     113\n",
              "h1_wbc_max                       2132\n",
              "h1_wbc_min                       2128\n",
              "d1_arterial_pco2_max              861\n",
              "d1_arterial_pco2_min              696\n",
              "d1_arterial_ph_max                542\n",
              "d1_arterial_ph_min                635\n",
              "d1_arterial_po2_max              2546\n",
              "d1_arterial_po2_min              1883\n",
              "d1_pao2fio2ratio_max             5602\n",
              "d1_pao2fio2ratio_min             5320\n",
              "h1_arterial_pco2_max              826\n",
              "h1_arterial_pco2_min              811\n",
              "h1_arterial_ph_max                580\n",
              "h1_arterial_ph_min                601\n",
              "h1_arterial_po2_max              1844\n",
              "h1_arterial_po2_min              1843\n",
              "h1_pao2fio2ratio_max             3425\n",
              "h1_pao2fio2ratio_min             3404\n",
              "aids                                2\n",
              "cirrhosis                           2\n",
              "hepatic_failure                     2\n",
              "immunosuppression                   2\n",
              "leukemia                            2\n",
              "lymphoma                            2\n",
              "solid_tumor_with_metastasis         2\n",
              "diabetes_mellitus                   2\n",
              "dtype: int64"
            ]
          },
          "metadata": {
            "tags": []
          }
        }
      ]
    },
    {
      "cell_type": "code",
      "metadata": {
        "id": "vdDRKL_Aylg-"
      },
      "source": [
        "#Merge train vs test\r\n",
        "df_full=pd.concat([df,test])\r\n"
      ],
      "execution_count": null,
      "outputs": []
    },
    {
      "cell_type": "markdown",
      "metadata": {
        "id": "wE6Z5fZoZ_G6"
      },
      "source": [
        "## **EDA**\r\n",
        "\r\n",
        "---\r\n",
        "\r\n",
        "\r\n",
        "**Check total number items in each class.**"
      ]
    },
    {
      "cell_type": "code",
      "metadata": {
        "colab": {
          "base_uri": "https://localhost:8080/"
        },
        "id": "_cKsIODxZ5xD",
        "outputId": "e62054fb-adeb-4009-ffdc-4b5d3cc50a7c"
      },
      "source": [
        "print(df[TARGET_COL].value_counts())\r\n",
        "print (len(df[df[TARGET_COL]==1])/len(df))\r\n"
      ],
      "execution_count": null,
      "outputs": [
        {
          "output_type": "stream",
          "text": [
            "0    102006\n",
            "1     28151\n",
            "Name: diabetes_mellitus, dtype: int64\n",
            "0.21628494817796967\n"
          ],
          "name": "stdout"
        }
      ]
    },
    {
      "cell_type": "markdown",
      "metadata": {
        "id": "GJCw1z41NmLu"
      },
      "source": [
        "Check number of NA in each column"
      ]
    },
    {
      "cell_type": "code",
      "metadata": {
        "id": "OjbB2zQoUEIO"
      },
      "source": [
        "display(((df.isna().sum()/len(df))*100))\r\n"
      ],
      "execution_count": null,
      "outputs": []
    },
    {
      "cell_type": "code",
      "metadata": {
        "id": "yFtadJxVUu6W"
      },
      "source": [
        "# List Cols which have the number of NA values <= 20%\r\n",
        "na_20cols=[c for c in df.columns if (((df[c].isna().sum()/len(df))*100) <= 20)]\r\n",
        "\r\n",
        "# List Cols which have the number of NA values 20% <= 50%\r\n",
        "na_2050cols=[c for c in df.columns if ((((df[c].isna().sum()/len(df))*100) > 20) and (((df[c].isna().sum()/len(df))*100) <= 50))]\r\n",
        "\r\n",
        "# List Cols which have the number of NA values 50% <= 90%\r\n",
        "na_5090cols=[c for c in df.columns if ((((df[c].isna().sum()/len(df))*100) > 50) and (((df[c].isna().sum()/len(df))*100) < 90))]\r\n",
        "\r\n",
        "# List Cols which have the number of NA values 20% <= 50%\r\n",
        "na_90cols=[c for c in df.columns if (((df[c].isna().sum()/len(df))*100) >= 90)]\r\n",
        "\r\n"
      ],
      "execution_count": null,
      "outputs": []
    },
    {
      "cell_type": "code",
      "metadata": {
        "id": "D6SbxhcYW9xI"
      },
      "source": [
        "print(len(na_20cols))\r\n",
        "print(len(na_2050cols))\r\n",
        "print(len(na_5090cols))\r\n",
        "print(len(na_90cols))"
      ],
      "execution_count": null,
      "outputs": []
    },
    {
      "cell_type": "code",
      "metadata": {
        "id": "dZYsugmP2HPo"
      },
      "source": [
        "na_90cols"
      ],
      "execution_count": null,
      "outputs": []
    },
    {
      "cell_type": "code",
      "metadata": {
        "id": "6nHNhy0o3FyX"
      },
      "source": [
        "na_5090cols.append(TARGET_COL)\r\n",
        "na_2050cols.append(TARGET_COL)\r\n",
        "na_20cols.append(TARGET_COL)\r\n",
        "na_5090cols"
      ],
      "execution_count": null,
      "outputs": []
    },
    {
      "cell_type": "code",
      "metadata": {
        "id": "gSMeq1HHgbO_"
      },
      "source": [
        "corr_20cols = df[na_20cols].corr()\r\n",
        "\r\n",
        "corr_2050cols = df[na_2050cols].corr()\r\n",
        "\r\n",
        "corr_5090cols = df[na_5090cols].corr()"
      ],
      "execution_count": null,
      "outputs": []
    },
    {
      "cell_type": "code",
      "metadata": {
        "id": "E0MoQux9KQBe"
      },
      "source": [
        "print(corr_2050cols[TARGET_COL].sort_values(ascending=False))"
      ],
      "execution_count": null,
      "outputs": []
    },
    {
      "cell_type": "code",
      "metadata": {
        "id": "WczvuAyY2cBf"
      },
      "source": [
        "\r\n",
        "print(corr_5090cols[TARGET_COL].sort_values(ascending=False))"
      ],
      "execution_count": null,
      "outputs": []
    },
    {
      "cell_type": "code",
      "metadata": {
        "id": "ttxySkPiW1ud"
      },
      "source": [
        "# corr[TARGET_COL]\r\n",
        "\r\n",
        "print(corr_20cols[TARGET_COL].sort_values(ascending=False))"
      ],
      "execution_count": null,
      "outputs": []
    },
    {
      "cell_type": "code",
      "metadata": {
        "id": "672pKu6k2WrN"
      },
      "source": [
        ""
      ],
      "execution_count": null,
      "outputs": []
    },
    {
      "cell_type": "code",
      "metadata": {
        "colab": {
          "base_uri": "https://localhost:8080/"
        },
        "id": "7oaC6gH0eG6P",
        "outputId": "ad93d956-9382-4c66-a16b-5e4477f341a0"
      },
      "source": [
        "print(na_2050cols)"
      ],
      "execution_count": null,
      "outputs": [
        {
          "output_type": "stream",
          "text": [
            "['hospital_admit_source', 'hematocrit_apache', 'urineoutput_apache', 'wbc_apache', 'h1_temp_max', 'h1_temp_min']\n"
          ],
          "name": "stdout"
        }
      ]
    },
    {
      "cell_type": "code",
      "metadata": {
        "id": "_o28sxf9b5Xc"
      },
      "source": [
        "display(((df[na_20cols].isna().sum()/len(df))*100))"
      ],
      "execution_count": null,
      "outputs": []
    },
    {
      "cell_type": "code",
      "metadata": {
        "id": "wDI_WeJIYb-9"
      },
      "source": [
        "df.describe()"
      ],
      "execution_count": null,
      "outputs": []
    },
    {
      "cell_type": "code",
      "metadata": {
        "id": "zxFePS_s4sum"
      },
      "source": [
        "#fig, ax = plt.subplots(figsize=(20, 10))\r\n",
        "#fig, axes = plt.subplots(3,3)\r\n",
        "sns.displot(data=df,x=\"d1_glucose_max\",hue=TARGET_COL,bins=20,aspect=1)   \r\n",
        "sns.displot(data=df, x=\"d1_glucose_min\",hue=TARGET_COL,bins=20,aspect=1)    \r\n",
        "sns.displot(data=df, x=\"h1_glucose_max\",hue=TARGET_COL,bins=20,aspect=1)    \r\n",
        "sns.displot(data=df, x=\"h1_glucose_min\",hue=TARGET_COL,bins=20,aspect=1) \r\n",
        "sns.displot(data=df, x=\"glucose_apache\",hue=TARGET_COL,bins=20,aspect=1) "
      ],
      "execution_count": null,
      "outputs": []
    },
    {
      "cell_type": "code",
      "metadata": {
        "id": "dlPBPUA0YNFh"
      },
      "source": [
        "print(df[df[\"d1_glucose_max\"].isnull()].groupby(TARGET_COL)[\"encounter_id\"].count())\r\n",
        "print(df[df[\"d1_glucose_min\"].isnull()].groupby(TARGET_COL)[\"encounter_id\"].count())\r\n",
        "print(df[df[\"h1_glucose_max\"].isnull()].groupby(TARGET_COL)[\"encounter_id\"].count())\r\n",
        "print(df[df[\"h1_glucose_min\"].isnull()].groupby(TARGET_COL)[\"encounter_id\"].count())\r\n",
        "print(df[df[\"glucose_apache\"].isnull()].groupby(TARGET_COL)[\"encounter_id\"].count())"
      ],
      "execution_count": null,
      "outputs": []
    },
    {
      "cell_type": "code",
      "metadata": {
        "colab": {
          "base_uri": "https://localhost:8080/",
          "height": 360
        },
        "id": "6_e5zMPScMj3",
        "outputId": "c3f1ab5d-d6ee-45ee-9dce-9cd47a88b3cd"
      },
      "source": [
        "glucose_cols=[\"d1_glucose_max\",\"d1_glucose_min\",\"h1_glucose_max\",\"h1_glucose_min\",\"glucose_apache\",TARGET_COL]\r\n",
        "corr_glucose=df[glucose_cols].corr()\r\n",
        "sns.heatmap(corr_glucose, mask=np.zeros_like(corr_glucose, dtype=np.bool), cmap=sns.diverging_palette(220, 10, as_cmap=True),square=True, cbar=False,annot=True)"
      ],
      "execution_count": null,
      "outputs": [
        {
          "output_type": "execute_result",
          "data": {
            "text/plain": [
              "<matplotlib.axes._subplots.AxesSubplot at 0x7f776a5dd3c8>"
            ]
          },
          "metadata": {
            "tags": []
          },
          "execution_count": 12
        },
        {
          "output_type": "display_data",
          "data": {
            "image/png": "[encoded data removed]",
            "text/plain": [
              "<Figure size 432x288 with 1 Axes>"
            ]
          },
          "metadata": {
            "tags": [],
            "needs_background": "light"
          }
        }
      ]
    },
    {
      "cell_type": "code",
      "metadata": {
        "colab": {
          "base_uri": "https://localhost:8080/",
          "height": 296
        },
        "id": "yywLUanCifdC",
        "outputId": "18cc1b14-7d0a-49ef-e5e9-c7588712d206"
      },
      "source": [
        "df[glucose_cols].describe()"
      ],
      "execution_count": null,
      "outputs": [
        {
          "output_type": "execute_result",
          "data": {
            "text/html": [
              "<div>\n",
              "<style scoped>\n",
              "    .dataframe tbody tr th:only-of-type {\n",
              "        vertical-align: middle;\n",
              "    }\n",
              "\n",
              "    .dataframe tbody tr th {\n",
              "        vertical-align: top;\n",
              "    }\n",
              "\n",
              "    .dataframe thead th {\n",
              "        text-align: right;\n",
              "    }\n",
              "</style>\n",
              "<table border=\"1\" class=\"dataframe\">\n",
              "  <thead>\n",
              "    <tr style=\"text-align: right;\">\n",
              "      <th></th>\n",
              "      <th>d1_glucose_max</th>\n",
              "      <th>d1_glucose_min</th>\n",
              "      <th>h1_glucose_max</th>\n",
              "      <th>h1_glucose_min</th>\n",
              "      <th>glucose_apache</th>\n",
              "      <th>diabetes_mellitus</th>\n",
              "    </tr>\n",
              "  </thead>\n",
              "  <tbody>\n",
              "    <tr>\n",
              "      <th>count</th>\n",
              "      <td>121914.000000</td>\n",
              "      <td>121914.000000</td>\n",
              "      <td>55084.000000</td>\n",
              "      <td>55084.000000</td>\n",
              "      <td>115461.000000</td>\n",
              "      <td>130157.000000</td>\n",
              "    </tr>\n",
              "    <tr>\n",
              "      <th>mean</th>\n",
              "      <td>174.149802</td>\n",
              "      <td>114.440310</td>\n",
              "      <td>167.702625</td>\n",
              "      <td>158.908794</td>\n",
              "      <td>160.141416</td>\n",
              "      <td>0.216285</td>\n",
              "    </tr>\n",
              "    <tr>\n",
              "      <th>std</th>\n",
              "      <td>86.545466</td>\n",
              "      <td>38.217682</td>\n",
              "      <td>94.033461</td>\n",
              "      <td>88.298827</td>\n",
              "      <td>90.701327</td>\n",
              "      <td>0.411712</td>\n",
              "    </tr>\n",
              "    <tr>\n",
              "      <th>min</th>\n",
              "      <td>73.000000</td>\n",
              "      <td>33.000000</td>\n",
              "      <td>59.000000</td>\n",
              "      <td>42.000000</td>\n",
              "      <td>39.000000</td>\n",
              "      <td>0.000000</td>\n",
              "    </tr>\n",
              "    <tr>\n",
              "      <th>25%</th>\n",
              "      <td>117.000000</td>\n",
              "      <td>91.000000</td>\n",
              "      <td>111.000000</td>\n",
              "      <td>106.000000</td>\n",
              "      <td>97.000000</td>\n",
              "      <td>0.000000</td>\n",
              "    </tr>\n",
              "    <tr>\n",
              "      <th>50%</th>\n",
              "      <td>150.000000</td>\n",
              "      <td>108.000000</td>\n",
              "      <td>140.000000</td>\n",
              "      <td>134.000000</td>\n",
              "      <td>133.000000</td>\n",
              "      <td>0.000000</td>\n",
              "    </tr>\n",
              "    <tr>\n",
              "      <th>75%</th>\n",
              "      <td>200.000000</td>\n",
              "      <td>131.000000</td>\n",
              "      <td>189.000000</td>\n",
              "      <td>179.000000</td>\n",
              "      <td>195.000000</td>\n",
              "      <td>0.000000</td>\n",
              "    </tr>\n",
              "    <tr>\n",
              "      <th>max</th>\n",
              "      <td>611.000000</td>\n",
              "      <td>288.000000</td>\n",
              "      <td>695.045000</td>\n",
              "      <td>670.000000</td>\n",
              "      <td>598.700000</td>\n",
              "      <td>1.000000</td>\n",
              "    </tr>\n",
              "  </tbody>\n",
              "</table>\n",
              "</div>"
            ],
            "text/plain": [
              "       d1_glucose_max  d1_glucose_min  ...  glucose_apache  diabetes_mellitus\n",
              "count   121914.000000   121914.000000  ...   115461.000000      130157.000000\n",
              "mean       174.149802      114.440310  ...      160.141416           0.216285\n",
              "std         86.545466       38.217682  ...       90.701327           0.411712\n",
              "min         73.000000       33.000000  ...       39.000000           0.000000\n",
              "25%        117.000000       91.000000  ...       97.000000           0.000000\n",
              "50%        150.000000      108.000000  ...      133.000000           0.000000\n",
              "75%        200.000000      131.000000  ...      195.000000           0.000000\n",
              "max        611.000000      288.000000  ...      598.700000           1.000000\n",
              "\n",
              "[8 rows x 6 columns]"
            ]
          },
          "metadata": {
            "tags": []
          },
          "execution_count": 13
        }
      ]
    },
    {
      "cell_type": "code",
      "metadata": {
        "id": "__3yc-U8XanK"
      },
      "source": [
        "features_models=[\"d1_glucose_max\",\"d1_glucose_min\",\"h1_glucose_max\",\"h1_glucose_min\",\"glucose_apache\"]"
      ],
      "execution_count": null,
      "outputs": []
    },
    {
      "cell_type": "markdown",
      "metadata": {
        "id": "UwgIrRLgXIsj"
      },
      "source": [
        "**Process difference between readings of patients**"
      ]
    },
    {
      "cell_type": "code",
      "metadata": {
        "colab": {
          "base_uri": "https://localhost:8080/",
          "height": 355
        },
        "id": "Dc8KABeqiSjv",
        "outputId": "eb748b3d-1036-475d-cc7e-fdc0b8e12337"
      },
      "source": [
        "lab_col_names =  ['pao2fio2ratio', 'wbc', 'arterial_ph', 'bilirubin',\r\n",
        "  'glucose', 'mbp_noninvasive', 'calcium', 'spo2', 'inr', 'platelets', 'hco3',\r\n",
        "  'creatinine', 'sysbp_invasive', 'mbp_invasive', 'resprate', 'temp', 'sysbp',\r\n",
        "  'sysbp_noninvasive', 'heartrate', 'sodium', 'diasbp_invasive', 'bun', 'arterial_po2',\r\n",
        "  'lactate', 'hematocrit', 'diasbp_noninvasive',\r\n",
        "  'mbp', 'albumin', 'arterial_pco2', 'diasbp', 'hemaglobin', 'potassium']\r\n",
        "first_h = []\r\n",
        "for v in lab_col_names:\r\n",
        "    h1_idx_min='h1_'+v+'_min'\r\n",
        "    h1_idx_max='h1_'+v+'_max'\r\n",
        "    d1_idx_min='d1_'+v+'_min'\r\n",
        "    d1_idx_max='d1_'+v+'_max'\r\n",
        "    df_full.loc[df_full[d1_idx_min]> df[d1_idx_min],d1_idx_max] = df_full.loc[df_full[d1_idx_min]> df[d1_idx_min],d1_idx_min]"
      ],
      "execution_count": null,
      "outputs": [
        {
          "output_type": "error",
          "ename": "ValueError",
          "evalue": "ignored",
          "traceback": [
            "\u001b[0;31m---------------------------------------------------------------------------\u001b[0m",
            "\u001b[0;31mValueError\u001b[0m                                Traceback (most recent call last)",
            "\u001b[0;32m<ipython-input-11-e78c58115c98>\u001b[0m in \u001b[0;36m<module>\u001b[0;34m()\u001b[0m\n\u001b[1;32m     11\u001b[0m     \u001b[0md1_idx_min\u001b[0m\u001b[0;34m=\u001b[0m\u001b[0;34m'd1_'\u001b[0m\u001b[0;34m+\u001b[0m\u001b[0mv\u001b[0m\u001b[0;34m+\u001b[0m\u001b[0;34m'_min'\u001b[0m\u001b[0;34m\u001b[0m\u001b[0;34m\u001b[0m\u001b[0m\n\u001b[1;32m     12\u001b[0m     \u001b[0md1_idx_max\u001b[0m\u001b[0;34m=\u001b[0m\u001b[0;34m'd1_'\u001b[0m\u001b[0;34m+\u001b[0m\u001b[0mv\u001b[0m\u001b[0;34m+\u001b[0m\u001b[0;34m'_max'\u001b[0m\u001b[0;34m\u001b[0m\u001b[0;34m\u001b[0m\u001b[0m\n\u001b[0;32m---> 13\u001b[0;31m     \u001b[0;32mif\u001b[0m \u001b[0;34m(\u001b[0m\u001b[0mdf_full\u001b[0m\u001b[0;34m[\u001b[0m\u001b[0md1_idx_max\u001b[0m\u001b[0;34m]\u001b[0m\u001b[0;34m<\u001b[0m\u001b[0mdf_full\u001b[0m\u001b[0;34m[\u001b[0m\u001b[0md1_idx_min\u001b[0m\u001b[0;34m]\u001b[0m\u001b[0;34m)\u001b[0m\u001b[0;34m:\u001b[0m\u001b[0;34m\u001b[0m\u001b[0;34m\u001b[0m\u001b[0m\n\u001b[0m\u001b[1;32m     14\u001b[0m               \u001b[0mdf_full\u001b[0m\u001b[0;34m[\u001b[0m\u001b[0;34m\"temp\"\u001b[0m\u001b[0;34m]\u001b[0m\u001b[0;34m=\u001b[0m\u001b[0mdf_full\u001b[0m\u001b[0;34m[\u001b[0m\u001b[0md1_idx_min\u001b[0m\u001b[0;34m]\u001b[0m\u001b[0;34m\u001b[0m\u001b[0;34m\u001b[0m\u001b[0m\n\u001b[1;32m     15\u001b[0m               \u001b[0mdf_full\u001b[0m\u001b[0;34m[\u001b[0m\u001b[0md1_idx_min\u001b[0m\u001b[0;34m]\u001b[0m\u001b[0;34m=\u001b[0m\u001b[0mdf_full\u001b[0m\u001b[0;34m[\u001b[0m\u001b[0md1_idx_max\u001b[0m\u001b[0;34m]\u001b[0m\u001b[0;34m\u001b[0m\u001b[0;34m\u001b[0m\u001b[0m\n",
            "\u001b[0;32m/usr/local/lib/python3.6/dist-packages/pandas/core/generic.py\u001b[0m in \u001b[0;36m__nonzero__\u001b[0;34m(self)\u001b[0m\n\u001b[1;32m   1328\u001b[0m     \u001b[0;32mdef\u001b[0m \u001b[0m__nonzero__\u001b[0m\u001b[0;34m(\u001b[0m\u001b[0mself\u001b[0m\u001b[0;34m)\u001b[0m\u001b[0;34m:\u001b[0m\u001b[0;34m\u001b[0m\u001b[0;34m\u001b[0m\u001b[0m\n\u001b[1;32m   1329\u001b[0m         raise ValueError(\n\u001b[0;32m-> 1330\u001b[0;31m             \u001b[0;34mf\"The truth value of a {type(self).__name__} is ambiguous. \"\u001b[0m\u001b[0;34m\u001b[0m\u001b[0;34m\u001b[0m\u001b[0m\n\u001b[0m\u001b[1;32m   1331\u001b[0m             \u001b[0;34m\"Use a.empty, a.bool(), a.item(), a.any() or a.all().\"\u001b[0m\u001b[0;34m\u001b[0m\u001b[0;34m\u001b[0m\u001b[0m\n\u001b[1;32m   1332\u001b[0m         )\n",
            "\u001b[0;31mValueError\u001b[0m: The truth value of a Series is ambiguous. Use a.empty, a.bool(), a.item(), a.any() or a.all()."
          ]
        }
      ]
    },
    {
      "cell_type": "code",
      "metadata": {
        "id": "_a4qgMsMXHqJ"
      },
      "source": [
        "d_cols = [c for c in df_full.columns if(c.startswith(\"d1\"))]\r\n",
        "h_cols = [c for c in df_full.columns if(c.startswith(\"h1\"))]\r\n",
        "\r\n",
        "df_full[\"dailyLabs_row_nan_count\"] = df_full[d_cols].isna().sum(axis=1)\r\n",
        "df_full[\"hourlyLabs_row_nan_count\"] = df_full[h_cols].isna().sum(axis=1)\r\n",
        "\r\n",
        "df_full[\"diff_labTestsRun_daily_hourly\"] = df_full[\"dailyLabs_row_nan_count\"] - df_full[\"hourlyLabs_row_nan_count\"]\r\n",
        "\r\n",
        "features_models.append('dailyLabs_row_nan_count')\r\n",
        "features_models.append('hourlyLabs_row_nan_count')\r\n",
        "features_models.append('diff_labTestsRun_daily_hourly')\r\n",
        "#tiếp tục refer top 1 notebook để tạo thêm feature"
      ],
      "execution_count": null,
      "outputs": []
    },
    {
      "cell_type": "code",
      "metadata": {
        "id": "vSUQjlE2h9ut"
      },
      "source": [
        "lab_col_names =  ['pao2fio2ratio', 'wbc', 'arterial_ph', 'bilirubin',\r\n",
        "  'glucose', 'mbp_noninvasive', 'calcium', 'spo2', 'inr', 'platelets', 'hco3',\r\n",
        "  'creatinine', 'sysbp_invasive', 'mbp_invasive', 'resprate', 'temp', 'sysbp',\r\n",
        "  'sysbp_noninvasive', 'heartrate', 'sodium', 'diasbp_invasive', 'bun', 'arterial_po2',\r\n",
        "  'lactate', 'hematocrit', 'diasbp_noninvasive',\r\n",
        "  'mbp', 'albumin', 'arterial_pco2', 'diasbp', 'hemaglobin', 'potassium']\r\n",
        "first_h = []\r\n",
        "df_1=df[df[TARGET_COL]==1]\r\n",
        "df_0=df[df[TARGET_COL]==0]\r\n",
        "for v in lab_col_names:\r\n",
        "    h1_idx_min='h1_'+v+'_min'\r\n",
        "    h1_idx_max='h1_'+v+'_max'\r\n",
        "    d1_idx_min='d1_'+v+'_min'\r\n",
        "    d1_idx_max='d1_'+v+'_max'\r\n",
        "    mean_h1_min_1=df_1[h1_idx_min].mean()\r\n",
        "    mean_d1_min_1=df_1[d1_idx_min].mean()\r\n",
        "    mean_h1_max_1=df_1[h1_idx_max].mean()\r\n",
        "    mean_d1_max_1=df_1[d1_idx_max].mean()\r\n",
        "    mean_h1_min_0=df_0[h1_idx_min].mean()\r\n",
        "    mean_d1_min_0=df_0[d1_idx_min].mean()\r\n",
        "    mean_h1_max_0=df_0[h1_idx_max].mean()\r\n",
        "    mean_d1_max_0=df_0[d1_idx_max].mean()\r\n",
        "    dis_h1_min_0= 'h1_min_'+idx+'_dis_0'\r\n",
        "    dis_d1_min_0= 'd1_min_'+idx+'_dis_0'\r\n",
        "    dis_h1_min_1= 'h1_min_'+idx+'_dis_1'\r\n",
        "    dis_d1_min_1= 'd1_min_'+idx+'_dis_1'\r\n",
        "    dis_h1_max_0= 'h1_max_'+idx+'_dis_0'\r\n",
        "    dis_d1_max_0= 'd1_max_'+idx+'_dis_0'\r\n",
        "    dis_h1_max_1= 'h1_max_'+idx+'_dis_1'\r\n",
        "    dis_d1_max_1= 'd1_max_'+idx+'_dis_1'\r\n",
        "    df_full[dis_h1_min_0]=df_full[h1_idx_min]-mean_h1_min_0\r\n",
        "    df_full[dis_d1_min_0]=df_full[d1_idx_min]-mean_d1_min_0\r\n",
        "    df_full[dis_h1_min_1]=df_full[h1_idx_min]-mean_h1_min_1\r\n",
        "    df_full[dis_d1_min_1]=df_full[d1_idx_min]-mean_d1_min_1\r\n",
        "    df_full[dis_h1_max_0]=df_full[h1_idx_max]-mean_h1_max_0\r\n",
        "    df_full[dis_d1_max_0]=df_full[d1_idx_max]-mean_d1_max_0\r\n",
        "    df_full[dis_h1_max_1]=df_full[h1_idx_max]-mean_h1_max_1\r\n",
        "    df_full[dis_d1_max_1]=df_full[d1_idx_max]-mean_d1_max_1\r\n",
        "    df_full[v+\"_d1_value_range\"] = df_full[f\"d1_{v}_max\"].subtract(df_full[f\"d1_{v}_min\"])\r\n",
        "    features_models.append(v+\"_d1_value_range\")\r\n",
        "    df_full[v+\"_h1_value_range\"] = df_full[f\"h1_{v}_max\"].subtract(df_full[f\"h1_{v}_min\"])\r\n",
        "#     df_full[v+\"_h1_value_range_normalized\"] = df_full[f\"h1_{v}_max\"].subtract(df_full[f\"h1_{v}_min\"]).div(df_full[f\"h1_{v}_max\"])\r\n",
        "    features_models.append(v+\"_h1_value_range\")\r\n",
        "    # daily change in value range - hour vs day. could do subtract or div here.. \r\n",
        "    df_full[v+\"_tot_change_value_range_normed\"] = abs((df_full[v+\"_d1_value_range\"].div(df_full[v+\"_h1_value_range\"])))#.div(df_full[f\"d1_{v}_max\"]))\r\n",
        "    features_models.append(v+\"_tot_change_value_range_normed\")\r\n",
        "    # Cases where there's no reading in the first hour, but only  later in day ?\r\n",
        "    df_full[v+\"_started_after_firstHour\"] = ((df_full[f\"h1_{v}_max\"].isna()) & (df_full[f\"h1_{v}_min\"].isna())) & (~df_full[f\"d1_{v}_max\"].isna())\r\n",
        "    features_models.append(v+\"_started_after_firstHour\")\r\n",
        "    first_h.append(v+\"_started_after_firstHour\")\r\n",
        "    list_cols=[f\"d1_{v}_max\",f\"d1_{v}_min\",f\"h1_{v}_max\",f\"h1_{v}_min\"]\r\n",
        "    df_full[v+\"_std\"]=df_full[list_cols].std(axis=1)\r\n",
        "\r\n",
        "    ## Did a reading get more extreme after the first hour. \r\n",
        "    ## This misses cases where the readying is in an unhealthy region and \"improves\"!!\r\n",
        "    df_full[v+\"_day_more_extreme\"] = ((df_full[f\"d1_{v}_max\"]>df_full[f\"h1_{v}_max\"]) | (df_full[f\"d1_{v}_min\"]<df_full[f\"h1_{v}_min\"]))\r\n",
        "    df_full[v+\"_day_more_extreme\"].fillna(False)\r\n",
        "\r\n",
        "df_full[\"total_Tests_started_After_firstHour\"] = df_full[first_h].sum(axis=1)\r\n",
        "more_extreme_cols = [c for c in df_full.columns if(c.endswith(\"_day_more_extreme\"))]\r\n",
        "\r\n",
        "df_full[\"total_day_more_extreme\"] = df_full[more_extreme_cols].sum(axis=1)\r\n"
      ],
      "execution_count": null,
      "outputs": []
    },
    {
      "cell_type": "code",
      "metadata": {
        "id": "4MjIO2WmfvL1"
      },
      "source": [
        ""
      ],
      "execution_count": null,
      "outputs": []
    },
    {
      "cell_type": "code",
      "metadata": {
        "id": "8wykQrWY2l7F"
      },
      "source": [
        "df_full['NA_info']=df_full[df_full.columns].isna().sum(axis=1)\r\n",
        "features_models.append('NA_info')"
      ],
      "execution_count": null,
      "outputs": []
    },
    {
      "cell_type": "markdown",
      "metadata": {
        "id": "VyvEc4G5YVJo"
      },
      "source": [
        "**Process \"glucose\" feats**"
      ]
    },
    {
      "cell_type": "code",
      "metadata": {
        "colab": {
          "base_uri": "https://localhost:8080/"
        },
        "id": "jwM7uPrs3TF4",
        "outputId": "3f09f398-5a17-4fa6-d4fc-8b77a59f0a9e"
      },
      "source": [
        "glu_map = {}\r\n",
        "for n in range(0,10):\r\n",
        "    start=n*30\r\n",
        "    end=(n+1)*30\r\n",
        "    count=df.loc[((df[\"d1_glucose_max\"]>start)& (df[\"d1_glucose_max\"]<=end)),\"d1_glucose_max\"].count()\r\n",
        "    count_1=df.loc[((df[\"d1_glucose_max\"]>start) & (df[\"d1_glucose_max\"]<=end) & (df[TARGET_COL]==1)),\"d1_glucose_max\"].count()\r\n",
        "    glu_map[n]=(count_1/count)\r\n",
        "glu_map[10]=(df.loc[((df[\"d1_glucose_max\"]>300)),\"d1_glucose_max\"].count())/(df.loc[((df[\"d1_glucose_max\"]>300) & (df[TARGET_COL]==1)),\"d1_glucose_max\"].count())\r\n",
        "glu_map[0]=0\r\n",
        "glu_map[0]=0"
      ],
      "execution_count": null,
      "outputs": [
        {
          "output_type": "stream",
          "text": [
            "/usr/local/lib/python3.6/dist-packages/ipykernel_launcher.py:7: RuntimeWarning: invalid value encountered in long_scalars\n",
            "  import sys\n",
            "/usr/local/lib/python3.6/dist-packages/ipykernel_launcher.py:7: RuntimeWarning: invalid value encountered in long_scalars\n",
            "  import sys\n"
          ],
          "name": "stderr"
        }
      ]
    },
    {
      "cell_type": "code",
      "metadata": {
        "colab": {
          "base_uri": "https://localhost:8080/"
        },
        "id": "IyJn7t8f3zZB",
        "outputId": "c92dcf13-da96-4b54-8381-c451e867b6a4"
      },
      "source": [
        "glu_map"
      ],
      "execution_count": null,
      "outputs": [
        {
          "output_type": "execute_result",
          "data": {
            "text/plain": [
              "{0: 0,\n",
              " 1: nan,\n",
              " 2: 0.04770375161707632,\n",
              " 3: 0.05922098569157393,\n",
              " 4: 0.11576867816091954,\n",
              " 5: 0.20434401480471412,\n",
              " 6: 0.319634703196347,\n",
              " 7: 0.42674595141700405,\n",
              " 8: 0.5137128806506526,\n",
              " 9: 0.5549933422103861,\n",
              " 10: 1.663129973474801}"
            ]
          },
          "metadata": {
            "tags": []
          },
          "execution_count": 15
        }
      ]
    },
    {
      "cell_type": "code",
      "metadata": {
        "id": "NhZUqnpHwTjj"
      },
      "source": [
        "def glucose_prob(x):\r\n",
        "    n=x//50\r\n",
        "    if n > 10:\r\n",
        "        n=10\r\n",
        "    return glu_map[n]"
      ],
      "execution_count": null,
      "outputs": []
    },
    {
      "cell_type": "code",
      "metadata": {
        "id": "G3AJ8uOxbnBW"
      },
      "source": [
        " #count number of glucose NA\r\n",
        "glucose_d=[\"d1_glucose_max\",\"d1_glucose_min\"]\r\n",
        "glucose_h=[\"h1_glucose_max\",\"h1_glucose_min\"]\r\n",
        "glucose_columns = [\"d1_glucose_max\",\"d1_glucose_min\",\"h1_glucose_max\",\"h1_glucose_min\"]\r\n",
        "df_full[\"glucose_na_h\"] = df_full[glucose_h].isna().sum(axis=1)\r\n",
        "df_full[\"glucose_na_d\"] = df_full[glucose_d].isna().sum(axis=1)\r\n",
        "df_full[\"glucose_na\"] = df_full[\"glucose_na_h\"] + df_full[\"glucose_na_d\"]\r\n",
        "\r\n",
        "features_models =features_models + [\"glucose_na_h\",\"glucose_na_d\",\"glucose_na\"]\r\n",
        "\r\n",
        " #fillNA\r\n",
        "df_full.loc[df_full[\"d1_glucose_max\"].isna() & (df_full[\"glucose_apache\"].notna()),\"d1_glucose_max\"]=df_full.loc[df_full[\"d1_glucose_max\"].isna() & (df_full[\"glucose_apache\"].notna()),\"glucose_apache\"]\r\n",
        "df_full['d1_glucose_max']=df_full['d1_glucose_max'].fillna(0)\r\n",
        "df_full['d1_glucose_min']=df_full['d1_glucose_min'].fillna(0)\r\n",
        "df_full.loc[df_full[\"h1_glucose_min\"].isna() & (df_full[\"d1_glucose_min\"].notna()),\"h1_glucose_min\"]=df_full.loc[df_full[\"h1_glucose_min\"].isna() & (df_full[\"d1_glucose_min\"].notna()),\"d1_glucose_min\"]\r\n",
        "df_full.loc[df_full[\"h1_glucose_max\"].isna() & (df_full[\"d1_glucose_max\"].notna()),\"h1_glucose_min\"]=df_full.loc[df_full[\"h1_glucose_max\"].isna() & (df_full[\"d1_glucose_max\"].notna()),\"d1_glucose_max\"]\r\n",
        "df_full['h1_glucose_min']=df_full['h1_glucose_min'].fillna(0)\r\n",
        "df_full['h1_glucose_max']=df_full['h1_glucose_max'].fillna(0)\r\n",
        "\r\n",
        "# Create new feature\r\n",
        "df_full['glucose_max_min_d']= df_full['d1_glucose_max']-df_full['d1_glucose_min']\r\n",
        "df_full['glucose_max_min_h']= df_full['h1_glucose_max']-df_full['h1_glucose_min']\r\n",
        "df_full['glucose_d_h'] = df_full['d1_glucose_max']-df_full['h1_glucose_max']\r\n",
        "\r\n",
        "df_full['d_max_glucose_risk_200']=0\r\n",
        "df_full.loc[df_full[\"d1_glucose_max\"]>=200,\"d_max_glucose_risk_200\"]=1\r\n",
        "df_full['d_max_glucose_risk_140']=0\r\n",
        "df_full.loc[df_full[\"d1_glucose_max\"]>=140,\"d_max_glucose_risk_140\"]=1\r\n",
        "\r\n",
        "df_full['d_min_glucose_risk_200']=0\r\n",
        "df_full.loc[df_full[\"d1_glucose_min\"]>=200,\"d_min_glucose_risk_200\"]=1\r\n",
        "df_full['d_min_glucose_risk_140']=0\r\n",
        "df_full.loc[df_full[\"d1_glucose_min\"]>=140,\"d_min_glucose_risk_140\"]=1\r\n",
        "\r\n",
        "\r\n",
        "df_full['h_max_glucose_risk_200']=0\r\n",
        "df_full.loc[df_full[\"h1_glucose_max\"]>=200,\"h_max_glucose_risk_200\"]=1\r\n",
        "df_full['h_max_glucose_risk_140']=0\r\n",
        "df_full.loc[df_full[\"h1_glucose_max\"]>=140,\"h_max_glucose_risk_140\"]=1\r\n",
        "\r\n",
        "df_full['h_min_glucose_risk_200']=0\r\n",
        "df_full.loc[df_full[\"h1_glucose_min\"]>=200,\"h_min_glucose_risk_200\"]=1\r\n",
        "df_full['h_min_glucose_risk_140']=0\r\n",
        "df_full.loc[df_full[\"h1_glucose_min\"]>=140,\"h_min_glucose_risk_140\"]=1\r\n",
        "\r\n",
        "df_full['glu_risk_200']= df_full['d_max_glucose_risk_200'] + df_full['d_min_glucose_risk_200'] + df_full['h_max_glucose_risk_200'] + df_full['h_min_glucose_risk_200']\r\n",
        "\r\n",
        "df_full['glu_risk_140']= df_full['d_max_glucose_risk_140'] + df_full['d_min_glucose_risk_140'] + df_full['h_max_glucose_risk_140'] + df_full['h_min_glucose_risk_140']\r\n",
        "\r\n",
        "\r\n",
        "mean_glucose_1=df.loc[df[TARGET_COL]==1,'d1_glucose_max'].mean()\r\n",
        "mean_glucose_0=df.loc[df[TARGET_COL]==0,'d1_glucose_max'].mean()\r\n",
        "\r\n",
        "std_glucose_1=df.loc[df[TARGET_COL]==1,'d1_glucose_max'].std()\r\n",
        "std_glucose_0=df.loc[df[TARGET_COL]==0,'d1_glucose_max'].std()\r\n",
        "df_full['glucose_max_mean_1']=df_full['d1_glucose_max']-mean_glucose_1\r\n",
        "df_full['glucose_max_mean_0']=df_full['d1_glucose_max']-mean_glucose_0\r\n",
        "\r\n",
        "df_full['glucose_max_std_1']=(df_full['d1_glucose_max']-mean_glucose_1)/std_glucose_1\r\n",
        "df_full['glucose_max_std_0']=(df_full['d1_glucose_max']-mean_glucose_1)/std_glucose_0\r\n",
        "\r\n",
        "df_full['glucose_prob']=df_full['d1_glucose_max'].map(glucose_prob)\r\n",
        "\r\n",
        "df_full['glucose_std']= df_full[glucose_columns].std(axis=1)\r\n",
        "\r\n",
        "features_models=features_models+[\"glucose_max_min_d\",\"glucose_max_min_h\",\"glucose_d_h\",\"glucose_risk_200\",\"glucose_risk_140\"\r\n",
        "                                  ,'glucose_max_mean_1','glucose_max_mean_0','glucose_max_std_1','glucose_max_std_0','glucose_prob']\r\n",
        "features_models.append(\"glucose_std\")\r\n"
      ],
      "execution_count": null,
      "outputs": []
    },
    {
      "cell_type": "markdown",
      "metadata": {
        "id": "LFzo8TKp8fNc"
      },
      "source": [
        "**Process AGE,BMI,WEIGHT** "
      ]
    },
    {
      "cell_type": "code",
      "metadata": {
        "colab": {
          "base_uri": "https://localhost:8080/"
        },
        "id": "2w2WReCb8lwn",
        "outputId": "38cba10e-a491-4192-cd00-30b719e5ac20"
      },
      "source": [
        "print(df[df[\"age\"].isnull()].groupby(TARGET_COL)[\"encounter_id\"].count())\r\n",
        "df_full[\"age\"].describe()"
      ],
      "execution_count": null,
      "outputs": [
        {
          "output_type": "stream",
          "text": [
            "diabetes_mellitus\n",
            "0    4328\n",
            "1     660\n",
            "Name: encounter_id, dtype: int64\n"
          ],
          "name": "stdout"
        },
        {
          "output_type": "execute_result",
          "data": {
            "text/plain": [
              "count    135403.000000\n",
              "mean         62.059991\n",
              "std          16.904279\n",
              "min           0.000000\n",
              "25%          52.000000\n",
              "50%          64.000000\n",
              "75%          75.000000\n",
              "max          96.000000\n",
              "Name: age, dtype: float64"
            ]
          },
          "metadata": {
            "tags": []
          },
          "execution_count": 20
        }
      ]
    },
    {
      "cell_type": "code",
      "metadata": {
        "id": "XVSN7HyfB9X3"
      },
      "source": [
        "def weightedclasst(x):\r\n",
        "    \"\"\"based on : https://www.kaggle.com/c/widsdatathon2020/discussion/127987 but made to use ordinals\"\"\"\r\n",
        "    if pd.isna(x):\r\n",
        "        return np.nan\r\n",
        "    if x < 15: return 0 \r\n",
        "    elif x >= 15 and x < 16: return 1\r\n",
        "    elif x >=16 and x < 18.5: return 2 \r\n",
        "    elif x >= 18.5 and x < 25: return 3 \r\n",
        "    elif x >= 25 and x < 30: return 4 \r\n",
        "    elif x >= 30 and x < 35: return 5 \r\n",
        "    elif x >= 35: return 6"
      ],
      "execution_count": null,
      "outputs": []
    },
    {
      "cell_type": "code",
      "metadata": {
        "colab": {
          "base_uri": "https://localhost:8080/"
        },
        "id": "5fDYpYQ_Cma0",
        "outputId": "6464f632-0602-4220-edd6-38db8782021c"
      },
      "source": [
        "df[\"diff_bmi\"] = df['bmi'].copy() # orig BMI values\r\n",
        "df['bmi'] = df['weight']/((df['height']/100)**2)\r\n",
        "df[\"diff_bmi\"] = df[\"diff_bmi\"]-df['bmi']\r\n",
        "df_full['weightclass'] = df_full['bmi'].map(weightedclasst)\r\n",
        "# df_full['bmi'].fillna(df_full['bmi'].mean())\r\n",
        "# df_full['weightclass'].fillna(1)\r\n",
        "print(df_full['weightclass'].value_counts())\r\n",
        "features_models.append(\"weightclass\")\r\n",
        "features_models.append(\"bmi\")\r\n",
        "features_models.append(\"diff_bmi\")"
      ],
      "execution_count": null,
      "outputs": [
        {
          "output_type": "stream",
          "text": [
            "4.0    39972\n",
            "3.0    39529\n",
            "5.0    25109\n",
            "6.0    24579\n",
            "2.0     4303\n",
            "0.0      749\n",
            "1.0      645\n",
            "Name: weightclass, dtype: int64\n"
          ],
          "name": "stdout"
        }
      ]
    },
    {
      "cell_type": "code",
      "metadata": {
        "colab": {
          "base_uri": "https://localhost:8080/"
        },
        "id": "AbpbWcSXCVEU",
        "outputId": "792a68a4-6f5e-4441-fa1c-12864e8cfc7d"
      },
      "source": [
        "df_full['age'].describe()"
      ],
      "execution_count": null,
      "outputs": [
        {
          "output_type": "execute_result",
          "data": {
            "text/plain": [
              "count    135403.000000\n",
              "mean         62.059991\n",
              "std          16.904279\n",
              "min           0.000000\n",
              "25%          52.000000\n",
              "50%          64.000000\n",
              "75%          75.000000\n",
              "max          96.000000\n",
              "Name: age, dtype: float64"
            ]
          },
          "metadata": {
            "tags": []
          },
          "execution_count": 30
        }
      ]
    },
    {
      "cell_type": "code",
      "metadata": {
        "id": "K6A8EXkwGVFO"
      },
      "source": [
        "def ageclasst(x):\r\n",
        "    if pd.isna(x):\r\n",
        "        return np.nan\r\n",
        "    if x < 15: return 0 \r\n",
        "    elif x >= 15 and x < 25: return 1\r\n",
        "    elif x >=25 and x < 35: return 2 \r\n",
        "    elif x >= 35 and x < 35: return 3 \r\n",
        "    elif x >= 35 and x < 45: return 4 \r\n",
        "    elif x >= 45 and x < 55: return 5 \r\n",
        "    elif x >= 55 and x < 65: return 6\r\n",
        "    elif x >= 65 and x < 75: return 7\r\n",
        "    elif x >= 75: return 8"
      ],
      "execution_count": null,
      "outputs": []
    },
    {
      "cell_type": "code",
      "metadata": {
        "colab": {
          "base_uri": "https://localhost:8080/"
        },
        "id": "JJzbKksvHM9o",
        "outputId": "0605ee55-5bf6-47eb-9651-1741e55c0793"
      },
      "source": [
        "df_full['ageclass'] = df_full['age'].map(ageclasst)\r\n",
        "# df_full['age'].fillna(0)\r\n",
        "# df_full['ageclass'].fillna(0)\r\n",
        "print(df_full['ageclass'].value_counts())\r\n",
        "features_models.append(\"ageclass\")\r\n",
        "features_models.append(\"age\")"
      ],
      "execution_count": null,
      "outputs": [
        {
          "output_type": "stream",
          "text": [
            "8.0    35435\n",
            "7.0    31577\n",
            "6.0    28459\n",
            "5.0    18958\n",
            "4.0     9560\n",
            "2.0     7155\n",
            "1.0     4229\n",
            "0.0       30\n",
            "Name: ageclass, dtype: int64\n"
          ],
          "name": "stdout"
        }
      ]
    },
    {
      "cell_type": "markdown",
      "metadata": {
        "id": "-xSOIV4HRkVq"
      },
      "source": [
        "**Process URE - BUN, CREATININE**"
      ]
    },
    {
      "cell_type": "code",
      "metadata": {
        "colab": {
          "base_uri": "https://localhost:8080/"
        },
        "id": "F_0b09lDRjhW",
        "outputId": "72dc466b-2d64-41f3-d7be-05e27ee2f9b4"
      },
      "source": [
        "df_full['d1_bun_max'].describe()"
      ],
      "execution_count": null,
      "outputs": [
        {
          "output_type": "execute_result",
          "data": {
            "text/plain": [
              "count    125549.000000\n",
              "mean         25.535824\n",
              "std          20.484652\n",
              "min           4.000000\n",
              "25%          13.000000\n",
              "50%          19.000000\n",
              "75%          31.000000\n",
              "max         130.000000\n",
              "Name: d1_bun_max, dtype: float64"
            ]
          },
          "metadata": {
            "tags": []
          },
          "execution_count": 34
        }
      ]
    },
    {
      "cell_type": "code",
      "metadata": {
        "id": "z1Of8OXySK1o"
      },
      "source": [
        "sns.displot(data=df,x=\"d1_bun_max\",hue=TARGET_COL,bins=20,aspect=1)   \r\n",
        "sns.displot(data=df,x=\"d1_creatinine_max\",hue=TARGET_COL,bins=20,aspect=1)   "
      ],
      "execution_count": null,
      "outputs": []
    },
    {
      "cell_type": "code",
      "metadata": {
        "id": "cwvOj2hVfTT8"
      },
      "source": [
        "def bunclasst(x):\r\n",
        "    if pd.isna(x):\r\n",
        "        return np.nan\r\n",
        "    x=x*0.357\r\n",
        "    if x < 7: return 0 \r\n",
        "    elif x >= 7 and x < 20: return 1\r\n",
        "    elif x >=20 and x < 25: return 2 \r\n",
        "    elif x >= 25 and x < 35: return 3\r\n",
        "    elif x >= 35: return 4"
      ],
      "execution_count": null,
      "outputs": []
    },
    {
      "cell_type": "code",
      "metadata": {
        "id": "LNKXjh-RR9TQ"
      },
      "source": [
        "bun_d=[\"d1_bun_max\",\"d1_bun_min\"]\r\n",
        "bun_h=[\"h1_bun_max\",\"h1_bun_min\"]\r\n",
        "bun_columns=[\"d1_bun_max\",\"d1_bun_min\",\"h1_bun_max\",\"h1_bun_min\"]\r\n",
        "df_full[\"bun_na_h\"] = df_full[bun_h].isna().sum(axis=1)\r\n",
        "df_full[\"bun_na_d\"] = df_full[bun_h].isna().sum(axis=1)\r\n",
        "df_full[\"bun_na\"] = df_full[\"bun_na_h\"] + df_full[\"bun_na_d\"]\r\n",
        "\r\n",
        "#FillNA\r\n",
        "df_full['d1_bun_max']=df_full['d1_bun_max'].fillna(0)\r\n",
        "df_full['d1_bun_min']=df_full['d1_bun_min'].fillna(0)\r\n",
        "df_full['h1_bun_min']=df_full['h1_bun_min'].fillna(0)\r\n",
        "df_full['h1_bun_max']=df_full['h1_bun_max'].fillna(0)\r\n",
        "\r\n",
        "#Create new features\r\n",
        "df_full['bun_max_min_d']= df_full['d1_bun_max']-df_full['d1_bun_min']\r\n",
        "df_full['bun_max_min_h']= df_full['h1_bun_max']-df_full['h1_bun_min']\r\n",
        "df_full['bun_d_h'] = df_full['d1_bun_max']-df_full['h1_bun_max']\r\n",
        "\r\n",
        "df_full['bun_max_class'] = df_full['d1_bun_max'].map(bunclasst)\r\n",
        "\r\n",
        "df_full['bun_min_class'] = df_full['d1_bun_min'].map(bunclasst)\r\n",
        "\r\n",
        "df_full['bun_std']= df_full[bun_columns].std(axis=1)\r\n",
        "features_models=features_models + [\"bun_na_h\",\"bun_na_d\",\"bun_na\",'d1_bun_max',\r\n",
        "                       'd1_bun_min','h1_bun_max','h1_bun_min','bun_max_min_d',\r\n",
        "                       'bun_max_min_h','bun_d_h','bun_max_class','bun_min_class','bun_std']"
      ],
      "execution_count": null,
      "outputs": []
    },
    {
      "cell_type": "code",
      "metadata": {
        "id": "aUD_k-18FuaL"
      },
      "source": [
        "def creatinineclasst(x):\r\n",
        "    if pd.isna(x):\r\n",
        "        return np.nan\r\n",
        "    if x < 1.5: return 0 \r\n",
        "    elif x >= 1.5 and x < 3.5: return 1\r\n",
        "    elif x >=3.5 and x < 6: return 2 \r\n",
        "    elif x >= 6 and x < 10: return 3\r\n",
        "    elif x >= 10: return 4"
      ],
      "execution_count": null,
      "outputs": []
    },
    {
      "cell_type": "code",
      "metadata": {
        "id": "ZXG3RJNyTMz9"
      },
      "source": [
        "creatinine_d=[\"d1_creatinine_max\",\"d1_creatinine_min\"]\r\n",
        "creatinine_h=[\"h1_creatinine_max\",\"h1_creatinine_min\"]\r\n",
        "creatinie_columns=[\"d1_creatinine_max\",\"d1_creatinine_min\",\"h1_creatinine_max\",\"h1_creatinine_min\"]\r\n",
        "df_full[\"creatinine_na_h\"] = df_full[creatinine_h].isna().sum(axis=1)\r\n",
        "df_full[\"creatinine_na_d\"] = df_full[creatinine_h].isna().sum(axis=1)\r\n",
        "df_full[\"creatinine_na\"] = df_full[\"creatinine_na_h\"] + df_full[\"creatinine_na_d\"]\r\n",
        "\r\n",
        "#FillNA\r\n",
        "df_full['d1_creatinine_max']=df_full['d1_creatinine_max'].fillna(0)\r\n",
        "df_full['d1_creatinine_min']=df_full['d1_creatinine_min'].fillna(0)\r\n",
        "df_full['h1_creatinine_min']=df_full['h1_creatinine_min'].fillna(0)\r\n",
        "df_full['h1_creatinine_max']=df_full['h1_creatinine_max'].fillna(0)\r\n",
        "\r\n",
        "#Create new features\r\n",
        "df_full['creatinine_max_min_d']= df_full['d1_creatinine_max']-df_full['d1_creatinine_min']\r\n",
        "df_full['creatinine_max_min_h']= df_full['h1_creatinine_max']-df_full['h1_creatinine_min']\r\n",
        "df_full['creatinine_d_h'] = df_full['d1_creatinine_max']-df_full['h1_creatinine_max']\r\n",
        "\r\n",
        "df_full['creatinine_max_class'] = df_full['d1_creatinine_max'].map(creatinineclasst)\r\n",
        "\r\n",
        "df_full['creatinine_min_class'] = df_full['d1_creatinine_min'].map(creatinineclasst)\r\n",
        "\r\n",
        "df_full['creatinine_std']= df_full[creatinie_columns].std(axis=1)\r\n",
        "\r\n",
        "features_models=features_models + [\"creatinine_na_h\",\"creatinine_na_d\",\"creatinine_na\",'d1_creatinine_max',\r\n",
        "                       'd1_creatinine_min','h1_creatinine_max','h1_creatinine_min','creatinine_max_min_d',\r\n",
        "                       'creatinine_max_min_h','creatinine_d_h','creatinine_max_class','creatinine_min_class','creatinine_apache']\r\n"
      ],
      "execution_count": null,
      "outputs": []
    },
    {
      "cell_type": "markdown",
      "metadata": {
        "id": "IcQieclPY_xa"
      },
      "source": [
        "**Process Categorical feats**"
      ]
    },
    {
      "cell_type": "code",
      "metadata": {
        "scrolled": true,
        "id": "oEdUIXYJYb-_",
        "colab": {
          "base_uri": "https://localhost:8080/"
        },
        "outputId": "40d30663-ea26-4e9b-a469-2a7b40b01940"
      },
      "source": [
        "categorical_cols=['ethnicity','gender','hospital_admit_source','icu_admit_source','icu_stay_type','icu_type','apache_2_diagnosis']\n",
        "categorical_cols"
      ],
      "execution_count": null,
      "outputs": [
        {
          "output_type": "execute_result",
          "data": {
            "text/plain": [
              "['ethnicity',\n",
              " 'gender',\n",
              " 'hospital_admit_source',\n",
              " 'icu_admit_source',\n",
              " 'icu_stay_type',\n",
              " 'icu_type',\n",
              " 'apache_2_diagnosis']"
            ]
          },
          "metadata": {
            "tags": []
          },
          "execution_count": 30
        }
      ]
    },
    {
      "cell_type": "code",
      "metadata": {
        "colab": {
          "base_uri": "https://localhost:8080/"
        },
        "id": "61QkpKyjWBzr",
        "outputId": "0e4a2247-9b13-4f52-ef93-97cb74c9dc94"
      },
      "source": [
        "print(df.columns.tolist())"
      ],
      "execution_count": null,
      "outputs": [
        {
          "output_type": "stream",
          "text": [
            "['Unnamed: 0', 'encounter_id', 'hospital_id', 'age', 'bmi', 'elective_surgery', 'ethnicity', 'gender', 'height', 'hospital_admit_source', 'icu_admit_source', 'icu_id', 'icu_stay_type', 'icu_type', 'pre_icu_los_days', 'readmission_status', 'weight', 'albumin_apache', 'apache_2_diagnosis', 'apache_3j_diagnosis', 'apache_post_operative', 'arf_apache', 'bilirubin_apache', 'bun_apache', 'creatinine_apache', 'fio2_apache', 'gcs_eyes_apache', 'gcs_motor_apache', 'gcs_unable_apache', 'gcs_verbal_apache', 'glucose_apache', 'heart_rate_apache', 'hematocrit_apache', 'intubated_apache', 'map_apache', 'paco2_apache', 'paco2_for_ph_apache', 'pao2_apache', 'ph_apache', 'resprate_apache', 'sodium_apache', 'temp_apache', 'urineoutput_apache', 'ventilated_apache', 'wbc_apache', 'd1_diasbp_invasive_max', 'd1_diasbp_invasive_min', 'd1_diasbp_max', 'd1_diasbp_min', 'd1_diasbp_noninvasive_max', 'd1_diasbp_noninvasive_min', 'd1_heartrate_max', 'd1_heartrate_min', 'd1_mbp_invasive_max', 'd1_mbp_invasive_min', 'd1_mbp_max', 'd1_mbp_min', 'd1_mbp_noninvasive_max', 'd1_mbp_noninvasive_min', 'd1_resprate_max', 'd1_resprate_min', 'd1_spo2_max', 'd1_spo2_min', 'd1_sysbp_invasive_max', 'd1_sysbp_invasive_min', 'd1_sysbp_max', 'd1_sysbp_min', 'd1_sysbp_noninvasive_max', 'd1_sysbp_noninvasive_min', 'd1_temp_max', 'd1_temp_min', 'h1_diasbp_invasive_max', 'h1_diasbp_invasive_min', 'h1_diasbp_max', 'h1_diasbp_min', 'h1_diasbp_noninvasive_max', 'h1_diasbp_noninvasive_min', 'h1_heartrate_max', 'h1_heartrate_min', 'h1_mbp_invasive_max', 'h1_mbp_invasive_min', 'h1_mbp_max', 'h1_mbp_min', 'h1_mbp_noninvasive_max', 'h1_mbp_noninvasive_min', 'h1_resprate_max', 'h1_resprate_min', 'h1_spo2_max', 'h1_spo2_min', 'h1_sysbp_invasive_max', 'h1_sysbp_invasive_min', 'h1_sysbp_max', 'h1_sysbp_min', 'h1_sysbp_noninvasive_max', 'h1_sysbp_noninvasive_min', 'h1_temp_max', 'h1_temp_min', 'd1_albumin_max', 'd1_albumin_min', 'd1_bilirubin_max', 'd1_bilirubin_min', 'd1_bun_max', 'd1_bun_min', 'd1_calcium_max', 'd1_calcium_min', 'd1_creatinine_max', 'd1_creatinine_min', 'd1_glucose_max', 'd1_glucose_min', 'd1_hco3_max', 'd1_hco3_min', 'd1_hemaglobin_max', 'd1_hemaglobin_min', 'd1_hematocrit_max', 'd1_hematocrit_min', 'd1_inr_max', 'd1_inr_min', 'd1_lactate_max', 'd1_lactate_min', 'd1_platelets_max', 'd1_platelets_min', 'd1_potassium_max', 'd1_potassium_min', 'd1_sodium_max', 'd1_sodium_min', 'd1_wbc_max', 'd1_wbc_min', 'h1_albumin_max', 'h1_albumin_min', 'h1_bilirubin_max', 'h1_bilirubin_min', 'h1_bun_max', 'h1_bun_min', 'h1_calcium_max', 'h1_calcium_min', 'h1_creatinine_max', 'h1_creatinine_min', 'h1_glucose_max', 'h1_glucose_min', 'h1_hco3_max', 'h1_hco3_min', 'h1_hemaglobin_max', 'h1_hemaglobin_min', 'h1_hematocrit_max', 'h1_hematocrit_min', 'h1_inr_max', 'h1_inr_min', 'h1_lactate_max', 'h1_lactate_min', 'h1_platelets_max', 'h1_platelets_min', 'h1_potassium_max', 'h1_potassium_min', 'h1_sodium_max', 'h1_sodium_min', 'h1_wbc_max', 'h1_wbc_min', 'd1_arterial_pco2_max', 'd1_arterial_pco2_min', 'd1_arterial_ph_max', 'd1_arterial_ph_min', 'd1_arterial_po2_max', 'd1_arterial_po2_min', 'd1_pao2fio2ratio_max', 'd1_pao2fio2ratio_min', 'h1_arterial_pco2_max', 'h1_arterial_pco2_min', 'h1_arterial_ph_max', 'h1_arterial_ph_min', 'h1_arterial_po2_max', 'h1_arterial_po2_min', 'h1_pao2fio2ratio_max', 'h1_pao2fio2ratio_min', 'aids', 'cirrhosis', 'hepatic_failure', 'immunosuppression', 'leukemia', 'lymphoma', 'solid_tumor_with_metastasis', 'diabetes_mellitus']\n"
          ],
          "name": "stdout"
        }
      ]
    },
    {
      "cell_type": "code",
      "metadata": {
        "colab": {
          "base_uri": "https://localhost:8080/",
          "height": 339
        },
        "id": "wAIkwPf0X2Xl",
        "outputId": "fd624022-af13-4b60-a76b-1bc5e5c146a9"
      },
      "source": [
        "df.head()"
      ],
      "execution_count": null,
      "outputs": [
        {
          "output_type": "execute_result",
          "data": {
            "text/html": [
              "<div>\n",
              "<style scoped>\n",
              "    .dataframe tbody tr th:only-of-type {\n",
              "        vertical-align: middle;\n",
              "    }\n",
              "\n",
              "    .dataframe tbody tr th {\n",
              "        vertical-align: top;\n",
              "    }\n",
              "\n",
              "    .dataframe thead th {\n",
              "        text-align: right;\n",
              "    }\n",
              "</style>\n",
              "<table border=\"1\" class=\"dataframe\">\n",
              "  <thead>\n",
              "    <tr style=\"text-align: right;\">\n",
              "      <th></th>\n",
              "      <th>Unnamed: 0</th>\n",
              "      <th>encounter_id</th>\n",
              "      <th>hospital_id</th>\n",
              "      <th>age</th>\n",
              "      <th>bmi</th>\n",
              "      <th>elective_surgery</th>\n",
              "      <th>ethnicity</th>\n",
              "      <th>gender</th>\n",
              "      <th>height</th>\n",
              "      <th>hospital_admit_source</th>\n",
              "      <th>icu_admit_source</th>\n",
              "      <th>icu_id</th>\n",
              "      <th>icu_stay_type</th>\n",
              "      <th>icu_type</th>\n",
              "      <th>pre_icu_los_days</th>\n",
              "      <th>readmission_status</th>\n",
              "      <th>weight</th>\n",
              "      <th>albumin_apache</th>\n",
              "      <th>apache_2_diagnosis</th>\n",
              "      <th>apache_3j_diagnosis</th>\n",
              "      <th>apache_post_operative</th>\n",
              "      <th>arf_apache</th>\n",
              "      <th>bilirubin_apache</th>\n",
              "      <th>bun_apache</th>\n",
              "      <th>creatinine_apache</th>\n",
              "      <th>fio2_apache</th>\n",
              "      <th>gcs_eyes_apache</th>\n",
              "      <th>gcs_motor_apache</th>\n",
              "      <th>gcs_unable_apache</th>\n",
              "      <th>gcs_verbal_apache</th>\n",
              "      <th>glucose_apache</th>\n",
              "      <th>heart_rate_apache</th>\n",
              "      <th>hematocrit_apache</th>\n",
              "      <th>intubated_apache</th>\n",
              "      <th>map_apache</th>\n",
              "      <th>paco2_apache</th>\n",
              "      <th>paco2_for_ph_apache</th>\n",
              "      <th>pao2_apache</th>\n",
              "      <th>ph_apache</th>\n",
              "      <th>resprate_apache</th>\n",
              "      <th>...</th>\n",
              "      <th>h1_hemaglobin_max</th>\n",
              "      <th>h1_hemaglobin_min</th>\n",
              "      <th>h1_hematocrit_max</th>\n",
              "      <th>h1_hematocrit_min</th>\n",
              "      <th>h1_inr_max</th>\n",
              "      <th>h1_inr_min</th>\n",
              "      <th>h1_lactate_max</th>\n",
              "      <th>h1_lactate_min</th>\n",
              "      <th>h1_platelets_max</th>\n",
              "      <th>h1_platelets_min</th>\n",
              "      <th>h1_potassium_max</th>\n",
              "      <th>h1_potassium_min</th>\n",
              "      <th>h1_sodium_max</th>\n",
              "      <th>h1_sodium_min</th>\n",
              "      <th>h1_wbc_max</th>\n",
              "      <th>h1_wbc_min</th>\n",
              "      <th>d1_arterial_pco2_max</th>\n",
              "      <th>d1_arterial_pco2_min</th>\n",
              "      <th>d1_arterial_ph_max</th>\n",
              "      <th>d1_arterial_ph_min</th>\n",
              "      <th>d1_arterial_po2_max</th>\n",
              "      <th>d1_arterial_po2_min</th>\n",
              "      <th>d1_pao2fio2ratio_max</th>\n",
              "      <th>d1_pao2fio2ratio_min</th>\n",
              "      <th>h1_arterial_pco2_max</th>\n",
              "      <th>h1_arterial_pco2_min</th>\n",
              "      <th>h1_arterial_ph_max</th>\n",
              "      <th>h1_arterial_ph_min</th>\n",
              "      <th>h1_arterial_po2_max</th>\n",
              "      <th>h1_arterial_po2_min</th>\n",
              "      <th>h1_pao2fio2ratio_max</th>\n",
              "      <th>h1_pao2fio2ratio_min</th>\n",
              "      <th>aids</th>\n",
              "      <th>cirrhosis</th>\n",
              "      <th>hepatic_failure</th>\n",
              "      <th>immunosuppression</th>\n",
              "      <th>leukemia</th>\n",
              "      <th>lymphoma</th>\n",
              "      <th>solid_tumor_with_metastasis</th>\n",
              "      <th>diabetes_mellitus</th>\n",
              "    </tr>\n",
              "  </thead>\n",
              "  <tbody>\n",
              "    <tr>\n",
              "      <th>0</th>\n",
              "      <td>1</td>\n",
              "      <td>214826</td>\n",
              "      <td>118</td>\n",
              "      <td>68.0</td>\n",
              "      <td>22.732803</td>\n",
              "      <td>0</td>\n",
              "      <td>Caucasian</td>\n",
              "      <td>M</td>\n",
              "      <td>180.3</td>\n",
              "      <td>Floor</td>\n",
              "      <td>Floor</td>\n",
              "      <td>92</td>\n",
              "      <td>admit</td>\n",
              "      <td>CTICU</td>\n",
              "      <td>0.541667</td>\n",
              "      <td>0</td>\n",
              "      <td>73.9</td>\n",
              "      <td>2.3</td>\n",
              "      <td>113</td>\n",
              "      <td>502.01</td>\n",
              "      <td>0</td>\n",
              "      <td>0</td>\n",
              "      <td>0.4</td>\n",
              "      <td>31.0</td>\n",
              "      <td>2.51</td>\n",
              "      <td>NaN</td>\n",
              "      <td>3.0</td>\n",
              "      <td>6.0</td>\n",
              "      <td>0.0</td>\n",
              "      <td>4.0</td>\n",
              "      <td>168.0</td>\n",
              "      <td>118.0</td>\n",
              "      <td>27.4</td>\n",
              "      <td>0</td>\n",
              "      <td>40.0</td>\n",
              "      <td>NaN</td>\n",
              "      <td>NaN</td>\n",
              "      <td>NaN</td>\n",
              "      <td>NaN</td>\n",
              "      <td>36.0</td>\n",
              "      <td>...</td>\n",
              "      <td>NaN</td>\n",
              "      <td>NaN</td>\n",
              "      <td>NaN</td>\n",
              "      <td>NaN</td>\n",
              "      <td>NaN</td>\n",
              "      <td>NaN</td>\n",
              "      <td>NaN</td>\n",
              "      <td>NaN</td>\n",
              "      <td>NaN</td>\n",
              "      <td>NaN</td>\n",
              "      <td>NaN</td>\n",
              "      <td>NaN</td>\n",
              "      <td>NaN</td>\n",
              "      <td>NaN</td>\n",
              "      <td>NaN</td>\n",
              "      <td>NaN</td>\n",
              "      <td>NaN</td>\n",
              "      <td>NaN</td>\n",
              "      <td>NaN</td>\n",
              "      <td>NaN</td>\n",
              "      <td>NaN</td>\n",
              "      <td>NaN</td>\n",
              "      <td>NaN</td>\n",
              "      <td>NaN</td>\n",
              "      <td>NaN</td>\n",
              "      <td>NaN</td>\n",
              "      <td>NaN</td>\n",
              "      <td>NaN</td>\n",
              "      <td>NaN</td>\n",
              "      <td>NaN</td>\n",
              "      <td>NaN</td>\n",
              "      <td>NaN</td>\n",
              "      <td>0</td>\n",
              "      <td>0</td>\n",
              "      <td>0</td>\n",
              "      <td>0</td>\n",
              "      <td>0</td>\n",
              "      <td>0</td>\n",
              "      <td>0</td>\n",
              "      <td>1</td>\n",
              "    </tr>\n",
              "    <tr>\n",
              "      <th>1</th>\n",
              "      <td>2</td>\n",
              "      <td>246060</td>\n",
              "      <td>81</td>\n",
              "      <td>77.0</td>\n",
              "      <td>27.421875</td>\n",
              "      <td>0</td>\n",
              "      <td>Caucasian</td>\n",
              "      <td>F</td>\n",
              "      <td>160.0</td>\n",
              "      <td>Floor</td>\n",
              "      <td>Floor</td>\n",
              "      <td>90</td>\n",
              "      <td>admit</td>\n",
              "      <td>Med-Surg ICU</td>\n",
              "      <td>0.927778</td>\n",
              "      <td>0</td>\n",
              "      <td>70.2</td>\n",
              "      <td>NaN</td>\n",
              "      <td>108</td>\n",
              "      <td>203.01</td>\n",
              "      <td>0</td>\n",
              "      <td>0</td>\n",
              "      <td>NaN</td>\n",
              "      <td>9.0</td>\n",
              "      <td>0.56</td>\n",
              "      <td>1.0</td>\n",
              "      <td>1.0</td>\n",
              "      <td>3.0</td>\n",
              "      <td>0.0</td>\n",
              "      <td>1.0</td>\n",
              "      <td>145.0</td>\n",
              "      <td>120.0</td>\n",
              "      <td>36.9</td>\n",
              "      <td>0</td>\n",
              "      <td>46.0</td>\n",
              "      <td>37.0</td>\n",
              "      <td>37.0</td>\n",
              "      <td>51.0</td>\n",
              "      <td>7.45</td>\n",
              "      <td>33.0</td>\n",
              "      <td>...</td>\n",
              "      <td>11.3</td>\n",
              "      <td>11.3</td>\n",
              "      <td>36.9</td>\n",
              "      <td>36.9</td>\n",
              "      <td>1.3</td>\n",
              "      <td>1.3</td>\n",
              "      <td>3.5</td>\n",
              "      <td>3.5</td>\n",
              "      <td>557.0</td>\n",
              "      <td>557.0</td>\n",
              "      <td>4.2</td>\n",
              "      <td>4.2</td>\n",
              "      <td>145.0</td>\n",
              "      <td>145.0</td>\n",
              "      <td>12.7</td>\n",
              "      <td>12.7</td>\n",
              "      <td>37.0</td>\n",
              "      <td>37.0</td>\n",
              "      <td>7.45</td>\n",
              "      <td>7.45</td>\n",
              "      <td>51.0</td>\n",
              "      <td>51.0</td>\n",
              "      <td>54.8</td>\n",
              "      <td>51.000000</td>\n",
              "      <td>37.0</td>\n",
              "      <td>37.0</td>\n",
              "      <td>7.45</td>\n",
              "      <td>7.45</td>\n",
              "      <td>51.0</td>\n",
              "      <td>51.0</td>\n",
              "      <td>51.0</td>\n",
              "      <td>51.0</td>\n",
              "      <td>0</td>\n",
              "      <td>0</td>\n",
              "      <td>0</td>\n",
              "      <td>0</td>\n",
              "      <td>0</td>\n",
              "      <td>0</td>\n",
              "      <td>0</td>\n",
              "      <td>1</td>\n",
              "    </tr>\n",
              "    <tr>\n",
              "      <th>2</th>\n",
              "      <td>3</td>\n",
              "      <td>276985</td>\n",
              "      <td>118</td>\n",
              "      <td>25.0</td>\n",
              "      <td>31.952749</td>\n",
              "      <td>0</td>\n",
              "      <td>Caucasian</td>\n",
              "      <td>F</td>\n",
              "      <td>172.7</td>\n",
              "      <td>Emergency Department</td>\n",
              "      <td>Accident &amp; Emergency</td>\n",
              "      <td>93</td>\n",
              "      <td>admit</td>\n",
              "      <td>Med-Surg ICU</td>\n",
              "      <td>0.000694</td>\n",
              "      <td>0</td>\n",
              "      <td>95.3</td>\n",
              "      <td>NaN</td>\n",
              "      <td>122</td>\n",
              "      <td>703.03</td>\n",
              "      <td>0</td>\n",
              "      <td>0</td>\n",
              "      <td>NaN</td>\n",
              "      <td>NaN</td>\n",
              "      <td>NaN</td>\n",
              "      <td>NaN</td>\n",
              "      <td>3.0</td>\n",
              "      <td>6.0</td>\n",
              "      <td>0.0</td>\n",
              "      <td>5.0</td>\n",
              "      <td>NaN</td>\n",
              "      <td>102.0</td>\n",
              "      <td>NaN</td>\n",
              "      <td>0</td>\n",
              "      <td>68.0</td>\n",
              "      <td>NaN</td>\n",
              "      <td>NaN</td>\n",
              "      <td>NaN</td>\n",
              "      <td>NaN</td>\n",
              "      <td>37.0</td>\n",
              "      <td>...</td>\n",
              "      <td>NaN</td>\n",
              "      <td>NaN</td>\n",
              "      <td>NaN</td>\n",
              "      <td>NaN</td>\n",
              "      <td>NaN</td>\n",
              "      <td>NaN</td>\n",
              "      <td>NaN</td>\n",
              "      <td>NaN</td>\n",
              "      <td>NaN</td>\n",
              "      <td>NaN</td>\n",
              "      <td>NaN</td>\n",
              "      <td>NaN</td>\n",
              "      <td>NaN</td>\n",
              "      <td>NaN</td>\n",
              "      <td>NaN</td>\n",
              "      <td>NaN</td>\n",
              "      <td>NaN</td>\n",
              "      <td>NaN</td>\n",
              "      <td>NaN</td>\n",
              "      <td>NaN</td>\n",
              "      <td>NaN</td>\n",
              "      <td>NaN</td>\n",
              "      <td>NaN</td>\n",
              "      <td>NaN</td>\n",
              "      <td>NaN</td>\n",
              "      <td>NaN</td>\n",
              "      <td>NaN</td>\n",
              "      <td>NaN</td>\n",
              "      <td>NaN</td>\n",
              "      <td>NaN</td>\n",
              "      <td>NaN</td>\n",
              "      <td>NaN</td>\n",
              "      <td>0</td>\n",
              "      <td>0</td>\n",
              "      <td>0</td>\n",
              "      <td>0</td>\n",
              "      <td>0</td>\n",
              "      <td>0</td>\n",
              "      <td>0</td>\n",
              "      <td>0</td>\n",
              "    </tr>\n",
              "    <tr>\n",
              "      <th>3</th>\n",
              "      <td>4</td>\n",
              "      <td>262220</td>\n",
              "      <td>118</td>\n",
              "      <td>81.0</td>\n",
              "      <td>22.635548</td>\n",
              "      <td>1</td>\n",
              "      <td>Caucasian</td>\n",
              "      <td>F</td>\n",
              "      <td>165.1</td>\n",
              "      <td>Operating Room</td>\n",
              "      <td>Operating Room / Recovery</td>\n",
              "      <td>92</td>\n",
              "      <td>admit</td>\n",
              "      <td>CTICU</td>\n",
              "      <td>0.000694</td>\n",
              "      <td>0</td>\n",
              "      <td>61.7</td>\n",
              "      <td>NaN</td>\n",
              "      <td>203</td>\n",
              "      <td>1206.03</td>\n",
              "      <td>1</td>\n",
              "      <td>0</td>\n",
              "      <td>NaN</td>\n",
              "      <td>NaN</td>\n",
              "      <td>NaN</td>\n",
              "      <td>0.6</td>\n",
              "      <td>4.0</td>\n",
              "      <td>6.0</td>\n",
              "      <td>0.0</td>\n",
              "      <td>5.0</td>\n",
              "      <td>185.0</td>\n",
              "      <td>114.0</td>\n",
              "      <td>25.9</td>\n",
              "      <td>1</td>\n",
              "      <td>60.0</td>\n",
              "      <td>30.0</td>\n",
              "      <td>30.0</td>\n",
              "      <td>142.0</td>\n",
              "      <td>7.39</td>\n",
              "      <td>4.0</td>\n",
              "      <td>...</td>\n",
              "      <td>11.6</td>\n",
              "      <td>11.6</td>\n",
              "      <td>34.0</td>\n",
              "      <td>34.0</td>\n",
              "      <td>1.6</td>\n",
              "      <td>1.1</td>\n",
              "      <td>NaN</td>\n",
              "      <td>NaN</td>\n",
              "      <td>43.0</td>\n",
              "      <td>43.0</td>\n",
              "      <td>NaN</td>\n",
              "      <td>NaN</td>\n",
              "      <td>NaN</td>\n",
              "      <td>NaN</td>\n",
              "      <td>8.8</td>\n",
              "      <td>8.8</td>\n",
              "      <td>37.0</td>\n",
              "      <td>27.0</td>\n",
              "      <td>7.44</td>\n",
              "      <td>7.34</td>\n",
              "      <td>337.0</td>\n",
              "      <td>102.0</td>\n",
              "      <td>342.5</td>\n",
              "      <td>236.666667</td>\n",
              "      <td>36.0</td>\n",
              "      <td>33.0</td>\n",
              "      <td>7.37</td>\n",
              "      <td>7.34</td>\n",
              "      <td>337.0</td>\n",
              "      <td>265.0</td>\n",
              "      <td>337.0</td>\n",
              "      <td>337.0</td>\n",
              "      <td>0</td>\n",
              "      <td>0</td>\n",
              "      <td>0</td>\n",
              "      <td>0</td>\n",
              "      <td>0</td>\n",
              "      <td>0</td>\n",
              "      <td>0</td>\n",
              "      <td>0</td>\n",
              "    </tr>\n",
              "    <tr>\n",
              "      <th>4</th>\n",
              "      <td>5</td>\n",
              "      <td>201746</td>\n",
              "      <td>33</td>\n",
              "      <td>19.0</td>\n",
              "      <td>NaN</td>\n",
              "      <td>0</td>\n",
              "      <td>Caucasian</td>\n",
              "      <td>M</td>\n",
              "      <td>188.0</td>\n",
              "      <td>outlier</td>\n",
              "      <td>Accident &amp; Emergency</td>\n",
              "      <td>91</td>\n",
              "      <td>admit</td>\n",
              "      <td>Med-Surg ICU</td>\n",
              "      <td>0.073611</td>\n",
              "      <td>0</td>\n",
              "      <td>NaN</td>\n",
              "      <td>NaN</td>\n",
              "      <td>119</td>\n",
              "      <td>601.01</td>\n",
              "      <td>0</td>\n",
              "      <td>0</td>\n",
              "      <td>NaN</td>\n",
              "      <td>NaN</td>\n",
              "      <td>NaN</td>\n",
              "      <td>NaN</td>\n",
              "      <td>NaN</td>\n",
              "      <td>NaN</td>\n",
              "      <td>NaN</td>\n",
              "      <td>NaN</td>\n",
              "      <td>NaN</td>\n",
              "      <td>60.0</td>\n",
              "      <td>NaN</td>\n",
              "      <td>0</td>\n",
              "      <td>103.0</td>\n",
              "      <td>NaN</td>\n",
              "      <td>NaN</td>\n",
              "      <td>NaN</td>\n",
              "      <td>NaN</td>\n",
              "      <td>16.0</td>\n",
              "      <td>...</td>\n",
              "      <td>NaN</td>\n",
              "      <td>NaN</td>\n",
              "      <td>NaN</td>\n",
              "      <td>NaN</td>\n",
              "      <td>NaN</td>\n",
              "      <td>NaN</td>\n",
              "      <td>NaN</td>\n",
              "      <td>NaN</td>\n",
              "      <td>NaN</td>\n",
              "      <td>NaN</td>\n",
              "      <td>NaN</td>\n",
              "      <td>NaN</td>\n",
              "      <td>NaN</td>\n",
              "      <td>NaN</td>\n",
              "      <td>NaN</td>\n",
              "      <td>NaN</td>\n",
              "      <td>NaN</td>\n",
              "      <td>NaN</td>\n",
              "      <td>NaN</td>\n",
              "      <td>NaN</td>\n",
              "      <td>NaN</td>\n",
              "      <td>NaN</td>\n",
              "      <td>NaN</td>\n",
              "      <td>NaN</td>\n",
              "      <td>NaN</td>\n",
              "      <td>NaN</td>\n",
              "      <td>NaN</td>\n",
              "      <td>NaN</td>\n",
              "      <td>NaN</td>\n",
              "      <td>NaN</td>\n",
              "      <td>NaN</td>\n",
              "      <td>NaN</td>\n",
              "      <td>0</td>\n",
              "      <td>0</td>\n",
              "      <td>0</td>\n",
              "      <td>0</td>\n",
              "      <td>0</td>\n",
              "      <td>0</td>\n",
              "      <td>0</td>\n",
              "      <td>0</td>\n",
              "    </tr>\n",
              "  </tbody>\n",
              "</table>\n",
              "<p>5 rows × 181 columns</p>\n",
              "</div>"
            ],
            "text/plain": [
              "   Unnamed: 0  encounter_id  ...  solid_tumor_with_metastasis  diabetes_mellitus\n",
              "0           1        214826  ...                            0                  1\n",
              "1           2        246060  ...                            0                  1\n",
              "2           3        276985  ...                            0                  0\n",
              "3           4        262220  ...                            0                  0\n",
              "4           5        201746  ...                            0                  0\n",
              "\n",
              "[5 rows x 181 columns]"
            ]
          },
          "metadata": {
            "tags": []
          },
          "execution_count": 48
        }
      ]
    },
    {
      "cell_type": "code",
      "metadata": {
        "id": "zN9bdxQ9Yb_A"
      },
      "source": [
        "#Process frequence of target\n",
        "df_1=df[df[TARGET_COL]==1]\n",
        "for col in categorical_cols:\n",
        "    col1=col +\"_freq_1\"\n",
        "    col2=col +\"_freq\"\n",
        "    df_full[col]=df_full[col].fillna('outlier')\n",
        "    list_value_unique=df_full[col].unique().tolist()\n",
        "    for idx_value in list_value_unique:\n",
        "        values_1=df_1.loc[df_1[col]==idx_value,col].count()\n",
        "        values=df_full.loc[df_full[col]==idx_value,col].count()\n",
        "        df_full.loc[df_full[col]==idx_value,col1]=values_1\n",
        "        df_full.loc[df_full[col]==idx_value,col2]=values\n",
        "        features_models.append(col1)\n",
        "        features_models.append(col2)"
      ],
      "execution_count": null,
      "outputs": []
    },
    {
      "cell_type": "code",
      "metadata": {
        "id": "lgf8Jjo2oTfR"
      },
      "source": [
        ""
      ],
      "execution_count": null,
      "outputs": []
    },
    {
      "cell_type": "markdown",
      "metadata": {
        "id": "ZhhOz3zQnvm3"
      },
      "source": [
        "**Process apache 2 apache 3**"
      ]
    },
    {
      "cell_type": "code",
      "metadata": {
        "id": "oXCG7HNWnVYa",
        "colab": {
          "base_uri": "https://localhost:8080/",
          "height": 202
        },
        "outputId": "d5f1c2af-10d4-4c52-84cb-aa457bd3a598"
      },
      "source": [
        "\r\n",
        "df_full[\"apache_2_diagnosis\"] = df_full[\"apache_2_diagnosis\"].fillna(0)\r\n",
        "\r\n",
        "df_full[\"int_apache_3j_diag\"] =  df_full[\"apache_3j_diagnosis\"].fillna(0).astype(str).str.split(\".\",expand=True)[0].astype(int)\r\n",
        "\r\n",
        "df_full.tail()[[\"int_apache_3j_diag\",\"apache_3j_diagnosis\",\"apache_2_diagnosis\"]].drop_duplicates()"
      ],
      "execution_count": null,
      "outputs": [
        {
          "output_type": "execute_result",
          "data": {
            "text/html": [
              "<div>\n",
              "<style scoped>\n",
              "    .dataframe tbody tr th:only-of-type {\n",
              "        vertical-align: middle;\n",
              "    }\n",
              "\n",
              "    .dataframe tbody tr th {\n",
              "        vertical-align: top;\n",
              "    }\n",
              "\n",
              "    .dataframe thead th {\n",
              "        text-align: right;\n",
              "    }\n",
              "</style>\n",
              "<table border=\"1\" class=\"dataframe\">\n",
              "  <thead>\n",
              "    <tr style=\"text-align: right;\">\n",
              "      <th></th>\n",
              "      <th>int_apache_3j_diag</th>\n",
              "      <th>apache_3j_diagnosis</th>\n",
              "      <th>apache_2_diagnosis</th>\n",
              "    </tr>\n",
              "  </thead>\n",
              "  <tbody>\n",
              "    <tr>\n",
              "      <th>10229</th>\n",
              "      <td>901</td>\n",
              "      <td>901.02</td>\n",
              "      <td>305</td>\n",
              "    </tr>\n",
              "    <tr>\n",
              "      <th>10230</th>\n",
              "      <td>305</td>\n",
              "      <td>305.02</td>\n",
              "      <td>124</td>\n",
              "    </tr>\n",
              "    <tr>\n",
              "      <th>10231</th>\n",
              "      <td>501</td>\n",
              "      <td>501.06</td>\n",
              "      <td>113</td>\n",
              "    </tr>\n",
              "    <tr>\n",
              "      <th>10232</th>\n",
              "      <td>203</td>\n",
              "      <td>203.01</td>\n",
              "      <td>108</td>\n",
              "    </tr>\n",
              "    <tr>\n",
              "      <th>10233</th>\n",
              "      <td>703</td>\n",
              "      <td>703.03</td>\n",
              "      <td>122</td>\n",
              "    </tr>\n",
              "  </tbody>\n",
              "</table>\n",
              "</div>"
            ],
            "text/plain": [
              "       int_apache_3j_diag  apache_3j_diagnosis apache_2_diagnosis\n",
              "10229                 901               901.02                305\n",
              "10230                 305               305.02                124\n",
              "10231                 501               501.06                113\n",
              "10232                 203               203.01                108\n",
              "10233                 703               703.03                122"
            ]
          },
          "metadata": {
            "tags": []
          },
          "execution_count": 32
        }
      ]
    },
    {
      "cell_type": "code",
      "metadata": {
        "id": "7QgldZyHpUeS"
      },
      "source": [
        "df_1=df_full[df_full[TARGET_COL]==1]\r\n",
        "col=\"int_apache_3j_diag\"\r\n",
        "col1=col +\"_freq_1\"\r\n",
        "col2=col +\"_freq\"\r\n",
        "df_full[col]=df_full[col].fillna('outlier')\r\n",
        "list_value_unique=df_full[col].unique().tolist()\r\n",
        "for idx_value in list_value_unique:\r\n",
        "  values_1=df_1.loc[df_1[col]==idx_value,col].count()\r\n",
        "  values=df_full.loc[df_full[col]==idx_value,col].count()\r\n",
        "  df_full.loc[df_full[col]==idx_value,col1]=values_1\r\n",
        "  df_full.loc[df_full[col]==idx_value,col2]=values"
      ],
      "execution_count": null,
      "outputs": []
    },
    {
      "cell_type": "markdown",
      "metadata": {
        "id": "y5TyHM2jq0F1"
      },
      "source": [
        "**Binning/Caculated score follow apache**"
      ]
    },
    {
      "cell_type": "code",
      "metadata": {
        "id": "8wTMDPGLq6d-"
      },
      "source": [
        "#Calculate GSC Score\r\n",
        "df_full['gsc_score']=df_full['gcs_eyes_apache'] + df_full['gcs_motor_apache'] + df_full['gcs_verbal_apache']\r\n",
        "df_full['map_new_min']=(2*df_full['d1_diasbp_min'] + df_full['d1_sysbp_min'])/3\r\n",
        "df_full['map_new_max']=(2*df_full['d1_diasbp_max'] + df_full['d1_sysbp_max'])/3"
      ],
      "execution_count": null,
      "outputs": []
    },
    {
      "cell_type": "code",
      "metadata": {
        "id": "tbPEtf-Osbt8"
      },
      "source": [
        "heart_rate_cols=['heart_rate_apache','d1_heartrate_max','d1_heartrate_min','d1_heartrate_max','h1_heartrate_min','h1_heartrate_max']\r\n",
        "binning_cols=[]\r\n",
        "\r\n",
        "#heart_rate Done\r\n",
        "for col in heart_rate_cols:\r\n",
        "    heart_rate_col_name=col+'_bins'\r\n",
        "    binning_cols.append(heart_rate_col_name)\r\n",
        "    df_full.loc[(df_full[col] <40) | (df_full[col] >= 180), heart_rate_col_name] = 4\r\n",
        "    df_full.loc[((df_full[col] >= 40) & ( df_full[col] <55)) | ( (df_full[col] >= 140) & ( df_full[col] <180)), heart_rate_col_name] = 3\r\n",
        "    df_full.loc[((df_full[col] >= 110) & ( df_full[col] <140)) | ( (df_full[col] >= 55) & ( df_full[col] <70)), heart_rate_col_name] = 2\r\n",
        "    df_full.loc[(df_full[col] >= 70) & (df_full[col] <110),heart_rate_col_name] = 0\r\n",
        "    \r\n",
        "#resprate Done\r\n",
        "resprate_cols=['resprate_apache','d1_resprate_max','d1_resprate_min','d1_resprate_max','h1_resprate_min','h1_resprate_max']\r\n",
        "for col in resprate_cols:\r\n",
        "    resprate_cols_name=col+'_bins'\r\n",
        "    binning_cols.append(resprate_cols_name)\r\n",
        "    df_full.loc[(df_full[col] <6) | (df_full[col] >= 50), resprate_cols_name] = 4\r\n",
        "    df_full.loc[(df_full[col] >= 35) & (df_full[col] <50), resprate_cols_name] = 3\r\n",
        "    df_full.loc[(df_full[col] >= 6) & (df_full[col] <10), resprate_cols_name] = 2\r\n",
        "    df_full.loc[((df_full[col] >= 25) & ( df_full[col] <35)) | ( (df_full[col] >= 10) & ( df_full[col] < 12)), resprate_cols_name] = 1\r\n",
        "    df_full.loc[(df_full[col] >= 12) & ( df_full[col] <25) , resprate_cols_name] = 0\r\n",
        "\r\n",
        "#Done_temp\r\n",
        "temp_cols=['temp_apache','d1_temp_max','d1_temp_min','d1_temp_max','h1_temp_min','h1_temp_max']\r\n",
        "for col in temp_cols:\r\n",
        "    temp_cols_name=col+'_bins'\r\n",
        "    binning_cols.append(temp_cols_name)\r\n",
        "    df_full.loc[(df_full[col] < 30) | (df_full[col] >= 41), temp_cols_name] = 4\r\n",
        "    df_full.loc[((df_full[col] >= 39) & ( df_full[col] <41)) | ((df_full[col] >= 30) & ( df_full[col] < 32)), temp_cols_name] = 3\r\n",
        "    df_full.loc[(df_full[col] >= 32) & ( df_full[col] < 34), temp_cols_name] = 2\r\n",
        "    df_full.loc[((df_full[col] >= 38.5) & ( df_full[col] <39)) | ( (df_full[col] >= 34) & ( df_full[col] < 36)), temp_cols_name] = 1\r\n",
        "    df_full.loc[((df_full[col] >= 36) & ( df_full[col] <38.5)) , temp_cols_name] = 0\r\n",
        "    \r\n",
        "\r\n",
        "\r\n",
        "#Sodium done\r\n",
        "sodium_cols=['sodium_apache','d1_sodium_max','d1_sodium_min','d1_sodium_max','h1_sodium_min','h1_sodium_max']\r\n",
        "for col in sodium_cols:\r\n",
        "    sodium_cols_name=col+'_bins'\r\n",
        "    binning_cols.append(sodium_cols_name)\r\n",
        "    df_full.loc[(df_full[col] <111) | (df_full[col] >= 180), sodium_cols_name] = 4\r\n",
        "    df_full.loc[((df_full[col] >= 160) & ( df_full[col] <180))|((df_full[col] >=111) & ( df_full[col] <120)), sodium_cols_name] = 3\r\n",
        "    df_full.loc[((df_full[col] >= 155) & ( df_full[col] <160))|((df_full[col] >= 120) & ( df_full[col] <130)), sodium_cols_name] = 2\r\n",
        "    df_full.loc[((df_full[col] >= 150) & ( df_full[col] <155)), sodium_cols_name] = 1\r\n",
        "    df_full.loc[((df_full[col] >= 130) & ( df_full[col] <150)) , sodium_cols_name] = 0\r\n",
        "\r\n",
        "#Potassium done \r\n",
        "potassium_cols=['d1_potassium_max','d1_potassium_min','d1_potassium_max','h1_potassium_min','h1_potassium_max']\r\n",
        "for col in potassium_cols:\r\n",
        "    potassium_cols_name=col+'_bins'\r\n",
        "    binning_cols.append(potassium_cols_name)\r\n",
        "    df_full.loc[(df_full[col] < 2.5) | (df_full[col] >= 7), potassium_cols_name] = 4\r\n",
        "    df_full.loc[(df_full[col] >= 6) & ( df_full[col] <7), potassium_cols_name] = 3\r\n",
        "    df_full.loc[((df_full[col] >= 2.5) & ( df_full[col] <3)), potassium_cols_name] = 2\r\n",
        "    df_full.loc[((df_full[col] >= 5.5) & ( df_full[col] <6)) | ( (df_full[col] >= 3) & ( df_full[col] < 3.5)), potassium_cols_name] = 1\r\n",
        "    df_full.loc[(df_full[col] >= 3.5) & ( df_full[col] < 5.5) , potassium_cols_name] = 0\r\n",
        "    \r\n",
        "df_full['potassium_apache_bins']=0\r\n",
        "df_full.loc[df_full['d1_potassium_max_bins']<df_full['d1_potassium_min_bins'],'potassium_apache_bins']=df_full.loc[df_full['d1_potassium_max_bins']<df_full['d1_potassium_min_bins'],'d1_potassium_min_bins']\r\n",
        "df_full.loc[df_full['d1_potassium_max_bins']>=df_full['d1_potassium_min_bins'],'potassium_apache_bins']=df_full.loc[df_full['d1_potassium_max_bins']>=df_full['d1_potassium_min_bins'],'d1_potassium_max_bins']\r\n",
        "binning_cols.append('potassium_apache_bins')\r\n",
        "\r\n",
        "#Hematocrit cols\r\n",
        "hematocrit_cols=['hematocrit_apache','d1_hematocrit_max','d1_hematocrit_min','h1_hematocrit_max','h1_hematocrit_min']    \r\n",
        "for col in hematocrit_cols:\r\n",
        "    hematocrit_cols_name=col+'_bins'\r\n",
        "    binning_cols.append(hematocrit_cols_name)\r\n",
        "    df_full.loc[(df_full[col] < 20) | (df_full[col] >= 60), hematocrit_cols_name] = 4\r\n",
        "    df_full.loc[((df_full[col] >= 50) & ( df_full[col] <60)) | ( (df_full[col] >= 20) & ( df_full[col] <30)), hematocrit_cols_name] = 2\r\n",
        "    df_full.loc[(df_full[col] >= 46) & ( df_full[col] <50), hematocrit_cols_name] = 1\r\n",
        "    df_full.loc[(df_full[col] >= 30) & ( df_full[col] <46) , hematocrit_cols_name] = 0\r\n",
        "#creatinine cols done\r\n",
        "creatinine_cols=['creatinine_apache','d1_creatinine_max','d1_creatinine_min','h1_creatinine_max','h1_creatinine_min']    \r\n",
        "for col in creatinine_cols:\r\n",
        "    creatinine_cols_name=col+'_bins'\r\n",
        "    binning_cols.append(creatinine_cols_name)\r\n",
        "    df_full.loc[(df_full[col] >= 3.5), creatinine_cols_name] = 4\r\n",
        "    df_full.loc[(df_full[col] >= 2) & ( df_full[col] <3.5), creatinine_cols_name] = 3\r\n",
        "    df_full.loc[((df_full[col] >= 1.5) & ( df_full[col] <=2)) | ( (df_full[col] < 0.6)), creatinine_cols_name] = 2\r\n",
        "    df_full.loc[(df_full[col] >= 0.6) & ( df_full[col] <1.5) , creatinine_cols_name] = 0\r\n",
        "df_full.loc[df_full['arf_apache']==1,'creatinine_apache_bins']=df_full.loc[df_full['arf_apache']==1,'creatinine_apache_bins']*2\r\n",
        "\r\n",
        "\r\n",
        "#Done wbc\r\n",
        "wbc_cols=['wbc_apache','d1_wbc_max','d1_wbc_min','h1_wbc_max','h1_wbc_min']    \r\n",
        "for col in wbc_cols:\r\n",
        "    wbc_cols_name=col+'_bins'\r\n",
        "    binning_cols.append(wbc_cols_name)\r\n",
        "    df_full.loc[((df_full[col] >= 40)) | ( (df_full[col] < 1)), wbc_cols_name] = 4\r\n",
        "    df_full.loc[((df_full[col] >= 20) & ( df_full[col] <40))|((df_full[col] >= 1) & ( df_full[col] <3)), wbc_cols_name] = 2\r\n",
        "    df_full.loc[((df_full[col] >= 15) & ( df_full[col] <20)), wbc_cols_name] = 1\r\n",
        "    df_full.loc[((df_full[col] >= 3) & ( df_full[col] <15)) , wbc_cols_name] = 0\r\n",
        "\r\n",
        "#Done age\r\n",
        "age_cols=['age']    \r\n",
        "for col in age_cols:\r\n",
        "    age_cols_name=col+'_bins'\r\n",
        "    binning_cols.append(age_cols_name)\r\n",
        "    df_full.loc[(df_full[col] > 74), age_cols_name] = 6\r\n",
        "    df_full.loc[(df_full[col] >= 65) & ( df_full[col] <=74), age_cols_name] = 5\r\n",
        "    df_full.loc[(df_full[col] >= 55) & ( df_full[col] <=64), age_cols_name] = 3\r\n",
        "    df_full.loc[(df_full[col] >= 45) & ( df_full[col] <=54), age_cols_name] = 2\r\n",
        "    df_full.loc[(df_full[col] <=44) , age_cols_name] = 0\r\n",
        "#Done map\r\n",
        "map_cols=['map_apache']    \r\n",
        "for col in map_cols:\r\n",
        "    cols_name=col+'_bins'\r\n",
        "    binning_cols.append(cols_name)\r\n",
        "    df_full.loc[(df_full[col] <= 49) | (df_full[col] >159), cols_name] = 4\r\n",
        "    df_full.loc[((df_full[col] >109) & ( df_full[col] <=129)) | ((df_full[col] > 49) & ( df_full[col] <=69 )), cols_name] = 2\r\n",
        "    df_full.loc[(df_full[col] > 129) & ( df_full[col] <= 159), cols_name] = 3\r\n",
        "    df_full.loc[((df_full[col] >69) & ( df_full[col] <=109)) , cols_name] = 0\r\n",
        "df_full['gsc_score']=df_full['gcs_eyes_apache'] + df_full['gcs_motor_apache'] + df_full['gcs_verbal_apache']\r\n",
        "df_full['gsc_score_bins']=15-df_full['gsc_score']\r\n",
        "binning_cols.append('gsc_score_bins') \r\n",
        "apache_cols=['heart_rate_apache','resprate_apache','temp_apache','sodium_apache','potassium_apache','hematocrit_apache','creatinine_apache','wbc_apache','age','gsc_score','map_apache']\r\n",
        "df_full['apache_full']=0\r\n",
        "for col in apache_cols:\r\n",
        "    col_name=col+\"_bins\"\r\n",
        "    df_full['apache_full']=df_full['apache_full']+df_full[col_name]\r\n",
        "df_full['has_history']=df_full['aids']+df_full['cirrhosis']+df_full['hepatic_failure']+df_full['immunosuppression']+df_full['leukemia']+df_full['lymphoma']+df_full['solid_tumor_with_metastasis']\r\n",
        "df_full['apache_hist']=0\r\n",
        "df_full.loc[(df_full['elective_surgery']==1)&(df_full['has_history']>0),'apache_hist']=2\r\n",
        "df_full.loc[(df_full['elective_surgery']==0)&(df_full['has_history']>0),'apache_hist']=5\r\n",
        "df_full.loc[(df_full['apache_post_operative']==1)&(df_full['has_history']>0),'apache_hist']=5\r\n",
        "df_full.loc[(df_full['apache_post_operative']==0)&(df_full['has_history']>0),'apache_hist']=2\r\n",
        "df_full.loc[(df_full['has_history']==0),'apache_hist']=0\r\n",
        "\r\n",
        "df_full['apache_full']=df_full['apache_full']+df_full['apache_hist']"
      ],
      "execution_count": null,
      "outputs": []
    },
    {
      "cell_type": "markdown",
      "metadata": {
        "id": "sFYtpNeMmQPc"
      },
      "source": [
        "**Process combining features**"
      ]
    },
    {
      "cell_type": "code",
      "metadata": {
        "id": "bMP-gxH4feAf"
      },
      "source": [
        "df_full[\"d1_resprate_div_mbp_min\"] = df_full[\"d1_resprate_min\"].div(df_full[\"d1_mbp_min\"])\r\n",
        "df_full[\"d1_resprate_div_sysbp_min\"] = df_full[\"d1_resprate_min\"].div(df_full[\"d1_sysbp_min\"])\r\n",
        "df_full[\"d1_lactate_min_div_diasbp_min\"] = df_full[\"d1_lactate_min\"].div(df_full[\"d1_diasbp_min\"])\r\n",
        "df_full[\"d1_heartrate_min_div_d1_sysbp_min\"] = df_full[\"d1_heartrate_min\"].div(df_full[\"d1_sysbp_min\"])\r\n",
        "df_full[\"d1_hco3_div\"]= df_full[\"d1_hco3_max\"].div(df_full[\"d1_hco3_min\"])\r\n",
        "\r\n",
        "df_full[\"d1_resprate_times_resprate\"] = df_full[\"d1_resprate_min\"].multiply(df_full[\"d1_resprate_max\"])\r\n",
        "\r\n",
        "df_full[\"left_average_spo2\"] = (2*df_full[\"d1_spo2_max\"] + df_full[\"d1_spo2_min\"])/3"
      ],
      "execution_count": null,
      "outputs": []
    },
    {
      "cell_type": "code",
      "metadata": {
        "id": "P4W8dgProQqW"
      },
      "source": [
        "df_full[\"total_chronic\"] = df_full[[\"aids\",\"cirrhosis\",  'hepatic_failure']].sum(axis=1)\r\n",
        "\r\n",
        "df_full[\"total_cancer_immuno\"] = df_full[[ 'immunosuppression', 'leukemia', 'lymphoma', 'solid_tumor_with_metastasis']].sum(axis=1)\r\n",
        "\r\n",
        "df_full[\"has_complicator\"] = df_full[[\"aids\",\"cirrhosis\", 'hepatic_failure',\r\n",
        "                            'immunosuppression', 'leukemia', 'lymphoma', 'solid_tumor_with_metastasis']].max(axis=1)"
      ],
      "execution_count": null,
      "outputs": []
    },
    {
      "cell_type": "code",
      "metadata": {
        "id": "9xgf05cCKfHr"
      },
      "source": [
        "#age vs bmi vs glucose high level\r\n",
        "df_full['gluco_high_risk']=df_full['glu_risk_140']+ df_full['glu_risk_200']\r\n",
        "\r\n",
        "df_full['age_glu_l']= df_full['ageclass'] * df_full['gluco_high_risk']\r\n",
        "\r\n",
        "\r\n",
        "df_full['bmi_glu_l']= df_full['weightclass'] * df_full['gluco_high_risk']\r\n",
        "\r\n",
        "\r\n",
        "df_full['age_bmi_glu_l']= df_full['ageclass']  * df_full['weightclass'] * df_full['gluco_high_risk']\r\n",
        "\r\n",
        "\r\n",
        "df_full['age_bmi_glu_max_d'] = df_full['ageclass']  * df_full['weightclass'] * df_full['d1_glucose_max']\r\n",
        "df_full['age_bmi_glu_max_h'] = df_full['ageclass']  * df_full['weightclass'] * df_full['h1_glucose_max']\r\n",
        "\r\n",
        "df_full['creatinine_class'] = df_full['creatinine_max_class'] + df_full['creatinine_min_class']\r\n",
        "\r\n",
        "df_full['bun_class'] = df_full['bun_max_class'] + df_full['bun_min_class'] \r\n",
        "\r\n",
        "df_full['glu_bun'] = df_full['gluco_high_risk'] * df_full['bun_class'] \r\n",
        "\r\n",
        "df_full['glu_cre'] = df_full['gluco_high_risk'] * df_full['creatinine_class'] \r\n",
        "\r\n",
        "\r\n",
        "\r\n"
      ],
      "execution_count": null,
      "outputs": []
    },
    {
      "cell_type": "code",
      "metadata": {
        "colab": {
          "base_uri": "https://localhost:8080/"
        },
        "id": "cuC2SdAmUPX3",
        "outputId": "e4065c47-a0c2-48fd-b218-068ea956f1f4"
      },
      "source": [
        "len(df_full.columns)"
      ],
      "execution_count": null,
      "outputs": [
        {
          "output_type": "execute_result",
          "data": {
            "text/plain": [
              "510"
            ]
          },
          "metadata": {
            "tags": []
          },
          "execution_count": 41
        }
      ]
    },
    {
      "cell_type": "code",
      "metadata": {
        "id": "HFAEivRuZEQA"
      },
      "source": [
        ""
      ],
      "execution_count": null,
      "outputs": []
    },
    {
      "cell_type": "markdown",
      "metadata": {
        "id": "C4pgHaEJmEkY"
      },
      "source": [
        "**End feature engineering**"
      ]
    },
    {
      "cell_type": "code",
      "metadata": {
        "id": "8uV0zIlvYb_B"
      },
      "source": [
        "features_added_to_model1= ['apache_3','NA_info','elective_surgery','pre_icu_los_days','readmission_status','apache_post_operative','gender','d1_heartrate_max','d1_heartrate_min','d1_sysbp_max','d1_sysbp_min','d1_diasbp_max','d1_diasbp_min','d1_mbp_max','d1_mbp_min','d1_spo2_max','d1_spo2_min','d1_resprate_max','d1_resprate_min','arf_apache','intubated_apache','ventilated_apache','heart_rate_apache','map_apache','d1_sysbp_noninvasive_max','d1_sysbp_noninvasive_min','gcs_unable_apache','d1_diasbp_noninvasive_max','d1_diasbp_noninvasive_min','apache_3j_diagnosis','resprate_apache','height','d1_mbp_noninvasive_max','d1_mbp_noninvasive_min','apache_2_diagnosis','apache_3j_bodysystem','apache_2_bodysystem','gcs_eyes_apache','gcs_motor_apache','gcs_verbal_apache','d1_temp_max','d1_temp_min','weight','bmi','temp_apache','age','d1_glucose_max','d1_glucose_min','apache_4a_hospital_death_prob','apache_4a_icu_death_prob','d1_potassium_max','d1_potassium_min','d1_creatinine_max','d1_creatinine_min','d1_sodium_max','d1_sodium_min','d1_bun_max','d1_bun_min','glucose_apache','d1_hematocrit_max','d1_hematocrit_min','d1_hemaglobin_max','d1_hemaglobin_min','d1_calcium_max','d1_calcium_min','d1_wbc_max','d1_wbc_min','d1_platelets_max','d1_platelets_min','d1_hco3_max','d1_hco3_min','sodium_apache','creatinine_apache','bun_apache','hematocrit_apache','hospital_admit_source','wbc_apache']\n",
        "\n",
        "#features_added_to_model1+threshold_bin_cols+binning_cols+new_features_list_add_to_model\n",
        "features_added_to_model1=list(set(features_added_to_model1))"
      ],
      "execution_count": null,
      "outputs": []
    },
    {
      "cell_type": "code",
      "metadata": {
        "id": "oj_t10MDYb_C",
        "outputId": "8d0a1954-be2d-4aff-edb1-4816fc4137bb"
      },
      "source": [
        "len(features_added_to_model1)"
      ],
      "execution_count": null,
      "outputs": [
        {
          "output_type": "execute_result",
          "data": {
            "text/plain": [
              "77"
            ]
          },
          "metadata": {
            "tags": []
          },
          "execution_count": 16
        }
      ]
    },
    {
      "cell_type": "code",
      "metadata": {
        "id": "1BZuz__gYb_K",
        "outputId": "865928a9-97e1-4884-b72b-5109d0054d5b"
      },
      "source": [
        "features_added_to_model1=features_added_to_model1+binning_cols\n",
        "len(features_added_to_model1)"
      ],
      "execution_count": null,
      "outputs": [
        {
          "output_type": "execute_result",
          "data": {
            "text/plain": [
              "97"
            ]
          },
          "metadata": {
            "tags": []
          },
          "execution_count": 20
        }
      ]
    },
    {
      "cell_type": "code",
      "metadata": {
        "id": "KkNQZh-FYb_L"
      },
      "source": [
        "features_added_to_knn=['apache_4a_icu_death_prob','apache_4a_hospital_death_prob','ventilated_apache','d1_spo2_min','d1_sysbp_min','d1_sysbp_noninvasive_min','gcs_motor_apache','gsc_score','d1_bun_min','apache_3j_diagnosis','age','d1_bun_max','d1_heartrate_min','d1_platelets_min','d1_resprate_max','d1_resprate_min','d1_temp_min','d1_heartrate_max','map_new','d1_mbp_min','d1_temp_max','pre_icu_los_days']"
      ],
      "execution_count": null,
      "outputs": []
    },
    {
      "cell_type": "code",
      "metadata": {
        "id": "2ttu8s1mYb_L",
        "outputId": "dc33a034-0ffa-4f55-b91b-432295c348b1"
      },
      "source": [
        "# from sklearn.neighbors import KNeighborsClassifier\n",
        "# knn = KNeighborsClassifier(n_neighbors=100)\n",
        "# knn.fit(df[features_added_to_knn],df[TARGET_COL])"
      ],
      "execution_count": null,
      "outputs": [
        {
          "output_type": "execute_result",
          "data": {
            "text/plain": [
              "KNeighborsClassifier(algorithm='auto', leaf_size=30, metric='minkowski',\n",
              "                     metric_params=None, n_jobs=None, n_neighbors=100, p=2,\n",
              "                     weights='uniform')"
            ]
          },
          "metadata": {
            "tags": []
          },
          "execution_count": 150
        }
      ]
    },
    {
      "cell_type": "code",
      "metadata": {
        "id": "Q2rCeH0sYb_L"
      },
      "source": [
        "# df['knn_value_1']=knn.predict_proba(df[features_added_to_knn])[:,1]\n",
        "# df['knn_value_0']=knn.predict_proba(df[features_added_to_knn])[:,0]"
      ],
      "execution_count": null,
      "outputs": []
    },
    {
      "cell_type": "code",
      "metadata": {
        "id": "OTNs7qCXYb_M"
      },
      "source": [
        "# test['knn_value_1']=knn.predict_proba(test[features_added_to_knn])[:,1]\n",
        "# test['knn_value_0']=knn.predict_proba(test[features_added_to_knn])[:,0]"
      ],
      "execution_count": null,
      "outputs": []
    },
    {
      "cell_type": "code",
      "metadata": {
        "id": "WT6enBoKYb_M"
      },
      "source": [
        "# features_added_to_model1.append('knn_value_1')\n",
        "# features_added_to_model1.append('knn_value_0')"
      ],
      "execution_count": null,
      "outputs": []
    },
    {
      "cell_type": "code",
      "metadata": {
        "id": "PeG3pgDHYb_M"
      },
      "source": [
        "# ncols=len(df.columns)\n",
        "# df1 = df.iloc[:,3:ncols]\n",
        "features_added_to_model1=list(set(features_added_to_model1))\n",
        "df1=df"
      ],
      "execution_count": null,
      "outputs": []
    },
    {
      "cell_type": "code",
      "metadata": {
        "id": "v8WD32M7Yb_M",
        "outputId": "c84f08b5-3a48-427b-cf1b-d546eb9e3d72"
      },
      "source": [
        "len(features_added_to_model_2)"
      ],
      "execution_count": null,
      "outputs": [
        {
          "output_type": "error",
          "ename": "NameError",
          "evalue": "name 'features_added_to_model_2' is not defined",
          "traceback": [
            "\u001b[1;31m---------------------------------------------------------------------------\u001b[0m",
            "\u001b[1;31mNameError\u001b[0m                                 Traceback (most recent call last)",
            "\u001b[1;32m<ipython-input-22-8b263f51985c>\u001b[0m in \u001b[0;36m<module>\u001b[1;34m\u001b[0m\n\u001b[1;32m----> 1\u001b[1;33m \u001b[0mlen\u001b[0m\u001b[1;33m(\u001b[0m\u001b[0mfeatures_added_to_model_2\u001b[0m\u001b[1;33m)\u001b[0m\u001b[1;33m\u001b[0m\u001b[1;33m\u001b[0m\u001b[0m\n\u001b[0m",
            "\u001b[1;31mNameError\u001b[0m: name 'features_added_to_model_2' is not defined"
          ]
        }
      ]
    },
    {
      "cell_type": "code",
      "metadata": {
        "id": "rT934kqwYb_N"
      },
      "source": [
        "features_added_to_model_2=['apache_4a_icu_death_prob','apache_4a_hospital_death_prob','4a_plus','4a_diff','ventilated_apache','gcs_motor_apache','gsc_score_bins','gcs_verbal_apache','gsc_score','apache_3','gcs_eyes_apache','temp_apache_bins','apache_full','d1_bun_max','apache_2_diagnosis','intubated_apache','map_apache_bins','d1_sysbp_min','d1_bun_min','d1_sysbp_noninvasive_min','wbc_apache_bins','creatinine_apache_bins','apache_3j_diagnosis','apache_2_bodysystem','d1_spo2_min','map_new','d1_mbp_min','bun_apache','d1_mbp_noninvasive_min','d1_creatinine_max','age_bins','d1_resprate_max','hospital_admit_source','heart_rate_apache_bins','potassium_apache_bins','elective_surgery','resprate_apache','d1_diasbp_min','resprate_apache_bins','hematocrit_apache_bins','d1_creatinine_min','apache_3j_bodysystem','d1_potassium_min_bins','d1_heartrate_max','heart_resp_plus','creatinine_apache','apache_post_operative','d1_diasbp_noninvasive_min','heart_rate_apache','map_apache','temp_apache','gender','d1_potassium_max_bins','d1_temp_min','apache_hist','NA_info','d1_hco3_min','d1_resprate_min','age']"
      ],
      "execution_count": null,
      "outputs": []
    },
    {
      "cell_type": "code",
      "metadata": {
        "id": "UycpC8lQYb_N"
      },
      "source": [
        " df2=df1\n"
      ],
      "execution_count": null,
      "outputs": []
    },
    {
      "cell_type": "code",
      "metadata": {
        "id": "29pPdTbLYb_N"
      },
      "source": [
        "features_added_to_model_2=features_added_to_model1"
      ],
      "execution_count": null,
      "outputs": []
    },
    {
      "cell_type": "code",
      "metadata": {
        "id": "6yxPKnJBYb_N"
      },
      "source": [
        "X_full = df2[features_added_to_model_2]\n"
      ],
      "execution_count": null,
      "outputs": []
    },
    {
      "cell_type": "code",
      "metadata": {
        "id": "IP1VjB4LYb_O"
      },
      "source": [
        "## useful \"hidden\" function - df._get_numeric_data()  - returns only numeric columns from a pandas dataframe. Useful for scikit learn models! \n",
        "\n",
        "Y_full = df2[TARGET_COL]\n",
        "# Y_add_test=df_minor_to_add_test[TARGET_COL]"
      ],
      "execution_count": null,
      "outputs": []
    },
    {
      "cell_type": "code",
      "metadata": {
        "id": "ozKnCbLRYb_O"
      },
      "source": [
        "# X_full=X_full.fillna(0)\n",
        "# from sklearn.preprocessing import MinMaxScaler\n",
        "# scaler = MinMaxScaler()\n",
        "# scaler.fit(X_full)\n",
        "# X_full_scale=scaler.transform(X_full)\n",
        "# X_full_1=pd.DataFrame(X_full_scale,columns=X_full.columns)"
      ],
      "execution_count": null,
      "outputs": []
    },
    {
      "cell_type": "code",
      "metadata": {
        "id": "Ee9k2XP2Yb_O"
      },
      "source": [
        "X_full_1=X_full"
      ],
      "execution_count": null,
      "outputs": []
    },
    {
      "cell_type": "code",
      "metadata": {
        "id": "l17TcFSRYb_O",
        "outputId": "44151a85-3488-41cd-e713-8499a9d86a04"
      },
      "source": [
        "len(X_full_1.columns)"
      ],
      "execution_count": null,
      "outputs": [
        {
          "output_type": "execute_result",
          "data": {
            "text/plain": [
              "97"
            ]
          },
          "metadata": {
            "tags": []
          },
          "execution_count": 24
        }
      ]
    },
    {
      "cell_type": "code",
      "metadata": {
        "id": "8JYMKVQyYb_P"
      },
      "source": [
        "from sklearn.model_selection import train_test_split\n",
        "\n",
        "X_train, X_test, y_train, y_test = train_test_split(X_full_1, Y_full, test_size=0.2, random_state=8888)\n",
        "\n"
      ],
      "execution_count": null,
      "outputs": []
    },
    {
      "cell_type": "code",
      "metadata": {
        "id": "_u8ropB-Yb_P",
        "outputId": "87c6a090-6c9a-4319-b22c-2a150f9145d6"
      },
      "source": [
        "from imblearn.under_sampling import NeighbourhoodCleaningRule\n",
        "ncr = NeighbourhoodCleaningRule(random_state=39) \n",
        "  \n",
        "X_train_res, y_train_res = ncr.fit_sample(X_train, y_train.ravel()) \n",
        "\n",
        "\n",
        "\n",
        "\n",
        "print('After Undersampling, the shape of train_X: {}'.format(X_train_res.shape)) \n",
        "print('After Undersampling, the shape of train_y: {} \\n'.format(y_train_res.shape)) \n",
        "  \n",
        "print(\"After Undersampling, counts of label '1': {}\".format(sum(y_train_res == 1))) \n",
        "print(\"After Undersampling, counts of label '0': {}\".format(sum(y_train_res == 0))) "
      ],
      "execution_count": null,
      "outputs": [
        {
          "output_type": "stream",
          "text": [
            "After Undersampling, the shape of train_X: (61052, 97)\n",
            "After Undersampling, the shape of train_y: (61052,) \n",
            "\n",
            "After Undersampling, counts of label '1': 6336\n",
            "After Undersampling, counts of label '0': 54716\n"
          ],
          "name": "stdout"
        }
      ]
    },
    {
      "cell_type": "code",
      "metadata": {
        "id": "kEA3Str4Yb_P",
        "outputId": "f61e2581-9e49-4ac9-f480-26ab0491419e"
      },
      "source": [
        "from imblearn.combine import SMOTETomek\n",
        "sme = SMOTEENN(random_state=42,sampling_strategy=1)\n",
        "X_res, y_res = sme.fit_resample(X_train_res, y_train_res.ravel())\n",
        "print('After OverSampling, the shape of train_X: {}'.format(X_res.shape)) \n",
        "print('After OverSampling, the shape of train_y: {} \\n'.format(y_res.shape)) \n",
        "  \n",
        "print(\"After OverSampling, counts of label '1': {}\".format(sum(y_res == 1))) \n",
        "print(\"After OverSampling, counts of label '0': {}\".format(sum(y_res == 0)))"
      ],
      "execution_count": null,
      "outputs": [
        {
          "output_type": "stream",
          "text": [
            "After OverSampling, the shape of train_X: (96344, 97)\n",
            "After OverSampling, the shape of train_y: (96344,) \n",
            "\n",
            "After OverSampling, counts of label '1': 54606\n",
            "After OverSampling, counts of label '0': 41738\n"
          ],
          "name": "stdout"
        }
      ]
    },
    {
      "cell_type": "code",
      "metadata": {
        "id": "JTkjD3u9Yb_P"
      },
      "source": [
        "X_train_res_1= pd.DataFrame(X_res,columns=X_train.columns)\n",
        "y_train_res=y_res"
      ],
      "execution_count": null,
      "outputs": []
    },
    {
      "cell_type": "code",
      "metadata": {
        "id": "vLuyXeIJYb_Q",
        "outputId": "cdf7f127-70a2-4d0b-c6cb-808066f5a4c1"
      },
      "source": [
        "from sklearn.ensemble import RandomForestClassifier\n",
        "rfc=RandomForestClassifier(n_estimators=512,criterion='gini', max_depth=25, min_samples_split=100,min_samples_leaf=10,max_features='auto',random_state=1235)\n",
        "rfc.fit(X_train_res_1,y_train_res)"
      ],
      "execution_count": null,
      "outputs": [
        {
          "output_type": "execute_result",
          "data": {
            "text/plain": [
              "RandomForestClassifier(bootstrap=True, class_weight=None, criterion='gini',\n",
              "                       max_depth=25, max_features='auto', max_leaf_nodes=None,\n",
              "                       min_impurity_decrease=0.0, min_impurity_split=None,\n",
              "                       min_samples_leaf=10, min_samples_split=100,\n",
              "                       min_weight_fraction_leaf=0.0, n_estimators=512,\n",
              "                       n_jobs=None, oob_score=False, random_state=1235,\n",
              "                       verbose=0, warm_start=False)"
            ]
          },
          "metadata": {
            "tags": []
          },
          "execution_count": 53
        }
      ]
    },
    {
      "cell_type": "code",
      "metadata": {
        "id": "fjFyD5bnYb_Q"
      },
      "source": [
        "import xgboost as xgb\n",
        "xgbC = xgb.XGBClassifier(max_depth=15, n_estimators=512, learning_rate=0.05,min_samples_split=100,min_samples_leaf=10).fit(X_train_res_1,y_train_res)"
      ],
      "execution_count": null,
      "outputs": []
    },
    {
      "cell_type": "code",
      "metadata": {
        "id": "Fl8COy38Yb_Q",
        "outputId": "349bbb4c-7b96-473c-fc62-be26c83a7646"
      },
      "source": [
        "print(\"After OverSampling, counts of label '1': {}\".format(sum(y_train == 1))) \n",
        "print(\"After OverSampling, counts of label '0': {}\".format(sum(y_train== 0)))"
      ],
      "execution_count": null,
      "outputs": [
        {
          "output_type": "stream",
          "text": [
            "After OverSampling, counts of label '1': 6336\n",
            "After OverSampling, counts of label '0': 67034\n"
          ],
          "name": "stdout"
        }
      ]
    },
    {
      "cell_type": "code",
      "metadata": {
        "id": "h0rXp0wQYb_R"
      },
      "source": [
        "from sklearn.model_selection import cross_val_score\n",
        "from sklearn.model_selection import GridSearchCV\n",
        "from sklearn.ensemble import RandomForestClassifier\n",
        "from lightgbm import LGBMClassifier\n",
        "estimator =  LGBMClassifier(\n",
        "        n_estimators=1024,\n",
        "        learning_rate=0.01,\n",
        "        n_jobs=10,\n",
        "        max_depth=15,\n",
        "        min_samples_split=100,\n",
        "        min_samples_leaf=10,\n",
        "        random_state=1999)\n",
        "parameters = {\n",
        "          # 'max_depth': range (15, 55, 10)\n",
        "#    'n_estimators':range(200,1500,500) #range(100, 1500, 500)#,\n",
        "      # 'min_samples_split':range(100,500,50)\n",
        "      # 'min_samples_leaf':range(10,210,50)\n",
        "        #'max_features':range(10,100,20),\n",
        "       # 'learning_rate':[0.01,0.05,0.1,0.5]\n",
        "        'num_leaves': [64,128,512,1000]\n",
        "}\n",
        "\n",
        "grid_search = GridSearchCV(\n",
        "    estimator=estimator,\n",
        "    param_grid=parameters,\n",
        "    scoring = 'roc_auc',\n",
        "    n_jobs = 5,\n",
        "    cv = 3,\n",
        "    verbose=True\n",
        ")\n",
        "\n",
        "grid_search.fit(X_train_res_1,y_train_res)"
      ],
      "execution_count": null,
      "outputs": []
    },
    {
      "cell_type": "code",
      "metadata": {
        "id": "m05MkJwwYb_R"
      },
      "source": [
        "grid_search.best_estimator_"
      ],
      "execution_count": null,
      "outputs": []
    },
    {
      "cell_type": "code",
      "metadata": {
        "id": "SY5aA2VFYb_S",
        "outputId": "b28c57b1-ff08-4b54-9247-a770a68d3a0a"
      },
      "source": [
        "from lightgbm import LGBMClassifier\n",
        "clf = LGBMClassifier(\n",
        "        n_estimators=1400,\n",
        "        learning_rate=0.01,\n",
        "        n_jobs=10,\n",
        "        max_depth=-1,\n",
        "#         min_samples_split=100,\n",
        "#         min_samples_leaf=1df0,\n",
        "            random_state=1999 ,\n",
        "#         learning_rate= 0.15,\n",
        "        num_leaves= 31,  # 2^max_depth - 1\n",
        "# #     max_depth= 3,  # -1 means no limit\n",
        "    #    min_child_samples= 100,  # Minimum number of data need in a child(min_data_in_leaf)\n",
        "         max_bin= 100  # Number of bucketed bin for feature values\n",
        "#         subsample= 0.85,  # Subsample ratio of the training instance.\n",
        "#         subsample_freq= 1,  # frequence of subsample, <=0 means no enable\n",
        "#         colsample_bytree= 0.9,  # Subsample ratio of columns when constructing each tree.\n",
        "#          min_child_weight= 0\n",
        ")\n",
        "clf.fit(\n",
        "        X_train_res_1,y_train_res, \n",
        "        eval_set= [(X_train_res_1,y_train_res), (X_test, y_test)], \n",
        "        eval_metric='auc', verbose=50, early_stopping_rounds=1000  #30\n",
        "    )\n",
        "\n",
        "# clf.fit(\n",
        "#         X_train,y_train, \n",
        "#         eval_set= [(X_train,y_train), (X_test, y_test)], \n",
        "#         eval_metric='auc', verbose=30, early_stopping_rounds=1000  #30\n",
        "#     )\n"
      ],
      "execution_count": null,
      "outputs": [
        {
          "output_type": "stream",
          "text": [
            "Training until validation scores don't improve for 1000 rounds\n",
            "[50]\ttraining's auc: 0.973875\ttraining's binary_logloss: 0.446391\tvalid_1's auc: 0.860091\tvalid_1's binary_logloss: 0.582176\n",
            "[100]\ttraining's auc: 0.980522\ttraining's binary_logloss: 0.328585\tvalid_1's auc: 0.869262\tvalid_1's binary_logloss: 0.476714\n",
            "[150]\ttraining's auc: 0.984062\ttraining's binary_logloss: 0.258909\tvalid_1's auc: 0.873113\tvalid_1's binary_logloss: 0.415597\n",
            "[200]\ttraining's auc: 0.986518\ttraining's binary_logloss: 0.212731\tvalid_1's auc: 0.876627\tvalid_1's binary_logloss: 0.375149\n",
            "[250]\ttraining's auc: 0.988746\ttraining's binary_logloss: 0.179279\tvalid_1's auc: 0.879443\tvalid_1's binary_logloss: 0.343505\n",
            "[300]\ttraining's auc: 0.990366\ttraining's binary_logloss: 0.155787\tvalid_1's auc: 0.882031\tvalid_1's binary_logloss: 0.320825\n",
            "[350]\ttraining's auc: 0.991433\ttraining's binary_logloss: 0.139463\tvalid_1's auc: 0.884116\tvalid_1's binary_logloss: 0.306417\n",
            "[400]\ttraining's auc: 0.992242\ttraining's binary_logloss: 0.127032\tvalid_1's auc: 0.885632\tvalid_1's binary_logloss: 0.295635\n",
            "[450]\ttraining's auc: 0.992889\ttraining's binary_logloss: 0.117407\tvalid_1's auc: 0.887047\tvalid_1's binary_logloss: 0.286865\n",
            "[500]\ttraining's auc: 0.993409\ttraining's binary_logloss: 0.110031\tvalid_1's auc: 0.888438\tvalid_1's binary_logloss: 0.280814\n",
            "[550]\ttraining's auc: 0.993836\ttraining's binary_logloss: 0.10415\tvalid_1's auc: 0.889509\tvalid_1's binary_logloss: 0.275806\n",
            "[600]\ttraining's auc: 0.994185\ttraining's binary_logloss: 0.0994948\tvalid_1's auc: 0.890421\tvalid_1's binary_logloss: 0.27266\n",
            "[650]\ttraining's auc: 0.994512\ttraining's binary_logloss: 0.0955583\tvalid_1's auc: 0.89124\tvalid_1's binary_logloss: 0.270345\n",
            "[700]\ttraining's auc: 0.994825\ttraining's binary_logloss: 0.0921343\tvalid_1's auc: 0.891982\tvalid_1's binary_logloss: 0.268437\n",
            "[750]\ttraining's auc: 0.995101\ttraining's binary_logloss: 0.0891093\tvalid_1's auc: 0.892577\tvalid_1's binary_logloss: 0.266909\n",
            "[800]\ttraining's auc: 0.995354\ttraining's binary_logloss: 0.0864626\tvalid_1's auc: 0.893156\tvalid_1's binary_logloss: 0.265639\n",
            "[850]\ttraining's auc: 0.995595\ttraining's binary_logloss: 0.0841098\tvalid_1's auc: 0.89363\tvalid_1's binary_logloss: 0.264713\n",
            "[900]\ttraining's auc: 0.995832\ttraining's binary_logloss: 0.0819582\tvalid_1's auc: 0.894067\tvalid_1's binary_logloss: 0.264208\n",
            "[950]\ttraining's auc: 0.996053\ttraining's binary_logloss: 0.0799754\tvalid_1's auc: 0.894457\tvalid_1's binary_logloss: 0.263781\n",
            "[1000]\ttraining's auc: 0.996261\ttraining's binary_logloss: 0.078109\tvalid_1's auc: 0.894804\tvalid_1's binary_logloss: 0.263216\n",
            "[1050]\ttraining's auc: 0.99645\ttraining's binary_logloss: 0.0763623\tvalid_1's auc: 0.895051\tvalid_1's binary_logloss: 0.26268\n",
            "[1100]\ttraining's auc: 0.996641\ttraining's binary_logloss: 0.0748088\tvalid_1's auc: 0.8953\tvalid_1's binary_logloss: 0.262476\n",
            "[1150]\ttraining's auc: 0.996814\ttraining's binary_logloss: 0.0733217\tvalid_1's auc: 0.895535\tvalid_1's binary_logloss: 0.262284\n",
            "[1200]\ttraining's auc: 0.996987\ttraining's binary_logloss: 0.0718839\tvalid_1's auc: 0.895745\tvalid_1's binary_logloss: 0.262029\n",
            "[1250]\ttraining's auc: 0.997138\ttraining's binary_logloss: 0.0705503\tvalid_1's auc: 0.895867\tvalid_1's binary_logloss: 0.261918\n",
            "[1300]\ttraining's auc: 0.997288\ttraining's binary_logloss: 0.0692426\tvalid_1's auc: 0.895911\tvalid_1's binary_logloss: 0.261999\n",
            "[1350]\ttraining's auc: 0.997423\ttraining's binary_logloss: 0.0680366\tvalid_1's auc: 0.895955\tvalid_1's binary_logloss: 0.262089\n",
            "[1400]\ttraining's auc: 0.997545\ttraining's binary_logloss: 0.0668523\tvalid_1's auc: 0.896014\tvalid_1's binary_logloss: 0.262084\n",
            "Did not meet early stopping. Best iteration is:\n",
            "[1400]\ttraining's auc: 0.997545\ttraining's binary_logloss: 0.0668523\tvalid_1's auc: 0.896014\tvalid_1's binary_logloss: 0.262084\n"
          ],
          "name": "stdout"
        },
        {
          "output_type": "execute_result",
          "data": {
            "text/plain": [
              "LGBMClassifier(boosting_type='gbdt', class_weight=None, colsample_bytree=1.0,\n",
              "               importance_type='split', learning_rate=0.01, max_bin=100,\n",
              "               max_depth=-1, min_child_samples=20, min_child_weight=0.001,\n",
              "               min_split_gain=0.0, n_estimators=1400, n_jobs=10, num_leaves=31,\n",
              "               objective=None, random_state=1999, reg_alpha=0.0, reg_lambda=0.0,\n",
              "               silent=True, subsample=1.0, subsample_for_bin=200000,\n",
              "               subsample_freq=0)"
            ]
          },
          "metadata": {
            "tags": []
          },
          "execution_count": 33
        }
      ]
    },
    {
      "cell_type": "code",
      "metadata": {
        "id": "RYp6SMBKYb_S",
        "outputId": "65e3daa2-4759-43f0-bb86-6e97d48dcab8"
      },
      "source": [
        "clf.best_iteration"
      ],
      "execution_count": null,
      "outputs": [
        {
          "output_type": "error",
          "ename": "AttributeError",
          "evalue": "'LGBMClassifier' object has no attribute 'best_iteration'",
          "traceback": [
            "\u001b[1;31m---------------------------------------------------------------------------\u001b[0m",
            "\u001b[1;31mAttributeError\u001b[0m                            Traceback (most recent call last)",
            "\u001b[1;32m<ipython-input-48-dd29bb37da09>\u001b[0m in \u001b[0;36m<module>\u001b[1;34m\u001b[0m\n\u001b[1;32m----> 1\u001b[1;33m \u001b[0mclf\u001b[0m\u001b[1;33m.\u001b[0m\u001b[0mbest_iteration\u001b[0m\u001b[1;33m\u001b[0m\u001b[1;33m\u001b[0m\u001b[0m\n\u001b[0m",
            "\u001b[1;31mAttributeError\u001b[0m: 'LGBMClassifier' object has no attribute 'best_iteration'"
          ]
        }
      ]
    },
    {
      "cell_type": "code",
      "metadata": {
        "id": "IchZQzUNYb_T"
      },
      "source": [
        "from sklearn.ensemble import GradientBoostingClassifier\n",
        "gbc = GradientBoostingClassifier(learning_rate=0.05, n_estimators=512, max_depth=8, min_samples_split=200,subsample=0.85,min_samples_leaf=100,max_features='auto',random_state=10)\n",
        "gbc.fit(X_train_res_1,y_train_res)"
      ],
      "execution_count": null,
      "outputs": []
    },
    {
      "cell_type": "code",
      "metadata": {
        "id": "k44-ksaHYb_T"
      },
      "source": [
        "from sklearn.ensemble import VotingClassifier\n",
        "votingC = VotingClassifier(estimators=[('gbc',gbc),('xgb',xgbC),('clf',clf),('rfc',rfc)],voting='soft')\n",
        "votingC = votingC.fit(X_train_res_1,y_train_res)"
      ],
      "execution_count": null,
      "outputs": []
    },
    {
      "cell_type": "code",
      "metadata": {
        "id": "mlv2B_P_Yb_T",
        "outputId": "b686aaae-925d-427c-8b50-2f4a955e5844"
      },
      "source": [
        "from sklearn import metrics\n",
        "\n",
        "#y_pred_prob = votingC.predict_proba(X_test)\n",
        "# y_pred_1=y_pred=\n",
        "\n",
        "y_pred=clf.predict(X_test)\n",
        "\n",
        "# y_pred_1[:,1] = (y_pred [:,1] >= 0.5).astype('int')\n",
        "# y_pred_1[:,0] = (y_pred [:,0] <0.5).astype('int')\n",
        "\n",
        "# print(y_pred.shape)\n",
        "\n",
        "# predicted [:,0] = (predicted [:,0] < threshold).astype('int')\n",
        "# predicted [:,1] = (predicted [:,1] >= threshold).astype('int')\n",
        "\n",
        "\n",
        "\n",
        "# Model Accuracy, how often is the classifier correct\n",
        "print(\"Accuracy:\",metrics.accuracy_score(y_test, y_pred))\n",
        "\n",
        "print(\"roc_auc_score:\",metrics.roc_auc_score(y_test, y_pred))\n",
        "\n",
        "\n",
        "\n",
        "\n",
        "print(\"confusion_matrix:\",metrics.confusion_matrix(y_test, y_pred))\n",
        "\n",
        "\n",
        "tn, fp, fn, tp =metrics.confusion_matrix(y_test, y_pred).ravel()\n",
        "\n",
        "\n",
        "print(\"True negative:\",tn)\n",
        "\n",
        "print(\"False positive:\",fp)\n",
        "\n",
        "print(\"False Negative:\",fn)\n",
        "\n",
        "print(\"True positive:\",tp)\n",
        "\n",
        "\n",
        "\n"
      ],
      "execution_count": null,
      "outputs": [
        {
          "output_type": "stream",
          "text": [
            "Accuracy: 0.9303821621326936\n",
            "roc_auc_score: 0.6630352648071677\n",
            "confusion_matrix: [[16529   235]\n",
            " [ 1042   537]]\n",
            "True negative: 16529\n",
            "False positive: 235\n",
            "False Negative: 1042\n",
            "True positive: 537\n"
          ],
          "name": "stdout"
        }
      ]
    },
    {
      "cell_type": "code",
      "metadata": {
        "id": "p7aCGgQgYb_T"
      },
      "source": [
        "from sklearn.model_selection import cross_val_score\n",
        "from sklearn.model_selection import GridSearchCV\n",
        "from sklearn.ensemble import RandomForestClassifier\n",
        "estimator = RandomForestClassifier(n_estimators=512,criterion='gini', \n",
        "                                   max_depth=25, min_samples_split=100,\n",
        "                                   min_samples_leaf=10,max_features='auto',random_state=1235)\n",
        "parameters = {\n",
        "#        'max_depth': range (15, 50, 10)\n",
        "  #  'n_estimators':range(200,500,100) #range(100, 1500, 500)#,\n",
        "      # 'min_samples_split':range(100,500,50)\n",
        "      # 'min_samples_leaf':range(10,210,50)\n",
        "        'max_features':range(10,100,20),\n",
        "}\n",
        "\n",
        "grid_search = GridSearchCV(\n",
        "    estimator=estimator,\n",
        "    param_grid=parameters,\n",
        "    scoring = 'roc_auc',\n",
        "    n_jobs = 5,\n",
        "    cv = 3,\n",
        "    verbose=True\n",
        ")\n",
        "\n",
        "grid_search.fit(X_train_res_1,y_train_res)"
      ],
      "execution_count": null,
      "outputs": []
    },
    {
      "cell_type": "code",
      "metadata": {
        "id": "Rhzm4mGYYb_U",
        "outputId": "5307d304-4b36-47e2-e154-ebf33b1f5546"
      },
      "source": [
        "import matplotlib.pyplot as plt\n",
        "features = X_train.columns\n",
        "importances = clf.feature_importances_\n",
        "indices = np.argsort(importances)[::-1]\n",
        "\n",
        "\n",
        "for i in range(X_train.shape[1]):\n",
        "   print(features[indices[i]], importances[indices[i]]*100)"
      ],
      "execution_count": null,
      "outputs": [
        {
          "output_type": "stream",
          "text": [
            "d1_heartrate_min 45200\n",
            "pre_icu_los_days 42700\n",
            "d1_glucose_min 35500\n",
            "age 35000\n",
            "apache_3j_diagnosis 34100\n",
            "apache_3 33800\n",
            "d1_spo2_min 32700\n",
            "d1_temp_max 31900\n",
            "d1_heartrate_max 30100\n",
            "apache_full 29800\n",
            "bmi 29700\n",
            "d1_resprate_max 27800\n",
            "d1_temp_min 27400\n",
            "d1_glucose_max 26500\n",
            "height 26100\n",
            "weight 25900\n",
            "d1_platelets_min 25700\n",
            "d1_sysbp_max 25600\n",
            "d1_resprate_min 25600\n",
            "d1_wbc_min 25200\n",
            "glucose_apache 24100\n",
            "apache_2_diagnosis 24000\n",
            "map_apache 23300\n",
            "4a_diff 22700\n",
            "heart_resp_plus 21200\n",
            "d1_hco3_max 21200\n",
            "resprate_apache 21000\n",
            "heart_rate_apache 20600\n",
            "d1_sodium_max 20100\n",
            "d1_potassium_min 20000\n",
            "wbc_apache 19900\n",
            "d1_calcium_min 19900\n",
            "d1_hemaglobin_max 19800\n",
            "d1_bun_min 19600\n",
            "d1_hematocrit_max 19500\n",
            "map_new 19300\n",
            "d1_potassium_max 19100\n",
            "d1_bun_max 19100\n",
            "d1_diasbp_noninvasive_max 18800\n",
            "d1_hco3_min 18800\n",
            "4a_plus 18600\n",
            "d1_creatinine_max 18400\n",
            "d1_creatinine_min 18400\n",
            "hematocrit_apache 18400\n",
            "d1_platelets_max 17900\n",
            "d1_sysbp_noninvasive_min 17800\n",
            "d1_calcium_max 17600\n",
            "d1_mbp_min 17600\n",
            "d1_hemaglobin_min 17300\n",
            "bun_apache 17300\n",
            "apache_4a_hospital_death_prob 17200\n",
            "temp_apache 16900\n",
            "creatinine_apache 16700\n",
            "d1_wbc_max 16500\n",
            "d1_mbp_max 16100\n",
            "d1_hematocrit_min 15500\n",
            "apache_4a_icu_death_prob 15500\n",
            "d1_sysbp_noninvasive_max 14700\n",
            "NA_info 12600\n",
            "sodium_apache 12400\n",
            "d1_sysbp_min 12100\n",
            "d1_diasbp_noninvasive_min 11900\n",
            "hospital_admit_source 11400\n",
            "gsc_score 11200\n",
            "d1_mbp_noninvasive_max 11100\n",
            "d1_spo2_max 10200\n",
            "d1_sodium_min 10100\n",
            "apache_2_bodysystem 8500\n",
            "ventilated_apache 7900\n",
            "d1_diasbp_min 7900\n",
            "d1_mbp_noninvasive_min 7300\n",
            "resprate_apache_bins 7000\n",
            "apache_3j_bodysystem 6800\n",
            "d1_diasbp_max 6400\n",
            "heart_rate_apache_bins 4700\n",
            "gcs_verbal_apache 4700\n",
            "map_apache_bins 4300\n",
            "gcs_eyes_apache 4200\n",
            "gcs_motor_apache 4000\n",
            "apache_hist 3100\n",
            "wbc_apache_bins 3000\n",
            "gender 2600\n",
            "creatinine_apache_bins 2300\n",
            "intubated_apache 1600\n",
            "temp_apache_bins 1600\n",
            "gsc_score_bins 1400\n",
            "sodium_apache_bins 1300\n",
            "arf_apache 1200\n",
            "elective_surgery 1200\n",
            "d1_potassium_max_bins 1000\n",
            "hematocrit_apache_bins 1000\n",
            "potassium_apache_bins 900\n",
            "d1_potassium_min_bins 300\n",
            "age_bins 100\n",
            "gcs_unable_apache 0\n",
            "readmission_status 0\n",
            "apache_post_operative 0\n"
          ],
          "name": "stdout"
        }
      ]
    },
    {
      "cell_type": "code",
      "metadata": {
        "id": "5NW0HZt3Yb_U",
        "outputId": "b68f398b-1043-4d5f-d7d0-a5a66d2c4b71"
      },
      "source": [
        "test = test.fillna(0)\n",
        "test_pred=clf.predict_proba(test[features_added_to_model1])\n",
        "test_pred[:,1]"
      ],
      "execution_count": null,
      "outputs": [
        {
          "output_type": "execute_result",
          "data": {
            "text/plain": [
              "array([0.08196505, 0.03118167, 0.08956001, ..., 0.24235404, 0.05106602,\n",
              "       0.67427851])"
            ]
          },
          "metadata": {
            "tags": []
          },
          "execution_count": 39
        }
      ]
    },
    {
      "cell_type": "code",
      "metadata": {
        "id": "dLXXgW4tYb_U",
        "outputId": "5e1fe57c-4f6f-4fe9-ff39-45af9d01f0bd"
      },
      "source": [
        "# test = test.drop('hospital_death',axis = 1)\n",
        "test[\"hospital_death\"] = test_pred[:,1]\n",
        "test[[\"encounter_id\",\"hospital_death\"]].to_csv(\"submit/test_CLF3.csv\",index=False)\n",
        "test[[\"encounter_id\",\"hospital_death\"]].head()"
      ],
      "execution_count": null,
      "outputs": [
        {
          "output_type": "execute_result",
          "data": {
            "text/html": [
              "<div>\n",
              "<style scoped>\n",
              "    .dataframe tbody tr th:only-of-type {\n",
              "        vertical-align: middle;\n",
              "    }\n",
              "\n",
              "    .dataframe tbody tr th {\n",
              "        vertical-align: top;\n",
              "    }\n",
              "\n",
              "    .dataframe thead th {\n",
              "        text-align: right;\n",
              "    }\n",
              "</style>\n",
              "<table border=\"1\" class=\"dataframe\">\n",
              "  <thead>\n",
              "    <tr style=\"text-align: right;\">\n",
              "      <th></th>\n",
              "      <th>encounter_id</th>\n",
              "      <th>hospital_death</th>\n",
              "    </tr>\n",
              "  </thead>\n",
              "  <tbody>\n",
              "    <tr>\n",
              "      <td>0</td>\n",
              "      <td>2</td>\n",
              "      <td>0.081965</td>\n",
              "    </tr>\n",
              "    <tr>\n",
              "      <td>1</td>\n",
              "      <td>5</td>\n",
              "      <td>0.031182</td>\n",
              "    </tr>\n",
              "    <tr>\n",
              "      <td>2</td>\n",
              "      <td>7</td>\n",
              "      <td>0.089560</td>\n",
              "    </tr>\n",
              "    <tr>\n",
              "      <td>3</td>\n",
              "      <td>8</td>\n",
              "      <td>0.608004</td>\n",
              "    </tr>\n",
              "    <tr>\n",
              "      <td>4</td>\n",
              "      <td>10</td>\n",
              "      <td>0.706238</td>\n",
              "    </tr>\n",
              "  </tbody>\n",
              "</table>\n",
              "</div>"
            ],
            "text/plain": [
              "   encounter_id  hospital_death\n",
              "0             2        0.081965\n",
              "1             5        0.031182\n",
              "2             7        0.089560\n",
              "3             8        0.608004\n",
              "4            10        0.706238"
            ]
          },
          "metadata": {
            "tags": []
          },
          "execution_count": 40
        }
      ]
    },
    {
      "cell_type": "code",
      "metadata": {
        "id": "wEuRrsWbYb_V"
      },
      "source": [
        "feature_to_file=['encounter_id','hospital_death']+features_added_to_model1"
      ],
      "execution_count": null,
      "outputs": []
    },
    {
      "cell_type": "code",
      "metadata": {
        "id": "BX7F58OuYb_V"
      },
      "source": [
        "df['perdict_value']=gbc.predict(df[features_added_to_model1])\n",
        "df['perdict_value_prob']=gbc.predict_proba(df[features_added_to_model1])[:,1]"
      ],
      "execution_count": null,
      "outputs": []
    },
    {
      "cell_type": "code",
      "metadata": {
        "id": "BjBDDDr_Yb_V"
      },
      "source": [
        "df.to_csv(\"result_final_1.csv\",index=False)"
      ],
      "execution_count": null,
      "outputs": []
    },
    {
      "cell_type": "code",
      "metadata": {
        "id": "cmL9u1NhYb_V",
        "outputId": "c43f9aa6-1915-4ad3-d77b-61ac18d4d8cb"
      },
      "source": [
        "len(feature_to_file)"
      ],
      "execution_count": null,
      "outputs": [
        {
          "output_type": "execute_result",
          "data": {
            "text/plain": [
              "98"
            ]
          },
          "metadata": {
            "tags": []
          },
          "execution_count": 163
        }
      ]
    },
    {
      "cell_type": "code",
      "metadata": {
        "id": "P9aJ1vveYb_W"
      },
      "source": [
        ""
      ],
      "execution_count": null,
      "outputs": []
    },
    {
      "cell_type": "code",
      "metadata": {
        "id": "L29Q-qTrYb_W"
      },
      "source": [
        "df[feature_to_file].to_csv(\"full_data_6_knn.csv\",index=False)"
      ],
      "execution_count": null,
      "outputs": []
    },
    {
      "cell_type": "code",
      "metadata": {
        "id": "iijdLCVgYb_W"
      },
      "source": [
        "test[feature_to_file].to_csv(\"test_data_final_round.csv\",index=False)"
      ],
      "execution_count": null,
      "outputs": []
    },
    {
      "cell_type": "code",
      "metadata": {
        "id": "SlrFCL1IYb_W"
      },
      "source": [
        "# df[\"predict_hospital\"]=rfc.predict(df_model)\n",
        "# df.to_csv(\"test_predict.csv\",index=False)"
      ],
      "execution_count": null,
      "outputs": []
    }
  ]
}