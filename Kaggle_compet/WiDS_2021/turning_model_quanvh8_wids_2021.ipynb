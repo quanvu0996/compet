{
  "nbformat": 4,
  "nbformat_minor": 0,
  "metadata": {
    "colab": {
      "name": "Untitled2.ipynb",
      "provenance": [],
      "toc_visible": true,
      "authorship_tag": "ABX9TyMmB41YtgHQmULsXVhgOxRQ",
      "include_colab_link": true
    },
    "kernelspec": {
      "name": "python3",
      "display_name": "Python 3"
    }
  },
  "cells": [
    {
      "cell_type": "markdown",
      "metadata": {
        "id": "view-in-github",
        "colab_type": "text"
      },
      "source": [
        "<a href=\"https://colab.research.google.com/github/quanvu0996/compet/blob/master/Kaggle_compet/WiDS_2021/turning_model_quanvh8_wids_2021.ipynb\" target=\"_parent\"><img src=\"https://colab.research.google.com/assets/colab-badge.svg\" alt=\"Open In Colab\"/></a>"
      ]
    },
    {
      "cell_type": "markdown",
      "metadata": {
        "id": "i7QTj43OSQt4"
      },
      "source": [
        "# ENVIROMENT SETTING"
      ]
    },
    {
      "cell_type": "code",
      "metadata": {
        "id": "AyS1pu1YiDsd"
      },
      "source": [
        "# Octopus ML pakage - github.com/gershonc/octopus-ml\r\n",
        "# !pip install octopus-ml"
      ],
      "execution_count": 53,
      "outputs": []
    },
    {
      "cell_type": "code",
      "metadata": {
        "id": "3-ysumBpQ4mN"
      },
      "source": [
        "# COLAB ONLY\r\n",
        "from google.colab import drive\r\n",
        "drive.mount('/content/drive')"
      ],
      "execution_count": null,
      "outputs": []
    },
    {
      "cell_type": "code",
      "metadata": {
        "id": "P8fGRgDuRn_M"
      },
      "source": [
        "import numpy as np\r\n",
        "import pandas as pd\r\n",
        "import matplotlib.pyplot as plt\r\n",
        "import tensorflow as tf\r\n",
        "import octopus_ml as oc\r\n",
        "import sklearn as sk\r\n",
        "\r\n",
        "from sklearn.model_selection import train_test_split, StratifiedKFold, cross_val_score\r\n",
        "from sklearn.pipeline import Pipeline\r\n",
        "from sklearn.compose import ColumnTransformer\r\n",
        "from sklearn import preprocessing\r\n",
        "from sklearn import ensemble\r\n",
        "from sklearn.impute import SimpleImputer\r\n",
        "from sklearn.metrics import accuracy_score, precision_score, recall_score, f1_score,roc_curve, auc, confusion_matrix\r\n",
        "from sklearn.base import BaseEstimator, TransformerMixin\r\n",
        "from sklearn.svm import LinearSVC\r\n",
        "from sklearn.linear_model import LogisticRegression\r\n",
        "from sklearn.decomposition import PCA, TruncatedSVD\r\n",
        "\r\n",
        "from multiprocessing.pool import ThreadPool\r\n",
        "from multiprocessing import Pool \r\n",
        "from scipy.stats import ks_2samp\r\n",
        "\r\n",
        "from xgboost import XGBClassifier\r\n",
        "# from catboost import CatBoostClassifier\r\n",
        "from lightgbm import LGBMClassifier"
      ],
      "execution_count": 54,
      "outputs": []
    },
    {
      "cell_type": "markdown",
      "metadata": {
        "id": "KV6S5I3RTht0"
      },
      "source": [
        "#### Data loading"
      ]
    },
    {
      "cell_type": "code",
      "metadata": {
        "colab": {
          "base_uri": "https://localhost:8080/"
        },
        "id": "RzGlxfR_SM6k",
        "outputId": "32d43701-2ced-41e4-accc-cc810cab9917"
      },
      "source": [
        "folder_path = '/content/drive/MyDrive/Data/colabs_data/WiDS' #Kaggle: ../input/widsdatathon2021/ #Local PC: '.'\r\n",
        "df_train = pd.read_csv(folder_path + \"/TrainingWiDS2021.csv\")\r\n",
        "df_test = pd.read_csv(folder_path + \"/UnlabeledWiDS2021.csv\")\r\n",
        "print(df_train.shape)\r\n",
        "print(df_test.shape)"
      ],
      "execution_count": 4,
      "outputs": [
        {
          "output_type": "stream",
          "text": [
            "(130157, 181)\n",
            "(10234, 180)\n"
          ],
          "name": "stdout"
        }
      ]
    },
    {
      "cell_type": "markdown",
      "metadata": {
        "id": "_SURT1ngTnG3"
      },
      "source": [
        "#### Feature classification\r\n",
        "Phân loại các loại nhãn dữ liệu cần xử lý\r\n"
      ]
    },
    {
      "cell_type": "code",
      "metadata": {
        "id": "x76dIln_Txzo"
      },
      "source": [
        "# Data type \r\n",
        "col_target = 'diabetes_mellitus'\r\n",
        "cols_id = ['encounter_id', 'Unnamed: 0']\r\n",
        "cols_cat = [i for i in df_train.select_dtypes('object').columns if i not in cols_id + [col_target]]\r\n",
        "cols_num = [i for i in df_train if i not in cols_cat + cols_id + [col_target] ]\r\n",
        "cols_ft = cols_cat + cols_num"
      ],
      "execution_count": 5,
      "outputs": []
    },
    {
      "cell_type": "markdown",
      "metadata": {
        "id": "CiBmAzr7UKJl"
      },
      "source": [
        "# BASELINE DATA PIPELINE\r\n",
        "Chạy model mà không thêm feature"
      ]
    },
    {
      "cell_type": "markdown",
      "metadata": {
        "id": "ZypnAq_rTD2G"
      },
      "source": [
        "# DATA PROCESSING\r\n",
        "Prepare and transform data"
      ]
    },
    {
      "cell_type": "code",
      "metadata": {
        "colab": {
          "base_uri": "https://localhost:8080/"
        },
        "id": "gvgsSKIyXR9R",
        "outputId": "671c18d2-32a6-40f4-bbe2-3c3c10e42ccc"
      },
      "source": [
        "# Model 1: baseline, không bổ sung feature, model đơn giản\r\n",
        "p_cat = Pipeline([\r\n",
        "  ('imputer', SimpleImputer(strategy='constant', fill_value='missing')) ,\r\n",
        "  ('encode', preprocessing.OrdinalEncoder())\r\n",
        "])\r\n",
        "p_num = Pipeline([\r\n",
        "  ('fillna', SimpleImputer(strategy='constant', fill_value= -10000))\r\n",
        "])\r\n",
        "p1 = ColumnTransformer([\r\n",
        "  ('cat', p_cat, cols_cat),\r\n",
        "  ('num', p_num, cols_num)\r\n",
        "])\r\n",
        "\r\n",
        "pipe = Pipeline([\r\n",
        "  ('transformer', p1),\r\n",
        "  ('predictor', XGBClassifier(n_estimators= 100, n_jobs= -1, max_depth = 5 ))\r\n",
        "])\r\n",
        "\r\n",
        "cv_auc = cross_val_score( pipe, df_train[cols_ft], df_train[col_target], \r\n",
        "                         cv = 5, scoring = 'roc_auc', verbose = 1, n_jobs = -1)\r\n",
        "pipe.fit(df_train[cols_ft], df_train[col_target])\r\n",
        "\r\n",
        "print(cv_auc)\r\n",
        "print(np.mean(cv_auc))\r\n",
        "# [0.85000521 0.84067354 0.83726405 0.7301786  0.8296305 ]\r\n",
        "# => AUC at CV: 0.8175503796337711\r\n",
        "# => AUC at LB: 0.70188"
      ],
      "execution_count": 13,
      "outputs": [
        {
          "output_type": "stream",
          "text": [
            "[0.85000521 0.84067354 0.83726405 0.7301786  0.8296305 ]\n",
            "0.8175503796337711\n"
          ],
          "name": "stdout"
        }
      ]
    },
    {
      "cell_type": "code",
      "metadata": {
        "id": "HHgi80hpf3pj",
        "outputId": "1169a451-129d-4ea4-f21e-09ee04a072c7",
        "colab": {
          "base_uri": "https://localhost:8080/"
        }
      },
      "source": [
        "# Model 2: baseline, model đã turning, feature đơn giản\r\n",
        "p_cat = Pipeline([\r\n",
        "  ('imputer', SimpleImputer(strategy='constant', fill_value='missing')) ,\r\n",
        "  ('encode', preprocessing.OrdinalEncoder())\r\n",
        "])\r\n",
        "p_num = Pipeline([\r\n",
        "  ('fillna', SimpleImputer(strategy='constant', fill_value= -10000))\r\n",
        "])\r\n",
        "p1 = ColumnTransformer([\r\n",
        "  ('cat', p_cat, cols_cat),\r\n",
        "  ('num', p_num, cols_num)\r\n",
        "])\r\n",
        "\r\n",
        "pipe = Pipeline([\r\n",
        "  ('transformer', p1),\r\n",
        "])\r\n",
        "\r\n",
        "X = pd.DataFrame(data = pipe.fit_transform( df_train[cols_ft]), columns= cols_ft)\r\n",
        "y = df_train[col_target]\r\n",
        "\r\n",
        "# Turning model\r\n",
        "params = {\r\n",
        "        'boosting_type': 'gbdt',\r\n",
        "        'objective': 'binary',\r\n",
        "        'metric': 'auc',\r\n",
        "        'learning_rate': 0.007,\r\n",
        "        'subsample': 1,\r\n",
        "        'colsample_bytree': 0.25,\r\n",
        "        'reg_alpha': 3,\r\n",
        "        'reg_lambda': 1,\r\n",
        "        'scale_pos_weight': 3,\r\n",
        "        'n_estimators': 10000,\r\n",
        "        'verbose': 1,\r\n",
        "        'max_depth': -1,\r\n",
        "        'seed':100, \r\n",
        "        'force_col_wise': True\r\n",
        "\r\n",
        "}\r\n",
        "\r\n",
        "clf,arr_f1_weighted,arr_f1_macro,arr_f1_positive,prediction_folds,preds_folds,y_folds= oc.cv(\r\n",
        "    X, y,\r\n",
        "    0.5,16000,shuffle=True,params=params)\r\n",
        "\r\n",
        "# => AUC at CV: \r\n",
        "# => AUC at LB: "
      ],
      "execution_count": null,
      "outputs": [
        {
          "output_type": "stream",
          "text": [
            "\r0it [00:00, ?it/s]/usr/local/lib/python3.6/dist-packages/lightgbm/engine.py:118: UserWarning: Found `n_estimators` in params. Will use it instead of argument\n",
            "  warnings.warn(\"Found `{}` in params. Will use it instead of argument\".format(alias))\n",
            "/usr/local/lib/python3.6/dist-packages/lightgbm/basic.py:1205: UserWarning: Using categorical_feature in Dataset.\n",
            "  warnings.warn('Using categorical_feature in Dataset.')\n"
          ],
          "name": "stderr"
        }
      ]
    },
    {
      "cell_type": "code",
      "metadata": {
        "id": "4arhSqYajC48",
        "outputId": "8f62fcc5-d63e-4896-83f4-b47b2aaca347",
        "colab": {
          "base_uri": "https://localhost:8080/"
        }
      },
      "source": [
        "len(cols_ft)"
      ],
      "execution_count": 58,
      "outputs": [
        {
          "output_type": "execute_result",
          "data": {
            "text/plain": [
              "178"
            ]
          },
          "metadata": {
            "tags": []
          },
          "execution_count": 58
        }
      ]
    },
    {
      "cell_type": "markdown",
      "metadata": {
        "id": "w7MvOsQeSh3D"
      },
      "source": [
        "## ADD DERIVED FEATURES"
      ]
    },
    {
      "cell_type": "code",
      "metadata": {
        "id": "8ur1n2dJSOmp"
      },
      "source": [
        ""
      ],
      "execution_count": null,
      "outputs": []
    },
    {
      "cell_type": "markdown",
      "metadata": {
        "id": "ahyN_Kc5Sx5s"
      },
      "source": [
        "# MODEL TURNING"
      ]
    },
    {
      "cell_type": "code",
      "metadata": {
        "id": "D6EIRnR7Sz7j"
      },
      "source": [
        ""
      ],
      "execution_count": null,
      "outputs": []
    },
    {
      "cell_type": "markdown",
      "metadata": {
        "id": "CCS0ZNYZS0m0"
      },
      "source": [
        "# SUBMISSION"
      ]
    },
    {
      "cell_type": "code",
      "metadata": {
        "id": "VhdnEUzicNFn"
      },
      "source": [
        "df_test['diabetes_mellitus'] = pipe.predict(df_test[cols_ft])\r\n",
        "df_ss = df_test[['encounter_id', 'diabetes_mellitus']]\r\n",
        "df_ss.to_csv('./submission.csv', index = False)"
      ],
      "execution_count": 50,
      "outputs": []
    },
    {
      "cell_type": "markdown",
      "metadata": {
        "id": "d62_Xt8DcGhR"
      },
      "source": [
        "## CHECK ERROR"
      ]
    },
    {
      "cell_type": "code",
      "metadata": {
        "id": "GwjYCOwUZ1Rj",
        "outputId": "df5f031f-f68d-4039-86b4-83c8773c63c7",
        "colab": {
          "base_uri": "https://localhost:8080/"
        }
      },
      "source": [
        "for i in cols_cat:\r\n",
        "  test_and_not_train = [t for t in df_test[i].unique() if t not in df_train[i].unique()]\r\n",
        "  if len(test_and_not_train) !=0:\r\n",
        "    print('column with value in test data but not train: ', i, ' ; \\n value: ', test_and_not_train)\r\n",
        "  train_and_not_test = [t for t in df_train[i].unique() if t not in df_test[i].unique()]\r\n",
        "  if len(train_and_not_test) != 0:\r\n",
        "    print('column with value in train data but not test: ', i, ' ; \\n value: ', train_and_not_test)\r\n"
      ],
      "execution_count": 23,
      "outputs": [
        {
          "output_type": "stream",
          "text": [
            "column with value in test data but not train:  ethnicity  ; \n",
            " value:  [nan]\n",
            "column with value in train data but not test:  ethnicity  ; \n",
            " value:  [nan]\n",
            "column with value in test data but not train:  gender  ; \n",
            " value:  [nan]\n",
            "column with value in train data but not test:  gender  ; \n",
            " value:  [nan]\n",
            "column with value in test data but not train:  hospital_admit_source  ; \n",
            " value:  [nan]\n",
            "column with value in train data but not test:  hospital_admit_source  ; \n",
            " value:  [nan, 'Acute Care/Floor', 'PACU', 'Observation', 'ICU', 'Other']\n",
            "column with value in test data but not train:  icu_admit_source  ; \n",
            " value:  [nan]\n",
            "column with value in train data but not test:  icu_admit_source  ; \n",
            " value:  [nan]\n"
          ],
          "name": "stdout"
        }
      ]
    },
    {
      "cell_type": "code",
      "metadata": {
        "id": "eV3-UnhabWv-",
        "outputId": "23b7e0a1-4662-48f7-a276-b6ae7af725d8",
        "colab": {
          "base_uri": "https://localhost:8080/"
        }
      },
      "source": [
        "# hospital_admit_source  \r\n",
        "print(df_train['hospital_admit_source'].unique())\r\n",
        "print(df_test['hospital_admit_source'].unique())"
      ],
      "execution_count": 25,
      "outputs": [
        {
          "output_type": "stream",
          "text": [
            "['Floor' 'Emergency Department' 'Operating Room' nan 'Direct Admit'\n",
            " 'Other Hospital' 'Other ICU' 'ICU to SDU' 'Recovery Room'\n",
            " 'Chest Pain Center' 'Step-Down Unit (SDU)' 'Acute Care/Floor' 'PACU'\n",
            " 'Observation' 'ICU' 'Other']\n",
            "['Floor' 'Emergency Department' 'Direct Admit' nan 'Operating Room'\n",
            " 'Other Hospital' 'Other ICU' 'ICU to SDU' 'Recovery Room'\n",
            " 'Step-Down Unit (SDU)' 'Chest Pain Center']\n"
          ],
          "name": "stdout"
        }
      ]
    },
    {
      "cell_type": "code",
      "metadata": {
        "id": "lP-GgYxVahyr",
        "outputId": "d0ff8598-4349-44f8-aee3-ef9d1d722f32",
        "colab": {
          "base_uri": "https://localhost:8080/"
        }
      },
      "source": [
        "df_train[i].unique()"
      ],
      "execution_count": 21,
      "outputs": [
        {
          "output_type": "execute_result",
          "data": {
            "text/plain": [
              "array(['CTICU', 'Med-Surg ICU', 'CCU-CTICU', 'Neuro ICU', 'MICU', 'SICU',\n",
              "       'Cardiac ICU', 'CSICU'], dtype=object)"
            ]
          },
          "metadata": {
            "tags": []
          },
          "execution_count": 21
        }
      ]
    },
    {
      "cell_type": "code",
      "metadata": {
        "id": "Op9SM6_daawQ",
        "outputId": "65c991a7-9ed6-422a-9dcb-6e3a6c9de7ab",
        "colab": {
          "base_uri": "https://localhost:8080/"
        }
      },
      "source": [
        "'CTICU' not in df_test[i].unique()"
      ],
      "execution_count": 22,
      "outputs": [
        {
          "output_type": "execute_result",
          "data": {
            "text/plain": [
              "False"
            ]
          },
          "metadata": {
            "tags": []
          },
          "execution_count": 22
        }
      ]
    },
    {
      "cell_type": "code",
      "metadata": {
        "id": "BmOMiKXzZdim",
        "outputId": "87d0907a-627c-4e9d-9946-f7e6e87ce395",
        "colab": {
          "base_uri": "https://localhost:8080/"
        }
      },
      "source": [
        "# # Kiểm tra vì sao pipe bị lỗi\r\n",
        "# pipe[0].transformers[0][1].fit(df_train[cols_cat])\r\n",
        "# pipe[0].transformers[0][1].transform(df_test[cols_cat])\r\n",
        "# # =>cat pipe work well\r\n",
        "# pipe[0].transformers[1][1].fit(df_train[cols_num])\r\n",
        "# pipe[0].transformers[1][1].transform(df_test[cols_num])\r\n",
        "# # =>num pipe work well\r\n",
        "\r\n",
        "# pipe[0].fit(df_train[cols_ft])\r\n",
        "# pipe[0].transform(df_test[cols_ft])\r\n",
        "# # # => all pipe work well"
      ],
      "execution_count": 46,
      "outputs": [
        {
          "output_type": "execute_result",
          "data": {
            "text/plain": [
              "array([[ 2.,  0.,  4., ...,  0.,  0.,  0.],\n",
              "       [ 2.,  0.,  3., ...,  0.,  0.,  0.],\n",
              "       [ 2.,  0.,  4., ...,  0.,  0.,  0.],\n",
              "       ...,\n",
              "       [ 2.,  0., 14., ...,  0.,  0.,  0.],\n",
              "       [ 2.,  0.,  3., ...,  0.,  0.,  0.],\n",
              "       [ 2.,  1.,  3., ...,  0.,  0.,  0.]])"
            ]
          },
          "metadata": {
            "tags": []
          },
          "execution_count": 46
        }
      ]
    },
    {
      "cell_type": "code",
      "metadata": {
        "id": "IjeZTSGLcSqs",
        "outputId": "e8eaaf80-29e4-4079-fdd8-eba18f705bc0",
        "colab": {
          "base_uri": "https://localhost:8080/",
          "height": 306
        }
      },
      "source": [
        "pipe.predict(df_test[cols_ft])"
      ],
      "execution_count": 47,
      "outputs": [
        {
          "output_type": "error",
          "ename": "XGBoostError",
          "evalue": "ignored",
          "traceback": [
            "\u001b[0;31m---------------------------------------------------------------------------\u001b[0m",
            "\u001b[0;31mXGBoostError\u001b[0m                              Traceback (most recent call last)",
            "\u001b[0;32m<ipython-input-47-385c9e06bf5f>\u001b[0m in \u001b[0;36m<module>\u001b[0;34m()\u001b[0m\n\u001b[0;32m----> 1\u001b[0;31m \u001b[0mpipe\u001b[0m\u001b[0;34m.\u001b[0m\u001b[0mpredict\u001b[0m\u001b[0;34m(\u001b[0m\u001b[0mdf_test\u001b[0m\u001b[0;34m[\u001b[0m\u001b[0mcols_ft\u001b[0m\u001b[0;34m]\u001b[0m\u001b[0;34m)\u001b[0m\u001b[0;34m\u001b[0m\u001b[0;34m\u001b[0m\u001b[0m\n\u001b[0m",
            "\u001b[0;32m/usr/local/lib/python3.6/dist-packages/sklearn/utils/metaestimators.py\u001b[0m in \u001b[0;36m<lambda>\u001b[0;34m(*args, **kwargs)\u001b[0m\n\u001b[1;32m    114\u001b[0m \u001b[0;34m\u001b[0m\u001b[0m\n\u001b[1;32m    115\u001b[0m         \u001b[0;31m# lambda, but not partial, allows help() to work with update_wrapper\u001b[0m\u001b[0;34m\u001b[0m\u001b[0;34m\u001b[0m\u001b[0;34m\u001b[0m\u001b[0m\n\u001b[0;32m--> 116\u001b[0;31m         \u001b[0mout\u001b[0m \u001b[0;34m=\u001b[0m \u001b[0;32mlambda\u001b[0m \u001b[0;34m*\u001b[0m\u001b[0margs\u001b[0m\u001b[0;34m,\u001b[0m \u001b[0;34m**\u001b[0m\u001b[0mkwargs\u001b[0m\u001b[0;34m:\u001b[0m \u001b[0mself\u001b[0m\u001b[0;34m.\u001b[0m\u001b[0mfn\u001b[0m\u001b[0;34m(\u001b[0m\u001b[0mobj\u001b[0m\u001b[0;34m,\u001b[0m \u001b[0;34m*\u001b[0m\u001b[0margs\u001b[0m\u001b[0;34m,\u001b[0m \u001b[0;34m**\u001b[0m\u001b[0mkwargs\u001b[0m\u001b[0;34m)\u001b[0m\u001b[0;34m\u001b[0m\u001b[0;34m\u001b[0m\u001b[0m\n\u001b[0m\u001b[1;32m    117\u001b[0m         \u001b[0;31m# update the docstring of the returned function\u001b[0m\u001b[0;34m\u001b[0m\u001b[0;34m\u001b[0m\u001b[0;34m\u001b[0m\u001b[0m\n\u001b[1;32m    118\u001b[0m         \u001b[0mupdate_wrapper\u001b[0m\u001b[0;34m(\u001b[0m\u001b[0mout\u001b[0m\u001b[0;34m,\u001b[0m \u001b[0mself\u001b[0m\u001b[0;34m.\u001b[0m\u001b[0mfn\u001b[0m\u001b[0;34m)\u001b[0m\u001b[0;34m\u001b[0m\u001b[0;34m\u001b[0m\u001b[0m\n",
            "\u001b[0;32m/usr/local/lib/python3.6/dist-packages/sklearn/pipeline.py\u001b[0m in \u001b[0;36mpredict\u001b[0;34m(self, X, **predict_params)\u001b[0m\n\u001b[1;32m    418\u001b[0m         \u001b[0;32mfor\u001b[0m \u001b[0m_\u001b[0m\u001b[0;34m,\u001b[0m \u001b[0mname\u001b[0m\u001b[0;34m,\u001b[0m \u001b[0mtransform\u001b[0m \u001b[0;32min\u001b[0m \u001b[0mself\u001b[0m\u001b[0;34m.\u001b[0m\u001b[0m_iter\u001b[0m\u001b[0;34m(\u001b[0m\u001b[0mwith_final\u001b[0m\u001b[0;34m=\u001b[0m\u001b[0;32mFalse\u001b[0m\u001b[0;34m)\u001b[0m\u001b[0;34m:\u001b[0m\u001b[0;34m\u001b[0m\u001b[0;34m\u001b[0m\u001b[0m\n\u001b[1;32m    419\u001b[0m             \u001b[0mXt\u001b[0m \u001b[0;34m=\u001b[0m \u001b[0mtransform\u001b[0m\u001b[0;34m.\u001b[0m\u001b[0mtransform\u001b[0m\u001b[0;34m(\u001b[0m\u001b[0mXt\u001b[0m\u001b[0;34m)\u001b[0m\u001b[0;34m\u001b[0m\u001b[0;34m\u001b[0m\u001b[0m\n\u001b[0;32m--> 420\u001b[0;31m         \u001b[0;32mreturn\u001b[0m \u001b[0mself\u001b[0m\u001b[0;34m.\u001b[0m\u001b[0msteps\u001b[0m\u001b[0;34m[\u001b[0m\u001b[0;34m-\u001b[0m\u001b[0;36m1\u001b[0m\u001b[0;34m]\u001b[0m\u001b[0;34m[\u001b[0m\u001b[0;34m-\u001b[0m\u001b[0;36m1\u001b[0m\u001b[0;34m]\u001b[0m\u001b[0;34m.\u001b[0m\u001b[0mpredict\u001b[0m\u001b[0;34m(\u001b[0m\u001b[0mXt\u001b[0m\u001b[0;34m,\u001b[0m \u001b[0;34m**\u001b[0m\u001b[0mpredict_params\u001b[0m\u001b[0;34m)\u001b[0m\u001b[0;34m\u001b[0m\u001b[0;34m\u001b[0m\u001b[0m\n\u001b[0m\u001b[1;32m    421\u001b[0m \u001b[0;34m\u001b[0m\u001b[0m\n\u001b[1;32m    422\u001b[0m     \u001b[0;34m@\u001b[0m\u001b[0mif_delegate_has_method\u001b[0m\u001b[0;34m(\u001b[0m\u001b[0mdelegate\u001b[0m\u001b[0;34m=\u001b[0m\u001b[0;34m'_final_estimator'\u001b[0m\u001b[0;34m)\u001b[0m\u001b[0;34m\u001b[0m\u001b[0;34m\u001b[0m\u001b[0m\n",
            "\u001b[0;32m/usr/local/lib/python3.6/dist-packages/xgboost/sklearn.py\u001b[0m in \u001b[0;36mpredict\u001b[0;34m(self, data, output_margin, ntree_limit, validate_features)\u001b[0m\n\u001b[1;32m    786\u001b[0m         \u001b[0;32mif\u001b[0m \u001b[0mntree_limit\u001b[0m \u001b[0;32mis\u001b[0m \u001b[0;32mNone\u001b[0m\u001b[0;34m:\u001b[0m\u001b[0;34m\u001b[0m\u001b[0;34m\u001b[0m\u001b[0m\n\u001b[1;32m    787\u001b[0m             \u001b[0mntree_limit\u001b[0m \u001b[0;34m=\u001b[0m \u001b[0mgetattr\u001b[0m\u001b[0;34m(\u001b[0m\u001b[0mself\u001b[0m\u001b[0;34m,\u001b[0m \u001b[0;34m\"best_ntree_limit\"\u001b[0m\u001b[0;34m,\u001b[0m \u001b[0;36m0\u001b[0m\u001b[0;34m)\u001b[0m\u001b[0;34m\u001b[0m\u001b[0;34m\u001b[0m\u001b[0m\n\u001b[0;32m--> 788\u001b[0;31m         class_probs = self.get_booster().predict(test_dmatrix,\n\u001b[0m\u001b[1;32m    789\u001b[0m                                                  \u001b[0moutput_margin\u001b[0m\u001b[0;34m=\u001b[0m\u001b[0moutput_margin\u001b[0m\u001b[0;34m,\u001b[0m\u001b[0;34m\u001b[0m\u001b[0;34m\u001b[0m\u001b[0m\n\u001b[1;32m    790\u001b[0m                                                  \u001b[0mntree_limit\u001b[0m\u001b[0;34m=\u001b[0m\u001b[0mntree_limit\u001b[0m\u001b[0;34m,\u001b[0m\u001b[0;34m\u001b[0m\u001b[0;34m\u001b[0m\u001b[0m\n",
            "\u001b[0;32m/usr/local/lib/python3.6/dist-packages/xgboost/sklearn.py\u001b[0m in \u001b[0;36mget_booster\u001b[0;34m(self)\u001b[0m\n\u001b[1;32m    191\u001b[0m         \"\"\"\n\u001b[1;32m    192\u001b[0m         \u001b[0;32mif\u001b[0m \u001b[0mself\u001b[0m\u001b[0;34m.\u001b[0m\u001b[0m_Booster\u001b[0m \u001b[0;32mis\u001b[0m \u001b[0;32mNone\u001b[0m\u001b[0;34m:\u001b[0m\u001b[0;34m\u001b[0m\u001b[0;34m\u001b[0m\u001b[0m\n\u001b[0;32m--> 193\u001b[0;31m             \u001b[0;32mraise\u001b[0m \u001b[0mXGBoostError\u001b[0m\u001b[0;34m(\u001b[0m\u001b[0;34m'need to call fit or load_model beforehand'\u001b[0m\u001b[0;34m)\u001b[0m\u001b[0;34m\u001b[0m\u001b[0;34m\u001b[0m\u001b[0m\n\u001b[0m\u001b[1;32m    194\u001b[0m         \u001b[0;32mreturn\u001b[0m \u001b[0mself\u001b[0m\u001b[0;34m.\u001b[0m\u001b[0m_Booster\u001b[0m\u001b[0;34m\u001b[0m\u001b[0;34m\u001b[0m\u001b[0m\n\u001b[1;32m    195\u001b[0m \u001b[0;34m\u001b[0m\u001b[0m\n",
            "\u001b[0;31mXGBoostError\u001b[0m: need to call fit or load_model beforehand"
          ]
        }
      ]
    },
    {
      "cell_type": "code",
      "metadata": {
        "id": "_nX5GkPjd4Le"
      },
      "source": [
        ""
      ],
      "execution_count": null,
      "outputs": []
    }
  ]
}