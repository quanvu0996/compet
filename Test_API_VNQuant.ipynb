{
  "nbformat": 4,
  "nbformat_minor": 0,
  "metadata": {
    "colab": {
      "name": "Test API VNQuant.ipynb",
      "provenance": [],
      "authorship_tag": "ABX9TyO2weOhA4ShHyVac9rHgYen",
      "include_colab_link": true
    },
    "kernelspec": {
      "name": "python3",
      "display_name": "Python 3"
    },
    "language_info": {
      "name": "python"
    }
  },
  "cells": [
    {
      "cell_type": "markdown",
      "metadata": {
        "id": "view-in-github",
        "colab_type": "text"
      },
      "source": [
        "<a href=\"https://colab.research.google.com/github/quanvu0996/compet/blob/master/Test_API_VNQuant.ipynb\" target=\"_parent\"><img src=\"https://colab.research.google.com/assets/colab-badge.svg\" alt=\"Open In Colab\"/></a>"
      ]
    },
    {
      "cell_type": "markdown",
      "metadata": {
        "id": "wFjKh1sV-Cob"
      },
      "source": [
        "Thử nghiệm thư viện vnquant để đồng bộ dữ liệu và xây dựng mô hình dự đoán giá chứng khoán"
      ]
    },
    {
      "cell_type": "code",
      "metadata": {
        "colab": {
          "base_uri": "https://localhost:8080/"
        },
        "id": "3aHIl39N_UNq",
        "outputId": "e629077a-82f5-4163-eb38-52ba684fabd3"
      },
      "source": [
        "!pip install git+https://github.com/phamdinhkhanh/vnquant"
      ],
      "execution_count": 16,
      "outputs": [
        {
          "output_type": "stream",
          "text": [
            "Collecting git+https://github.com/phamdinhkhanh/vnquant\n",
            "  Cloning https://github.com/phamdinhkhanh/vnquant to /tmp/pip-req-build-8dvqxr1s\n",
            "  Running command git clone -q https://github.com/phamdinhkhanh/vnquant /tmp/pip-req-build-8dvqxr1s\n",
            "Requirement already satisfied: pandas>=0.19.2 in /usr/local/lib/python3.7/dist-packages (from vnquant==0.0.2) (1.1.5)\n",
            "Requirement already satisfied: requests>=2.3.0 in /usr/local/lib/python3.7/dist-packages (from vnquant==0.0.2) (2.23.0)\n",
            "Requirement already satisfied: wrapt>=1.10.0 in /usr/local/lib/python3.7/dist-packages (from vnquant==0.0.2) (1.12.1)\n",
            "Collecting lxml>=4.3.0\n",
            "\u001b[?25l  Downloading https://files.pythonhosted.org/packages/30/c0/d0526314971fc661b083ab135747dc68446a3022686da8c16d25fcf6ef07/lxml-4.6.3-cp37-cp37m-manylinux2014_x86_64.whl (6.3MB)\n",
            "\u001b[K     |████████████████████████████████| 6.3MB 5.3MB/s \n",
            "\u001b[?25hCollecting pypandoc>=1.4\n",
            "  Downloading https://files.pythonhosted.org/packages/d6/b7/5050dc1769c8a93d3ec7c4bd55be161991c94b8b235f88bf7c764449e708/pypandoc-1.5.tar.gz\n",
            "Requirement already satisfied: plotly>=4.2.1 in /usr/local/lib/python3.7/dist-packages (from vnquant==0.0.2) (4.4.1)\n",
            "Requirement already satisfied: bs4>=0.0.1 in /usr/local/lib/python3.7/dist-packages (from vnquant==0.0.2) (0.0.1)\n",
            "Requirement already satisfied: numpy>=1.15.4 in /usr/local/lib/python3.7/dist-packages (from pandas>=0.19.2->vnquant==0.0.2) (1.19.5)\n",
            "Requirement already satisfied: python-dateutil>=2.7.3 in /usr/local/lib/python3.7/dist-packages (from pandas>=0.19.2->vnquant==0.0.2) (2.8.1)\n",
            "Requirement already satisfied: pytz>=2017.2 in /usr/local/lib/python3.7/dist-packages (from pandas>=0.19.2->vnquant==0.0.2) (2018.9)\n",
            "Requirement already satisfied: urllib3!=1.25.0,!=1.25.1,<1.26,>=1.21.1 in /usr/local/lib/python3.7/dist-packages (from requests>=2.3.0->vnquant==0.0.2) (1.24.3)\n",
            "Requirement already satisfied: certifi>=2017.4.17 in /usr/local/lib/python3.7/dist-packages (from requests>=2.3.0->vnquant==0.0.2) (2020.12.5)\n",
            "Requirement already satisfied: idna<3,>=2.5 in /usr/local/lib/python3.7/dist-packages (from requests>=2.3.0->vnquant==0.0.2) (2.10)\n",
            "Requirement already satisfied: chardet<4,>=3.0.2 in /usr/local/lib/python3.7/dist-packages (from requests>=2.3.0->vnquant==0.0.2) (3.0.4)\n",
            "Requirement already satisfied: setuptools in /usr/local/lib/python3.7/dist-packages (from pypandoc>=1.4->vnquant==0.0.2) (56.1.0)\n",
            "Requirement already satisfied: pip>=8.1.0 in /usr/local/lib/python3.7/dist-packages (from pypandoc>=1.4->vnquant==0.0.2) (19.3.1)\n",
            "Requirement already satisfied: wheel>=0.25.0 in /usr/local/lib/python3.7/dist-packages (from pypandoc>=1.4->vnquant==0.0.2) (0.36.2)\n",
            "Requirement already satisfied: retrying>=1.3.3 in /usr/local/lib/python3.7/dist-packages (from plotly>=4.2.1->vnquant==0.0.2) (1.3.3)\n",
            "Requirement already satisfied: six in /usr/local/lib/python3.7/dist-packages (from plotly>=4.2.1->vnquant==0.0.2) (1.15.0)\n",
            "Requirement already satisfied: beautifulsoup4 in /usr/local/lib/python3.7/dist-packages (from bs4>=0.0.1->vnquant==0.0.2) (4.6.3)\n",
            "Building wheels for collected packages: vnquant, pypandoc\n",
            "  Building wheel for vnquant (setup.py) ... \u001b[?25l\u001b[?25hdone\n",
            "  Created wheel for vnquant: filename=vnquant-0.0.2-cp37-none-any.whl size=9759 sha256=e8e500318f7cfb3ec5da79be3660e23b681f8e93e11a327c88460a9ab88fd2db\n",
            "  Stored in directory: /tmp/pip-ephem-wheel-cache-8kz8jky9/wheels/70/f7/51/ab84791f03861a32e07cb59321d8911fb994eee39e08f2b77b\n",
            "  Building wheel for pypandoc (setup.py) ... \u001b[?25l\u001b[?25hdone\n",
            "  Created wheel for pypandoc: filename=pypandoc-1.5-cp37-none-any.whl size=17036 sha256=1d5c435e8d9b8436b2e4392519ff661d8ea96bea3e594bbeb9b28841bca232bb\n",
            "  Stored in directory: /root/.cache/pip/wheels/bb/7d/d6/2f9af55e800d37e42e546106bcbd36a86e24e725e303d17e04\n",
            "Successfully built vnquant pypandoc\n",
            "Installing collected packages: lxml, pypandoc, vnquant\n",
            "  Found existing installation: lxml 4.2.6\n",
            "    Uninstalling lxml-4.2.6:\n",
            "      Successfully uninstalled lxml-4.2.6\n",
            "Successfully installed lxml-4.6.3 pypandoc-1.5 vnquant-0.0.2\n"
          ],
          "name": "stdout"
        }
      ]
    },
    {
      "cell_type": "code",
      "metadata": {
        "id": "7-6o8u5qBQRR"
      },
      "source": [
        "import vnquant.DataLoader as web\n",
        "import pandas as pd\n",
        "import numpy as np"
      ],
      "execution_count": 21,
      "outputs": []
    },
    {
      "cell_type": "code",
      "metadata": {
        "colab": {
          "base_uri": "https://localhost:8080/",
          "height": 283
        },
        "id": "SMX73uX-Anvx",
        "outputId": "0c00ba25-17c2-44ce-9762-37af1ef42a4e"
      },
      "source": [
        "loader = web.DataLoader('VND', '2020-02-02','2021-04-02', data_source='VND')\n",
        "data = loader.download()\n",
        "data.head()"
      ],
      "execution_count": 29,
      "outputs": [
        {
          "output_type": "stream",
          "text": [
            "2021-05-29 16:48:41,765 : INFO : data VND from 2020-02-02 to 2021-04-02 have already cloned!\n"
          ],
          "name": "stderr"
        },
        {
          "output_type": "execute_result",
          "data": {
            "text/html": [
              "<div>\n",
              "<style scoped>\n",
              "    .dataframe tbody tr th:only-of-type {\n",
              "        vertical-align: middle;\n",
              "    }\n",
              "\n",
              "    .dataframe tbody tr th {\n",
              "        vertical-align: top;\n",
              "    }\n",
              "\n",
              "    .dataframe thead tr th {\n",
              "        text-align: left;\n",
              "    }\n",
              "\n",
              "    .dataframe thead tr:last-of-type th {\n",
              "        text-align: right;\n",
              "    }\n",
              "</style>\n",
              "<table border=\"1\" class=\"dataframe\">\n",
              "  <thead>\n",
              "    <tr>\n",
              "      <th>Attributes</th>\n",
              "      <th>high</th>\n",
              "      <th>low</th>\n",
              "      <th>open</th>\n",
              "      <th>close</th>\n",
              "      <th>avg</th>\n",
              "      <th>volume</th>\n",
              "    </tr>\n",
              "    <tr>\n",
              "      <th>Symbols</th>\n",
              "      <th>VND</th>\n",
              "      <th>VND</th>\n",
              "      <th>VND</th>\n",
              "      <th>VND</th>\n",
              "      <th>VND</th>\n",
              "      <th>VND</th>\n",
              "    </tr>\n",
              "    <tr>\n",
              "      <th>date</th>\n",
              "      <th></th>\n",
              "      <th></th>\n",
              "      <th></th>\n",
              "      <th></th>\n",
              "      <th></th>\n",
              "      <th></th>\n",
              "    </tr>\n",
              "  </thead>\n",
              "  <tbody>\n",
              "    <tr>\n",
              "      <th>2020-02-03</th>\n",
              "      <td>14.55</td>\n",
              "      <td>13.70</td>\n",
              "      <td>14.55</td>\n",
              "      <td>14.00</td>\n",
              "      <td>13.88</td>\n",
              "      <td>854260.0</td>\n",
              "    </tr>\n",
              "    <tr>\n",
              "      <th>2020-02-04</th>\n",
              "      <td>14.00</td>\n",
              "      <td>13.35</td>\n",
              "      <td>14.00</td>\n",
              "      <td>14.00</td>\n",
              "      <td>13.66</td>\n",
              "      <td>617580.0</td>\n",
              "    </tr>\n",
              "    <tr>\n",
              "      <th>2020-02-05</th>\n",
              "      <td>14.10</td>\n",
              "      <td>13.70</td>\n",
              "      <td>13.90</td>\n",
              "      <td>14.10</td>\n",
              "      <td>13.93</td>\n",
              "      <td>104530.0</td>\n",
              "    </tr>\n",
              "    <tr>\n",
              "      <th>2020-02-06</th>\n",
              "      <td>14.20</td>\n",
              "      <td>13.35</td>\n",
              "      <td>13.35</td>\n",
              "      <td>14.10</td>\n",
              "      <td>13.86</td>\n",
              "      <td>210290.0</td>\n",
              "    </tr>\n",
              "    <tr>\n",
              "      <th>2020-02-07</th>\n",
              "      <td>14.20</td>\n",
              "      <td>13.80</td>\n",
              "      <td>14.00</td>\n",
              "      <td>14.05</td>\n",
              "      <td>14.00</td>\n",
              "      <td>158540.0</td>\n",
              "    </tr>\n",
              "  </tbody>\n",
              "</table>\n",
              "</div>"
            ],
            "text/plain": [
              "Attributes   high    low   open  close    avg    volume\n",
              "Symbols       VND    VND    VND    VND    VND       VND\n",
              "date                                                   \n",
              "2020-02-03  14.55  13.70  14.55  14.00  13.88  854260.0\n",
              "2020-02-04  14.00  13.35  14.00  14.00  13.66  617580.0\n",
              "2020-02-05  14.10  13.70  13.90  14.10  13.93  104530.0\n",
              "2020-02-06  14.20  13.35  13.35  14.10  13.86  210290.0\n",
              "2020-02-07  14.20  13.80  14.00  14.05  14.00  158540.0"
            ]
          },
          "metadata": {
            "tags": []
          },
          "execution_count": 29
        }
      ]
    },
    {
      "cell_type": "code",
      "metadata": {
        "id": "1aw4O8oIA0U3"
      },
      "source": [
        "data.columns = ['high', 'low', 'open', 'close', 'avg', 'volumne']"
      ],
      "execution_count": 40,
      "outputs": []
    },
    {
      "cell_type": "code",
      "metadata": {
        "colab": {
          "base_uri": "https://localhost:8080/"
        },
        "id": "5R0xQEGsA7TP",
        "outputId": "7fb4e31b-e5f8-4c1d-daff-b90184df6162"
      },
      "source": [
        "data['stdev'] = "
      ],
      "execution_count": 42,
      "outputs": [
        {
          "output_type": "execute_result",
          "data": {
            "text/plain": [
              "date\n",
              "2020-02-03    14.55\n",
              "2020-02-04    14.00\n",
              "2020-02-05    13.90\n",
              "2020-02-06    13.35\n",
              "2020-02-07    14.00\n",
              "              ...  \n",
              "2021-03-24    28.60\n",
              "2021-03-25    28.90\n",
              "2021-03-26    28.35\n",
              "2021-03-29    29.00\n",
              "2021-03-30    29.40\n",
              "Name: open, Length: 292, dtype: float64"
            ]
          },
          "metadata": {
            "tags": []
          },
          "execution_count": 42
        }
      ]
    },
    {
      "cell_type": "code",
      "metadata": {
        "id": "GbliPqQmBodr"
      },
      "source": [
        ""
      ],
      "execution_count": null,
      "outputs": []
    }
  ]
}