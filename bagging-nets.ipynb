{
  "nbformat": 4,
  "nbformat_minor": 0,
  "metadata": {
    "kernelspec": {
      "display_name": "Python 3",
      "language": "python",
      "name": "python3"
    },
    "language_info": {
      "codemirror_mode": {
        "name": "ipython",
        "version": 3
      },
      "file_extension": ".py",
      "mimetype": "text/x-python",
      "name": "python",
      "nbconvert_exporter": "python",
      "pygments_lexer": "ipython3",
      "version": "3.7.4"
    },
    "colab": {
      "name": "bagging-nets.ipynb",
      "provenance": [],
      "toc_visible": true
    },
    "accelerator": "GPU"
  },
  "cells": [
    {
      "cell_type": "code",
      "metadata": {
        "id": "HqE2TFuV1dae",
        "outputId": "17755741-fbe0-4121-acd6-17607e6f26a8",
        "colab": {
          "base_uri": "https://localhost:8080/"
        }
      },
      "source": [
        "from google.colab import drive\n",
        "drive.mount('/content/drive')"
      ],
      "execution_count": 1,
      "outputs": [
        {
          "output_type": "stream",
          "text": [
            "Drive already mounted at /content/drive; to attempt to forcibly remount, call drive.mount(\"/content/drive\", force_remount=True).\n"
          ],
          "name": "stdout"
        }
      ]
    },
    {
      "cell_type": "code",
      "metadata": {
        "_execution_state": "idle",
        "_uuid": "051d70d956493feee0c6d64651c6a088724dca2a",
        "id": "5FTCve_w1XEr",
        "outputId": "862397e9-4a79-4663-f050-1fc539297c61",
        "colab": {
          "base_uri": "https://localhost:8080/"
        }
      },
      "source": [
        "'''ENSEMBLE NETS\n",
        "Inspire by https://www.kaggle.com/demetrypascal/fork-of-2heads-looper-super-puper-plate'''\n",
        "\n",
        "import numpy as np\n",
        "import pandas as pd\n",
        "import copy\n",
        "\n",
        "import tensorflow as tf\n",
        "from tensorflow import feature_column as fc\n",
        "from tensorflow.keras.losses import BinaryCrossentropy\n",
        "from tensorflow.keras.layers import (Dense, DenseFeatures, Dropout, \n",
        "                                     BatchNormalization, Embedding, Input, Concatenate, Average,\n",
        "                                     InputLayer, Lambda)\n",
        "from tensorflow.keras.metrics import AUC, Precision, Recall\n",
        "from tensorflow.keras import backend as K, Sequential, Model\n",
        "from tensorflow.keras.callbacks import ReduceLROnPlateau, EarlyStopping\n",
        "from tensorflow.keras.optimizers import Adam, RMSprop\n",
        "\n",
        "import tensorflow_addons as tfa\n",
        "from tensorflow_addons.layers import WeightNormalization\n",
        "from keras.wrappers.scikit_learn import KerasRegressor\n",
        "import keras\n",
        "\n",
        "from sklearn.preprocessing import QuantileTransformer, StandardScaler\n",
        "from sklearn.base import BaseEstimator, TransformerMixin\n",
        "from sklearn.pipeline import Pipeline, FeatureUnion\n",
        "from sklearn.compose import ColumnTransformer\n",
        "from sklearn.feature_selection import VarianceThreshold\n",
        "from sklearn.decomposition import PCA\n",
        "from sklearn.model_selection import KFold\n",
        "from sklearn.cluster import KMeans\n",
        "\n",
        "import matplotlib.pyplot as plt\n",
        "from math import log2\n",
        "\n",
        "import sys\n",
        "\n",
        "def log_loss_metric(y_true, y_pred):\n",
        "    bce = tf.keras.losses.BinaryCrossentropy()\n",
        "    return bce(y_true, y_pred).numpy()\n",
        "#     loss = 0\n",
        "#     y_pred_clip = np.clip(y_pred, 1e-15, 1 - 1e-15)\n",
        "#     for i in range(y_true.shape[1]):\n",
        "#         loss += - np.mean(y_true[:, i] * np.log(y_pred_clip[:, i]) + (1 - y_true[:, i]) * np.log(1 - y_pred_clip[:, i]))\n",
        "#     return loss / y_true.shape[1]\n",
        "\n",
        "    # y_pred = np.clip(y_pred,1e-15,1-1e-15)\n",
        "    # return -np.mean(y_true*np.log(y_pred) + (1-y_true)*np.log(1-y_pred))\n",
        "\n",
        "print(pd.__version__)\n",
        "print(tf.__version__)"
      ],
      "execution_count": 2,
      "outputs": [
        {
          "output_type": "stream",
          "text": [
            "1.1.4\n",
            "2.3.0\n"
          ],
          "name": "stdout"
        }
      ]
    },
    {
      "cell_type": "markdown",
      "metadata": {
        "id": "LLOzSk_h1XEz"
      },
      "source": [
        "# MODULE 1. DATA LOADING"
      ]
    },
    {
      "cell_type": "code",
      "metadata": {
        "id": "sqUvs-3Y1XEz"
      },
      "source": [
        "# Loading data and encoding\n",
        "\n",
        "folder_path = '/content/drive/My Drive/Data/colabs_data/MOA_kaggle/'\n",
        "raw_test = pd.read_csv(folder_path + 'test_features.csv')\n",
        "raw_train = pd.read_csv(folder_path + 'train_features.csv')\n",
        "raw_targets = pd.read_csv(folder_path + 'train_targets_scored.csv')\n",
        "\n",
        "# Phân loại dữ liệu\n",
        "cols_id = ['sig_id']\n",
        "cols_to_remove = ['cp_type']\n",
        "cols_fts = [i for i in raw_train.columns if i not in cols_id +cols_to_remove]\n",
        "cols_gene = [col for col in raw_train.columns if col.startswith(\"g-\")]\n",
        "cols_cell = [col for col in raw_train.columns if col.startswith(\"c-\")]\n",
        "cols_experiment = [col for col in cols_fts if col not in cols_gene+cols_cell]\n",
        "cols_target = [i for i in raw_targets.columns if i not in cols_id]\n",
        "num_fts, num_labels = len(cols_fts), len(cols_target)\n",
        "\n",
        "# xử lý categorical\n",
        "def transform_data(input_data):\n",
        "    '''Clean data and encoding\n",
        "        * input_data: table '''\n",
        "    out = input_data.copy()\n",
        "    out['cp_dose'] = out['cp_dose'].map({'D1':0, 'D2':1})\n",
        "    out['cp_time'] = out['cp_time']/72\n",
        "    \n",
        "    return out\n",
        "\n",
        "to_train = transform_data(raw_train[raw_train['cp_type'] != 'ctl_vehicle'])\n",
        "to_train_targets = raw_targets.iloc[to_train.index]\n",
        "full_pred  = transform_data(raw_test)\n",
        "to_pred = full_pred[full_pred['cp_type'] != 'ctl_vehicle']"
      ],
      "execution_count": 3,
      "outputs": []
    },
    {
      "cell_type": "markdown",
      "metadata": {
        "id": "yXhrnEA51XE2"
      },
      "source": [
        "# MODULE 2. DATA TRANSFORMATION PIPELINE"
      ]
    },
    {
      "cell_type": "code",
      "metadata": {
        "id": "6XJrep-T1XE3"
      },
      "source": [
        "# Add derived fts\n",
        "class DerivedFeatures(BaseEstimator, TransformerMixin):\n",
        "    def __init__(self, n_clusters= 6):\n",
        "        self.n_clusters = n_clusters\n",
        "\n",
        "    def fit(self, X, y= None):\n",
        "        try: X_ = X.values.copy() # creating a copy to avoid changes to original dataset\n",
        "        except: X_ = X.copy()\n",
        "\n",
        "        # try: y_ = y.values.copy()\n",
        "        # except: y_ = y.copy()\n",
        "\n",
        "        # self.n_labels = y_.shape[1]\n",
        "\n",
        "        # Kmeans\n",
        "        self.kmeans = KMeans(n_clusters= self.n_clusters ) \n",
        "        self.kmeans.fit(X_)\n",
        "\n",
        "        # self.closet_labels = y_[np.argmin(self.kmeans.transform(X_), axis= 0)]# closet labels\n",
        "        return self\n",
        "\n",
        "    def transform(self, X, y = None):\n",
        "        try: X_ = X.values.copy() # creating a copy to avoid changes to original dataset\n",
        "        except: X_ = X.copy()\n",
        "\n",
        "        # Non-linear infomation\n",
        "        std = np.std(X_, axis= 1)\n",
        "\n",
        "        # Kmeans features\n",
        "        distance_to_centroid = self.kmeans.transform(X_) # distance to the centroid\n",
        "        cluster_labels = self.kmeans.predict(X_)# cluster index\n",
        "\n",
        "        # column names\n",
        "        self.columns = ['std']\\\n",
        "                        + ['distance_to_centroid'+str(i) for i in range(distance_to_centroid.shape[1])]\\\n",
        "                        + ['cluster_labels']\n",
        "        ouput = np.concatenate([std.reshape(-1,1), distance_to_centroid, cluster_labels.reshape(-1,1)], axis= 1)\n",
        "        return ouput"
      ],
      "execution_count": 4,
      "outputs": []
    },
    {
      "cell_type": "code",
      "metadata": {
        "id": "8-cBlnqh1XE6"
      },
      "source": [
        "# preprocessing pipeline\n",
        "def pipe_line_builder(quantiles_num, pca_dims, kmean_clusters):\n",
        "    '''Dựng pipe line cho từng nhóm columns\n",
        "    :quantiles_num: int: số quantile khi normalise\n",
        "    :pca_dims: int: số chiều pca'''\n",
        "    norm = QuantileTransformer(n_quantiles=quantiles_num,random_state=0, output_distribution=\"normal\")\n",
        "    pca = PCA(n_components = pca_dims)\n",
        "    derived_ft = DerivedFeatures(n_clusters = kmean_clusters)\n",
        "\n",
        "    p_derived_ft = Pipeline([\n",
        "        ('norm', norm), \n",
        "        ('derived', derived_ft)])\n",
        "\n",
        "    p_norm_pca = Pipeline([ \n",
        "        ('norm', norm),\n",
        "        ('pca', pca) ])\n",
        "    return FeatureUnion([\n",
        "        ('norm', norm), \n",
        "        ('norm_pca', p_norm_pca),\n",
        "        ('derived', p_derived_ft)])\n",
        "\n",
        "# \n",
        "\n",
        "pipe = Pipeline([\n",
        "    ('norm_pca', ColumnTransformer([\n",
        "                     ('gene', pipe_line_builder(quantiles_num = 200, pca_dims = 600, kmean_clusters = 5), cols_gene),\n",
        "                     ('cell', pipe_line_builder(quantiles_num = 200, pca_dims = 50, kmean_clusters = 5), cols_cell),\n",
        "                    ]) \n",
        "    ), \n",
        "    ('var', VarianceThreshold(0.5)) \n",
        "])\n",
        "\n",
        "pipe = ColumnTransformer([\n",
        "    ('gene_cell', pipe, cols_gene+ cols_cell),\n",
        "    ('experiment', 'passthrough', cols_experiment)\n",
        "])"
      ],
      "execution_count": 5,
      "outputs": []
    },
    {
      "cell_type": "code",
      "metadata": {
        "id": "cdZH_psq1XE8"
      },
      "source": [
        "# Transform data\n",
        "pipe.fit(to_train[cols_fts].append(to_pred[cols_fts]))\n",
        "X_train = pipe.transform(to_train[cols_fts])\n",
        "X_pred = pipe.transform(to_pred[cols_fts])\n",
        "y_train = to_train_targets[cols_target].values"
      ],
      "execution_count": 6,
      "outputs": []
    },
    {
      "cell_type": "code",
      "metadata": {
        "id": "iOLUCHyy1XFA",
        "outputId": "f71f9816-0af7-4fcd-e376-b01f061b9d0d",
        "colab": {
          "base_uri": "https://localhost:8080/"
        }
      },
      "source": [
        "print(X_train.shape, X_pred.shape, y_train.shape)\n",
        "print(type(X_train), type(X_pred), type(y_train))"
      ],
      "execution_count": 7,
      "outputs": [
        {
          "output_type": "stream",
          "text": [
            "(21948, 1241) (3624, 1241) (21948, 206)\n",
            "<class 'numpy.ndarray'> <class 'numpy.ndarray'> <class 'numpy.ndarray'>\n"
          ],
          "name": "stdout"
        }
      ]
    },
    {
      "cell_type": "markdown",
      "metadata": {
        "id": "hQpPUfYf1XFC"
      },
      "source": [
        "# MODULE 3: BAGGING"
      ]
    },
    {
      "cell_type": "code",
      "metadata": {
        "id": "QzAPc8kK1XFD"
      },
      "source": [
        "# Random bagging nets\n",
        "def bagging_split(X_train, y_train, alpha, n_samples):\n",
        "    ''' SPLIT TRAINING DATA TO N SAMPLES FOR BAGGING\n",
        "    :X_train:np array: data for model training only\n",
        "    :y_train:np array: labels for model training only\n",
        "    :alpha:0-1 float: poportion of data in each sample\n",
        "    return:\n",
        "        generator for bagging training set'''\n",
        "    data_length = X_train.shape[0]\n",
        "    for i in range(n_samples):\n",
        "        idx = np.random.choice( data_length, size= int(data_length * alpha), replace=0)\n",
        "        yield X_train[idx], y_train[idx]"
      ],
      "execution_count": 8,
      "outputs": []
    },
    {
      "cell_type": "code",
      "metadata": {
        "id": "pNFo0NhW1XFG"
      },
      "source": [
        "def voting_predict(model_list, X_pred, num_labels):\n",
        "    '''PREDICT OUTPUT FROM A LIST OF MODEL'''\n",
        "    pred = np.zeros((X_pred.shape[0], num_labels))\n",
        "    for model in model_list:\n",
        "        pred_i = model.predict(X_pred)\n",
        "        pred += pred_i\n",
        "    avg_pred = pred/len(model_list)\n",
        "    avg_pred[:,[34,82]] = 0\n",
        "    return avg_pred"
      ],
      "execution_count": 9,
      "outputs": []
    },
    {
      "cell_type": "code",
      "metadata": {
        "id": "8raBuUi91XFI"
      },
      "source": [
        "def bagging_training(model, X_train, y_train, X_val, y_val, alpha, n_samples, save_path = ''):\n",
        "    '''TRAINING FOR EACH BOOSTRAP AGGREGATING (BAGGING)\n",
        "    return:\n",
        "        list of n_samples model'''\n",
        "    ouput = []\n",
        "    reduce_lr = ReduceLROnPlateau(monitor='val_binary_crossentropy', factor=0.3, patience=5, mode='min', min_lr=1E-5, verbose=0 )\n",
        "    early_stopping = EarlyStopping(monitor='val_binary_crossentropy', min_delta=1E-5, patience=15, mode='min',restore_best_weights=True, verbose=0 )\n",
        "\n",
        "    for bag_id, (x_train_bag, y_train_bag) in enumerate(bagging_split(X_train, y_train, alpha = alpha, n_samples = n_samples)):\n",
        "        tf.keras.backend.clear_session()\n",
        "        tf.random.set_seed(np.random.random())\n",
        "#         print('Training at Bag ', bag_id, '_'*100)\n",
        "\n",
        "        model_ = copy.deepcopy(model)\n",
        "        model_.fit(\n",
        "            x_train_bag, y_train_bag, validation_data = (X_val, y_val), \n",
        "            callbacks=[reduce_lr, early_stopping], epochs=150, verbose = 0,\n",
        "            batch_size=BATCH_SIZE )\n",
        "        ouput.append(model_)\n",
        "        y_pred_inbag = model_.predict(X_val)\n",
        "        evaluate_at_bag = log_loss_metric(y_val, y_pred_inbag)\n",
        "        print('Logloss at bag ', bag_id, ': ', evaluate_at_bag)\n",
        "        model_.save( save_path+ 'model_bagging_'+str(bag_id)+'.h5')\n",
        "        del model_\n",
        "    logloss_all_bag = log_loss_metric(y_val, \n",
        "                voting_predict(ouput, X_val, num_labels = y_val.shape[1])  )\n",
        "    print('Evaluate bagging, log loss = ', logloss_all_bag )\n",
        "\n",
        "    return ouput"
      ],
      "execution_count": 10,
      "outputs": []
    },
    {
      "cell_type": "code",
      "metadata": {
        "id": "2YKMieAm1XFL"
      },
      "source": [
        "# log_loss_metric(np.array([[0,0.00001],[.1,.2]]), np.array([[0,0.0002], [0.1, 0.2]]))"
      ],
      "execution_count": 11,
      "outputs": []
    },
    {
      "cell_type": "code",
      "metadata": {
        "id": "KyTLDJxr1XFN"
      },
      "source": [
        "def kfolds_training(NFOLDS, model, SEEDS, X_train, y_train, bagging_alpha = 0.75, bagging_samples = 10):\n",
        "    ''' TRAINING FOR KFOLDS EVALUATION\n",
        "    :NFOLDS:int: số folds\n",
        "    :model:model: model dùng để train\n",
        "    :SEEDS:list: list of seeds to train\n",
        "    :X_train:np array: full data for train and evaluate\n",
        "    :y_train:np array: full labels for train and evaluate\n",
        "    return:\n",
        "        :list of list model: list NFOLDS-list trained model\n",
        "    '''\n",
        "    ouput = []\n",
        "    kf = KFold(n_splits= NFOLDS, shuffle = True)\n",
        "\n",
        "    for fold_id, (train_index, val_index) in enumerate(kf.split(to_train)):\n",
        "        print('Training at fold: ', fold_id, '#'*100)\n",
        "        tf.keras.backend.clear_session()\n",
        "\n",
        "        fold_X_train, fold_y_train = X_train[train_index], y_train[train_index]\n",
        "        fold_X_val, fold_y_val = X_train[val_index], y_train[val_index]\n",
        "\n",
        "        # Training bagging\n",
        "        model_list = bagging_training(model, fold_X_train, fold_y_train, fold_X_val ,fold_y_val,\n",
        "            alpha = bagging_alpha, n_samples = bagging_samples, save_path = ''+'fold_'+str(fold_id))\n",
        "\n",
        "        # fold_logloss = log_loss_metric(fold_y_val, \n",
        "        #     voting_predict( model_list, fold_X_val, 206))\n",
        "        ouput.append(model_list)\n",
        "    fold_logloss = log_loss_metric(fold_y_val, \n",
        "            voting_predict( sum(ouput, []), fold_X_val, 206))\n",
        "    print('AVG logloss all folds: ', fold_logloss)\n",
        "\n",
        "    return ouput"
      ],
      "execution_count": 12,
      "outputs": []
    },
    {
      "cell_type": "code",
      "metadata": {
        "id": "PWpqTIh-1XFQ"
      },
      "source": [
        "# Hyper params\n",
        "NFOLDS = 8\n",
        "BATCH_SIZE = 128\n",
        "EPOCHS = 150\n",
        "BAGGING_ALPHA = 0.75\n",
        "SEEDS = [23, 228, 1488, 1998, 2208, 2077, 404]\n",
        "KFOLDS = 10\n",
        "label_smoothing_alpha = 0.00005\n",
        "P_MIN = label_smoothing_alpha\n",
        "P_MAX = 1 - P_MIN"
      ],
      "execution_count": 32,
      "outputs": []
    },
    {
      "cell_type": "code",
      "metadata": {
        "id": "UvVe5RdK1XFS"
      },
      "source": [
        "# # Define model\n",
        "# model = Sequential([\n",
        "#     BatchNormalization(),\n",
        "#     WeightNormalization(Dense(1024, activation=\"selu\")),\n",
        "\n",
        "#     BatchNormalization(),\n",
        "#     Dropout(0.25),\n",
        "#     WeightNormalization(Dense(1024, activation=\"selu\")),\n",
        "#     BatchNormalization(),\n",
        "#     Dropout(0.25),\n",
        "#     WeightNormalization(Dense(512, activation=\"selu\")),\n",
        "#     BatchNormalization(),\n",
        "#     Dropout(0.25),\n",
        "#     WeightNormalization(Dense(num_labels, activation=\"sigmoid\"))\n",
        "# ])\n",
        "\n",
        "# def logloss(y_true, y_pred):\n",
        "#     y_pred = tf.clip_by_value(y_pred,P_MIN,P_MAX)\n",
        "#     return -K.mean(y_true*K.log(y_pred) + (1-y_true)*K.log(1-y_pred))\n",
        "# bce = tf.keras.losses.BinaryCrossentropy() #val_binary_crossentropy\n",
        "# model.compile(optimizer='adam', loss= BinaryCrossentropy(label_smoothing= label_smoothing_alpha)\n",
        "#               , metrics= [bce])"
      ],
      "execution_count": 14,
      "outputs": []
    },
    {
      "cell_type": "code",
      "metadata": {
        "id": "EZAqvmmP1XFV"
      },
      "source": [
        "n_components = 256\n",
        "\n",
        "input_u = Input(shape= ( X_train.shape[1], ))\n",
        "layer_u = BatchNormalization() (input_u)\n",
        "layer_u = WeightNormalization(Dense(1024, activation=\"selu\")) (layer_u)\n",
        "layer_u = BatchNormalization() (layer_u)\n",
        "layer_u = Dropout(0.25) (layer_u)\n",
        "layer_u = WeightNormalization(Dense(1024, activation=\"selu\")) (layer_u)\n",
        "layer_u = BatchNormalization() (layer_u)\n",
        "layer_u = Dropout(0.25) (layer_u)\n",
        "layer_u = WeightNormalization(Dense(512, activation=\"selu\")) (layer_u)\n",
        "layer_u = BatchNormalization() (layer_u)\n",
        "layer_u = Dropout(0.25) (layer_u)\n",
        "\n",
        "layer_u = WeightNormalization(Dense(n_components, activation=\"selu\")) (layer_u)\n",
        "layer_u = BatchNormalization() (layer_u)\n",
        "\n",
        "#2.1. Addition information for item_info\n",
        "chemical_category = tf.transpose(\n",
        "        tf.constant(\n",
        "            [[1 if '_inhibitor' in i else 0 for i in cols_target],\n",
        "               [1 if '_agonist' in i else 0 for i in cols_target],\n",
        "               [1 if '_agent' in i else 0 for i in cols_target],\n",
        "               [1 if '_antagonist' in i else 0 for i in cols_target],\n",
        "               [1 if '_blocker' in i else 0 for i in cols_target],\n",
        "               [1 if '_activator' in i else 0 for i in cols_target] \n",
        "             ]))\n",
        "\n",
        "#2.2 Full item fts: addition + onehot\n",
        "item_ft = tf.concat(\n",
        "    [chemical_category ,\n",
        "     tf.eye(num_labels, dtype = tf.int32) # Create tensor 0-1 coresponse with chemical labels\n",
        "    ], axis = 1\n",
        ")\n",
        "layer_i = Dense(n_components, activation = 'relu', kernel_initializer='he_normal', name ='layer_u1') (item_ft)\n",
        "\n",
        "#3. Dot product user - item\n",
        "def dot_2layer(x):\n",
        "    return K.dot( x[0], K.transpose(x[1]))\n",
        "dot_ui = Lambda( dot_2layer, name = 'lambda_dot' ) ([layer_u,layer_i])\n",
        "dot_ui= WeightNormalization(Dense(512, activation=\"selu\", kernel_initializer='he_normal')) (dot_ui)\n",
        "dot_ui= BatchNormalization() (dot_ui)\n",
        "dot_ui= Dropout(0.25) (dot_ui)\n",
        "dot_ui = WeightNormalization(Dense(num_labels, activation = 'sigmoid', kernel_initializer='he_normal', name = 'labels'))(dot_ui)\n",
        "\n",
        "model = Model(inputs=[ input_u, ], outputs= [dot_ui])\n",
        "\n",
        "bce = tf.keras.losses.BinaryCrossentropy() #val_binary_crossentropy\n",
        "model.compile(optimizer='adam', loss= BinaryCrossentropy(label_smoothing= label_smoothing_alpha)\n",
        "              , metrics= [bce])"
      ],
      "execution_count": 31,
      "outputs": []
    },
    {
      "cell_type": "code",
      "metadata": {
        "id": "U0XZWdvS1XFY",
        "outputId": "a660814c-686e-4e71-a4e8-4a25fb47a5ed",
        "colab": {
          "base_uri": "https://localhost:8080/"
        }
      },
      "source": [
        "reduce_lr = ReduceLROnPlateau(monitor='val_binary_crossentropy', factor=0.3, patience=5, mode='min', min_lr=1E-5, verbose=1)\n",
        "early_stopping = EarlyStopping(monitor='val_binary_crossentropy', min_delta=1E-5, patience=15, mode='min',restore_best_weights=True, verbose=1)\n",
        "    \n",
        "model.fit(\n",
        "        X_train, y_train, validation_split = 0.3, \n",
        "        callbacks=[reduce_lr, early_stopping], epochs=50, verbose =1,\n",
        "        batch_size=BATCH_SIZE)"
      ],
      "execution_count": 34,
      "outputs": [
        {
          "output_type": "stream",
          "text": [
            "Epoch 1/50\n",
            "121/121 [==============================] - 2s 15ms/step - loss: 0.0154 - binary_crossentropy: 0.0153 - val_loss: 0.0175 - val_binary_crossentropy: 0.0173\n",
            "Epoch 2/50\n",
            "121/121 [==============================] - 2s 14ms/step - loss: 0.0153 - binary_crossentropy: 0.0153 - val_loss: 0.0175 - val_binary_crossentropy: 0.0173\n",
            "Epoch 3/50\n",
            "121/121 [==============================] - 2s 14ms/step - loss: 0.0154 - binary_crossentropy: 0.0153 - val_loss: 0.0175 - val_binary_crossentropy: 0.0173\n",
            "Epoch 4/50\n",
            "121/121 [==============================] - 2s 14ms/step - loss: 0.0153 - binary_crossentropy: 0.0153 - val_loss: 0.0175 - val_binary_crossentropy: 0.0173\n",
            "Epoch 5/50\n",
            "121/121 [==============================] - 2s 14ms/step - loss: 0.0153 - binary_crossentropy: 0.0152 - val_loss: 0.0175 - val_binary_crossentropy: 0.0173\n",
            "Epoch 6/50\n",
            "121/121 [==============================] - 2s 14ms/step - loss: 0.0153 - binary_crossentropy: 0.0151 - val_loss: 0.0175 - val_binary_crossentropy: 0.0173\n",
            "Epoch 7/50\n",
            "121/121 [==============================] - 2s 14ms/step - loss: 0.0153 - binary_crossentropy: 0.0152 - val_loss: 0.0175 - val_binary_crossentropy: 0.0173\n",
            "Epoch 8/50\n",
            "121/121 [==============================] - 2s 14ms/step - loss: 0.0153 - binary_crossentropy: 0.0152 - val_loss: 0.0175 - val_binary_crossentropy: 0.0173\n",
            "Epoch 9/50\n",
            "121/121 [==============================] - 2s 14ms/step - loss: 0.0153 - binary_crossentropy: 0.0152 - val_loss: 0.0175 - val_binary_crossentropy: 0.0173\n",
            "Epoch 10/50\n",
            "121/121 [==============================] - 2s 14ms/step - loss: 0.0153 - binary_crossentropy: 0.0152 - val_loss: 0.0175 - val_binary_crossentropy: 0.0173\n",
            "Epoch 11/50\n",
            "121/121 [==============================] - 2s 14ms/step - loss: 0.0153 - binary_crossentropy: 0.0151 - val_loss: 0.0175 - val_binary_crossentropy: 0.0173\n",
            "Epoch 12/50\n",
            "121/121 [==============================] - 2s 14ms/step - loss: 0.0153 - binary_crossentropy: 0.0152 - val_loss: 0.0175 - val_binary_crossentropy: 0.0173\n",
            "Epoch 13/50\n",
            "121/121 [==============================] - 2s 14ms/step - loss: 0.0153 - binary_crossentropy: 0.0150 - val_loss: 0.0175 - val_binary_crossentropy: 0.0173\n",
            "Epoch 14/50\n",
            "121/121 [==============================] - 2s 14ms/step - loss: 0.0152 - binary_crossentropy: 0.0151 - val_loss: 0.0175 - val_binary_crossentropy: 0.0173\n",
            "Epoch 15/50\n",
            "121/121 [==============================] - 2s 14ms/step - loss: 0.0153 - binary_crossentropy: 0.0153 - val_loss: 0.0175 - val_binary_crossentropy: 0.0173\n",
            "Epoch 16/50\n",
            "120/121 [============================>.] - ETA: 0s - loss: 0.0152 - binary_crossentropy: 0.0150Restoring model weights from the end of the best epoch.\n",
            "121/121 [==============================] - 2s 14ms/step - loss: 0.0152 - binary_crossentropy: 0.0151 - val_loss: 0.0175 - val_binary_crossentropy: 0.0173\n",
            "Epoch 00016: early stopping\n"
          ],
          "name": "stdout"
        },
        {
          "output_type": "execute_result",
          "data": {
            "text/plain": [
              "<tensorflow.python.keras.callbacks.History at 0x7f66cd37b080>"
            ]
          },
          "metadata": {
            "tags": []
          },
          "execution_count": 34
        }
      ]
    },
    {
      "cell_type": "code",
      "metadata": {
        "id": "IxXFH-Hg1XFa",
        "outputId": "88d60ad0-7f83-42e5-f1bb-c9633abc7b54",
        "colab": {
          "base_uri": "https://localhost:8080/"
        }
      },
      "source": [
        "model_2list = kfolds_training(NFOLDS, model, SEEDS, X_train, y_train, bagging_alpha = 0.8, bagging_samples = 15)"
      ],
      "execution_count": 17,
      "outputs": [
        {
          "output_type": "stream",
          "text": [
            "Training at fold:  0 ####################################################################################################\n",
            "Logloss at bag  0 :  0.016386826\n",
            "Logloss at bag  1 :  0.01640469\n",
            "Logloss at bag  2 :  0.016286902\n",
            "Logloss at bag  3 :  0.016394204\n",
            "Logloss at bag  4 :  0.01632245\n",
            "Logloss at bag  5 :  0.016459351\n",
            "Logloss at bag  6 :  0.016353695\n",
            "Logloss at bag  7 :  0.016475042\n",
            "Logloss at bag  8 :  0.016371042\n",
            "Logloss at bag  9 :  0.016322346\n",
            "Logloss at bag  10 :  0.016385715\n",
            "Logloss at bag  11 :  0.016442562\n",
            "Logloss at bag  12 :  0.01624293\n",
            "Logloss at bag  13 :  0.016427882\n",
            "Logloss at bag  14 :  0.016377933\n",
            "Evaluate bagging, log loss =  0.015758724883198738\n",
            "Training at fold:  1 ####################################################################################################\n",
            "Logloss at bag  0 :  0.016928557\n",
            "Logloss at bag  1 :  0.016903378\n",
            "Logloss at bag  2 :  0.016888676\n",
            "Logloss at bag  3 :  0.016892912\n",
            "Logloss at bag  4 :  0.016948014\n",
            "Logloss at bag  5 :  0.017081028\n",
            "Logloss at bag  6 :  0.016882852\n",
            "Logloss at bag  7 :  0.01677912\n",
            "Logloss at bag  8 :  0.016902143\n",
            "Logloss at bag  9 :  0.01689156\n",
            "Logloss at bag  10 :  0.016962634\n",
            "Logloss at bag  11 :  0.016990121\n",
            "Logloss at bag  12 :  0.016986525\n",
            "Logloss at bag  13 :  0.01683413\n",
            "Logloss at bag  14 :  0.016908277\n",
            "Evaluate bagging, log loss =  0.01629655621945858\n",
            "Training at fold:  2 ####################################################################################################\n",
            "Logloss at bag  0 :  0.016996918\n",
            "Logloss at bag  1 :  0.017023854\n",
            "Logloss at bag  2 :  0.016956167\n",
            "Logloss at bag  3 :  0.016930208\n",
            "Logloss at bag  4 :  0.016986452\n",
            "Logloss at bag  5 :  0.017073873\n",
            "Logloss at bag  6 :  0.01691865\n",
            "Logloss at bag  7 :  0.016879637\n",
            "Logloss at bag  8 :  0.016916037\n",
            "Logloss at bag  9 :  0.016978636\n",
            "Logloss at bag  10 :  0.017066387\n",
            "Logloss at bag  11 :  0.016932894\n",
            "Logloss at bag  12 :  0.01704954\n",
            "Logloss at bag  13 :  0.01692307\n",
            "Logloss at bag  14 :  0.016923469\n",
            "Evaluate bagging, log loss =  0.016308972612023354\n",
            "Training at fold:  3 ####################################################################################################\n",
            "Logloss at bag  0 :  0.017271055\n",
            "Logloss at bag  1 :  0.017209204\n",
            "Logloss at bag  2 :  0.017338658\n",
            "Logloss at bag  3 :  0.01720664\n",
            "Logloss at bag  4 :  0.017194053\n",
            "Logloss at bag  5 :  0.0172022\n",
            "Logloss at bag  6 :  0.017223543\n",
            "Logloss at bag  7 :  0.017335327\n",
            "Logloss at bag  8 :  0.017258815\n",
            "Logloss at bag  9 :  0.01727407\n",
            "Logloss at bag  10 :  0.017154908\n",
            "Logloss at bag  11 :  0.017174996\n",
            "Logloss at bag  12 :  0.017218845\n",
            "Logloss at bag  13 :  0.017307788\n",
            "Logloss at bag  14 :  0.017316062\n",
            "Evaluate bagging, log loss =  0.016613654792308807\n",
            "Training at fold:  4 ####################################################################################################\n",
            "Logloss at bag  0 :  0.017189393\n",
            "Logloss at bag  1 :  0.017277589\n",
            "Logloss at bag  2 :  0.017209642\n",
            "Logloss at bag  3 :  0.017259972\n",
            "Logloss at bag  4 :  0.017249819\n",
            "Logloss at bag  5 :  0.017284486\n",
            "Logloss at bag  6 :  0.017186634\n",
            "Logloss at bag  7 :  0.017194834\n",
            "Logloss at bag  8 :  0.017253928\n",
            "Logloss at bag  9 :  0.017214997\n",
            "Logloss at bag  10 :  0.017240439\n",
            "Logloss at bag  11 :  0.017317945\n",
            "Logloss at bag  12 :  0.017227462\n",
            "Logloss at bag  13 :  0.01719128\n",
            "Logloss at bag  14 :  0.01721116\n",
            "Evaluate bagging, log loss =  0.016621176153421402\n",
            "Training at fold:  5 ####################################################################################################\n",
            "Logloss at bag  0 :  0.017095158\n",
            "Logloss at bag  1 :  0.017037729\n",
            "Logloss at bag  2 :  0.017099919\n",
            "Logloss at bag  3 :  0.016999949\n",
            "Logloss at bag  4 :  0.017077714\n",
            "Logloss at bag  5 :  0.01711932\n",
            "Logloss at bag  6 :  0.01706262\n",
            "Logloss at bag  7 :  0.017108634\n",
            "Logloss at bag  8 :  0.017082788\n",
            "Logloss at bag  9 :  0.017153107\n",
            "Logloss at bag  10 :  0.01704517\n",
            "Logloss at bag  11 :  0.01708389\n",
            "Logloss at bag  12 :  0.016989326\n",
            "Logloss at bag  13 :  0.017077096\n",
            "Logloss at bag  14 :  0.017094405\n",
            "Evaluate bagging, log loss =  0.016587993130087852\n",
            "Training at fold:  6 ####################################################################################################\n",
            "Logloss at bag  0 :  0.01679611\n",
            "Logloss at bag  1 :  0.016737787\n",
            "Logloss at bag  2 :  0.016795348\n",
            "Logloss at bag  3 :  0.016896954\n",
            "Logloss at bag  4 :  0.016831568\n",
            "Logloss at bag  5 :  0.016818417\n",
            "Logloss at bag  6 :  0.016768046\n",
            "Logloss at bag  7 :  0.016722426\n",
            "Logloss at bag  8 :  0.016756503\n",
            "Logloss at bag  9 :  0.016798303\n",
            "Logloss at bag  10 :  0.0167435\n",
            "Logloss at bag  11 :  0.016755914\n",
            "Logloss at bag  12 :  0.016755354\n",
            "Logloss at bag  13 :  0.016764646\n",
            "Logloss at bag  14 :  0.01682757\n",
            "Evaluate bagging, log loss =  0.016214411705732346\n",
            "Training at fold:  7 ####################################################################################################\n",
            "Logloss at bag  0 :  0.017343221\n",
            "Logloss at bag  1 :  0.01744378\n",
            "Logloss at bag  2 :  0.017431907\n",
            "Logloss at bag  3 :  0.017438905\n",
            "Logloss at bag  4 :  0.017475553\n",
            "Logloss at bag  5 :  0.017402966\n",
            "Logloss at bag  6 :  0.017514141\n",
            "Logloss at bag  7 :  0.017484244\n",
            "Logloss at bag  8 :  0.017467849\n",
            "Logloss at bag  9 :  0.017466625\n",
            "Logloss at bag  10 :  0.017462773\n",
            "Logloss at bag  11 :  0.017428985\n",
            "Logloss at bag  12 :  0.017507378\n",
            "Logloss at bag  13 :  0.01750254\n",
            "Logloss at bag  14 :  0.017542731\n",
            "Evaluate bagging, log loss =  0.016858572140336037\n",
            "AVG logloss all folds:  0.013523336499929428\n"
          ],
          "name": "stdout"
        }
      ]
    },
    {
      "cell_type": "code",
      "metadata": {
        "id": "-fRhcYjV1XFd"
      },
      "source": [
        "# cols_target_low_score = to_train_targets[cols_target].sum().sort_values(ascending = True).head(2).index\n",
        "# cols_target_low_score"
      ],
      "execution_count": 18,
      "outputs": []
    },
    {
      "cell_type": "code",
      "metadata": {
        "id": "SP5rAhV51XFf"
      },
      "source": [
        "# nn_pred_train1 = voting_predict( sum(model_2list, []), X_train, 206)\n",
        "# np.savetxt(\"NN_fts_pred_1.csv\", nn_pred_train1, delimiter=\",\")\n",
        "# single_model = model_2list[0][0]\n",
        "# represent = tf.keras.models.Sequential(single_model.layers[:-1])\n",
        "# nn_rept = represent.predict(X_train)\n",
        "# np.savetxt(\"NN_fts_representation.csv\", nn_rept, delimiter=\",\")"
      ],
      "execution_count": 19,
      "outputs": []
    },
    {
      "cell_type": "code",
      "metadata": {
        "id": "foKXKUpV1XFi"
      },
      "source": [
        "prediction = voting_predict( sum(model_2list, []), X_pred, 206)\n",
        "\n",
        "df_preds_non_ctl =  pd.DataFrame(prediction, columns= cols_target, index = to_pred.index)\n",
        "\n",
        "# concat with all to pred values\n",
        "df_preds = pd.concat([ full_pred[cols_id], df_preds_non_ctl], axis = 1).fillna(0)\n",
        "# to csv\n",
        "df_preds.to_csv(\"submission.csv\", index = None)"
      ],
      "execution_count": 20,
      "outputs": []
    },
    {
      "cell_type": "code",
      "metadata": {
        "id": "P4X03396OhGV",
        "outputId": "72fa2444-444f-4814-b379-7cf33391d8b7",
        "colab": {
          "base_uri": "https://localhost:8080/",
          "height": 16
        }
      },
      "source": [
        "from google.colab import files\n",
        "files.download(\"submission.csv\") "
      ],
      "execution_count": 21,
      "outputs": [
        {
          "output_type": "display_data",
          "data": {
            "application/javascript": [
              "\n",
              "    async function download(id, filename, size) {\n",
              "      if (!google.colab.kernel.accessAllowed) {\n",
              "        return;\n",
              "      }\n",
              "      const div = document.createElement('div');\n",
              "      const label = document.createElement('label');\n",
              "      label.textContent = `Downloading \"${filename}\": `;\n",
              "      div.appendChild(label);\n",
              "      const progress = document.createElement('progress');\n",
              "      progress.max = size;\n",
              "      div.appendChild(progress);\n",
              "      document.body.appendChild(div);\n",
              "\n",
              "      const buffers = [];\n",
              "      let downloaded = 0;\n",
              "\n",
              "      const channel = await google.colab.kernel.comms.open(id);\n",
              "      // Send a message to notify the kernel that we're ready.\n",
              "      channel.send({})\n",
              "\n",
              "      for await (const message of channel.messages) {\n",
              "        // Send a message to notify the kernel that we're ready.\n",
              "        channel.send({})\n",
              "        if (message.buffers) {\n",
              "          for (const buffer of message.buffers) {\n",
              "            buffers.push(buffer);\n",
              "            downloaded += buffer.byteLength;\n",
              "            progress.value = downloaded;\n",
              "          }\n",
              "        }\n",
              "      }\n",
              "      const blob = new Blob(buffers, {type: 'application/binary'});\n",
              "      const a = document.createElement('a');\n",
              "      a.href = window.URL.createObjectURL(blob);\n",
              "      a.download = filename;\n",
              "      div.appendChild(a);\n",
              "      a.click();\n",
              "      div.remove();\n",
              "    }\n",
              "  "
            ],
            "text/plain": [
              "<IPython.core.display.Javascript object>"
            ]
          },
          "metadata": {
            "tags": []
          }
        },
        {
          "output_type": "display_data",
          "data": {
            "application/javascript": [
              "download(\"download_17bfe638-9ab6-4ba7-93f9-de09f3a4bd79\", \"submission.csv\", 16422178)"
            ],
            "text/plain": [
              "<IPython.core.display.Javascript object>"
            ]
          },
          "metadata": {
            "tags": []
          }
        }
      ]
    },
    {
      "cell_type": "code",
      "metadata": {
        "id": "QW7JVOiQ1XFk"
      },
      "source": [
        "# import glob, os"
      ],
      "execution_count": 22,
      "outputs": []
    },
    {
      "cell_type": "code",
      "metadata": {
        "id": "wvwM6P70NG-0"
      },
      "source": [
        "# glob.glob('/content/drive/My Drive/Data/colabs_data/MOA_kaggle/Model_MOA/')"
      ],
      "execution_count": 23,
      "outputs": []
    },
    {
      "cell_type": "code",
      "metadata": {
        "id": "X0y_v7pSNh6Y"
      },
      "source": [
        "# names = [os.path.basename(x) for x in glob.glob('/content/drive/My Drive/Data/colabs_data/MOA_kaggle/Model_MOA/')]"
      ],
      "execution_count": 24,
      "outputs": []
    },
    {
      "cell_type": "code",
      "metadata": {
        "id": "WrkeS7OoNsjl"
      },
      "source": [
        "# names"
      ],
      "execution_count": 25,
      "outputs": []
    }
  ]
}