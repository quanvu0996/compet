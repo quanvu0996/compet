{
  "nbformat": 4,
  "nbformat_minor": 0,
  "metadata": {
    "colab": {
      "name": "kalapa_4student_traditional_ML.ipynb",
      "provenance": [],
      "mount_file_id": "https://github.com/quanvu0996/compet/blob/master/kalapa_4student_traditional_ML_ordinal_encoder.ipynb",
      "authorship_tag": "ABX9TyNrCC38Gxv62sq88frAvDQN",
      "include_colab_link": true
    },
    "kernelspec": {
      "name": "python3",
      "display_name": "Python 3"
    }
  },
  "cells": [
    {
      "cell_type": "markdown",
      "metadata": {
        "id": "view-in-github",
        "colab_type": "text"
      },
      "source": [
        "<a href=\"https://colab.research.google.com/github/quanvu0996/compet/blob/master/kalapa_4student_final_try.ipynb\" target=\"_parent\"><img src=\"https://colab.research.google.com/assets/colab-badge.svg\" alt=\"Open In Colab\"/></a>"
      ]
    },
    {
      "cell_type": "code",
      "metadata": {
        "id": "xnLk6f0nuwj-",
        "colab_type": "code",
        "colab": {
          "base_uri": "https://localhost:8080/",
          "height": 72
        },
        "outputId": "424b833b-a290-4504-da43-0b330463466e"
      },
      "source": [
        "import numpy as np\n",
        "import pandas as pd\n",
        "import tensorflow as tf\n",
        "from tensorflow.keras.layers import Dense, DenseFeatures, Dropout, BatchNormalization, Embedding\n",
        "from tensorflow.keras import Sequential\n",
        "from tensorflow.keras.metrics import AUC, Precision, Recall\n",
        "import tensorflow.keras.backend as K\n",
        "from tensorflow import feature_column as fc\n",
        "from keras.wrappers.scikit_learn import KerasRegressor\n",
        "\n",
        "import matplotlib.pyplot as plt\n",
        "import seaborn as sns; sns.set(style=\"ticks\", color_codes=True)\n",
        "\n",
        "from sklearn.decomposition import PCA\n",
        "from sklearn.preprocessing import StandardScaler, OneHotEncoder, OrdinalEncoder\n",
        "from sklearn.model_selection import train_test_split, StratifiedKFold, cross_val_score\n",
        "from sklearn.metrics import accuracy_score, precision_score, recall_score, f1_score,roc_curve, auc, confusion_matrix\n",
        "from sklearn.utils import check_random_state\n",
        "from sklearn.impute import SimpleImputer\n",
        "from sklearn.pipeline import Pipeline\n",
        "from sklearn.compose import ColumnTransformer\n",
        "from sklearn.ensemble import RandomForestClassifier, GradientBoostingClassifier\n",
        "from sklearn.svm import SVC\n",
        "from sklearn.base import BaseEstimator, TransformerMixin\n",
        "\n",
        "import xgboost as xgb\n",
        "from lightgbm import LGBMClassifier\n",
        "\n",
        "%matplotlib inline"
      ],
      "execution_count": 1,
      "outputs": [
        {
          "output_type": "stream",
          "text": [
            "/usr/local/lib/python3.6/dist-packages/statsmodels/tools/_testing.py:19: FutureWarning: pandas.util.testing is deprecated. Use the functions in the public API at pandas.testing instead.\n",
            "  import pandas.util.testing as tm\n"
          ],
          "name": "stderr"
        }
      ]
    },
    {
      "cell_type": "code",
      "metadata": {
        "id": "E-qcYZ8Fv1TH",
        "colab_type": "code",
        "colab": {
          "base_uri": "https://localhost:8080/",
          "height": 52
        },
        "outputId": "0692c5f2-4a53-46c7-8998-e21513efc774"
      },
      "source": [
        "print(pd.__version__)\n",
        "print(tf.__version__)"
      ],
      "execution_count": null,
      "outputs": [
        {
          "output_type": "stream",
          "text": [
            "1.0.5\n",
            "2.3.0\n"
          ],
          "name": "stdout"
        }
      ]
    },
    {
      "cell_type": "code",
      "metadata": {
        "id": "1j7u_eUMv9Zc",
        "colab_type": "code",
        "colab": {}
      },
      "source": [
        "submision_path = '/content/drive/My Drive/Data/colabs_data/kalapa_4students/simple_submission.csv'\n",
        "train_path = '/content/drive/My Drive/Data/colabs_data/kalapa_4students/train.csv'\n",
        "test_path = '/content/drive/My Drive/Data/colabs_data/kalapa_4students/test.csv'\n",
        "\n",
        "added_data_path= '/content/drive/My Drive/Data/colabs_data/kalapa_4students/exdata.txt'"
      ],
      "execution_count": 2,
      "outputs": []
    },
    {
      "cell_type": "code",
      "metadata": {
        "id": "FqoJojArwAM6",
        "colab_type": "code",
        "colab": {
          "base_uri": "https://localhost:8080/",
          "height": 107
        },
        "outputId": "42e8d70a-08f4-41d6-a386-947e01d13521"
      },
      "source": [
        "def load_data(train_path, test_path, label_col = 'label'):\n",
        "    train_data = pd.read_csv(train_path)\n",
        "    predict_data = pd.read_csv(test_path)\n",
        "    return train_data, predict_data\n",
        "\n",
        "train_data, predict_data = load_data( train_path, test_path )\n",
        "train_data = train_data[train_data['label'].isin( [0,1] )]\n",
        "cols = train_data.columns"
      ],
      "execution_count": 3,
      "outputs": [
        {
          "output_type": "stream",
          "text": [
            "/usr/local/lib/python3.6/dist-packages/IPython/core/interactiveshell.py:2822: DtypeWarning: Columns (35,43) have mixed types.Specify dtype option on import or set low_memory=False.\n",
            "  if self.run_code(code, result):\n",
            "/usr/local/lib/python3.6/dist-packages/IPython/core/interactiveshell.py:2822: DtypeWarning: Columns (34,42) have mixed types.Specify dtype option on import or set low_memory=False.\n",
            "  if self.run_code(code, result):\n"
          ],
          "name": "stderr"
        }
      ]
    },
    {
      "cell_type": "code",
      "metadata": {
        "id": "TbBLkOqGN7F4",
        "colab_type": "code",
        "colab": {
          "base_uri": "https://localhost:8080/",
          "height": 406
        },
        "outputId": "2379fbfa-89ea-45d9-d95b-6db51fdcaaff"
      },
      "source": [
        "added_data = pd.read_csv(added_data_path, sep='\\t', encoding='utf-8', names = ['homeTownState', 'area', 'population', 'pop_density'])\n",
        "added_data"
      ],
      "execution_count": 4,
      "outputs": [
        {
          "output_type": "execute_result",
          "data": {
            "text/html": [
              "<div>\n",
              "<style scoped>\n",
              "    .dataframe tbody tr th:only-of-type {\n",
              "        vertical-align: middle;\n",
              "    }\n",
              "\n",
              "    .dataframe tbody tr th {\n",
              "        vertical-align: top;\n",
              "    }\n",
              "\n",
              "    .dataframe thead th {\n",
              "        text-align: right;\n",
              "    }\n",
              "</style>\n",
              "<table border=\"1\" class=\"dataframe\">\n",
              "  <thead>\n",
              "    <tr style=\"text-align: right;\">\n",
              "      <th></th>\n",
              "      <th>homeTownState</th>\n",
              "      <th>area</th>\n",
              "      <th>population</th>\n",
              "      <th>pop_density</th>\n",
              "    </tr>\n",
              "  </thead>\n",
              "  <tbody>\n",
              "    <tr>\n",
              "      <th>0</th>\n",
              "      <td>province</td>\n",
              "      <td>area</td>\n",
              "      <td>population</td>\n",
              "      <td>pop_density</td>\n",
              "    </tr>\n",
              "    <tr>\n",
              "      <th>1</th>\n",
              "      <td>Hà Nội</td>\n",
              "      <td>3358.6</td>\n",
              "      <td>8093.9</td>\n",
              "      <td>2410</td>\n",
              "    </tr>\n",
              "    <tr>\n",
              "      <th>2</th>\n",
              "      <td>Vĩnh Phúc</td>\n",
              "      <td>1235.9</td>\n",
              "      <td>1154.8</td>\n",
              "      <td>934</td>\n",
              "    </tr>\n",
              "    <tr>\n",
              "      <th>3</th>\n",
              "      <td>Bắc Ninh</td>\n",
              "      <td>822.7</td>\n",
              "      <td>1378.6</td>\n",
              "      <td>1676</td>\n",
              "    </tr>\n",
              "    <tr>\n",
              "      <th>4</th>\n",
              "      <td>Quảng Ninh</td>\n",
              "      <td>6178.2</td>\n",
              "      <td>1324.8</td>\n",
              "      <td>214</td>\n",
              "    </tr>\n",
              "    <tr>\n",
              "      <th>...</th>\n",
              "      <td>...</td>\n",
              "      <td>...</td>\n",
              "      <td>...</td>\n",
              "      <td>...</td>\n",
              "    </tr>\n",
              "    <tr>\n",
              "      <th>60</th>\n",
              "      <td>Cần Thơ</td>\n",
              "      <td>1439</td>\n",
              "      <td>1236</td>\n",
              "      <td>859</td>\n",
              "    </tr>\n",
              "    <tr>\n",
              "      <th>61</th>\n",
              "      <td>Hậu Giang</td>\n",
              "      <td>1621.7</td>\n",
              "      <td>732.2</td>\n",
              "      <td>451</td>\n",
              "    </tr>\n",
              "    <tr>\n",
              "      <th>62</th>\n",
              "      <td>Sóc Trăng</td>\n",
              "      <td>3311.9</td>\n",
              "      <td>1199.5</td>\n",
              "      <td>362</td>\n",
              "    </tr>\n",
              "    <tr>\n",
              "      <th>63</th>\n",
              "      <td>Bạc Liêu</td>\n",
              "      <td>2669</td>\n",
              "      <td>908.2</td>\n",
              "      <td>340</td>\n",
              "    </tr>\n",
              "    <tr>\n",
              "      <th>64</th>\n",
              "      <td>Cà Mau</td>\n",
              "      <td>5221.2</td>\n",
              "      <td>1194.3</td>\n",
              "      <td>229</td>\n",
              "    </tr>\n",
              "  </tbody>\n",
              "</table>\n",
              "<p>65 rows × 4 columns</p>\n",
              "</div>"
            ],
            "text/plain": [
              "   homeTownState    area  population  pop_density\n",
              "0       province    area  population  pop_density\n",
              "1         Hà Nội  3358.6      8093.9         2410\n",
              "2      Vĩnh Phúc  1235.9      1154.8          934\n",
              "3       Bắc Ninh   822.7      1378.6         1676\n",
              "4     Quảng Ninh  6178.2      1324.8          214\n",
              "..           ...     ...         ...          ...\n",
              "60       Cần Thơ    1439        1236          859\n",
              "61     Hậu Giang  1621.7       732.2          451\n",
              "62     Sóc Trăng  3311.9      1199.5          362\n",
              "63      Bạc Liêu    2669       908.2          340\n",
              "64        Cà Mau  5221.2      1194.3          229\n",
              "\n",
              "[65 rows x 4 columns]"
            ]
          },
          "metadata": {
            "tags": []
          },
          "execution_count": 4
        }
      ]
    },
    {
      "cell_type": "markdown",
      "metadata": {
        "id": "5TT9zCpWXTtO",
        "colab_type": "text"
      },
      "source": [
        "Clean data"
      ]
    },
    {
      "cell_type": "code",
      "metadata": {
        "id": "JSYdoBTpXXx6",
        "colab_type": "code",
        "colab": {}
      },
      "source": [
        "vals_homeTownState = { 'Hanoi' : 'Hà Nội' , \n",
        "'Ho Chi Minh City' : 'TP.Hồ Chí Minh' , \n",
        "'Thanh Hóa Province' : 'Thanh Hoá' , \n",
        "'Nghệ An Province' : 'Nghệ An' , \n",
        "'Đồng Nai Province' : 'Đồng Nai' , \n",
        "'Haiphong' : 'Hải Phòng' , \n",
        "'Khánh Hòa Province' : 'Khánh Hoà' , \n",
        "'Thái Bình Province' : 'Thái Bình' , \n",
        "'Bắc Giang Province' : 'Bắc Giang' , \n",
        "'Hà Tĩnh Province' : 'Hà Tĩnh' , \n",
        "'Bình Định Province' : 'Bình Định' , \n",
        "'Nam Định Province' : 'Nam Định' , \n",
        "'Bắc Ninh Province' : 'Bắc Ninh' , \n",
        "'Quảng Ngãi Province' : 'Quảng Ngãi' , \n",
        "'Hải Dương Province' : 'Hải Dương' , \n",
        "'Quảng Nam Province' : 'Quảng Nam' , \n",
        "'Thái Nguyên Province' : 'Thái Nguyên' , \n",
        "'An Giang Province' : 'An Giang' , \n",
        "'Cần Thơ' : 'Cần Thơ' , \n",
        "'Đắk Lắk Province' : 'Đắk Lắk' , \n",
        "'Da Nang' : 'Đà Nẵng' , \n",
        "'Tiền Giang Province' : 'Tiền Giang' , \n",
        "'Phú Thọ Province' : 'Phú Thọ' , \n",
        "'Quảng Ninh Province' : 'Quảng Ninh' , \n",
        "'Ninh Bình Province' : 'Ninh Bình' , \n",
        "'Thừa Thiên–Huế Province' : 'Thừa Thiên Huế' , \n",
        "'Bến Tre Province' : 'Bến Tre' , \n",
        "'Hưng Yên Province' : 'Hưng Yên' , \n",
        "'Bà Rịa–Vũng Tàu Province' : 'Bà Rịa - Vũng Tàu' , \n",
        "'Kiên Giang Province' : 'Kiên Giang' , \n",
        "'Quảng Trị Province' : 'Quảng Trị' , \n",
        "'Đồng Tháp Province' : 'Đồng Tháp' , \n",
        "'Tây Ninh Province' : 'Tây Ninh' , \n",
        "'Sóc Trăng Province' : 'Sóc Trăng' , \n",
        "'Lâm Đồng Province' : 'Lâm Đồng' , \n",
        "'Lạng Sơn Province' : 'Lạng Sơn' , \n",
        "'Bình Thuận Province' : 'Bình Thuận' , \n",
        "'Gia Lai Province' : 'Gia Lai' , \n",
        "'Sơn La Province' : 'Sơn La' , \n",
        "'Cà Mau Province' : 'Cà Mau' , \n",
        "'Tuyên Quang Province' : 'Tuyên Quang' , \n",
        "'Quảng Bình Province' : 'Quảng Bình' , \n",
        "'Vĩnh Long Province' : 'Vĩnh Long' , \n",
        "'Long An Province' : 'Long An' , \n",
        "'Yên Bái Province' : 'Yên Bái' , \n",
        "'Bạc Liêu Province' : 'Bạc Liêu' , \n",
        "'Hòa Bình Province' : 'Hoà Bình' , \n",
        "'Trà Vinh Province' : 'Trà Vinh' , \n",
        "'Bình Dương Province' : 'Bình Dương' , \n",
        "'Phú Yên Province' : 'Phú Yên' , \n",
        "'Hà Nam Province' : 'Hà Nam' , \n",
        "'Vĩnh Phúc Province' : 'Vĩnh Phúc' , \n",
        "'Lào Cai Province' : 'Lào Cai' , \n",
        "'Điện Biên Province' : 'Điện Biên' , \n",
        "'Ninh Thuận Province' : 'Ninh Thuận' , \n",
        "'Cao Bằng Province' : 'Cao Bằng' , \n",
        "'Hà Giang Province' : 'Hà Giang' , \n",
        "'Bắc Kạn Province' : 'Bắc Kạn' , \n",
        "'Kon Tum Province' : 'Kon Tum' , \n",
        "'Hậu Giang Province' : 'Hậu Giang' , \n",
        "'Sarawak' : 'Sarawak' , \n",
        "'Đắk Nông Province' : 'Đắk Nông' , \n",
        "'Seoul' : 'Seoul' , \n",
        "'Bình Phước Province' : 'Bình Phước' , \n",
        "'New York' : 'New York' , \n",
        "'England' : 'England' , \n",
        "'Lai Châu Province' : 'Lai Châu' , \n",
        "'California' : 'California' , \n",
        "'Hong Kong' : 'Hong Kong' , \n",
        "'Orientale' : 'Orientale' , \n",
        "'Dubai' : 'Dubai' , \n",
        "'Guangdong' : 'Guangdong' , \n",
        "'Île-de-France' : 'Île-de-France' }"
      ],
      "execution_count": 5,
      "outputs": []
    },
    {
      "cell_type": "code",
      "metadata": {
        "id": "F1xCtPneDej3",
        "colab_type": "code",
        "colab": {
          "base_uri": "https://localhost:8080/",
          "height": 105
        },
        "outputId": "16bc6144-4dab-44be-c9b8-d9d4a3fce01e"
      },
      "source": [
        "def clean_fn(df_):\n",
        "  df = df_.copy()\n",
        "\n",
        "  df = df.replace('notfound','missing')\n",
        "  df['homeTownState'] = df['homeTownState'].fillna('other').map(vals_homeTownState ).fillna('Foreign')\n",
        "  df = df.merge(added_data, how = 'left', on = 'homeTownState')\n",
        "  df[[ 'area', 'population', 'pop_density']] = df[[ 'area', 'population', 'pop_density']].astype('float64')\n",
        "  \n",
        "  df[\"Field_38\"] = df[\"Field_38\"].map({0: 0.0, 1: 1.0, \"DN\": np.nan, \"TN\": np.nan, \"GD\": np.nan})\n",
        "  df[\"Field_62\"] = df[\"Field_62\"].map({\"I\": 1, \"II\": 2, \"III\": 3, \"IV\": 4, \"V\": 5, \"Ngoài quốc doanh Quận 7\": np.nan})\n",
        "  df[\"Field_47\"] = df[\"Field_47\"].map({\"Zezo\": 0, \"One\": 1, \"Two\": 2, \"Three\": 3, \"Four\": 4})\n",
        "\n",
        "  df['Field_45_Q'] = df['Field_45'].str[:-3].astype('category')\n",
        "  df['Field_45_TP_55'] = df['Field_45'].str[:2] == df['Field_55']\n",
        "  df['is_homeTown_diaChi'] = df['homeTownCity'] == df['diaChi']\n",
        "  df['is_homeTown_current_city'] = df['homeTownCity'] == df['currentLocationCity']\n",
        "  df['is_homeTown_current_state'] = df['homeTownState'] == df['currentLocationState']\n",
        "  df['F48_49'] = df['Field_48'] == df['Field_49']\n",
        "\n",
        "  df[[\"Field_27\", \"Field_28\"]].replace(0.0, np.nan, inplace=True)\n",
        "  df['F18_isnumeric'] = df['Field_18'].str.isnumeric()\n",
        "  df['F18_isalpha'] = df['Field_18'].str.isalpha()\n",
        "\n",
        "  return df\n",
        "\n",
        "train_data = clean_fn(train_data)\n",
        "predict_data = clean_fn(predict_data)"
      ],
      "execution_count": 14,
      "outputs": [
        {
          "output_type": "stream",
          "text": [
            "/usr/local/lib/python3.6/dist-packages/pandas/core/frame.py:4172: SettingWithCopyWarning: \n",
            "A value is trying to be set on a copy of a slice from a DataFrame\n",
            "\n",
            "See the caveats in the documentation: https://pandas.pydata.org/pandas-docs/stable/user_guide/indexing.html#returning-a-view-versus-a-copy\n",
            "  method=method,\n"
          ],
          "name": "stderr"
        }
      ]
    },
    {
      "cell_type": "code",
      "metadata": {
        "id": "FPqdE9DReOLi",
        "colab_type": "code",
        "colab": {
          "base_uri": "https://localhost:8080/",
          "height": 34
        },
        "outputId": "a0d17ace-f370-4b0f-868a-7ca02d1cede5"
      },
      "source": [
        "len(train_data.columns)"
      ],
      "execution_count": 15,
      "outputs": [
        {
          "output_type": "execute_result",
          "data": {
            "text/plain": [
              "206"
            ]
          },
          "metadata": {
            "tags": []
          },
          "execution_count": 15
        }
      ]
    },
    {
      "cell_type": "code",
      "metadata": {
        "id": "OrXATFIdwCZH",
        "colab_type": "code",
        "colab": {}
      },
      "source": [
        "# Nhãn\n",
        "cols_label = ['label']\n",
        "# Đặc trưng binary\n",
        "cols_fts_binary = [i for i in train_data.select_dtypes(include=['float64','int64']).columns \n",
        "                   if len(set(train_data[i].fillna(0)) - {0,1} ) == 0 and i not in cols_label]\n",
        "# định dang datte yyyy-mm-dd\n",
        "cols_date = ['Field_1','Field_2','Field_5','Field_6','Field_7','Field_8','Field_9','Field_11'\n",
        "             ,'Field_15','Field_25','Field_32','Field_33','Field_35','Field_40','Field_43','Field_44'\n",
        "             ,'F_startDate','F_endDate','E_startDate','E_endDate','C_startDate','C_endDate','G_startDate','G_endDate'\n",
        "             ,'A_startDate','A_endDate']\n",
        "# định dạng date yyymmdd\n",
        "cols_date2 = ['ngaySinh', 'Field_34']\n",
        "# Đặc trưng dạng văn bản\n",
        "cols_docs = ['Field_46','diaChi','Field_48','Field_49','currentLocationName','homeTownName','Field_56']\n",
        "# Định danh bản ghi\n",
        "cols_id = ['id','Field_45'] +[i for i in train_data.select_dtypes(include = ['object']).columns \n",
        "                              if len(train_data[i].unique()) >=350 and i not in cols_date + cols_date2+cols_docs]\n",
        "# Đặc trưng dạng categorical\n",
        "cols_categorical = [i for i in train_data.select_dtypes(include = ['object']).columns\n",
        "                    if i not in cols_id + cols_label+cols_date2+cols_date+cols_docs]\n",
        "# Đặc trưng số\n",
        "cols_fts_num = [ i for i in predict_data.select_dtypes(include=['float64','int64']).columns \n",
        "                if i not in cols_id + cols_label + cols_fts_binary + cols_date2+cols_date+cols_docs]"
      ],
      "execution_count": 18,
      "outputs": []
    },
    {
      "cell_type": "code",
      "metadata": {
        "id": "JD5nD91PwGlL",
        "colab_type": "code",
        "colab": {}
      },
      "source": [
        "# Đặc trưng số có dạng như categorical\n",
        "cols_num_like_cat = [i for i in cols_fts_num if len(train_data[i].unique()) <= 15 ]\n",
        "# Đặc trưng số đã kiểm chứng\n",
        "cols_num = [i for i in cols_fts_num if i not in cols_num_like_cat]\n",
        "\n",
        "# cols_categorical = list(set(cols_categorical + cols_num_like_cat)) # Không cần thiết, convert qua lại ordinalencoder\n",
        "cols_fts_num = [i for i in cols_fts_num if i not in cols_num_like_cat ]"
      ],
      "execution_count": 19,
      "outputs": []
    },
    {
      "cell_type": "code",
      "metadata": {
        "id": "_VKHHN7nwqvD",
        "colab_type": "code",
        "colab": {}
      },
      "source": [
        "X_train, X_test, y_train, y_test = train_test_split(train_data\n",
        "                                                   ,train_data['label'].values\n",
        "                                                   ,stratify = train_data['label'].values \n",
        "                                                   ,test_size = 0.2\n",
        "                                                   )"
      ],
      "execution_count": 20,
      "outputs": []
    },
    {
      "cell_type": "code",
      "metadata": {
        "id": "1QaLF849KxaJ",
        "colab_type": "code",
        "colab": {
          "base_uri": "https://localhost:8080/",
          "height": 34
        },
        "outputId": "178afa8a-541b-4829-8b3b-3d5309edfb65"
      },
      "source": [
        "X_train.shape"
      ],
      "execution_count": 21,
      "outputs": [
        {
          "output_type": "execute_result",
          "data": {
            "text/plain": [
              "(42424, 206)"
            ]
          },
          "metadata": {
            "tags": []
          },
          "execution_count": 21
        }
      ]
    },
    {
      "cell_type": "code",
      "metadata": {
        "id": "sM5JDQMY5_l6",
        "colab_type": "code",
        "colab": {}
      },
      "source": [
        "# OneHotEncoder(handle_unknown='ignore').fit(X_train[cols_categorical].astype(str).fillna('ms'))\n",
        "# X_train[cols_categorical].astype(str).info()\n"
      ],
      "execution_count": null,
      "outputs": []
    },
    {
      "cell_type": "code",
      "metadata": {
        "id": "0-pFSxh8C1FQ",
        "colab_type": "code",
        "colab": {}
      },
      "source": [
        "# lấy list value cho ordinalencoder\n",
        "categories_val = []\n",
        "for i in cols_categorical:\n",
        "  categories_val.append(list( \n",
        "      pd.concat([train_data[i], predict_data[i]]).fillna('missing').apply(lambda x: str(x)).drop_duplicates( \n",
        "  ).sort_values().values) )"
      ],
      "execution_count": 22,
      "outputs": []
    },
    {
      "cell_type": "code",
      "metadata": {
        "id": "DTPdZjYZwuzD",
        "colab_type": "code",
        "colab": {}
      },
      "source": [
        "# Xây dựng pipeline và fit với tree-based\n",
        "selected_columns = cols_categorical+cols_fts_num + cols_date + cols_date2 + cols_fts_binary + cols_num_like_cat\n",
        "\n",
        "class ToString(BaseEstimator, TransformerMixin):\n",
        "  '''Def 1 trans để convert các cột dạng số như categorical thành dạng cat => dùng được onehot'''\n",
        "  def fit(self, X, y = None):\n",
        "    return self\n",
        "  def transform(self, X, y = None):\n",
        "    X_ = X.copy() # creating a copy to avoid changes to original dataset\n",
        "    X_ = X_.astype(str)\n",
        "    return X_\n",
        "\n",
        "# Xử lý datetime thành year, month, date như là dạng số - chỉ phù hợp cho tree-based\n",
        "class DateToNum(BaseEstimator, TransformerMixin):\n",
        "  def __init__(self, format = '%Y-%m-%d' ):\n",
        "    self.format = format\n",
        "  def fit(self, X, y = None):\n",
        "    return self\n",
        "  def transform(self, X, y = None):\n",
        "    X_ = X.copy() # creating a copy to avoid changes to original dataset\n",
        "\n",
        "    if self.format == '%Y%m%d':\n",
        "      str_num = 8\n",
        "    else:\n",
        "      str_num = 10\n",
        "    cols = X_.columns\n",
        "    for i in X.columns:\n",
        "      X_[i+'year_as_number'] = pd.to_datetime(X_[i].apply(lambda i: str(i)[0:str_num])\n",
        "                                        , format= self.format , errors= 'coerce').dt.year -2010\n",
        "      X_[i+'month_as_number'] = pd.to_datetime(X_[i].apply(lambda i: str(i)[0:str_num])\n",
        "                                        , format= self.format , errors= 'coerce').dt.month\n",
        "      X_[i+'day_as_number'] = pd.to_datetime(X_[i].apply(lambda i: str(i)[0:str_num])\n",
        "                                        , format= self.format , errors= 'coerce').dt.day\n",
        "    X_[cols] = X_[cols].apply(lambda x: ( pd.to_datetime(x.apply(lambda i: str(i)[0:str_num]) , format= self.format , errors= 'coerce')  \n",
        "                              - pd.to_datetime('20170101', format='%Y%m%d')).apply(lambda x: x.days)\n",
        "                       , axis = 1)\n",
        "    return X_\n",
        "\n",
        "categorical_pipe = Pipeline([\n",
        "      ('to_string', ToString())\n",
        "    , ('vectorize', OrdinalEncoder(categories=categories_val))\n",
        "])\n",
        "\n",
        "docs_pipe = Pipeline([\n",
        "    ('imputer', SimpleImputer(strategy='constant', fill_value='missing'))\n",
        "    , ('to_string', ToString())\n",
        "    , ('encode', OrdinalEncoder(categories=categories_val))\n",
        "])\n",
        "\n",
        "ordinal_pipe = Pipeline([\n",
        "    ('imputer', SimpleImputer(strategy='constant', fill_value= -1 ))\n",
        "])\n",
        "\n",
        "numerical_pipe = Pipeline([\n",
        "    ('imputer', SimpleImputer(strategy='median'))\n",
        "    # , ('standard', StandardScaler()) # Với tree thì không cần standard\n",
        "])\n",
        "\n",
        "binary_pipe = Pipeline([\n",
        "    ('imputer', SimpleImputer(strategy='constant', fill_value= -1 ))\n",
        "    # , ('standard', StandardScaler()) # Với tree thì không cần standard\n",
        "])\n",
        "\n",
        "datetime_pipe1 = Pipeline([\n",
        "    ('datetime1', DateToNum(format='%Y-%m-%d'))\n",
        "    # , ('standard', StandardScaler()) # Với tree thì không cần standard\n",
        "    , ('imputer', SimpleImputer(strategy='mean'))\n",
        "])\n",
        "\n",
        "datetime_pipe2 = Pipeline([\n",
        "    ('datetime2', DateToNum(format='%Y%m%d'))\n",
        "    # , ('standard', StandardScaler()) # Với tree thì không cần standard\n",
        "    , ('imputer', SimpleImputer(strategy='mean'))\n",
        "])\n",
        "\n",
        "preprocessing = ColumnTransformer(\n",
        "    [\n",
        "     ('cat', categorical_pipe, cols_categorical),\n",
        "     ('ordinal', ordinal_pipe, cols_num_like_cat),\n",
        "     ('num', numerical_pipe, cols_fts_num), \n",
        "     ('binary', binary_pipe, cols_fts_binary), \n",
        "     ('date1', datetime_pipe1, cols_date),\n",
        "     ('date2', datetime_pipe2, cols_date2)\n",
        "     ])\n",
        "\n",
        "#xgb.XGBRegressor(objective=\"reg:linear\", random_state=42, n_estimators =64, max_depth =7)\n",
        "# LGBMClassifier(\n",
        "#             nthread=4,\n",
        "#             n_estimators=10000,\n",
        "#             learning_rate=0.02,\n",
        "#             num_leaves=128,\n",
        "#             colsample_bytree=0.9497036,\n",
        "#             subsample=0.8715623,\n",
        "#             max_depth=8,\n",
        "#             reg_alpha=0.041545473,\n",
        "#             reg_lambda=0.0735294,\n",
        "#             min_split_gain=0.0222415,\n",
        "#             min_child_weight=39.3259775,\n",
        "#             silent=-1,\n",
        "#             verbose=-1\n",
        "#         )\n",
        "model = GradientBoostingClassifier(random_state=42, max_depth = 7 ) #min_samples_leaf =100   , loss = 'exponential' )\n",
        "\n",
        "pipe = Pipeline([\n",
        "    ('preprocess', preprocessing),\n",
        "    # ('pca', PCA(n_components = 150)),\n",
        "    ('classifier', model)\n",
        "])\n",
        "\n",
        "pipe.fit(X_train[selected_columns], y_train)\n",
        "\n",
        "def evaluate_model(model, X, y):\n",
        "  try:\n",
        "    y_pred = model.predict_proba(X)[:, 1]\n",
        "  except:\n",
        "    y_pred = model.predict(X)\n",
        "\n",
        "  fpr_rt_lm, tpr_rt_lm, _ = roc_curve(y, y_pred)\n",
        "  auc_s = auc(fpr_rt_lm, tpr_rt_lm)\n",
        "  print('AUC: ', auc_s)\n",
        "  print('Gini: ', 2*auc_s - 1)\n",
        "\n",
        "  plt.plot([0, 1], [0, 1], 'k--')\n",
        "  plt.plot(fpr_rt_lm, tpr_rt_lm, label='RT + LR')\n",
        "  plt.xlabel('False positive rate')\n",
        "  plt.ylabel('True positive rate')\n",
        "  plt.title('ROC curve')\n",
        "  plt.legend(loc='best')\n",
        "  plt.show()\n",
        "print('Test AUC')\n",
        "evaluate_model(pipe, X_test[selected_columns], y_test)\n",
        "\n",
        "print('Train AUC')\n",
        "evaluate_model(pipe, X_train[selected_columns], y_train)\n"
      ],
      "execution_count": null,
      "outputs": []
    },
    {
      "cell_type": "markdown",
      "metadata": {
        "id": "qWrKJNfU9aDO",
        "colab_type": "text"
      },
      "source": [
        "Dự đoán kết quả"
      ]
    },
    {
      "cell_type": "code",
      "metadata": {
        "id": "D41J0WI22g05",
        "colab_type": "code",
        "colab": {}
      },
      "source": [
        "try:\n",
        "  prediction = rf.predict_proba(predict_data[selected_columns])[:, 1]\n",
        "except:\n",
        "  prediction = rf.predict(predict_data[selected_columns])\n",
        "res_df = pd.DataFrame({'id': predict_data.id, 'label': prediction})\n",
        "res_df.to_csv('submission.csv', index=False)"
      ],
      "execution_count": null,
      "outputs": []
    },
    {
      "cell_type": "code",
      "metadata": {
        "id": "xRAr9z2Y9qYa",
        "colab_type": "code",
        "colab": {}
      },
      "source": [
        "predict_"
      ],
      "execution_count": null,
      "outputs": []
    }
  ]
}