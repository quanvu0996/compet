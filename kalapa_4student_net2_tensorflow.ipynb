{
  "nbformat": 4,
  "nbformat_minor": 0,
  "metadata": {
    "colab": {
      "name": "kalapa_4student_net2_tensorflow.ipynb",
      "provenance": [],
      "collapsed_sections": [],
      "toc_visible": true,
      "mount_file_id": "https://github.com/quanvu0996/compet/blob/master/kalapa_4student_net2_tensorflow.ipynb",
      "authorship_tag": "ABX9TyMvdJ7mKPanSeKBUG0UgQr+",
      "include_colab_link": true
    },
    "kernelspec": {
      "name": "python3",
      "display_name": "Python 3"
    }
  },
  "cells": [
    {
      "cell_type": "markdown",
      "metadata": {
        "id": "view-in-github",
        "colab_type": "text"
      },
      "source": [
        "<a href=\"https://colab.research.google.com/github/quanvu0996/compet/blob/master/kalapa_4student_net2_tensorflow.ipynb\" target=\"_parent\"><img src=\"https://colab.research.google.com/assets/colab-badge.svg\" alt=\"Open In Colab\"/></a>"
      ]
    },
    {
      "cell_type": "code",
      "metadata": {
        "id": "OD0B2zVuWpZ3",
        "colab_type": "code",
        "colab": {
          "base_uri": "https://localhost:8080/",
          "height": 51
        },
        "outputId": "9ef4f0ef-5272-473f-e37b-af42cec59401"
      },
      "source": [
        "import numpy as np\n",
        "import pandas as pd\n",
        "import tensorflow as tf\n",
        "from tensorflow.keras.layers import Dense, DenseFeatures, Dropout, BatchNormalization\n",
        "from tensorflow.keras import Sequential\n",
        "from tensorflow.keras.metrics import AUC, Precision, Recall\n",
        "import tensorflow.keras.backend as K\n",
        "from tensorflow import feature_column as fc\n",
        "import matplotlib.pyplot as plt\n",
        "import seaborn as sns; sns.set(style=\"ticks\", color_codes=True)\n",
        "from sklearn.preprocessing import StandardScaler\n",
        "from sklearn.model_selection import train_test_split\n",
        "from sklearn.metrics import accuracy_score, precision_score, recall_score, f1_score\n",
        "\n",
        "%matplotlib inline"
      ],
      "execution_count": 1,
      "outputs": [
        {
          "output_type": "stream",
          "text": [
            "/usr/local/lib/python3.6/dist-packages/statsmodels/tools/_testing.py:19: FutureWarning: pandas.util.testing is deprecated. Use the functions in the public API at pandas.testing instead.\n",
            "  import pandas.util.testing as tm\n"
          ],
          "name": "stderr"
        }
      ]
    },
    {
      "cell_type": "code",
      "metadata": {
        "id": "4xw8EKyqXF34",
        "colab_type": "code",
        "colab": {
          "base_uri": "https://localhost:8080/",
          "height": 51
        },
        "outputId": "aab67aa6-7874-4618-9cd5-59c562360869"
      },
      "source": [
        "print(pd.__version__)\n",
        "print(tf.__version__)"
      ],
      "execution_count": 2,
      "outputs": [
        {
          "output_type": "stream",
          "text": [
            "1.0.5\n",
            "2.3.0\n"
          ],
          "name": "stdout"
        }
      ]
    },
    {
      "cell_type": "markdown",
      "metadata": {
        "id": "zy1CWgz8Xo2a",
        "colab_type": "text"
      },
      "source": [
        "## Load data"
      ]
    },
    {
      "cell_type": "code",
      "metadata": {
        "id": "i-kw2uF8XI8g",
        "colab_type": "code",
        "colab": {}
      },
      "source": [
        "submision_path = '/content/drive/My Drive/Data/colabs_data/kalapa_4students/simple_submission.csv'\n",
        "train_path = '/content/drive/My Drive/Data/colabs_data/kalapa_4students/train.csv'\n",
        "test_path = '/content/drive/My Drive/Data/colabs_data/kalapa_4students/test.csv'"
      ],
      "execution_count": 3,
      "outputs": []
    },
    {
      "cell_type": "code",
      "metadata": {
        "id": "N6MXUjGuXLQa",
        "colab_type": "code",
        "colab": {
          "base_uri": "https://localhost:8080/",
          "height": 85
        },
        "outputId": "af577acd-59fd-41de-9b71-22267e8f920f"
      },
      "source": [
        "def load_data(train_path, test_path, label_col = 'label'):\n",
        "    train_set = pd.read_csv(train_path)\n",
        "    test_set = pd.read_csv(test_path)\n",
        "    return train_set, test_set\n",
        "\n",
        "train_set, test_set = load_data( train_path, test_path )\n",
        "cols = train_set.columns"
      ],
      "execution_count": 4,
      "outputs": [
        {
          "output_type": "stream",
          "text": [
            "/usr/local/lib/python3.6/dist-packages/IPython/core/interactiveshell.py:2822: DtypeWarning: Columns (35,43) have mixed types.Specify dtype option on import or set low_memory=False.\n",
            "  if self.run_code(code, result):\n",
            "/usr/local/lib/python3.6/dist-packages/IPython/core/interactiveshell.py:2822: DtypeWarning: Columns (34,42) have mixed types.Specify dtype option on import or set low_memory=False.\n",
            "  if self.run_code(code, result):\n"
          ],
          "name": "stderr"
        }
      ]
    },
    {
      "cell_type": "code",
      "metadata": {
        "id": "1pPllECZx4X1",
        "colab_type": "code",
        "colab": {
          "base_uri": "https://localhost:8080/",
          "height": 102
        },
        "outputId": "cfd5fe12-f2d3-4259-9c2c-b6edc3e6286f"
      },
      "source": [
        "train_set.info()"
      ],
      "execution_count": 5,
      "outputs": [
        {
          "output_type": "stream",
          "text": [
            "<class 'pandas.core.frame.DataFrame'>\n",
            "RangeIndex: 53030 entries, 0 to 53029\n",
            "Columns: 195 entries, id to Field_82\n",
            "dtypes: float64(133), int64(3), object(59)\n",
            "memory usage: 78.9+ MB\n"
          ],
          "name": "stdout"
        }
      ]
    },
    {
      "cell_type": "markdown",
      "metadata": {
        "id": "h9GQa7jQXv8g",
        "colab_type": "text"
      },
      "source": [
        "### Data trasforming"
      ]
    },
    {
      "cell_type": "code",
      "metadata": {
        "id": "ckJE8Rza3Lco",
        "colab_type": "code",
        "colab": {}
      },
      "source": [
        "# train_set[cols_categorical].head()\n",
        "# train_set.Field_61.unique()"
      ],
      "execution_count": 6,
      "outputs": []
    },
    {
      "cell_type": "code",
      "metadata": {
        "id": "gPNgmPkZ9JgS",
        "colab_type": "code",
        "colab": {}
      },
      "source": [
        "# len(train_set.Field_45.unique())\n",
        "# cols_id"
      ],
      "execution_count": 7,
      "outputs": []
    },
    {
      "cell_type": "code",
      "metadata": {
        "id": "AKyv3i9N_NRe",
        "colab_type": "code",
        "colab": {}
      },
      "source": [
        "# len(train_set.homeTownCity.unique())"
      ],
      "execution_count": 8,
      "outputs": []
    },
    {
      "cell_type": "code",
      "metadata": {
        "id": "FaeOcozU419_",
        "colab_type": "code",
        "colab": {}
      },
      "source": [
        "# train_set.C_endDate.unique()\n",
        "# train_set.homeTownCity.hist()\n",
        "# print(cols_docs)"
      ],
      "execution_count": 9,
      "outputs": []
    },
    {
      "cell_type": "code",
      "metadata": {
        "id": "YBy1t6IdBRfM",
        "colab_type": "code",
        "colab": {}
      },
      "source": [
        "# train_set[cols_date].head()"
      ],
      "execution_count": 10,
      "outputs": []
    },
    {
      "cell_type": "code",
      "metadata": {
        "id": "oGfzWBUhX-6e",
        "colab_type": "code",
        "colab": {}
      },
      "source": [
        "# Nhãn\n",
        "cols_label = ['label']\n",
        "# Đặc trưng binary\n",
        "cols_fts_binary = [i for i in train_set.select_dtypes(include=['float64','int64']).columns \n",
        "                   if len(set(train_set[i].fillna(0)) - {0,1} ) == 0 and i not in cols_label]\n",
        "# định dang datte yyyy-mm-dd\n",
        "cols_date = ['Field_1','Field_2','Field_5','Field_6','Field_7','Field_8','Field_9','Field_11'\n",
        "             ,'Field_15','Field_25','Field_32','Field_33','Field_35','Field_40','Field_43','Field_44'\n",
        "             ,'F_startDate','F_endDate','E_startDate','E_endDate','C_startDate','C_endDate','G_startDate','G_endDate'\n",
        "             ,'A_startDate','A_endDate']\n",
        "# định dạng date yyymmdd\n",
        "cols_date2 = ['ngaySinh', 'Field_34']\n",
        "# Đặc trưng dạng văn bản\n",
        "cols_docs = ['Field_46','diaChi','Field_48','Field_49','currentLocationName','homeTownName','Field_56']\n",
        "# Định danh bản ghi\n",
        "cols_id = ['id','Field_45'] +[i for i in train_set.select_dtypes(include = ['object']).columns \n",
        "                              if len(train_set[i].unique()) >=350 and i not in cols_date + cols_date2+cols_docs]\n",
        "# Đặc trưng dạng categorical\n",
        "cols_categorical = [i for i in train_set.select_dtypes(include = ['object']).columns\n",
        "                    if i not in cols_id + cols_label+cols_date2+cols_date+cols_docs]\n",
        "# Đặc trưng số\n",
        "cols_fts_num = [ i for i in test_set.select_dtypes(include=['float64','int64']).columns \n",
        "                if i not in cols_id + cols_label + cols_fts_binary + cols_date2+cols_date+cols_docs]"
      ],
      "execution_count": 11,
      "outputs": []
    },
    {
      "cell_type": "code",
      "metadata": {
        "id": "8IZeRfJ1Yn1r",
        "colab_type": "code",
        "colab": {}
      },
      "source": [
        "# cols_categorical\n",
        "# cols_date2 = ['ngaySinh', 'Field_34']"
      ],
      "execution_count": 12,
      "outputs": []
    },
    {
      "cell_type": "code",
      "metadata": {
        "id": "80edhA5WEB28",
        "colab_type": "code",
        "colab": {}
      },
      "source": [
        "# Đặc trưng số có dạng như categorical\n",
        "cols_num_like_cat = [i for i in cols_fts_num if len(train_set[i].unique()) <= 15 ]\n",
        "# Đặc trưng số đã kiểm chứng\n",
        "cols_num = [i for i in cols_fts_num if i not in cols_num_like_cat]\n",
        "\n",
        "cols_categorical = cols_categorical + cols_num_like_cat\n",
        "cols_fts_num = [i for i in cols_fts_num if i not in cols_num_like_cat ]"
      ],
      "execution_count": 13,
      "outputs": []
    },
    {
      "cell_type": "code",
      "metadata": {
        "id": "FIiuayh8ERZ1",
        "colab_type": "code",
        "colab": {}
      },
      "source": [
        "# for i in cols_fts_num :\n",
        "#   print(i, len(train_set[i].unique()))"
      ],
      "execution_count": 14,
      "outputs": []
    },
    {
      "cell_type": "markdown",
      "metadata": {
        "id": "7KBEmyXJymwc",
        "colab_type": "text"
      },
      "source": [
        "Missing values"
      ]
    },
    {
      "cell_type": "code",
      "metadata": {
        "id": "pux-LyY-aCs3",
        "colab_type": "code",
        "colab": {}
      },
      "source": [
        "train_data = train_set\n",
        "predict_data = test_set\n",
        "\n",
        "# Categorical: Fill giá trị null như một giá trị khác\n",
        "train_data[cols_categorical] = train_set[cols_categorical].astype('object').fillna('#NULL#').applymap(str)\n",
        "predict_data[cols_categorical] = test_set[cols_categorical].astype('object').fillna('#NULL#').applymap(str)"
      ],
      "execution_count": 15,
      "outputs": []
    },
    {
      "cell_type": "code",
      "metadata": {
        "id": "sgOqbv6jbVAR",
        "colab_type": "code",
        "colab": {}
      },
      "source": [
        "# pd.to_datetime(train_data['Field_1']) - pd.to_datetime('2007-01-01 0000')\n",
        "# (pd.to_datetime(pd.to_datetime(train_data['Field_1']).dt.date)-pd.to_datetime('2007-01-01') ).components\n",
        "# (pd.to_datetime( train_data[col].apply(lambda x: str(x)[0:10]), format='%Y-%m-%d' ) \n",
        "#                         - pd.to_datetime('20170101', format='%Y%m%d') ).apply(lambda x: x.days)\n",
        "# (pd.to_datetime( train_data[col].apply(lambda x: str(x)[0:10]), format='%Y%m%d' ) \n",
        "#                         - pd.to_datetime('20170101', format='%Y%m%d') ).apply(lambda x: x.days)\n"
      ],
      "execution_count": 16,
      "outputs": []
    },
    {
      "cell_type": "code",
      "metadata": {
        "id": "eR4iXeN61WRY",
        "colab_type": "code",
        "colab": {}
      },
      "source": [
        "# Date: với dữ liệu ngày thì tạo ra các cột ngày tương ứng và cross colum => embedding để giảm chiều\n",
        "\n",
        "def trans_date_fts(df, col, format = 'yyyy-mm-dd'):\n",
        "  '''format là 'yyyy-mm-dd' hoặc 'yyyymmdd' '''\n",
        "\n",
        "  year_name = 'year_of'+col \n",
        "  month_name = 'month_of' + col\n",
        "  day_name = 'day_of' + col\n",
        "  day_num_name = 'days_num_from_'+col\n",
        "  if format == 'yyyy-mm-dd':\n",
        "    df[year_name] = df[col].apply(lambda x: str(x[:4]) if len(str(x)) >8 else '#NULL#')\n",
        "    df[month_name] = df[col].apply(lambda x: str(x[5:7]) if len(str(x)) >8 else '#NULL#')\n",
        "    df[day_name] = df[col].apply(lambda x: str(x[8:10]) if len(str(x)) >8 else '#NULL#')\n",
        "    df[day_num_name] = (pd.to_datetime( df[col].apply(lambda x: str(x)[0:10]), format='%Y-%m-%d' , errors= 'coerce') \n",
        "                        - pd.to_datetime('20170101', format='%Y%m%d') ).apply(lambda x: x.days)\n",
        "\n",
        "  else:\n",
        "    df[year_name] = df[col].apply(lambda x: str(x)[:4] if len(str(x)) >8 else '#NULL#')\n",
        "    df[month_name] = df[col].apply(lambda x: str(x)[4:6] if len(str(x)) >8 else '#NULL#')\n",
        "    df[day_name] = df[col].apply(lambda x: str(x)[6:8] if len(str(x)) >8 else '#NULL#')\n",
        "    df[day_num_name] = (pd.to_datetime( df[col].apply(lambda x: str(x)[0:10]), format='%Y%m%d', errors= 'coerce' ) \n",
        "                        - pd.to_datetime('20170101', format='%Y%m%d') ).apply(lambda x: x.days)\n",
        "\n",
        "  ft1 = fc.categorical_column_with_vocabulary_list(year_name, df[year_name].unique() )\n",
        "  ft2 = fc.categorical_column_with_vocabulary_list(month_name, df[month_name].unique() )\n",
        "  ft3 = fc.categorical_column_with_vocabulary_list(day_name, df[day_name].unique() )\n",
        "  ft = fc.crossed_column([ft1, ft2, ft3], hash_bucket_size = 366)\n",
        "  ft = fc.embedding_column(ft, dimension= 64)\n",
        "\n",
        "  ft_1 = fc.numeric_column(day_num_name, dtype=tf.float32)\n",
        "\n",
        "  return df, [ft, ft_1] , [year_name, month_name, day_name]\n",
        "\n",
        "fts_col_date = []\n",
        "date_derivated_fts = []\n",
        "for col in cols_date:\n",
        "  train_data, date_fts_list_add, date_fts_name = trans_date_fts(train_data, col,format = 'yyyy-mm-dd')\n",
        "  fts_col_date += date_fts_list_add \n",
        "  date_derivated_fts += date_fts_name\n",
        "for col in cols_date2:\n",
        "  train_data, date_fts_list_add, date_fts_name = trans_date_fts(train_data, col,format = 'yyyymmdd')\n",
        "  fts_col_date +=  date_fts_list_add \n",
        "  date_derivated_fts += date_fts_name\n",
        "\n",
        "for col in cols_date:\n",
        "  predict_data, date_fts_list_add, date_fts_name = trans_date_fts(predict_data, col,format = 'yyyy-mm-dd')\n",
        "for col in cols_date2:\n",
        "  predict_data, date_fts_list_add, date_fts_name = trans_date_fts(predict_data, col,format = 'yyyymmdd')\n"
      ],
      "execution_count": 22,
      "outputs": []
    },
    {
      "cell_type": "code",
      "metadata": {
        "id": "1uFvOxnbaFHb",
        "colab_type": "code",
        "colab": {}
      },
      "source": [
        "X_train, X_test, y_train, y_test = train_test_split(train_data\n",
        "                                                   ,train_data['label'].values\n",
        "                                                   , stratify = train_data['label'].values \n",
        "                                                   ,test_size = 0.2\n",
        "                                                   )"
      ],
      "execution_count": 23,
      "outputs": []
    },
    {
      "cell_type": "code",
      "metadata": {
        "id": "EkPgKvK0ymEk",
        "colab_type": "code",
        "colab": {}
      },
      "source": [
        "# Numerical: các trường chưa xử lý+ numerical fill giá trị -1\n",
        "\n",
        "# train_data[cols_fts_num] = train_set[cols_fts_num].fillna(-1)\n",
        "# predict_data[cols_fts_num] = test_set[cols_fts_num].fillna(-1)\n",
        "# X_train[cols_fts_num] = (X_train[cols_fts_num] - X_train[cols_fts_num].mean() )/ X_train[cols_fts_num].std()\n",
        "# X_test[cols_fts_num] = (X_test[cols_fts_num] - X_train[cols_fts_num].mean() )/ X_train[cols_fts_num].std()\n",
        "# predict_data[cols_fts_num] = (predict_data[cols_fts_num] - X_train[cols_fts_num].mean() )/ X_train[cols_fts_num].std()\n",
        "X_train = X_train.fillna(0)\n",
        "X_test = X_test.fillna(0)\n",
        "predict_data = predict_data.fillna(0)"
      ],
      "execution_count": 24,
      "outputs": []
    },
    {
      "cell_type": "markdown",
      "metadata": {
        "id": "CYNNUzJFoprL",
        "colab_type": "text"
      },
      "source": [
        "Định nghĩa features"
      ]
    },
    {
      "cell_type": "code",
      "metadata": {
        "id": "rI0R61duyk5b",
        "colab_type": "code",
        "colab": {}
      },
      "source": [
        "feature_columns = []\n",
        "fts_cols = cols_fts_binary+cols_fts_num+cols_categorical + date_derivated_fts\n",
        "\n",
        "# Với biến binary, load trực tiếp vào model\n",
        "for col in cols_fts_binary:\n",
        "  feature_columns.append(\n",
        "      fc.numeric_column(col, dtype=tf.float32)\n",
        "  )\n",
        "# Với các biến numeric, sử dụng standard scaler + định nghĩa\n",
        "# X_train[cols_fts_num] = (X_train[cols_fts_num] - X_train[cols_fts_num].mean() )/ X_train[cols_fts_num].std()\n",
        "# X_test[cols_fts_num] = (X_test[cols_fts_num] - X_train[cols_fts_num].mean() )/ X_train[cols_fts_num].std()\n",
        "\n",
        "for col in cols_fts_num:\n",
        "  mean = X_train[col].mean()\n",
        "  std = X_train[col].std()\n",
        "  feature_columns.append(\n",
        "      fc.numeric_column(col,\n",
        "                        dtype=tf.float32\n",
        "                        #, normalizer_fn = lambda x: ( x - mean )/ std \n",
        "                        ))\n",
        "# Với các biến categorical, embed với số chiều bằng 1/10 +1 số chiều gốc\n",
        "def embed_trans(feature_name, vocab):\n",
        "  ft = fc.categorical_column_with_vocabulary_list(feature_name, vocab)\n",
        "  ft = fc.embedding_column( ft,dimension= int(len(vocab)/10) +5 )\n",
        "  return ft\n",
        "for col in cols_categorical:\n",
        "  vocabulary = train_set[col].unique()\n",
        "  feature_columns.append(\n",
        "      embed_trans(col, vocabulary)\n",
        "  )\n",
        "\n",
        "\n",
        "# Xây dựng layer\n",
        "all_fts_cols = feature_columns +fts_col_date\n",
        "feature_layer = DenseFeatures(all_fts_cols)"
      ],
      "execution_count": 25,
      "outputs": []
    },
    {
      "cell_type": "code",
      "metadata": {
        "id": "BCOJ67grXrbb",
        "colab_type": "code",
        "colab": {}
      },
      "source": [
        "# A utility method to create a tf.data dataset from a Pandas Dataframe\n",
        "def df_to_dataset(X, y, shuffle=True, batch_size=32):\n",
        "  ds = tf.data.Dataset.from_tensor_slices((X.to_dict(orient='list'), y))\n",
        "  if shuffle:\n",
        "    ds = ds.shuffle(buffer_size=len(X))\n",
        "  ds = ds.batch(batch_size)\n",
        "  return ds"
      ],
      "execution_count": 26,
      "outputs": []
    },
    {
      "cell_type": "code",
      "metadata": {
        "id": "OamRsjnvEsmP",
        "colab_type": "code",
        "colab": {
          "base_uri": "https://localhost:8080/",
          "height": 270
        },
        "outputId": "4e720c09-4d17-408c-a119-00d52295bf89"
      },
      "source": [
        "X_test.head()"
      ],
      "execution_count": 27,
      "outputs": [
        {
          "output_type": "execute_result",
          "data": {
            "text/html": [
              "<div>\n",
              "<style scoped>\n",
              "    .dataframe tbody tr th:only-of-type {\n",
              "        vertical-align: middle;\n",
              "    }\n",
              "\n",
              "    .dataframe tbody tr th {\n",
              "        vertical-align: top;\n",
              "    }\n",
              "\n",
              "    .dataframe thead th {\n",
              "        text-align: right;\n",
              "    }\n",
              "</style>\n",
              "<table border=\"1\" class=\"dataframe\">\n",
              "  <thead>\n",
              "    <tr style=\"text-align: right;\">\n",
              "      <th></th>\n",
              "      <th>id</th>\n",
              "      <th>label</th>\n",
              "      <th>Field_1</th>\n",
              "      <th>Field_2</th>\n",
              "      <th>Field_3</th>\n",
              "      <th>Field_4</th>\n",
              "      <th>Field_5</th>\n",
              "      <th>Field_6</th>\n",
              "      <th>Field_7</th>\n",
              "      <th>Field_8</th>\n",
              "      <th>Field_9</th>\n",
              "      <th>Field_10</th>\n",
              "      <th>Field_11</th>\n",
              "      <th>Field_12</th>\n",
              "      <th>Field_13</th>\n",
              "      <th>Field_14</th>\n",
              "      <th>Field_15</th>\n",
              "      <th>Field_16</th>\n",
              "      <th>Field_17</th>\n",
              "      <th>Field_18</th>\n",
              "      <th>Field_19</th>\n",
              "      <th>Field_20</th>\n",
              "      <th>Field_21</th>\n",
              "      <th>Field_22</th>\n",
              "      <th>Field_23</th>\n",
              "      <th>Field_24</th>\n",
              "      <th>Field_25</th>\n",
              "      <th>Field_26</th>\n",
              "      <th>Field_27</th>\n",
              "      <th>Field_28</th>\n",
              "      <th>Field_29</th>\n",
              "      <th>Field_30</th>\n",
              "      <th>Field_31</th>\n",
              "      <th>Field_32</th>\n",
              "      <th>Field_33</th>\n",
              "      <th>Field_34</th>\n",
              "      <th>Field_35</th>\n",
              "      <th>ngaySinh</th>\n",
              "      <th>namSinh</th>\n",
              "      <th>gioiTinh</th>\n",
              "      <th>...</th>\n",
              "      <th>year_ofE_startDate</th>\n",
              "      <th>month_ofE_startDate</th>\n",
              "      <th>day_ofE_startDate</th>\n",
              "      <th>days_num_from_E_startDate</th>\n",
              "      <th>year_ofE_endDate</th>\n",
              "      <th>month_ofE_endDate</th>\n",
              "      <th>day_ofE_endDate</th>\n",
              "      <th>days_num_from_E_endDate</th>\n",
              "      <th>year_ofC_startDate</th>\n",
              "      <th>month_ofC_startDate</th>\n",
              "      <th>day_ofC_startDate</th>\n",
              "      <th>days_num_from_C_startDate</th>\n",
              "      <th>year_ofC_endDate</th>\n",
              "      <th>month_ofC_endDate</th>\n",
              "      <th>day_ofC_endDate</th>\n",
              "      <th>days_num_from_C_endDate</th>\n",
              "      <th>year_ofG_startDate</th>\n",
              "      <th>month_ofG_startDate</th>\n",
              "      <th>day_ofG_startDate</th>\n",
              "      <th>days_num_from_G_startDate</th>\n",
              "      <th>year_ofG_endDate</th>\n",
              "      <th>month_ofG_endDate</th>\n",
              "      <th>day_ofG_endDate</th>\n",
              "      <th>days_num_from_G_endDate</th>\n",
              "      <th>year_ofA_startDate</th>\n",
              "      <th>month_ofA_startDate</th>\n",
              "      <th>day_ofA_startDate</th>\n",
              "      <th>days_num_from_A_startDate</th>\n",
              "      <th>year_ofA_endDate</th>\n",
              "      <th>month_ofA_endDate</th>\n",
              "      <th>day_ofA_endDate</th>\n",
              "      <th>days_num_from_A_endDate</th>\n",
              "      <th>year_ofngaySinh</th>\n",
              "      <th>month_ofngaySinh</th>\n",
              "      <th>day_ofngaySinh</th>\n",
              "      <th>days_num_from_ngaySinh</th>\n",
              "      <th>year_ofField_34</th>\n",
              "      <th>month_ofField_34</th>\n",
              "      <th>day_ofField_34</th>\n",
              "      <th>days_num_from_Field_34</th>\n",
              "    </tr>\n",
              "  </thead>\n",
              "  <tbody>\n",
              "    <tr>\n",
              "      <th>29728</th>\n",
              "      <td>29728</td>\n",
              "      <td>0</td>\n",
              "      <td>0</td>\n",
              "      <td>0</td>\n",
              "      <td>#NULL#</td>\n",
              "      <td>#NULL#</td>\n",
              "      <td>0</td>\n",
              "      <td>0</td>\n",
              "      <td>0</td>\n",
              "      <td>0</td>\n",
              "      <td>0</td>\n",
              "      <td>#NULL#</td>\n",
              "      <td>0</td>\n",
              "      <td>#NULL#</td>\n",
              "      <td>0.0</td>\n",
              "      <td>0.0</td>\n",
              "      <td>0</td>\n",
              "      <td>0.0</td>\n",
              "      <td>0.0</td>\n",
              "      <td>0</td>\n",
              "      <td>0.0</td>\n",
              "      <td>0.0</td>\n",
              "      <td>#NULL#</td>\n",
              "      <td>#NULL#</td>\n",
              "      <td>0.0</td>\n",
              "      <td>0.0</td>\n",
              "      <td>0</td>\n",
              "      <td>0.0</td>\n",
              "      <td>0.0</td>\n",
              "      <td>0.0</td>\n",
              "      <td>0.0</td>\n",
              "      <td>0.0</td>\n",
              "      <td>0.0</td>\n",
              "      <td>0</td>\n",
              "      <td>0</td>\n",
              "      <td>0</td>\n",
              "      <td>0</td>\n",
              "      <td>0.0</td>\n",
              "      <td>#NULL#</td>\n",
              "      <td>#NULL#</td>\n",
              "      <td>...</td>\n",
              "      <td>#NULL#</td>\n",
              "      <td>#NULL#</td>\n",
              "      <td>#NULL#</td>\n",
              "      <td>0.0</td>\n",
              "      <td>#NULL#</td>\n",
              "      <td>#NULL#</td>\n",
              "      <td>#NULL#</td>\n",
              "      <td>0.0</td>\n",
              "      <td>#NULL#</td>\n",
              "      <td>#NULL#</td>\n",
              "      <td>#NULL#</td>\n",
              "      <td>0.0</td>\n",
              "      <td>#NULL#</td>\n",
              "      <td>#NULL#</td>\n",
              "      <td>#NULL#</td>\n",
              "      <td>0.0</td>\n",
              "      <td>#NULL#</td>\n",
              "      <td>#NULL#</td>\n",
              "      <td>#NULL#</td>\n",
              "      <td>0.0</td>\n",
              "      <td>#NULL#</td>\n",
              "      <td>#NULL#</td>\n",
              "      <td>#NULL#</td>\n",
              "      <td>0.0</td>\n",
              "      <td>2020</td>\n",
              "      <td>01</td>\n",
              "      <td>30</td>\n",
              "      <td>1124.0</td>\n",
              "      <td>2020</td>\n",
              "      <td>02</td>\n",
              "      <td>09</td>\n",
              "      <td>1134.0</td>\n",
              "      <td>#NULL#</td>\n",
              "      <td>#NULL#</td>\n",
              "      <td>#NULL#</td>\n",
              "      <td>0.0</td>\n",
              "      <td>#NULL#</td>\n",
              "      <td>#NULL#</td>\n",
              "      <td>#NULL#</td>\n",
              "      <td>0.0</td>\n",
              "    </tr>\n",
              "    <tr>\n",
              "      <th>26155</th>\n",
              "      <td>26155</td>\n",
              "      <td>0</td>\n",
              "      <td>0</td>\n",
              "      <td>0</td>\n",
              "      <td>#NULL#</td>\n",
              "      <td>#NULL#</td>\n",
              "      <td>0</td>\n",
              "      <td>0</td>\n",
              "      <td>0</td>\n",
              "      <td>0</td>\n",
              "      <td>0</td>\n",
              "      <td>#NULL#</td>\n",
              "      <td>0</td>\n",
              "      <td>#NULL#</td>\n",
              "      <td>0.0</td>\n",
              "      <td>0.0</td>\n",
              "      <td>0</td>\n",
              "      <td>0.0</td>\n",
              "      <td>0.0</td>\n",
              "      <td>0</td>\n",
              "      <td>0.0</td>\n",
              "      <td>0.0</td>\n",
              "      <td>#NULL#</td>\n",
              "      <td>#NULL#</td>\n",
              "      <td>0.0</td>\n",
              "      <td>0.0</td>\n",
              "      <td>0</td>\n",
              "      <td>0.0</td>\n",
              "      <td>0.0</td>\n",
              "      <td>0.0</td>\n",
              "      <td>0.0</td>\n",
              "      <td>0.0</td>\n",
              "      <td>0.0</td>\n",
              "      <td>0</td>\n",
              "      <td>0</td>\n",
              "      <td>0</td>\n",
              "      <td>0</td>\n",
              "      <td>0.0</td>\n",
              "      <td>#NULL#</td>\n",
              "      <td>#NULL#</td>\n",
              "      <td>...</td>\n",
              "      <td>#NULL#</td>\n",
              "      <td>#NULL#</td>\n",
              "      <td>#NULL#</td>\n",
              "      <td>0.0</td>\n",
              "      <td>#NULL#</td>\n",
              "      <td>#NULL#</td>\n",
              "      <td>#NULL#</td>\n",
              "      <td>0.0</td>\n",
              "      <td>#NULL#</td>\n",
              "      <td>#NULL#</td>\n",
              "      <td>#NULL#</td>\n",
              "      <td>0.0</td>\n",
              "      <td>#NULL#</td>\n",
              "      <td>#NULL#</td>\n",
              "      <td>#NULL#</td>\n",
              "      <td>0.0</td>\n",
              "      <td>#NULL#</td>\n",
              "      <td>#NULL#</td>\n",
              "      <td>#NULL#</td>\n",
              "      <td>0.0</td>\n",
              "      <td>#NULL#</td>\n",
              "      <td>#NULL#</td>\n",
              "      <td>#NULL#</td>\n",
              "      <td>0.0</td>\n",
              "      <td>#NULL#</td>\n",
              "      <td>#NULL#</td>\n",
              "      <td>#NULL#</td>\n",
              "      <td>0.0</td>\n",
              "      <td>#NULL#</td>\n",
              "      <td>#NULL#</td>\n",
              "      <td>#NULL#</td>\n",
              "      <td>0.0</td>\n",
              "      <td>#NULL#</td>\n",
              "      <td>#NULL#</td>\n",
              "      <td>#NULL#</td>\n",
              "      <td>0.0</td>\n",
              "      <td>#NULL#</td>\n",
              "      <td>#NULL#</td>\n",
              "      <td>#NULL#</td>\n",
              "      <td>0.0</td>\n",
              "    </tr>\n",
              "    <tr>\n",
              "      <th>23471</th>\n",
              "      <td>23471</td>\n",
              "      <td>1</td>\n",
              "      <td>2018-12-08T08:25:46Z</td>\n",
              "      <td>2019-01-17T20:10:19Z</td>\n",
              "      <td>2.0</td>\n",
              "      <td>T1</td>\n",
              "      <td>2018-01-09</td>\n",
              "      <td>2018-01-09</td>\n",
              "      <td>2018-01-18</td>\n",
              "      <td>2019-01-17</td>\n",
              "      <td>2018-01-09</td>\n",
              "      <td>1.0</td>\n",
              "      <td>2019-01-17</td>\n",
              "      <td>G8</td>\n",
              "      <td>1.0</td>\n",
              "      <td>1.0</td>\n",
              "      <td>2018-01-09</td>\n",
              "      <td>1.0</td>\n",
              "      <td>1.0</td>\n",
              "      <td>0</td>\n",
              "      <td>0.0</td>\n",
              "      <td>1300000.0</td>\n",
              "      <td>4.5</td>\n",
              "      <td>1.0</td>\n",
              "      <td>0.0</td>\n",
              "      <td>1.0</td>\n",
              "      <td>2018-01-09</td>\n",
              "      <td>1.0</td>\n",
              "      <td>0.0</td>\n",
              "      <td>0.0</td>\n",
              "      <td>12.0</td>\n",
              "      <td>1.0</td>\n",
              "      <td>1.0</td>\n",
              "      <td>2018-01-09</td>\n",
              "      <td>2023-01-18</td>\n",
              "      <td>20180108</td>\n",
              "      <td>2019-01-17</td>\n",
              "      <td>19860510.0</td>\n",
              "      <td>0.0</td>\n",
              "      <td>MALE</td>\n",
              "      <td>...</td>\n",
              "      <td>2020</td>\n",
              "      <td>01</td>\n",
              "      <td>10</td>\n",
              "      <td>1104.0</td>\n",
              "      <td>2020</td>\n",
              "      <td>02</td>\n",
              "      <td>14</td>\n",
              "      <td>1139.0</td>\n",
              "      <td>2020</td>\n",
              "      <td>01</td>\n",
              "      <td>10</td>\n",
              "      <td>1104.0</td>\n",
              "      <td>2020</td>\n",
              "      <td>02</td>\n",
              "      <td>14</td>\n",
              "      <td>1139.0</td>\n",
              "      <td>2020</td>\n",
              "      <td>01</td>\n",
              "      <td>10</td>\n",
              "      <td>1104.0</td>\n",
              "      <td>2020</td>\n",
              "      <td>02</td>\n",
              "      <td>02</td>\n",
              "      <td>1127.0</td>\n",
              "      <td>2020</td>\n",
              "      <td>01</td>\n",
              "      <td>10</td>\n",
              "      <td>1104.0</td>\n",
              "      <td>2020</td>\n",
              "      <td>02</td>\n",
              "      <td>14</td>\n",
              "      <td>1139.0</td>\n",
              "      <td>1986</td>\n",
              "      <td>05</td>\n",
              "      <td>10</td>\n",
              "      <td>-11194.0</td>\n",
              "      <td>#NULL#</td>\n",
              "      <td>#NULL#</td>\n",
              "      <td>#NULL#</td>\n",
              "      <td>372.0</td>\n",
              "    </tr>\n",
              "    <tr>\n",
              "      <th>47712</th>\n",
              "      <td>47712</td>\n",
              "      <td>1</td>\n",
              "      <td>0</td>\n",
              "      <td>0</td>\n",
              "      <td>#NULL#</td>\n",
              "      <td>#NULL#</td>\n",
              "      <td>0</td>\n",
              "      <td>0</td>\n",
              "      <td>0</td>\n",
              "      <td>0</td>\n",
              "      <td>0</td>\n",
              "      <td>#NULL#</td>\n",
              "      <td>0</td>\n",
              "      <td>#NULL#</td>\n",
              "      <td>0.0</td>\n",
              "      <td>0.0</td>\n",
              "      <td>0</td>\n",
              "      <td>0.0</td>\n",
              "      <td>0.0</td>\n",
              "      <td>0</td>\n",
              "      <td>0.0</td>\n",
              "      <td>0.0</td>\n",
              "      <td>#NULL#</td>\n",
              "      <td>#NULL#</td>\n",
              "      <td>0.0</td>\n",
              "      <td>0.0</td>\n",
              "      <td>0</td>\n",
              "      <td>0.0</td>\n",
              "      <td>0.0</td>\n",
              "      <td>0.0</td>\n",
              "      <td>0.0</td>\n",
              "      <td>0.0</td>\n",
              "      <td>0.0</td>\n",
              "      <td>0</td>\n",
              "      <td>0</td>\n",
              "      <td>0</td>\n",
              "      <td>0</td>\n",
              "      <td>0.0</td>\n",
              "      <td>#NULL#</td>\n",
              "      <td>#NULL#</td>\n",
              "      <td>...</td>\n",
              "      <td>#NULL#</td>\n",
              "      <td>#NULL#</td>\n",
              "      <td>#NULL#</td>\n",
              "      <td>0.0</td>\n",
              "      <td>#NULL#</td>\n",
              "      <td>#NULL#</td>\n",
              "      <td>#NULL#</td>\n",
              "      <td>0.0</td>\n",
              "      <td>#NULL#</td>\n",
              "      <td>#NULL#</td>\n",
              "      <td>#NULL#</td>\n",
              "      <td>0.0</td>\n",
              "      <td>#NULL#</td>\n",
              "      <td>#NULL#</td>\n",
              "      <td>#NULL#</td>\n",
              "      <td>0.0</td>\n",
              "      <td>#NULL#</td>\n",
              "      <td>#NULL#</td>\n",
              "      <td>#NULL#</td>\n",
              "      <td>0.0</td>\n",
              "      <td>#NULL#</td>\n",
              "      <td>#NULL#</td>\n",
              "      <td>#NULL#</td>\n",
              "      <td>0.0</td>\n",
              "      <td>#NULL#</td>\n",
              "      <td>#NULL#</td>\n",
              "      <td>#NULL#</td>\n",
              "      <td>0.0</td>\n",
              "      <td>#NULL#</td>\n",
              "      <td>#NULL#</td>\n",
              "      <td>#NULL#</td>\n",
              "      <td>0.0</td>\n",
              "      <td>#NULL#</td>\n",
              "      <td>#NULL#</td>\n",
              "      <td>#NULL#</td>\n",
              "      <td>0.0</td>\n",
              "      <td>#NULL#</td>\n",
              "      <td>#NULL#</td>\n",
              "      <td>#NULL#</td>\n",
              "      <td>0.0</td>\n",
              "    </tr>\n",
              "    <tr>\n",
              "      <th>42687</th>\n",
              "      <td>42687</td>\n",
              "      <td>1</td>\n",
              "      <td>0</td>\n",
              "      <td>0</td>\n",
              "      <td>#NULL#</td>\n",
              "      <td>#NULL#</td>\n",
              "      <td>0</td>\n",
              "      <td>0</td>\n",
              "      <td>0</td>\n",
              "      <td>0</td>\n",
              "      <td>0</td>\n",
              "      <td>#NULL#</td>\n",
              "      <td>0</td>\n",
              "      <td>#NULL#</td>\n",
              "      <td>0.0</td>\n",
              "      <td>0.0</td>\n",
              "      <td>0</td>\n",
              "      <td>0.0</td>\n",
              "      <td>0.0</td>\n",
              "      <td>0</td>\n",
              "      <td>0.0</td>\n",
              "      <td>0.0</td>\n",
              "      <td>#NULL#</td>\n",
              "      <td>#NULL#</td>\n",
              "      <td>0.0</td>\n",
              "      <td>0.0</td>\n",
              "      <td>0</td>\n",
              "      <td>0.0</td>\n",
              "      <td>0.0</td>\n",
              "      <td>0.0</td>\n",
              "      <td>0.0</td>\n",
              "      <td>0.0</td>\n",
              "      <td>0.0</td>\n",
              "      <td>0</td>\n",
              "      <td>0</td>\n",
              "      <td>0</td>\n",
              "      <td>0</td>\n",
              "      <td>0.0</td>\n",
              "      <td>#NULL#</td>\n",
              "      <td>#NULL#</td>\n",
              "      <td>...</td>\n",
              "      <td>2019</td>\n",
              "      <td>11</td>\n",
              "      <td>16</td>\n",
              "      <td>1049.0</td>\n",
              "      <td>2019</td>\n",
              "      <td>11</td>\n",
              "      <td>16</td>\n",
              "      <td>1049.0</td>\n",
              "      <td>#NULL#</td>\n",
              "      <td>#NULL#</td>\n",
              "      <td>#NULL#</td>\n",
              "      <td>0.0</td>\n",
              "      <td>#NULL#</td>\n",
              "      <td>#NULL#</td>\n",
              "      <td>#NULL#</td>\n",
              "      <td>0.0</td>\n",
              "      <td>2019</td>\n",
              "      <td>11</td>\n",
              "      <td>23</td>\n",
              "      <td>1056.0</td>\n",
              "      <td>2019</td>\n",
              "      <td>11</td>\n",
              "      <td>23</td>\n",
              "      <td>1056.0</td>\n",
              "      <td>2019</td>\n",
              "      <td>11</td>\n",
              "      <td>03</td>\n",
              "      <td>1036.0</td>\n",
              "      <td>2019</td>\n",
              "      <td>11</td>\n",
              "      <td>24</td>\n",
              "      <td>1057.0</td>\n",
              "      <td>#NULL#</td>\n",
              "      <td>#NULL#</td>\n",
              "      <td>#NULL#</td>\n",
              "      <td>0.0</td>\n",
              "      <td>#NULL#</td>\n",
              "      <td>#NULL#</td>\n",
              "      <td>#NULL#</td>\n",
              "      <td>0.0</td>\n",
              "    </tr>\n",
              "  </tbody>\n",
              "</table>\n",
              "<p>5 rows × 307 columns</p>\n",
              "</div>"
            ],
            "text/plain": [
              "          id  label  ... day_ofField_34 days_num_from_Field_34\n",
              "29728  29728      0  ...         #NULL#                    0.0\n",
              "26155  26155      0  ...         #NULL#                    0.0\n",
              "23471  23471      1  ...         #NULL#                  372.0\n",
              "47712  47712      1  ...         #NULL#                    0.0\n",
              "42687  42687      1  ...         #NULL#                    0.0\n",
              "\n",
              "[5 rows x 307 columns]"
            ]
          },
          "metadata": {
            "tags": []
          },
          "execution_count": 27
        }
      ]
    },
    {
      "cell_type": "code",
      "metadata": {
        "id": "CLNgUTm4X1vn",
        "colab_type": "code",
        "colab": {}
      },
      "source": [
        "# scaler_1 = StandardScaler()\n",
        "# X_train_scaled = scaler_1.fit_transform(X_train)\n",
        "# X_test_scaled = scaler_1.transform(X_test)\n",
        "# X_predict_scaled = scaler_1.transform( test_set[cols_fts_num].fillna(0) )"
      ],
      "execution_count": null,
      "outputs": []
    },
    {
      "cell_type": "code",
      "metadata": {
        "id": "K3m7hDYZX3fg",
        "colab_type": "code",
        "colab": {}
      },
      "source": [
        "nets_2 = Sequential(\n",
        "    [\n",
        "    feature_layer,\n",
        "    BatchNormalization (),\n",
        "    Dense(512, activation ='relu'),\n",
        "    Dropout(0.25), \n",
        "    BatchNormalization (),\n",
        "    Dense(256, activation ='relu'),\n",
        "    Dropout(0.25), \n",
        "    Dense(128, activation ='relu'),\n",
        "    Dropout(0.25), \n",
        "    BatchNormalization (),\n",
        "    Dense(64, activation ='relu'),\n",
        "    Dropout(0.1), \n",
        "    Dense(16, activation ='relu'),\n",
        "    Dense(1, activation ='sigmoid')])\n",
        "nets_2.compile(optimizer = 'adam', loss = 'binary_crossentropy', metrics = ['acc', AUC() ] ) #, Precision(), Recall()] )"
      ],
      "execution_count": 28,
      "outputs": []
    },
    {
      "cell_type": "code",
      "metadata": {
        "id": "mWz5G94lY81G",
        "colab_type": "code",
        "colab": {}
      },
      "source": [
        "batch_size = 5000 # A small batch sized is used for demonstration purposes\n",
        "train_ds = df_to_dataset(X_train[fts_cols], y_train, batch_size=batch_size)\n",
        "test_ds = df_to_dataset(X_test[fts_cols], y_test, shuffle=False, batch_size=batch_size)\n",
        "predict_ds = df_to_dataset(predict_data[fts_cols], predict_data['id'], shuffle=False, batch_size=batch_size)\n",
        "\n",
        "history = nets_2.fit( train_ds , epochs = 10\n",
        "                    , validation_data = test_ds)\n",
        "nets_2.summary()"
      ],
      "execution_count": null,
      "outputs": []
    },
    {
      "cell_type": "markdown",
      "metadata": {
        "id": "p6rDbZRUe6iG",
        "colab_type": "text"
      },
      "source": [
        "Dự đoán và xuất file kế quả"
      ]
    },
    {
      "cell_type": "code",
      "metadata": {
        "id": "HP_mm9exIdAw",
        "colab_type": "code",
        "colab": {}
      },
      "source": [
        "plt.plot(history.history['loss'])\n",
        "plt.plot(history.history['val_loss'])"
      ],
      "execution_count": null,
      "outputs": []
    },
    {
      "cell_type": "code",
      "metadata": {
        "id": "w7lxEOfQZN6H",
        "colab_type": "code",
        "colab": {}
      },
      "source": [
        "y_predict_pred= nets_2.predict(predict_ds )\n",
        "y_predict_pred"
      ],
      "execution_count": null,
      "outputs": []
    },
    {
      "cell_type": "code",
      "metadata": {
        "id": "W1TuIo4Qe_fe",
        "colab_type": "code",
        "colab": {}
      },
      "source": [
        "res_df = pd.DataFrame({'id': test_set.id, 'label': y_predict_pred.reshape(y_predict_pred.shape[0])})\n",
        "res_df.to_csv('submission.csv', index=False)"
      ],
      "execution_count": null,
      "outputs": []
    },
    {
      "cell_type": "code",
      "metadata": {
        "id": "DZfHrliHSNEY",
        "colab_type": "code",
        "colab": {}
      },
      "source": [
        ""
      ],
      "execution_count": null,
      "outputs": []
    }
  ]
}