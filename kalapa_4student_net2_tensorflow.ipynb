{
  "nbformat": 4,
  "nbformat_minor": 0,
  "metadata": {
    "colab": {
      "name": "kalapa_4student_net2_tensorflow.ipynb",
      "provenance": [],
      "collapsed_sections": [],
      "toc_visible": true,
      "mount_file_id": "1p8QqnI7cM9Wt3CVuBl0tByMC1Gt9WK3_",
      "authorship_tag": "ABX9TyPExzYi2SjVJ9Djod/abgNg",
      "include_colab_link": true
    },
    "kernelspec": {
      "name": "python3",
      "display_name": "Python 3"
    }
  },
  "cells": [
    {
      "cell_type": "markdown",
      "metadata": {
        "id": "view-in-github",
        "colab_type": "text"
      },
      "source": [
        "<a href=\"https://colab.research.google.com/github/quanvu0996/compet/blob/master/kalapa_4student_net2_tensorflow.ipynb\" target=\"_parent\"><img src=\"https://colab.research.google.com/assets/colab-badge.svg\" alt=\"Open In Colab\"/></a>"
      ]
    },
    {
      "cell_type": "code",
      "metadata": {
        "id": "OD0B2zVuWpZ3",
        "colab_type": "code",
        "colab": {}
      },
      "source": [
        "import numpy as np\n",
        "import pandas as pd\n",
        "import tensorflow as tf\n",
        "from tensorflow.keras.layers import Dense, DenseFeatures\n",
        "from tensorflow.keras import Sequential\n",
        "from tensorflow.keras.metrics import AUC, Precision, Recall\n",
        "import tensorflow.keras.backend as K\n",
        "from tensorflow import feature_column as fc\n",
        "import matplotlib.pyplot as plt\n",
        "import seaborn as sns; sns.set(style=\"ticks\", color_codes=True)\n",
        "from sklearn.preprocessing import StandardScaler\n",
        "from sklearn.model_selection import train_test_split\n",
        "from sklearn.metrics import accuracy_score, precision_score, recall_score, f1_score\n",
        "\n",
        "%matplotlib inline"
      ],
      "execution_count": 153,
      "outputs": []
    },
    {
      "cell_type": "code",
      "metadata": {
        "id": "4xw8EKyqXF34",
        "colab_type": "code",
        "colab": {
          "base_uri": "https://localhost:8080/",
          "height": 52
        },
        "outputId": "43b6fe53-5d97-44db-a904-40ed7c8c2b36"
      },
      "source": [
        "print(pd.__version__)\n",
        "print(tf.__version__)"
      ],
      "execution_count": 154,
      "outputs": [
        {
          "output_type": "stream",
          "text": [
            "1.0.5\n",
            "2.3.0\n"
          ],
          "name": "stdout"
        }
      ]
    },
    {
      "cell_type": "markdown",
      "metadata": {
        "id": "zy1CWgz8Xo2a",
        "colab_type": "text"
      },
      "source": [
        "## Load data"
      ]
    },
    {
      "cell_type": "code",
      "metadata": {
        "id": "i-kw2uF8XI8g",
        "colab_type": "code",
        "colab": {}
      },
      "source": [
        "submision_path = '/content/drive/My Drive/Data/colabs_data/kalapa_4students/simple_submission.csv'\n",
        "train_path = '/content/drive/My Drive/Data/colabs_data/kalapa_4students/train.csv'\n",
        "test_path = '/content/drive/My Drive/Data/colabs_data/kalapa_4students/test.csv'"
      ],
      "execution_count": 155,
      "outputs": []
    },
    {
      "cell_type": "code",
      "metadata": {
        "id": "N6MXUjGuXLQa",
        "colab_type": "code",
        "colab": {
          "base_uri": "https://localhost:8080/",
          "height": 107
        },
        "outputId": "61adab50-f4cc-46e7-cbd9-5fd0af1b255b"
      },
      "source": [
        "def load_data(train_path, test_path, label_col = 'label'):\n",
        "    train_set = pd.read_csv(train_path)\n",
        "    test_set = pd.read_csv(test_path)\n",
        "    return train_set, test_set\n",
        "\n",
        "train_set, test_set = load_data( train_path, test_path )\n",
        "cols = train_set.columns"
      ],
      "execution_count": 156,
      "outputs": [
        {
          "output_type": "stream",
          "text": [
            "/usr/local/lib/python3.6/dist-packages/IPython/core/interactiveshell.py:2822: DtypeWarning: Columns (35,43) have mixed types.Specify dtype option on import or set low_memory=False.\n",
            "  if self.run_code(code, result):\n",
            "/usr/local/lib/python3.6/dist-packages/IPython/core/interactiveshell.py:2822: DtypeWarning: Columns (34,42) have mixed types.Specify dtype option on import or set low_memory=False.\n",
            "  if self.run_code(code, result):\n"
          ],
          "name": "stderr"
        }
      ]
    },
    {
      "cell_type": "code",
      "metadata": {
        "id": "1pPllECZx4X1",
        "colab_type": "code",
        "colab": {
          "base_uri": "https://localhost:8080/",
          "height": 105
        },
        "outputId": "03c5d62e-cf97-4e53-f20f-01e594e1ff71"
      },
      "source": [
        "train_set.info()"
      ],
      "execution_count": 157,
      "outputs": [
        {
          "output_type": "stream",
          "text": [
            "<class 'pandas.core.frame.DataFrame'>\n",
            "RangeIndex: 53030 entries, 0 to 53029\n",
            "Columns: 195 entries, id to Field_82\n",
            "dtypes: float64(133), int64(3), object(59)\n",
            "memory usage: 78.9+ MB\n"
          ],
          "name": "stdout"
        }
      ]
    },
    {
      "cell_type": "markdown",
      "metadata": {
        "id": "h9GQa7jQXv8g",
        "colab_type": "text"
      },
      "source": [
        "### Data trasforming"
      ]
    },
    {
      "cell_type": "code",
      "metadata": {
        "id": "ckJE8Rza3Lco",
        "colab_type": "code",
        "colab": {}
      },
      "source": [
        "# train_set[cols_categorical].head()\n",
        "# train_set.Field_61.unique()"
      ],
      "execution_count": 158,
      "outputs": []
    },
    {
      "cell_type": "code",
      "metadata": {
        "id": "gPNgmPkZ9JgS",
        "colab_type": "code",
        "colab": {}
      },
      "source": [
        "# len(train_set.Field_45.unique())\n",
        "# cols_id"
      ],
      "execution_count": 159,
      "outputs": []
    },
    {
      "cell_type": "code",
      "metadata": {
        "id": "AKyv3i9N_NRe",
        "colab_type": "code",
        "colab": {}
      },
      "source": [
        "# len(train_set.homeTownCity.unique())"
      ],
      "execution_count": 160,
      "outputs": []
    },
    {
      "cell_type": "code",
      "metadata": {
        "id": "FaeOcozU419_",
        "colab_type": "code",
        "colab": {}
      },
      "source": [
        "# train_set.Field_75.unique()\n",
        "# train_set.homeTownCity.hist()\n",
        "# print(cols_docs)"
      ],
      "execution_count": 161,
      "outputs": []
    },
    {
      "cell_type": "code",
      "metadata": {
        "id": "YBy1t6IdBRfM",
        "colab_type": "code",
        "colab": {
          "base_uri": "https://localhost:8080/",
          "height": 217
        },
        "outputId": "f81d84b7-f0c5-4fab-c52a-0184b16731d3"
      },
      "source": [
        "train_set[cols_fts_num].head()"
      ],
      "execution_count": 162,
      "outputs": [
        {
          "output_type": "execute_result",
          "data": {
            "text/html": [
              "<div>\n",
              "<style scoped>\n",
              "    .dataframe tbody tr th:only-of-type {\n",
              "        vertical-align: middle;\n",
              "    }\n",
              "\n",
              "    .dataframe tbody tr th {\n",
              "        vertical-align: top;\n",
              "    }\n",
              "\n",
              "    .dataframe thead th {\n",
              "        text-align: right;\n",
              "    }\n",
              "</style>\n",
              "<table border=\"1\" class=\"dataframe\">\n",
              "  <thead>\n",
              "    <tr style=\"text-align: right;\">\n",
              "      <th></th>\n",
              "      <th>Field_3</th>\n",
              "      <th>Field_19</th>\n",
              "      <th>Field_20</th>\n",
              "      <th>Field_21</th>\n",
              "      <th>Field_22</th>\n",
              "      <th>Field_23</th>\n",
              "      <th>Field_27</th>\n",
              "      <th>Field_28</th>\n",
              "      <th>Field_29</th>\n",
              "      <th>namSinh</th>\n",
              "      <th>Field_58</th>\n",
              "      <th>Field_59</th>\n",
              "      <th>Field_60</th>\n",
              "      <th>Field_63</th>\n",
              "      <th>Field_64</th>\n",
              "      <th>Field_67</th>\n",
              "      <th>Field_69</th>\n",
              "      <th>Field_70</th>\n",
              "      <th>Field_71</th>\n",
              "      <th>Field_72</th>\n",
              "      <th>Field_74</th>\n",
              "      <th>Field_75</th>\n",
              "      <th>Field_76</th>\n",
              "      <th>Field_77</th>\n",
              "      <th>friendCount</th>\n",
              "      <th>subscriberCount</th>\n",
              "      <th>currentLocationLocationId</th>\n",
              "      <th>currentLocationLatitude</th>\n",
              "      <th>currentLocationLongitude</th>\n",
              "      <th>homeTownLocationId</th>\n",
              "      <th>homeTownLatitude</th>\n",
              "      <th>homeTownLongitude</th>\n",
              "      <th>topFriends</th>\n",
              "      <th>numOrg</th>\n",
              "      <th>F_numOrg</th>\n",
              "      <th>F_numQuery</th>\n",
              "      <th>E_numOrg</th>\n",
              "      <th>E_numQuery</th>\n",
              "      <th>C_numOrg</th>\n",
              "      <th>C_numQuery</th>\n",
              "      <th>G_numOrg</th>\n",
              "      <th>G_numQuery</th>\n",
              "      <th>A_numOrg</th>\n",
              "      <th>A_numQuery</th>\n",
              "      <th>summary_6m</th>\n",
              "      <th>summary_3m</th>\n",
              "      <th>summary_1m</th>\n",
              "      <th>summary_1w</th>\n",
              "      <th>num_of_phone</th>\n",
              "      <th>Field_78</th>\n",
              "      <th>Field_79</th>\n",
              "      <th>Field_80</th>\n",
              "      <th>Field_81</th>\n",
              "      <th>Field_82</th>\n",
              "    </tr>\n",
              "  </thead>\n",
              "  <tbody>\n",
              "    <tr>\n",
              "      <th>0</th>\n",
              "      <td>1.0</td>\n",
              "      <td>0.0</td>\n",
              "      <td>4258600.0</td>\n",
              "      <td>4.5</td>\n",
              "      <td>1.0</td>\n",
              "      <td>16.0</td>\n",
              "      <td>0.0</td>\n",
              "      <td>0.0</td>\n",
              "      <td>0.0</td>\n",
              "      <td>0.0</td>\n",
              "      <td>0.0</td>\n",
              "      <td>5.0</td>\n",
              "      <td>3.0</td>\n",
              "      <td>2.0</td>\n",
              "      <td>1.0</td>\n",
              "      <td>118410.0</td>\n",
              "      <td>0.00</td>\n",
              "      <td>0.49</td>\n",
              "      <td>0.245</td>\n",
              "      <td>0.49</td>\n",
              "      <td>NaN</td>\n",
              "      <td>5.0</td>\n",
              "      <td>0.0</td>\n",
              "      <td>2.0</td>\n",
              "      <td>NaN</td>\n",
              "      <td>NaN</td>\n",
              "      <td>NaN</td>\n",
              "      <td>NaN</td>\n",
              "      <td>NaN</td>\n",
              "      <td>NaN</td>\n",
              "      <td>NaN</td>\n",
              "      <td>NaN</td>\n",
              "      <td>NaN</td>\n",
              "      <td>5.0</td>\n",
              "      <td>NaN</td>\n",
              "      <td>NaN</td>\n",
              "      <td>NaN</td>\n",
              "      <td>NaN</td>\n",
              "      <td>NaN</td>\n",
              "      <td>NaN</td>\n",
              "      <td>NaN</td>\n",
              "      <td>NaN</td>\n",
              "      <td>2.0</td>\n",
              "      <td>2.0</td>\n",
              "      <td>2.0</td>\n",
              "      <td>1.0</td>\n",
              "      <td>NaN</td>\n",
              "      <td>NaN</td>\n",
              "      <td>1.0</td>\n",
              "      <td>NaN</td>\n",
              "      <td>NaN</td>\n",
              "      <td>NaN</td>\n",
              "      <td>NaN</td>\n",
              "      <td>1</td>\n",
              "    </tr>\n",
              "    <tr>\n",
              "      <th>1</th>\n",
              "      <td>NaN</td>\n",
              "      <td>NaN</td>\n",
              "      <td>NaN</td>\n",
              "      <td>NaN</td>\n",
              "      <td>NaN</td>\n",
              "      <td>NaN</td>\n",
              "      <td>NaN</td>\n",
              "      <td>NaN</td>\n",
              "      <td>NaN</td>\n",
              "      <td>NaN</td>\n",
              "      <td>NaN</td>\n",
              "      <td>NaN</td>\n",
              "      <td>NaN</td>\n",
              "      <td>NaN</td>\n",
              "      <td>NaN</td>\n",
              "      <td>NaN</td>\n",
              "      <td>NaN</td>\n",
              "      <td>NaN</td>\n",
              "      <td>NaN</td>\n",
              "      <td>NaN</td>\n",
              "      <td>704.0</td>\n",
              "      <td>6.0</td>\n",
              "      <td>2.0</td>\n",
              "      <td>2.0</td>\n",
              "      <td>NaN</td>\n",
              "      <td>NaN</td>\n",
              "      <td>NaN</td>\n",
              "      <td>NaN</td>\n",
              "      <td>NaN</td>\n",
              "      <td>NaN</td>\n",
              "      <td>NaN</td>\n",
              "      <td>NaN</td>\n",
              "      <td>NaN</td>\n",
              "      <td>1.0</td>\n",
              "      <td>NaN</td>\n",
              "      <td>NaN</td>\n",
              "      <td>NaN</td>\n",
              "      <td>NaN</td>\n",
              "      <td>NaN</td>\n",
              "      <td>NaN</td>\n",
              "      <td>NaN</td>\n",
              "      <td>NaN</td>\n",
              "      <td>1.0</td>\n",
              "      <td>1.0</td>\n",
              "      <td>NaN</td>\n",
              "      <td>NaN</td>\n",
              "      <td>NaN</td>\n",
              "      <td>NaN</td>\n",
              "      <td>1.0</td>\n",
              "      <td>NaN</td>\n",
              "      <td>NaN</td>\n",
              "      <td>NaN</td>\n",
              "      <td>NaN</td>\n",
              "      <td>1</td>\n",
              "    </tr>\n",
              "    <tr>\n",
              "      <th>2</th>\n",
              "      <td>2.0</td>\n",
              "      <td>0.0</td>\n",
              "      <td>5000000.0</td>\n",
              "      <td>4.5</td>\n",
              "      <td>1.0</td>\n",
              "      <td>10.0</td>\n",
              "      <td>0.0</td>\n",
              "      <td>0.0</td>\n",
              "      <td>0.0</td>\n",
              "      <td>0.0</td>\n",
              "      <td>0.0</td>\n",
              "      <td>5.0</td>\n",
              "      <td>3.0</td>\n",
              "      <td>3.0</td>\n",
              "      <td>2.0</td>\n",
              "      <td>1073365.0</td>\n",
              "      <td>0.58</td>\n",
              "      <td>0.77</td>\n",
              "      <td>0.675</td>\n",
              "      <td>0.19</td>\n",
              "      <td>1076.0</td>\n",
              "      <td>2.0</td>\n",
              "      <td>0.0</td>\n",
              "      <td>2.0</td>\n",
              "      <td>NaN</td>\n",
              "      <td>NaN</td>\n",
              "      <td>NaN</td>\n",
              "      <td>NaN</td>\n",
              "      <td>NaN</td>\n",
              "      <td>NaN</td>\n",
              "      <td>NaN</td>\n",
              "      <td>NaN</td>\n",
              "      <td>NaN</td>\n",
              "      <td>5.0</td>\n",
              "      <td>1.0</td>\n",
              "      <td>1.0</td>\n",
              "      <td>2.0</td>\n",
              "      <td>3.0</td>\n",
              "      <td>NaN</td>\n",
              "      <td>NaN</td>\n",
              "      <td>NaN</td>\n",
              "      <td>NaN</td>\n",
              "      <td>3.0</td>\n",
              "      <td>3.0</td>\n",
              "      <td>7.0</td>\n",
              "      <td>7.0</td>\n",
              "      <td>2.0</td>\n",
              "      <td>1.0</td>\n",
              "      <td>1.0</td>\n",
              "      <td>33.0</td>\n",
              "      <td>10.769445</td>\n",
              "      <td>6.466667</td>\n",
              "      <td>0.0</td>\n",
              "      <td>2</td>\n",
              "    </tr>\n",
              "    <tr>\n",
              "      <th>3</th>\n",
              "      <td>NaN</td>\n",
              "      <td>NaN</td>\n",
              "      <td>NaN</td>\n",
              "      <td>NaN</td>\n",
              "      <td>NaN</td>\n",
              "      <td>NaN</td>\n",
              "      <td>NaN</td>\n",
              "      <td>NaN</td>\n",
              "      <td>NaN</td>\n",
              "      <td>NaN</td>\n",
              "      <td>NaN</td>\n",
              "      <td>NaN</td>\n",
              "      <td>NaN</td>\n",
              "      <td>NaN</td>\n",
              "      <td>NaN</td>\n",
              "      <td>NaN</td>\n",
              "      <td>NaN</td>\n",
              "      <td>NaN</td>\n",
              "      <td>NaN</td>\n",
              "      <td>NaN</td>\n",
              "      <td>NaN</td>\n",
              "      <td>NaN</td>\n",
              "      <td>NaN</td>\n",
              "      <td>NaN</td>\n",
              "      <td>NaN</td>\n",
              "      <td>NaN</td>\n",
              "      <td>NaN</td>\n",
              "      <td>NaN</td>\n",
              "      <td>NaN</td>\n",
              "      <td>NaN</td>\n",
              "      <td>NaN</td>\n",
              "      <td>NaN</td>\n",
              "      <td>NaN</td>\n",
              "      <td>NaN</td>\n",
              "      <td>NaN</td>\n",
              "      <td>NaN</td>\n",
              "      <td>NaN</td>\n",
              "      <td>NaN</td>\n",
              "      <td>NaN</td>\n",
              "      <td>NaN</td>\n",
              "      <td>NaN</td>\n",
              "      <td>NaN</td>\n",
              "      <td>NaN</td>\n",
              "      <td>NaN</td>\n",
              "      <td>NaN</td>\n",
              "      <td>NaN</td>\n",
              "      <td>NaN</td>\n",
              "      <td>NaN</td>\n",
              "      <td>1.0</td>\n",
              "      <td>33.0</td>\n",
              "      <td>10.769445</td>\n",
              "      <td>6.466667</td>\n",
              "      <td>0.0</td>\n",
              "      <td>3</td>\n",
              "    </tr>\n",
              "    <tr>\n",
              "      <th>4</th>\n",
              "      <td>NaN</td>\n",
              "      <td>NaN</td>\n",
              "      <td>NaN</td>\n",
              "      <td>NaN</td>\n",
              "      <td>NaN</td>\n",
              "      <td>NaN</td>\n",
              "      <td>NaN</td>\n",
              "      <td>NaN</td>\n",
              "      <td>NaN</td>\n",
              "      <td>NaN</td>\n",
              "      <td>NaN</td>\n",
              "      <td>NaN</td>\n",
              "      <td>NaN</td>\n",
              "      <td>NaN</td>\n",
              "      <td>NaN</td>\n",
              "      <td>NaN</td>\n",
              "      <td>NaN</td>\n",
              "      <td>NaN</td>\n",
              "      <td>NaN</td>\n",
              "      <td>NaN</td>\n",
              "      <td>NaN</td>\n",
              "      <td>NaN</td>\n",
              "      <td>NaN</td>\n",
              "      <td>NaN</td>\n",
              "      <td>NaN</td>\n",
              "      <td>NaN</td>\n",
              "      <td>NaN</td>\n",
              "      <td>NaN</td>\n",
              "      <td>NaN</td>\n",
              "      <td>NaN</td>\n",
              "      <td>NaN</td>\n",
              "      <td>NaN</td>\n",
              "      <td>NaN</td>\n",
              "      <td>NaN</td>\n",
              "      <td>NaN</td>\n",
              "      <td>NaN</td>\n",
              "      <td>NaN</td>\n",
              "      <td>NaN</td>\n",
              "      <td>NaN</td>\n",
              "      <td>NaN</td>\n",
              "      <td>NaN</td>\n",
              "      <td>NaN</td>\n",
              "      <td>NaN</td>\n",
              "      <td>NaN</td>\n",
              "      <td>NaN</td>\n",
              "      <td>NaN</td>\n",
              "      <td>NaN</td>\n",
              "      <td>NaN</td>\n",
              "      <td>1.0</td>\n",
              "      <td>33.0</td>\n",
              "      <td>10.769445</td>\n",
              "      <td>6.466667</td>\n",
              "      <td>0.0</td>\n",
              "      <td>3</td>\n",
              "    </tr>\n",
              "  </tbody>\n",
              "</table>\n",
              "</div>"
            ],
            "text/plain": [
              "   Field_3  Field_19   Field_20  ...  Field_80  Field_81  Field_82\n",
              "0      1.0       0.0  4258600.0  ...       NaN       NaN         1\n",
              "1      NaN       NaN        NaN  ...       NaN       NaN         1\n",
              "2      2.0       0.0  5000000.0  ...  6.466667       0.0         2\n",
              "3      NaN       NaN        NaN  ...  6.466667       0.0         3\n",
              "4      NaN       NaN        NaN  ...  6.466667       0.0         3\n",
              "\n",
              "[5 rows x 54 columns]"
            ]
          },
          "metadata": {
            "tags": []
          },
          "execution_count": 162
        }
      ]
    },
    {
      "cell_type": "code",
      "metadata": {
        "id": "oGfzWBUhX-6e",
        "colab_type": "code",
        "colab": {}
      },
      "source": [
        "# Nhãn\n",
        "cols_label = ['label']\n",
        "# Đặc trưng binary\n",
        "cols_fts_binary = [i for i in train_set.select_dtypes(include=['float64','int64']).columns \n",
        "                   if len(set(train_set[i].fillna(0)) - {0,1} ) == 0 and i not in cols_label]\n",
        "# định dang datte yyyy-mm-dd\n",
        "cols_date = ['Field_1','Field_2','Field_5','Field_6','Field_7','Field_8','Field_9','Field_10','Field_11'\n",
        "             ,'Field_14','Field_15','Field_25','Field_32','Field_33','Field_34','Field_35','Field_40','Field_43','Field_44'\n",
        "             ,'F_startDate','F_endDate','E_startDate','E_endDate','C_startDate','C_endDate','G_startDate','G_endDate'\n",
        "             ,'A_startDate','A_endDate']\n",
        "# định dạng date yyymmdd\n",
        "cols_date2 = ['Field_33','ngaySinh']\n",
        "# Đặc trưng dạng văn bản\n",
        "cols_docs = ['Field_46','diaChi','Field_48','Field_49','currentLocationName','homeTownName','Field_56']\n",
        "# Định danh bản ghi\n",
        "cols_id = ['id','Field_45'] +[i for i in train_set.select_dtypes(include = ['object']).columns \n",
        "                              if len(train_set[i].unique()) >=350 and i not in cols_date + cols_date2+cols_docs]\n",
        "# Đặc trưng dạng categorical\n",
        "cols_categorical = [i for i in train_set.select_dtypes(include = ['object']).columns\n",
        "                    if i not in cols_id + cols_label+cols_date2+cols_date+cols_docs]\n",
        "# Đặc trưng số\n",
        "cols_fts_num = [ i for i in test_set.select_dtypes(include=['float64','int64']).columns \n",
        "                if i not in cols_id + cols_label + cols_fts_binary + cols_date2+cols_date+cols_docs]"
      ],
      "execution_count": 163,
      "outputs": []
    },
    {
      "cell_type": "code",
      "metadata": {
        "id": "80edhA5WEB28",
        "colab_type": "code",
        "colab": {}
      },
      "source": [
        "# Đặc trưng số có dạng như categorical\n",
        "cols_num_like_cat = [i for i in cols_fts_num if len(train_set[i].unique()) <= 15 ]\n",
        "# Đặc trưng số đã kiểm chứng\n",
        "cols_num = [i for i in cols_fts_num if i not in cols_num_like_cat]"
      ],
      "execution_count": 164,
      "outputs": []
    },
    {
      "cell_type": "code",
      "metadata": {
        "id": "FIiuayh8ERZ1",
        "colab_type": "code",
        "colab": {
          "base_uri": "https://localhost:8080/",
          "height": 976
        },
        "outputId": "a2acc2bf-a681-4f7e-b074-15bedcb8c2a0"
      },
      "source": [
        "for i in cols_fts_num :\n",
        "  print(i, len(train_set[i].unique()))"
      ],
      "execution_count": 165,
      "outputs": [
        {
          "output_type": "stream",
          "text": [
            "Field_3 3\n",
            "Field_19 355\n",
            "Field_20 4736\n",
            "Field_21 5\n",
            "Field_22 4\n",
            "Field_23 314\n",
            "Field_27 637\n",
            "Field_28 635\n",
            "Field_29 44\n",
            "namSinh 4\n",
            "Field_58 6\n",
            "Field_59 36\n",
            "Field_60 35\n",
            "Field_63 11\n",
            "Field_64 10\n",
            "Field_67 14431\n",
            "Field_69 102\n",
            "Field_70 51\n",
            "Field_71 322\n",
            "Field_72 497\n",
            "Field_74 490\n",
            "Field_75 15\n",
            "Field_76 12\n",
            "Field_77 16\n",
            "friendCount 2933\n",
            "subscriberCount 1526\n",
            "currentLocationLocationId 915\n",
            "currentLocationLatitude 680\n",
            "currentLocationLongitude 590\n",
            "homeTownLocationId 932\n",
            "homeTownLatitude 643\n",
            "homeTownLongitude 522\n",
            "topFriends 6\n",
            "numOrg 20\n",
            "F_numOrg 7\n",
            "F_numQuery 16\n",
            "E_numOrg 8\n",
            "E_numQuery 16\n",
            "C_numOrg 4\n",
            "C_numQuery 77\n",
            "G_numOrg 5\n",
            "G_numQuery 11\n",
            "A_numOrg 15\n",
            "A_numQuery 37\n",
            "summary_6m 104\n",
            "summary_3m 95\n",
            "summary_1m 81\n",
            "summary_1w 52\n",
            "num_of_phone 6\n",
            "Field_78 428\n",
            "Field_79 11037\n",
            "Field_80 2840\n",
            "Field_81 422\n",
            "Field_82 4\n"
          ],
          "name": "stdout"
        }
      ]
    },
    {
      "cell_type": "markdown",
      "metadata": {
        "id": "7KBEmyXJymwc",
        "colab_type": "text"
      },
      "source": [
        "Missing values"
      ]
    },
    {
      "cell_type": "code",
      "metadata": {
        "id": "EkPgKvK0ymEk",
        "colab_type": "code",
        "colab": {}
      },
      "source": [
        "train_data = train_set\n",
        "predict_data = test_set\n",
        "\n",
        "# Categorical: Fill giá trị null như một giá trị khác\n",
        "train_data[cols_categorical] = train_set[cols_categorical].astype('object').fillna('#NULL#').applymap(str)\n",
        "predict_data[cols_categorical] = test_set[cols_categorical].astype('object').fillna('#NULL#').applymap(str)\n",
        "\n",
        "# Numerical: các trường chưa xử lý+ numerical fill giá trị -1\n",
        "# train_data[cols_fts_num] = train_set[cols_fts_num].fillna(-1)\n",
        "# predict_data[cols_fts_num] = test_set[cols_fts_num].fillna(-1)\n",
        "X_train[cols_fts_num] = (X_train[cols_fts_num] - X_train[cols_fts_num].mean() )/ X_train[cols_fts_num].std()\n",
        "X_test[cols_fts_num] = (X_test[cols_fts_num] - X_train[cols_fts_num].mean() )/ X_train[cols_fts_num].std()\n",
        "train_data = train_set.fillna(-1)\n",
        "predict_data = test_set.fillna(-1)"
      ],
      "execution_count": 166,
      "outputs": []
    },
    {
      "cell_type": "markdown",
      "metadata": {
        "id": "CYNNUzJFoprL",
        "colab_type": "text"
      },
      "source": [
        "Định nghĩa features"
      ]
    },
    {
      "cell_type": "code",
      "metadata": {
        "id": "eR4iXeN61WRY",
        "colab_type": "code",
        "colab": {}
      },
      "source": [
        "X_train, X_test, y_train, y_test = train_test_split(train_data\n",
        "                                                   ,train_data['label'].values\n",
        "                                                   , stratify = train_data['label'].values \n",
        "                                                   ,test_size = 0.3 \n",
        "                                                   )"
      ],
      "execution_count": 167,
      "outputs": []
    },
    {
      "cell_type": "code",
      "metadata": {
        "id": "rI0R61duyk5b",
        "colab_type": "code",
        "colab": {}
      },
      "source": [
        "feature_columns = []\n",
        "fts_cols = cols_fts_binary+cols_fts_num+cols_categorical\n",
        "\n",
        "# Với biến binary, load trực tiếp vào model\n",
        "for col in cols_fts_binary:\n",
        "  feature_columns.append(\n",
        "      fc.numeric_column(col, dtype=tf.float32)\n",
        "  )\n",
        "# Với các biến numeric, sử dụng standard scaler + định nghĩa\n",
        "# X_train[cols_fts_num] = (X_train[cols_fts_num] - X_train[cols_fts_num].mean() )/ X_train[cols_fts_num].std()\n",
        "# X_test[cols_fts_num] = (X_test[cols_fts_num] - X_train[cols_fts_num].mean() )/ X_train[cols_fts_num].std()\n",
        "\n",
        "for col in cols_fts_num:\n",
        "  mean = X_train[col].mean()\n",
        "  std = X_train[col].std()\n",
        "  feature_columns.append(\n",
        "      fc.numeric_column(col,\n",
        "                        dtype=tf.float32\n",
        "                        #, normalizer_fn = lambda x: ( x - mean )/ std \n",
        "                        ))\n",
        "# Với các biến categorical, embed với số chiều bằng 1/200 +1 số chiều gốc\n",
        "def embed_trans(feature_name, vocab):\n",
        "  ft = fc.categorical_column_with_vocabulary_list(feature_name, vocab)\n",
        "  ft = fc.embedding_column( ft,dimension= int(len(vocab)/20) +1 )\n",
        "  return ft\n",
        "for col in cols_categorical:\n",
        "  vocabulary = train_set[col].unique()\n",
        "  feature_columns.append(\n",
        "      embed_trans(col, vocabulary)\n",
        "  )\n",
        "\n",
        "\n",
        "# Xây dựng layer\n",
        "feature_layer = DenseFeatures(feature_columns)"
      ],
      "execution_count": 168,
      "outputs": []
    },
    {
      "cell_type": "code",
      "metadata": {
        "id": "BCOJ67grXrbb",
        "colab_type": "code",
        "colab": {}
      },
      "source": [
        "# A utility method to create a tf.data dataset from a Pandas Dataframe\n",
        "def df_to_dataset(X, y, shuffle=True, batch_size=32):\n",
        "  ds = tf.data.Dataset.from_tensor_slices((X.to_dict(orient='list'), y))\n",
        "  if shuffle:\n",
        "    ds = ds.shuffle(buffer_size=len(X))\n",
        "  ds = ds.batch(batch_size)\n",
        "  return ds\n",
        "\n",
        "\n",
        "batch_size = 5 # A small batch sized is used for demonstration purposes\n",
        "train_ds = df_to_dataset(X_train[fts_cols], y_train, batch_size=batch_size)\n",
        "test_ds = df_to_dataset(X_test[fts_cols], y_test, shuffle=False, batch_size=batch_size)"
      ],
      "execution_count": 169,
      "outputs": []
    },
    {
      "cell_type": "code",
      "metadata": {
        "id": "CLNgUTm4X1vn",
        "colab_type": "code",
        "colab": {}
      },
      "source": [
        "# scaler_1 = StandardScaler()\n",
        "# X_train_scaled = scaler_1.fit_transform(X_train)\n",
        "# X_test_scaled = scaler_1.transform(X_test)\n",
        "# X_predict_scaled = scaler_1.transform( test_set[cols_fts_num].fillna(0) )"
      ],
      "execution_count": 170,
      "outputs": []
    },
    {
      "cell_type": "code",
      "metadata": {
        "id": "K3m7hDYZX3fg",
        "colab_type": "code",
        "colab": {}
      },
      "source": [
        "nets_2 = Sequential(\n",
        "    [\n",
        "    feature_layer,\n",
        "    Dense(128, activation ='relu'),\n",
        "    # Dense(64, activation ='relu'),\n",
        "    # Dense(64, activation ='relu'),\n",
        "    Dense(64, activation ='relu'),\n",
        "    Dense(16, activation ='relu'),\n",
        "    Dense(1, activation ='sigmoid')])\n",
        "nets_2.compile(optimizer = 'adam', loss = 'binary_crossentropy', metrics = ['acc', AUC() ] )#, Precision(), Recall()] )"
      ],
      "execution_count": 171,
      "outputs": []
    },
    {
      "cell_type": "code",
      "metadata": {
        "id": "mWz5G94lY81G",
        "colab_type": "code",
        "colab": {
          "base_uri": "https://localhost:8080/",
          "height": 461
        },
        "outputId": "af804729-5d78-481f-ad95-cfb9d7c5dd42"
      },
      "source": [
        "history = nets_2.fit( train_ds , epochs = 10\n",
        "                    , validation_data = test_ds)"
      ],
      "execution_count": 172,
      "outputs": [
        {
          "output_type": "stream",
          "text": [
            "Epoch 1/10\n",
            "WARNING:tensorflow:Layers in a Sequential model should only have a single input tensor, but we receive a <class 'dict'> input: {'Field_13': <tf.Tensor 'ExpandDims_9:0' shape=(None, 1) dtype=float32>, 'Field_14': <tf.Tensor 'ExpandDims_10:0' shape=(None, 1) dtype=float32>, 'Field_16': <tf.Tensor 'ExpandDims_11:0' shape=(None, 1) dtype=float32>, 'Field_17': <tf.Tensor 'ExpandDims_12:0' shape=(None, 1) dtype=float32>, 'Field_24': <tf.Tensor 'ExpandDims_18:0' shape=(None, 1) dtype=float32>, 'Field_26': <tf.Tensor 'ExpandDims_19:0' shape=(None, 1) dtype=float32>, 'Field_30': <tf.Tensor 'ExpandDims_24:0' shape=(None, 1) dtype=float32>, 'Field_31': <tf.Tensor 'ExpandDims_25:0' shape=(None, 1) dtype=float32>, 'Field_37': <tf.Tensor 'ExpandDims_27:0' shape=(None, 1) dtype=float32>, 'Field_39': <tf.Tensor 'ExpandDims_29:0' shape=(None, 1) dtype=float32>, 'Field_41': <tf.Tensor 'ExpandDims_31:0' shape=(None, 1) dtype=float32>, 'Field_42': <tf.Tensor 'ExpandDims_32:0' shape=(None, 1) dtype=float32>, 'Field_50': <tf.Tensor 'ExpandDims_34:0' shape=(None, 1) dtype=float32>, 'Field_51': <tf.Tensor 'ExpandDims_35:0' shape=(None, 1) dtype=float32>, 'Field_52': <tf.Tensor 'ExpandDims_36:0' shape=(None, 1) dtype=float32>, 'Field_53': <tf.Tensor 'ExpandDims_37:0' shape=(None, 1) dtype=float32>, 'Field_57': <tf.Tensor 'ExpandDims_40:0' shape=(None, 1) dtype=float32>, 'Field_73': <tf.Tensor 'ExpandDims_55:0' shape=(None, 1) dtype=float32>, 'partner0_A': <tf.Tensor 'ExpandDims_85:0' shape=(None, 1) dtype=float32>, 'partner0_B': <tf.Tensor 'ExpandDims_86:0' shape=(None, 1) dtype=float32>, 'partner0_C': <tf.Tensor 'ExpandDims_87:0' shape=(None, 1) dtype=float32>, 'partner0_D': <tf.Tensor 'ExpandDims_88:0' shape=(None, 1) dtype=float32>, 'partner0_E': <tf.Tensor 'ExpandDims_89:0' shape=(None, 1) dtype=float32>, 'partner0_F': <tf.Tensor 'ExpandDims_90:0' shape=(None, 1) dtype=float32>, 'partner0_G': <tf.Tensor 'ExpandDims_91:0' shape=(None, 1) dtype=float32>, 'partner0_H': <tf.Tensor 'ExpandDims_92:0' shape=(None, 1) dtype=float32>, 'partner0_K': <tf.Tensor 'ExpandDims_93:0' shape=(None, 1) dtype=float32>, 'partner0_L': <tf.Tensor 'ExpandDims_94:0' shape=(None, 1) dtype=float32>, 'partner1_A': <tf.Tensor 'ExpandDims_95:0' shape=(None, 1) dtype=float32>, 'partner1_B': <tf.Tensor 'ExpandDims_96:0' shape=(None, 1) dtype=float32>, 'partner1_C': <tf.Tensor 'ExpandDims_97:0' shape=(None, 1) dtype=float32>, 'partner1_D': <tf.Tensor 'ExpandDims_98:0' shape=(None, 1) dtype=float32>, 'partner1_E': <tf.Tensor 'ExpandDims_99:0' shape=(None, 1) dtype=float32>, 'partner1_F': <tf.Tensor 'ExpandDims_100:0' shape=(None, 1) dtype=float32>, 'partner1_G': <tf.Tensor 'ExpandDims_101:0' shape=(None, 1) dtype=float32>, 'partner1_H': <tf.Tensor 'ExpandDims_102:0' shape=(None, 1) dtype=float32>, 'partner1_K': <tf.Tensor 'ExpandDims_103:0' shape=(None, 1) dtype=float32>, 'partner1_L': <tf.Tensor 'ExpandDims_104:0' shape=(None, 1) dtype=float32>, 'partner2_A': <tf.Tensor 'ExpandDims_105:0' shape=(None, 1) dtype=float32>, 'partner2_B': <tf.Tensor 'ExpandDims_106:0' shape=(None, 1) dtype=float32>, 'partner2_C': <tf.Tensor 'ExpandDims_107:0' shape=(None, 1) dtype=float32>, 'partner2_D': <tf.Tensor 'ExpandDims_108:0' shape=(None, 1) dtype=float32>, 'partner2_E': <tf.Tensor 'ExpandDims_109:0' shape=(None, 1) dtype=float32>, 'partner2_F': <tf.Tensor 'ExpandDims_110:0' shape=(None, 1) dtype=float32>, 'partner2_G': <tf.Tensor 'ExpandDims_111:0' shape=(None, 1) dtype=float32>, 'partner2_H': <tf.Tensor 'ExpandDims_112:0' shape=(None, 1) dtype=float32>, 'partner2_K': <tf.Tensor 'ExpandDims_113:0' shape=(None, 1) dtype=float32>, 'partner2_L': <tf.Tensor 'ExpandDims_114:0' shape=(None, 1) dtype=float32>, 'partner3_A': <tf.Tensor 'ExpandDims_115:0' shape=(None, 1) dtype=float32>, 'partner3_B': <tf.Tensor 'ExpandDims_116:0' shape=(None, 1) dtype=float32>, 'partner3_C': <tf.Tensor 'ExpandDims_117:0' shape=(None, 1) dtype=float32>, 'partner3_D': <tf.Tensor 'ExpandDims_118:0' shape=(None, 1) dtype=float32>, 'partner3_E': <tf.Tensor 'ExpandDims_119:0' shape=(None, 1) dtype=float32>, 'partner3_F': <tf.Tensor 'ExpandDims_120:0' shape=(None, 1) dtype=float32>, 'partner3_G': <tf.Tensor 'ExpandDims_121:0' shape=(None, 1) dtype=float32>, 'partner3_H': <tf.Tensor 'ExpandDims_122:0' shape=(None, 1) dtype=float32>, 'partner3_K': <tf.Tensor 'ExpandDims_123:0' shape=(None, 1) dtype=float32>, 'partner3_L': <tf.Tensor 'ExpandDims_124:0' shape=(None, 1) dtype=float32>, 'partner4_A': <tf.Tensor 'ExpandDims_125:0' shape=(None, 1) dtype=float32>, 'partner4_B': <tf.Tensor 'ExpandDims_126:0' shape=(None, 1) dtype=float32>, 'partner4_C': <tf.Tensor 'ExpandDims_127:0' shape=(None, 1) dtype=float32>, 'partner4_D': <tf.Tensor 'ExpandDims_128:0' shape=(None, 1) dtype=float32>, 'partner4_E': <tf.Tensor 'ExpandDims_129:0' shape=(None, 1) dtype=float32>, 'partner4_F': <tf.Tensor 'ExpandDims_130:0' shape=(None, 1) dtype=float32>, 'partner4_G': <tf.Tensor 'ExpandDims_131:0' shape=(None, 1) dtype=float32>, 'partner4_H': <tf.Tensor 'ExpandDims_132:0' shape=(None, 1) dtype=float32>, 'partner4_K': <tf.Tensor 'ExpandDims_133:0' shape=(None, 1) dtype=float32>, 'partner4_L': <tf.Tensor 'ExpandDims_134:0' shape=(None, 1) dtype=float32>, 'partner5_A': <tf.Tensor 'ExpandDims_135:0' shape=(None, 1) dtype=float32>, 'partner5_B': <tf.Tensor 'ExpandDims_136:0' shape=(None, 1) dtype=float32>, 'partner5_C': <tf.Tensor 'ExpandDims_137:0' shape=(None, 1) dtype=float32>, 'partner5_D': <tf.Tensor 'ExpandDims_138:0' shape=(None, 1) dtype=float32>, 'partner5_E': <tf.Tensor 'ExpandDims_139:0' shape=(None, 1) dtype=float32>, 'partner5_F': <tf.Tensor 'ExpandDims_140:0' shape=(None, 1) dtype=float32>, 'partner5_G': <tf.Tensor 'ExpandDims_141:0' shape=(None, 1) dtype=float32>, 'partner5_H': <tf.Tensor 'ExpandDims_142:0' shape=(None, 1) dtype=float32>, 'partner5_K': <tf.Tensor 'ExpandDims_143:0' shape=(None, 1) dtype=float32>, 'partner5_L': <tf.Tensor 'ExpandDims_144:0' shape=(None, 1) dtype=float32>, 'Field_3': <tf.Tensor 'ExpandDims_23:0' shape=(None, 1) dtype=float32>, 'Field_19': <tf.Tensor 'ExpandDims_13:0' shape=(None, 1) dtype=float32>, 'Field_20': <tf.Tensor 'ExpandDims_14:0' shape=(None, 1) dtype=float32>, 'Field_21': <tf.Tensor 'ExpandDims_15:0' shape=(None, 1) dtype=float32>, 'Field_22': <tf.Tensor 'ExpandDims_16:0' shape=(None, 1) dtype=float32>, 'Field_23': <tf.Tensor 'ExpandDims_17:0' shape=(None, 1) dtype=float32>, 'Field_27': <tf.Tensor 'ExpandDims_20:0' shape=(None, 1) dtype=float32>, 'Field_28': <tf.Tensor 'ExpandDims_21:0' shape=(None, 1) dtype=float32>, 'Field_29': <tf.Tensor 'ExpandDims_22:0' shape=(None, 1) dtype=float32>, 'namSinh': <tf.Tensor 'ExpandDims_82:0' shape=(None, 1) dtype=float32>, 'Field_58': <tf.Tensor 'ExpandDims_41:0' shape=(None, 1) dtype=float32>, 'Field_59': <tf.Tensor 'ExpandDims_42:0' shape=(None, 1) dtype=float32>, 'Field_60': <tf.Tensor 'ExpandDims_43:0' shape=(None, 1) dtype=float32>, 'Field_63': <tf.Tensor 'ExpandDims_46:0' shape=(None, 1) dtype=float32>, 'Field_64': <tf.Tensor 'ExpandDims_47:0' shape=(None, 1) dtype=float32>, 'Field_67': <tf.Tensor 'ExpandDims_50:0' shape=(None, 1) dtype=float32>, 'Field_69': <tf.Tensor 'ExpandDims_51:0' shape=(None, 1) dtype=float32>, 'Field_70': <tf.Tensor 'ExpandDims_52:0' shape=(None, 1) dtype=float32>, 'Field_71': <tf.Tensor 'ExpandDims_53:0' shape=(None, 1) dtype=float32>, 'Field_72': <tf.Tensor 'ExpandDims_54:0' shape=(None, 1) dtype=float32>, 'Field_74': <tf.Tensor 'ExpandDims_56:0' shape=(None, 1) dtype=float32>, 'Field_75': <tf.Tensor 'ExpandDims_57:0' shape=(None, 1) dtype=float32>, 'Field_76': <tf.Tensor 'ExpandDims_58:0' shape=(None, 1) dtype=float32>, 'Field_77': <tf.Tensor 'ExpandDims_59:0' shape=(None, 1) dtype=float32>, 'friendCount': <tf.Tensor 'ExpandDims_74:0' shape=(None, 1) dtype=float32>, 'subscriberCount': <tf.Tensor 'ExpandDims_145:0' shape=(None, 1) dtype=float32>, 'currentLocationLocationId': <tf.Tensor 'ExpandDims_70:0' shape=(None, 1) dtype=float32>, 'currentLocationLatitude': <tf.Tensor 'ExpandDims_69:0' shape=(None, 1) dtype=float32>, 'currentLocationLongitude': <tf.Tensor 'ExpandDims_71:0' shape=(None, 1) dtype=float32>, 'homeTownLocationId': <tf.Tensor 'ExpandDims_78:0' shape=(None, 1) dtype=float32>, 'homeTownLatitude': <tf.Tensor 'ExpandDims_77:0' shape=(None, 1) dtype=float32>, 'homeTownLongitude': <tf.Tensor 'ExpandDims_79:0' shape=(None, 1) dtype=float32>, 'topFriends': <tf.Tensor 'ExpandDims_150:0' shape=(None, 1) dtype=float32>, 'numOrg': <tf.Tensor 'ExpandDims_83:0' shape=(None, 1) dtype=float32>, 'F_numOrg': <tf.Tensor 'ExpandDims_6:0' shape=(None, 1) dtype=float32>, 'F_numQuery': <tf.Tensor 'ExpandDims_7:0' shape=(None, 1) dtype=float32>, 'E_numOrg': <tf.Tensor 'ExpandDims_4:0' shape=(None, 1) dtype=float32>, 'E_numQuery': <tf.Tensor 'ExpandDims_5:0' shape=(None, 1) dtype=float32>, 'C_numOrg': <tf.Tensor 'ExpandDims_2:0' shape=(None, 1) dtype=float32>, 'C_numQuery': <tf.Tensor 'ExpandDims_3:0' shape=(None, 1) dtype=float32>, 'G_numOrg': <tf.Tensor 'ExpandDims_65:0' shape=(None, 1) dtype=float32>, 'G_numQuery': <tf.Tensor 'ExpandDims_66:0' shape=(None, 1) dtype=float32>, 'A_numOrg': <tf.Tensor 'ExpandDims:0' shape=(None, 1) dtype=float32>, 'A_numQuery': <tf.Tensor 'ExpandDims_1:0' shape=(None, 1) dtype=float32>, 'summary_6m': <tf.Tensor 'ExpandDims_149:0' shape=(None, 1) dtype=float32>, 'summary_3m': <tf.Tensor 'ExpandDims_148:0' shape=(None, 1) dtype=float32>, 'summary_1m': <tf.Tensor 'ExpandDims_146:0' shape=(None, 1) dtype=float32>, 'summary_1w': <tf.Tensor 'ExpandDims_147:0' shape=(None, 1) dtype=float32>, 'num_of_phone': <tf.Tensor 'ExpandDims_84:0' shape=(None, 1) dtype=float32>, 'Field_78': <tf.Tensor 'ExpandDims_60:0' shape=(None, 1) dtype=float32>, 'Field_79': <tf.Tensor 'ExpandDims_61:0' shape=(None, 1) dtype=float32>, 'Field_80': <tf.Tensor 'ExpandDims_62:0' shape=(None, 1) dtype=float32>, 'Field_81': <tf.Tensor 'ExpandDims_63:0' shape=(None, 1) dtype=float32>, 'Field_82': <tf.Tensor 'ExpandDims_64:0' shape=(None, 1) dtype=int32>, 'Field_4': <tf.Tensor 'ExpandDims_30:0' shape=(None, 1) dtype=string>, 'Field_12': <tf.Tensor 'ExpandDims_8:0' shape=(None, 1) dtype=string>, 'gioiTinh': <tf.Tensor 'ExpandDims_75:0' shape=(None, 1) dtype=string>, 'Field_36': <tf.Tensor 'ExpandDims_26:0' shape=(None, 1) dtype=string>, 'Field_38': <tf.Tensor 'ExpandDims_28:0' shape=(None, 1) dtype=string>, 'Field_47': <tf.Tensor 'ExpandDims_33:0' shape=(None, 1) dtype=string>, 'Field_54': <tf.Tensor 'ExpandDims_38:0' shape=(None, 1) dtype=string>, 'Field_55': <tf.Tensor 'ExpandDims_39:0' shape=(None, 1) dtype=string>, 'Field_61': <tf.Tensor 'ExpandDims_44:0' shape=(None, 1) dtype=string>, 'Field_62': <tf.Tensor 'ExpandDims_45:0' shape=(None, 1) dtype=string>, 'Field_65': <tf.Tensor 'ExpandDims_48:0' shape=(None, 1) dtype=string>, 'Field_66': <tf.Tensor 'ExpandDims_49:0' shape=(None, 1) dtype=string>, 'info_social_sex': <tf.Tensor 'ExpandDims_81:0' shape=(None, 1) dtype=string>, 'data.basic_info.locale': <tf.Tensor 'ExpandDims_73:0' shape=(None, 1) dtype=string>, 'currentLocationCountry': <tf.Tensor 'ExpandDims_68:0' shape=(None, 1) dtype=string>, 'currentLocationState': <tf.Tensor 'ExpandDims_72:0' shape=(None, 1) dtype=string>, 'homeTownCountry': <tf.Tensor 'ExpandDims_76:0' shape=(None, 1) dtype=string>, 'homeTownState': <tf.Tensor 'ExpandDims_80:0' shape=(None, 1) dtype=string>, 'brief': <tf.Tensor 'ExpandDims_67:0' shape=(None, 1) dtype=string>}\n",
            "Consider rewriting this model with the Functional API.\n",
            "WARNING:tensorflow:Layers in a Sequential model should only have a single input tensor, but we receive a <class 'dict'> input: {'Field_13': <tf.Tensor 'ExpandDims_9:0' shape=(None, 1) dtype=float32>, 'Field_14': <tf.Tensor 'ExpandDims_10:0' shape=(None, 1) dtype=float32>, 'Field_16': <tf.Tensor 'ExpandDims_11:0' shape=(None, 1) dtype=float32>, 'Field_17': <tf.Tensor 'ExpandDims_12:0' shape=(None, 1) dtype=float32>, 'Field_24': <tf.Tensor 'ExpandDims_18:0' shape=(None, 1) dtype=float32>, 'Field_26': <tf.Tensor 'ExpandDims_19:0' shape=(None, 1) dtype=float32>, 'Field_30': <tf.Tensor 'ExpandDims_24:0' shape=(None, 1) dtype=float32>, 'Field_31': <tf.Tensor 'ExpandDims_25:0' shape=(None, 1) dtype=float32>, 'Field_37': <tf.Tensor 'ExpandDims_27:0' shape=(None, 1) dtype=float32>, 'Field_39': <tf.Tensor 'ExpandDims_29:0' shape=(None, 1) dtype=float32>, 'Field_41': <tf.Tensor 'ExpandDims_31:0' shape=(None, 1) dtype=float32>, 'Field_42': <tf.Tensor 'ExpandDims_32:0' shape=(None, 1) dtype=float32>, 'Field_50': <tf.Tensor 'ExpandDims_34:0' shape=(None, 1) dtype=float32>, 'Field_51': <tf.Tensor 'ExpandDims_35:0' shape=(None, 1) dtype=float32>, 'Field_52': <tf.Tensor 'ExpandDims_36:0' shape=(None, 1) dtype=float32>, 'Field_53': <tf.Tensor 'ExpandDims_37:0' shape=(None, 1) dtype=float32>, 'Field_57': <tf.Tensor 'ExpandDims_40:0' shape=(None, 1) dtype=float32>, 'Field_73': <tf.Tensor 'ExpandDims_55:0' shape=(None, 1) dtype=float32>, 'partner0_A': <tf.Tensor 'ExpandDims_85:0' shape=(None, 1) dtype=float32>, 'partner0_B': <tf.Tensor 'ExpandDims_86:0' shape=(None, 1) dtype=float32>, 'partner0_C': <tf.Tensor 'ExpandDims_87:0' shape=(None, 1) dtype=float32>, 'partner0_D': <tf.Tensor 'ExpandDims_88:0' shape=(None, 1) dtype=float32>, 'partner0_E': <tf.Tensor 'ExpandDims_89:0' shape=(None, 1) dtype=float32>, 'partner0_F': <tf.Tensor 'ExpandDims_90:0' shape=(None, 1) dtype=float32>, 'partner0_G': <tf.Tensor 'ExpandDims_91:0' shape=(None, 1) dtype=float32>, 'partner0_H': <tf.Tensor 'ExpandDims_92:0' shape=(None, 1) dtype=float32>, 'partner0_K': <tf.Tensor 'ExpandDims_93:0' shape=(None, 1) dtype=float32>, 'partner0_L': <tf.Tensor 'ExpandDims_94:0' shape=(None, 1) dtype=float32>, 'partner1_A': <tf.Tensor 'ExpandDims_95:0' shape=(None, 1) dtype=float32>, 'partner1_B': <tf.Tensor 'ExpandDims_96:0' shape=(None, 1) dtype=float32>, 'partner1_C': <tf.Tensor 'ExpandDims_97:0' shape=(None, 1) dtype=float32>, 'partner1_D': <tf.Tensor 'ExpandDims_98:0' shape=(None, 1) dtype=float32>, 'partner1_E': <tf.Tensor 'ExpandDims_99:0' shape=(None, 1) dtype=float32>, 'partner1_F': <tf.Tensor 'ExpandDims_100:0' shape=(None, 1) dtype=float32>, 'partner1_G': <tf.Tensor 'ExpandDims_101:0' shape=(None, 1) dtype=float32>, 'partner1_H': <tf.Tensor 'ExpandDims_102:0' shape=(None, 1) dtype=float32>, 'partner1_K': <tf.Tensor 'ExpandDims_103:0' shape=(None, 1) dtype=float32>, 'partner1_L': <tf.Tensor 'ExpandDims_104:0' shape=(None, 1) dtype=float32>, 'partner2_A': <tf.Tensor 'ExpandDims_105:0' shape=(None, 1) dtype=float32>, 'partner2_B': <tf.Tensor 'ExpandDims_106:0' shape=(None, 1) dtype=float32>, 'partner2_C': <tf.Tensor 'ExpandDims_107:0' shape=(None, 1) dtype=float32>, 'partner2_D': <tf.Tensor 'ExpandDims_108:0' shape=(None, 1) dtype=float32>, 'partner2_E': <tf.Tensor 'ExpandDims_109:0' shape=(None, 1) dtype=float32>, 'partner2_F': <tf.Tensor 'ExpandDims_110:0' shape=(None, 1) dtype=float32>, 'partner2_G': <tf.Tensor 'ExpandDims_111:0' shape=(None, 1) dtype=float32>, 'partner2_H': <tf.Tensor 'ExpandDims_112:0' shape=(None, 1) dtype=float32>, 'partner2_K': <tf.Tensor 'ExpandDims_113:0' shape=(None, 1) dtype=float32>, 'partner2_L': <tf.Tensor 'ExpandDims_114:0' shape=(None, 1) dtype=float32>, 'partner3_A': <tf.Tensor 'ExpandDims_115:0' shape=(None, 1) dtype=float32>, 'partner3_B': <tf.Tensor 'ExpandDims_116:0' shape=(None, 1) dtype=float32>, 'partner3_C': <tf.Tensor 'ExpandDims_117:0' shape=(None, 1) dtype=float32>, 'partner3_D': <tf.Tensor 'ExpandDims_118:0' shape=(None, 1) dtype=float32>, 'partner3_E': <tf.Tensor 'ExpandDims_119:0' shape=(None, 1) dtype=float32>, 'partner3_F': <tf.Tensor 'ExpandDims_120:0' shape=(None, 1) dtype=float32>, 'partner3_G': <tf.Tensor 'ExpandDims_121:0' shape=(None, 1) dtype=float32>, 'partner3_H': <tf.Tensor 'ExpandDims_122:0' shape=(None, 1) dtype=float32>, 'partner3_K': <tf.Tensor 'ExpandDims_123:0' shape=(None, 1) dtype=float32>, 'partner3_L': <tf.Tensor 'ExpandDims_124:0' shape=(None, 1) dtype=float32>, 'partner4_A': <tf.Tensor 'ExpandDims_125:0' shape=(None, 1) dtype=float32>, 'partner4_B': <tf.Tensor 'ExpandDims_126:0' shape=(None, 1) dtype=float32>, 'partner4_C': <tf.Tensor 'ExpandDims_127:0' shape=(None, 1) dtype=float32>, 'partner4_D': <tf.Tensor 'ExpandDims_128:0' shape=(None, 1) dtype=float32>, 'partner4_E': <tf.Tensor 'ExpandDims_129:0' shape=(None, 1) dtype=float32>, 'partner4_F': <tf.Tensor 'ExpandDims_130:0' shape=(None, 1) dtype=float32>, 'partner4_G': <tf.Tensor 'ExpandDims_131:0' shape=(None, 1) dtype=float32>, 'partner4_H': <tf.Tensor 'ExpandDims_132:0' shape=(None, 1) dtype=float32>, 'partner4_K': <tf.Tensor 'ExpandDims_133:0' shape=(None, 1) dtype=float32>, 'partner4_L': <tf.Tensor 'ExpandDims_134:0' shape=(None, 1) dtype=float32>, 'partner5_A': <tf.Tensor 'ExpandDims_135:0' shape=(None, 1) dtype=float32>, 'partner5_B': <tf.Tensor 'ExpandDims_136:0' shape=(None, 1) dtype=float32>, 'partner5_C': <tf.Tensor 'ExpandDims_137:0' shape=(None, 1) dtype=float32>, 'partner5_D': <tf.Tensor 'ExpandDims_138:0' shape=(None, 1) dtype=float32>, 'partner5_E': <tf.Tensor 'ExpandDims_139:0' shape=(None, 1) dtype=float32>, 'partner5_F': <tf.Tensor 'ExpandDims_140:0' shape=(None, 1) dtype=float32>, 'partner5_G': <tf.Tensor 'ExpandDims_141:0' shape=(None, 1) dtype=float32>, 'partner5_H': <tf.Tensor 'ExpandDims_142:0' shape=(None, 1) dtype=float32>, 'partner5_K': <tf.Tensor 'ExpandDims_143:0' shape=(None, 1) dtype=float32>, 'partner5_L': <tf.Tensor 'ExpandDims_144:0' shape=(None, 1) dtype=float32>, 'Field_3': <tf.Tensor 'ExpandDims_23:0' shape=(None, 1) dtype=float32>, 'Field_19': <tf.Tensor 'ExpandDims_13:0' shape=(None, 1) dtype=float32>, 'Field_20': <tf.Tensor 'ExpandDims_14:0' shape=(None, 1) dtype=float32>, 'Field_21': <tf.Tensor 'ExpandDims_15:0' shape=(None, 1) dtype=float32>, 'Field_22': <tf.Tensor 'ExpandDims_16:0' shape=(None, 1) dtype=float32>, 'Field_23': <tf.Tensor 'ExpandDims_17:0' shape=(None, 1) dtype=float32>, 'Field_27': <tf.Tensor 'ExpandDims_20:0' shape=(None, 1) dtype=float32>, 'Field_28': <tf.Tensor 'ExpandDims_21:0' shape=(None, 1) dtype=float32>, 'Field_29': <tf.Tensor 'ExpandDims_22:0' shape=(None, 1) dtype=float32>, 'namSinh': <tf.Tensor 'ExpandDims_82:0' shape=(None, 1) dtype=float32>, 'Field_58': <tf.Tensor 'ExpandDims_41:0' shape=(None, 1) dtype=float32>, 'Field_59': <tf.Tensor 'ExpandDims_42:0' shape=(None, 1) dtype=float32>, 'Field_60': <tf.Tensor 'ExpandDims_43:0' shape=(None, 1) dtype=float32>, 'Field_63': <tf.Tensor 'ExpandDims_46:0' shape=(None, 1) dtype=float32>, 'Field_64': <tf.Tensor 'ExpandDims_47:0' shape=(None, 1) dtype=float32>, 'Field_67': <tf.Tensor 'ExpandDims_50:0' shape=(None, 1) dtype=float32>, 'Field_69': <tf.Tensor 'ExpandDims_51:0' shape=(None, 1) dtype=float32>, 'Field_70': <tf.Tensor 'ExpandDims_52:0' shape=(None, 1) dtype=float32>, 'Field_71': <tf.Tensor 'ExpandDims_53:0' shape=(None, 1) dtype=float32>, 'Field_72': <tf.Tensor 'ExpandDims_54:0' shape=(None, 1) dtype=float32>, 'Field_74': <tf.Tensor 'ExpandDims_56:0' shape=(None, 1) dtype=float32>, 'Field_75': <tf.Tensor 'ExpandDims_57:0' shape=(None, 1) dtype=float32>, 'Field_76': <tf.Tensor 'ExpandDims_58:0' shape=(None, 1) dtype=float32>, 'Field_77': <tf.Tensor 'ExpandDims_59:0' shape=(None, 1) dtype=float32>, 'friendCount': <tf.Tensor 'ExpandDims_74:0' shape=(None, 1) dtype=float32>, 'subscriberCount': <tf.Tensor 'ExpandDims_145:0' shape=(None, 1) dtype=float32>, 'currentLocationLocationId': <tf.Tensor 'ExpandDims_70:0' shape=(None, 1) dtype=float32>, 'currentLocationLatitude': <tf.Tensor 'ExpandDims_69:0' shape=(None, 1) dtype=float32>, 'currentLocationLongitude': <tf.Tensor 'ExpandDims_71:0' shape=(None, 1) dtype=float32>, 'homeTownLocationId': <tf.Tensor 'ExpandDims_78:0' shape=(None, 1) dtype=float32>, 'homeTownLatitude': <tf.Tensor 'ExpandDims_77:0' shape=(None, 1) dtype=float32>, 'homeTownLongitude': <tf.Tensor 'ExpandDims_79:0' shape=(None, 1) dtype=float32>, 'topFriends': <tf.Tensor 'ExpandDims_150:0' shape=(None, 1) dtype=float32>, 'numOrg': <tf.Tensor 'ExpandDims_83:0' shape=(None, 1) dtype=float32>, 'F_numOrg': <tf.Tensor 'ExpandDims_6:0' shape=(None, 1) dtype=float32>, 'F_numQuery': <tf.Tensor 'ExpandDims_7:0' shape=(None, 1) dtype=float32>, 'E_numOrg': <tf.Tensor 'ExpandDims_4:0' shape=(None, 1) dtype=float32>, 'E_numQuery': <tf.Tensor 'ExpandDims_5:0' shape=(None, 1) dtype=float32>, 'C_numOrg': <tf.Tensor 'ExpandDims_2:0' shape=(None, 1) dtype=float32>, 'C_numQuery': <tf.Tensor 'ExpandDims_3:0' shape=(None, 1) dtype=float32>, 'G_numOrg': <tf.Tensor 'ExpandDims_65:0' shape=(None, 1) dtype=float32>, 'G_numQuery': <tf.Tensor 'ExpandDims_66:0' shape=(None, 1) dtype=float32>, 'A_numOrg': <tf.Tensor 'ExpandDims:0' shape=(None, 1) dtype=float32>, 'A_numQuery': <tf.Tensor 'ExpandDims_1:0' shape=(None, 1) dtype=float32>, 'summary_6m': <tf.Tensor 'ExpandDims_149:0' shape=(None, 1) dtype=float32>, 'summary_3m': <tf.Tensor 'ExpandDims_148:0' shape=(None, 1) dtype=float32>, 'summary_1m': <tf.Tensor 'ExpandDims_146:0' shape=(None, 1) dtype=float32>, 'summary_1w': <tf.Tensor 'ExpandDims_147:0' shape=(None, 1) dtype=float32>, 'num_of_phone': <tf.Tensor 'ExpandDims_84:0' shape=(None, 1) dtype=float32>, 'Field_78': <tf.Tensor 'ExpandDims_60:0' shape=(None, 1) dtype=float32>, 'Field_79': <tf.Tensor 'ExpandDims_61:0' shape=(None, 1) dtype=float32>, 'Field_80': <tf.Tensor 'ExpandDims_62:0' shape=(None, 1) dtype=float32>, 'Field_81': <tf.Tensor 'ExpandDims_63:0' shape=(None, 1) dtype=float32>, 'Field_82': <tf.Tensor 'ExpandDims_64:0' shape=(None, 1) dtype=int32>, 'Field_4': <tf.Tensor 'ExpandDims_30:0' shape=(None, 1) dtype=string>, 'Field_12': <tf.Tensor 'ExpandDims_8:0' shape=(None, 1) dtype=string>, 'gioiTinh': <tf.Tensor 'ExpandDims_75:0' shape=(None, 1) dtype=string>, 'Field_36': <tf.Tensor 'ExpandDims_26:0' shape=(None, 1) dtype=string>, 'Field_38': <tf.Tensor 'ExpandDims_28:0' shape=(None, 1) dtype=string>, 'Field_47': <tf.Tensor 'ExpandDims_33:0' shape=(None, 1) dtype=string>, 'Field_54': <tf.Tensor 'ExpandDims_38:0' shape=(None, 1) dtype=string>, 'Field_55': <tf.Tensor 'ExpandDims_39:0' shape=(None, 1) dtype=string>, 'Field_61': <tf.Tensor 'ExpandDims_44:0' shape=(None, 1) dtype=string>, 'Field_62': <tf.Tensor 'ExpandDims_45:0' shape=(None, 1) dtype=string>, 'Field_65': <tf.Tensor 'ExpandDims_48:0' shape=(None, 1) dtype=string>, 'Field_66': <tf.Tensor 'ExpandDims_49:0' shape=(None, 1) dtype=string>, 'info_social_sex': <tf.Tensor 'ExpandDims_81:0' shape=(None, 1) dtype=string>, 'data.basic_info.locale': <tf.Tensor 'ExpandDims_73:0' shape=(None, 1) dtype=string>, 'currentLocationCountry': <tf.Tensor 'ExpandDims_68:0' shape=(None, 1) dtype=string>, 'currentLocationState': <tf.Tensor 'ExpandDims_72:0' shape=(None, 1) dtype=string>, 'homeTownCountry': <tf.Tensor 'ExpandDims_76:0' shape=(None, 1) dtype=string>, 'homeTownState': <tf.Tensor 'ExpandDims_80:0' shape=(None, 1) dtype=string>, 'brief': <tf.Tensor 'ExpandDims_67:0' shape=(None, 1) dtype=string>}\n",
            "Consider rewriting this model with the Functional API.\n",
            "3742/7425 [==============>...............] - ETA: 26s - loss: 32572850176.0000 - acc: 0.6086 - auc_12: 0.5373"
          ],
          "name": "stdout"
        },
        {
          "output_type": "error",
          "ename": "KeyboardInterrupt",
          "evalue": "ignored",
          "traceback": [
            "\u001b[0;31m---------------------------------------------------------------------------\u001b[0m",
            "\u001b[0;31mKeyboardInterrupt\u001b[0m                         Traceback (most recent call last)",
            "\u001b[0;32m<ipython-input-172-d0a61264fa39>\u001b[0m in \u001b[0;36m<module>\u001b[0;34m()\u001b[0m\n\u001b[1;32m      1\u001b[0m history = nets_2.fit( train_ds , epochs = 10\n\u001b[0;32m----> 2\u001b[0;31m                     , validation_data = test_ds)\n\u001b[0m",
            "\u001b[0;32m/usr/local/lib/python3.6/dist-packages/tensorflow/python/keras/engine/training.py\u001b[0m in \u001b[0;36m_method_wrapper\u001b[0;34m(self, *args, **kwargs)\u001b[0m\n\u001b[1;32m    106\u001b[0m   \u001b[0;32mdef\u001b[0m \u001b[0m_method_wrapper\u001b[0m\u001b[0;34m(\u001b[0m\u001b[0mself\u001b[0m\u001b[0;34m,\u001b[0m \u001b[0;34m*\u001b[0m\u001b[0margs\u001b[0m\u001b[0;34m,\u001b[0m \u001b[0;34m**\u001b[0m\u001b[0mkwargs\u001b[0m\u001b[0;34m)\u001b[0m\u001b[0;34m:\u001b[0m\u001b[0;34m\u001b[0m\u001b[0;34m\u001b[0m\u001b[0m\n\u001b[1;32m    107\u001b[0m     \u001b[0;32mif\u001b[0m \u001b[0;32mnot\u001b[0m \u001b[0mself\u001b[0m\u001b[0;34m.\u001b[0m\u001b[0m_in_multi_worker_mode\u001b[0m\u001b[0;34m(\u001b[0m\u001b[0;34m)\u001b[0m\u001b[0;34m:\u001b[0m  \u001b[0;31m# pylint: disable=protected-access\u001b[0m\u001b[0;34m\u001b[0m\u001b[0;34m\u001b[0m\u001b[0m\n\u001b[0;32m--> 108\u001b[0;31m       \u001b[0;32mreturn\u001b[0m \u001b[0mmethod\u001b[0m\u001b[0;34m(\u001b[0m\u001b[0mself\u001b[0m\u001b[0;34m,\u001b[0m \u001b[0;34m*\u001b[0m\u001b[0margs\u001b[0m\u001b[0;34m,\u001b[0m \u001b[0;34m**\u001b[0m\u001b[0mkwargs\u001b[0m\u001b[0;34m)\u001b[0m\u001b[0;34m\u001b[0m\u001b[0;34m\u001b[0m\u001b[0m\n\u001b[0m\u001b[1;32m    109\u001b[0m \u001b[0;34m\u001b[0m\u001b[0m\n\u001b[1;32m    110\u001b[0m     \u001b[0;31m# Running inside `run_distribute_coordinator` already.\u001b[0m\u001b[0;34m\u001b[0m\u001b[0;34m\u001b[0m\u001b[0;34m\u001b[0m\u001b[0m\n",
            "\u001b[0;32m/usr/local/lib/python3.6/dist-packages/tensorflow/python/keras/engine/training.py\u001b[0m in \u001b[0;36mfit\u001b[0;34m(self, x, y, batch_size, epochs, verbose, callbacks, validation_split, validation_data, shuffle, class_weight, sample_weight, initial_epoch, steps_per_epoch, validation_steps, validation_batch_size, validation_freq, max_queue_size, workers, use_multiprocessing)\u001b[0m\n\u001b[1;32m   1096\u001b[0m                 batch_size=batch_size):\n\u001b[1;32m   1097\u001b[0m               \u001b[0mcallbacks\u001b[0m\u001b[0;34m.\u001b[0m\u001b[0mon_train_batch_begin\u001b[0m\u001b[0;34m(\u001b[0m\u001b[0mstep\u001b[0m\u001b[0;34m)\u001b[0m\u001b[0;34m\u001b[0m\u001b[0;34m\u001b[0m\u001b[0m\n\u001b[0;32m-> 1098\u001b[0;31m               \u001b[0mtmp_logs\u001b[0m \u001b[0;34m=\u001b[0m \u001b[0mtrain_function\u001b[0m\u001b[0;34m(\u001b[0m\u001b[0miterator\u001b[0m\u001b[0;34m)\u001b[0m\u001b[0;34m\u001b[0m\u001b[0;34m\u001b[0m\u001b[0m\n\u001b[0m\u001b[1;32m   1099\u001b[0m               \u001b[0;32mif\u001b[0m \u001b[0mdata_handler\u001b[0m\u001b[0;34m.\u001b[0m\u001b[0mshould_sync\u001b[0m\u001b[0;34m:\u001b[0m\u001b[0;34m\u001b[0m\u001b[0;34m\u001b[0m\u001b[0m\n\u001b[1;32m   1100\u001b[0m                 \u001b[0mcontext\u001b[0m\u001b[0;34m.\u001b[0m\u001b[0masync_wait\u001b[0m\u001b[0;34m(\u001b[0m\u001b[0;34m)\u001b[0m\u001b[0;34m\u001b[0m\u001b[0;34m\u001b[0m\u001b[0m\n",
            "\u001b[0;32m/usr/local/lib/python3.6/dist-packages/tensorflow/python/eager/def_function.py\u001b[0m in \u001b[0;36m__call__\u001b[0;34m(self, *args, **kwds)\u001b[0m\n\u001b[1;32m    778\u001b[0m       \u001b[0;32melse\u001b[0m\u001b[0;34m:\u001b[0m\u001b[0;34m\u001b[0m\u001b[0;34m\u001b[0m\u001b[0m\n\u001b[1;32m    779\u001b[0m         \u001b[0mcompiler\u001b[0m \u001b[0;34m=\u001b[0m \u001b[0;34m\"nonXla\"\u001b[0m\u001b[0;34m\u001b[0m\u001b[0;34m\u001b[0m\u001b[0m\n\u001b[0;32m--> 780\u001b[0;31m         \u001b[0mresult\u001b[0m \u001b[0;34m=\u001b[0m \u001b[0mself\u001b[0m\u001b[0;34m.\u001b[0m\u001b[0m_call\u001b[0m\u001b[0;34m(\u001b[0m\u001b[0;34m*\u001b[0m\u001b[0margs\u001b[0m\u001b[0;34m,\u001b[0m \u001b[0;34m**\u001b[0m\u001b[0mkwds\u001b[0m\u001b[0;34m)\u001b[0m\u001b[0;34m\u001b[0m\u001b[0;34m\u001b[0m\u001b[0m\n\u001b[0m\u001b[1;32m    781\u001b[0m \u001b[0;34m\u001b[0m\u001b[0m\n\u001b[1;32m    782\u001b[0m       \u001b[0mnew_tracing_count\u001b[0m \u001b[0;34m=\u001b[0m \u001b[0mself\u001b[0m\u001b[0;34m.\u001b[0m\u001b[0m_get_tracing_count\u001b[0m\u001b[0;34m(\u001b[0m\u001b[0;34m)\u001b[0m\u001b[0;34m\u001b[0m\u001b[0;34m\u001b[0m\u001b[0m\n",
            "\u001b[0;32m/usr/local/lib/python3.6/dist-packages/tensorflow/python/eager/def_function.py\u001b[0m in \u001b[0;36m_call\u001b[0;34m(self, *args, **kwds)\u001b[0m\n\u001b[1;32m    805\u001b[0m       \u001b[0;31m# In this case we have created variables on the first call, so we run the\u001b[0m\u001b[0;34m\u001b[0m\u001b[0;34m\u001b[0m\u001b[0;34m\u001b[0m\u001b[0m\n\u001b[1;32m    806\u001b[0m       \u001b[0;31m# defunned version which is guaranteed to never create variables.\u001b[0m\u001b[0;34m\u001b[0m\u001b[0;34m\u001b[0m\u001b[0;34m\u001b[0m\u001b[0m\n\u001b[0;32m--> 807\u001b[0;31m       \u001b[0;32mreturn\u001b[0m \u001b[0mself\u001b[0m\u001b[0;34m.\u001b[0m\u001b[0m_stateless_fn\u001b[0m\u001b[0;34m(\u001b[0m\u001b[0;34m*\u001b[0m\u001b[0margs\u001b[0m\u001b[0;34m,\u001b[0m \u001b[0;34m**\u001b[0m\u001b[0mkwds\u001b[0m\u001b[0;34m)\u001b[0m  \u001b[0;31m# pylint: disable=not-callable\u001b[0m\u001b[0;34m\u001b[0m\u001b[0;34m\u001b[0m\u001b[0m\n\u001b[0m\u001b[1;32m    808\u001b[0m     \u001b[0;32melif\u001b[0m \u001b[0mself\u001b[0m\u001b[0;34m.\u001b[0m\u001b[0m_stateful_fn\u001b[0m \u001b[0;32mis\u001b[0m \u001b[0;32mnot\u001b[0m \u001b[0;32mNone\u001b[0m\u001b[0;34m:\u001b[0m\u001b[0;34m\u001b[0m\u001b[0;34m\u001b[0m\u001b[0m\n\u001b[1;32m    809\u001b[0m       \u001b[0;31m# Release the lock early so that multiple threads can perform the call\u001b[0m\u001b[0;34m\u001b[0m\u001b[0;34m\u001b[0m\u001b[0;34m\u001b[0m\u001b[0m\n",
            "\u001b[0;32m/usr/local/lib/python3.6/dist-packages/tensorflow/python/eager/function.py\u001b[0m in \u001b[0;36m__call__\u001b[0;34m(self, *args, **kwargs)\u001b[0m\n\u001b[1;32m   2826\u001b[0m     \u001b[0;34m\"\"\"Calls a graph function specialized to the inputs.\"\"\"\u001b[0m\u001b[0;34m\u001b[0m\u001b[0;34m\u001b[0m\u001b[0m\n\u001b[1;32m   2827\u001b[0m     \u001b[0;32mwith\u001b[0m \u001b[0mself\u001b[0m\u001b[0;34m.\u001b[0m\u001b[0m_lock\u001b[0m\u001b[0;34m:\u001b[0m\u001b[0;34m\u001b[0m\u001b[0;34m\u001b[0m\u001b[0m\n\u001b[0;32m-> 2828\u001b[0;31m       \u001b[0mgraph_function\u001b[0m\u001b[0;34m,\u001b[0m \u001b[0margs\u001b[0m\u001b[0;34m,\u001b[0m \u001b[0mkwargs\u001b[0m \u001b[0;34m=\u001b[0m \u001b[0mself\u001b[0m\u001b[0;34m.\u001b[0m\u001b[0m_maybe_define_function\u001b[0m\u001b[0;34m(\u001b[0m\u001b[0margs\u001b[0m\u001b[0;34m,\u001b[0m \u001b[0mkwargs\u001b[0m\u001b[0;34m)\u001b[0m\u001b[0;34m\u001b[0m\u001b[0;34m\u001b[0m\u001b[0m\n\u001b[0m\u001b[1;32m   2829\u001b[0m     \u001b[0;32mreturn\u001b[0m \u001b[0mgraph_function\u001b[0m\u001b[0;34m.\u001b[0m\u001b[0m_filtered_call\u001b[0m\u001b[0;34m(\u001b[0m\u001b[0margs\u001b[0m\u001b[0;34m,\u001b[0m \u001b[0mkwargs\u001b[0m\u001b[0;34m)\u001b[0m  \u001b[0;31m# pylint: disable=protected-access\u001b[0m\u001b[0;34m\u001b[0m\u001b[0;34m\u001b[0m\u001b[0m\n\u001b[1;32m   2830\u001b[0m \u001b[0;34m\u001b[0m\u001b[0m\n",
            "\u001b[0;32m/usr/local/lib/python3.6/dist-packages/tensorflow/python/eager/function.py\u001b[0m in \u001b[0;36m_maybe_define_function\u001b[0;34m(self, args, kwargs)\u001b[0m\n\u001b[1;32m   3180\u001b[0m           \" hashable.  Original error: %s\" % e)\n\u001b[1;32m   3181\u001b[0m \u001b[0;34m\u001b[0m\u001b[0m\n\u001b[0;32m-> 3182\u001b[0;31m     \u001b[0mgraph_function\u001b[0m \u001b[0;34m=\u001b[0m \u001b[0mself\u001b[0m\u001b[0;34m.\u001b[0m\u001b[0m_function_cache\u001b[0m\u001b[0;34m.\u001b[0m\u001b[0mprimary\u001b[0m\u001b[0;34m.\u001b[0m\u001b[0mget\u001b[0m\u001b[0;34m(\u001b[0m\u001b[0mcache_key\u001b[0m\u001b[0;34m,\u001b[0m \u001b[0;32mNone\u001b[0m\u001b[0;34m)\u001b[0m\u001b[0;34m\u001b[0m\u001b[0;34m\u001b[0m\u001b[0m\n\u001b[0m\u001b[1;32m   3183\u001b[0m     \u001b[0;32mif\u001b[0m \u001b[0mgraph_function\u001b[0m \u001b[0;32mis\u001b[0m \u001b[0;32mnot\u001b[0m \u001b[0;32mNone\u001b[0m\u001b[0;34m:\u001b[0m\u001b[0;34m\u001b[0m\u001b[0;34m\u001b[0m\u001b[0m\n\u001b[1;32m   3184\u001b[0m       \u001b[0;32mreturn\u001b[0m \u001b[0mgraph_function\u001b[0m\u001b[0;34m,\u001b[0m \u001b[0margs\u001b[0m\u001b[0;34m,\u001b[0m \u001b[0mkwargs\u001b[0m\u001b[0;34m\u001b[0m\u001b[0;34m\u001b[0m\u001b[0m\n",
            "\u001b[0;32m/usr/local/lib/python3.6/dist-packages/tensorflow/python/framework/type_spec.py\u001b[0m in \u001b[0;36m__eq__\u001b[0;34m(self, other)\u001b[0m\n\u001b[1;32m    294\u001b[0m     \u001b[0;31m# pylint: disable=protected-access\u001b[0m\u001b[0;34m\u001b[0m\u001b[0;34m\u001b[0m\u001b[0;34m\u001b[0m\u001b[0m\n\u001b[1;32m    295\u001b[0m     return (type(other) is type(self) and\n\u001b[0;32m--> 296\u001b[0;31m             self.__get_cmp_key() == other.__get_cmp_key())\n\u001b[0m\u001b[1;32m    297\u001b[0m \u001b[0;34m\u001b[0m\u001b[0m\n\u001b[1;32m    298\u001b[0m   \u001b[0;32mdef\u001b[0m \u001b[0m__ne__\u001b[0m\u001b[0;34m(\u001b[0m\u001b[0mself\u001b[0m\u001b[0;34m,\u001b[0m \u001b[0mother\u001b[0m\u001b[0;34m)\u001b[0m\u001b[0;34m:\u001b[0m\u001b[0;34m\u001b[0m\u001b[0;34m\u001b[0m\u001b[0m\n",
            "\u001b[0;32m/usr/local/lib/python3.6/dist-packages/tensorflow/python/framework/type_spec.py\u001b[0m in \u001b[0;36m__get_cmp_key\u001b[0;34m(self)\u001b[0m\n\u001b[1;32m    338\u001b[0m     \u001b[0;34m\"\"\"Returns a hashable eq-comparable key for `self`.\"\"\"\u001b[0m\u001b[0;34m\u001b[0m\u001b[0;34m\u001b[0m\u001b[0m\n\u001b[1;32m    339\u001b[0m     \u001b[0;31m# TODO(b/133606651): Decide whether to cache this value.\u001b[0m\u001b[0;34m\u001b[0m\u001b[0;34m\u001b[0m\u001b[0;34m\u001b[0m\u001b[0m\n\u001b[0;32m--> 340\u001b[0;31m     \u001b[0;32mreturn\u001b[0m \u001b[0;34m(\u001b[0m\u001b[0mtype\u001b[0m\u001b[0;34m(\u001b[0m\u001b[0mself\u001b[0m\u001b[0;34m)\u001b[0m\u001b[0;34m,\u001b[0m \u001b[0mself\u001b[0m\u001b[0;34m.\u001b[0m\u001b[0m__make_cmp_key\u001b[0m\u001b[0;34m(\u001b[0m\u001b[0mself\u001b[0m\u001b[0;34m.\u001b[0m\u001b[0m_serialize\u001b[0m\u001b[0;34m(\u001b[0m\u001b[0;34m)\u001b[0m\u001b[0;34m)\u001b[0m\u001b[0;34m)\u001b[0m\u001b[0;34m\u001b[0m\u001b[0;34m\u001b[0m\u001b[0m\n\u001b[0m\u001b[1;32m    341\u001b[0m \u001b[0;34m\u001b[0m\u001b[0m\n\u001b[1;32m    342\u001b[0m   \u001b[0;32mdef\u001b[0m \u001b[0m__make_cmp_key\u001b[0m\u001b[0;34m(\u001b[0m\u001b[0mself\u001b[0m\u001b[0;34m,\u001b[0m \u001b[0mvalue\u001b[0m\u001b[0;34m)\u001b[0m\u001b[0;34m:\u001b[0m\u001b[0;34m\u001b[0m\u001b[0;34m\u001b[0m\u001b[0m\n",
            "\u001b[0;32m/usr/local/lib/python3.6/dist-packages/tensorflow/python/framework/type_spec.py\u001b[0m in \u001b[0;36m__make_cmp_key\u001b[0;34m(self, value)\u001b[0m\n\u001b[1;32m    355\u001b[0m       ])\n\u001b[1;32m    356\u001b[0m     \u001b[0;32mif\u001b[0m \u001b[0misinstance\u001b[0m\u001b[0;34m(\u001b[0m\u001b[0mvalue\u001b[0m\u001b[0;34m,\u001b[0m \u001b[0mtuple\u001b[0m\u001b[0;34m)\u001b[0m\u001b[0;34m:\u001b[0m\u001b[0;34m\u001b[0m\u001b[0;34m\u001b[0m\u001b[0m\n\u001b[0;32m--> 357\u001b[0;31m       \u001b[0;32mreturn\u001b[0m \u001b[0mtuple\u001b[0m\u001b[0;34m(\u001b[0m\u001b[0;34m[\u001b[0m\u001b[0mself\u001b[0m\u001b[0;34m.\u001b[0m\u001b[0m__make_cmp_key\u001b[0m\u001b[0;34m(\u001b[0m\u001b[0mv\u001b[0m\u001b[0;34m)\u001b[0m \u001b[0;32mfor\u001b[0m \u001b[0mv\u001b[0m \u001b[0;32min\u001b[0m \u001b[0mvalue\u001b[0m\u001b[0;34m]\u001b[0m\u001b[0;34m)\u001b[0m\u001b[0;34m\u001b[0m\u001b[0;34m\u001b[0m\u001b[0m\n\u001b[0m\u001b[1;32m    358\u001b[0m     \u001b[0;32mif\u001b[0m \u001b[0misinstance\u001b[0m\u001b[0;34m(\u001b[0m\u001b[0mvalue\u001b[0m\u001b[0;34m,\u001b[0m \u001b[0mlist\u001b[0m\u001b[0;34m)\u001b[0m\u001b[0;34m:\u001b[0m\u001b[0;34m\u001b[0m\u001b[0;34m\u001b[0m\u001b[0m\n\u001b[1;32m    359\u001b[0m       \u001b[0;32mreturn\u001b[0m \u001b[0;34m(\u001b[0m\u001b[0mlist\u001b[0m\u001b[0;34m,\u001b[0m \u001b[0mtuple\u001b[0m\u001b[0;34m(\u001b[0m\u001b[0;34m[\u001b[0m\u001b[0mself\u001b[0m\u001b[0;34m.\u001b[0m\u001b[0m__make_cmp_key\u001b[0m\u001b[0;34m(\u001b[0m\u001b[0mv\u001b[0m\u001b[0;34m)\u001b[0m \u001b[0;32mfor\u001b[0m \u001b[0mv\u001b[0m \u001b[0;32min\u001b[0m \u001b[0mvalue\u001b[0m\u001b[0;34m]\u001b[0m\u001b[0;34m)\u001b[0m\u001b[0;34m)\u001b[0m\u001b[0;34m\u001b[0m\u001b[0;34m\u001b[0m\u001b[0m\n",
            "\u001b[0;32m/usr/local/lib/python3.6/dist-packages/tensorflow/python/framework/type_spec.py\u001b[0m in \u001b[0;36m<listcomp>\u001b[0;34m(.0)\u001b[0m\n\u001b[1;32m    355\u001b[0m       ])\n\u001b[1;32m    356\u001b[0m     \u001b[0;32mif\u001b[0m \u001b[0misinstance\u001b[0m\u001b[0;34m(\u001b[0m\u001b[0mvalue\u001b[0m\u001b[0;34m,\u001b[0m \u001b[0mtuple\u001b[0m\u001b[0;34m)\u001b[0m\u001b[0;34m:\u001b[0m\u001b[0;34m\u001b[0m\u001b[0;34m\u001b[0m\u001b[0m\n\u001b[0;32m--> 357\u001b[0;31m       \u001b[0;32mreturn\u001b[0m \u001b[0mtuple\u001b[0m\u001b[0;34m(\u001b[0m\u001b[0;34m[\u001b[0m\u001b[0mself\u001b[0m\u001b[0;34m.\u001b[0m\u001b[0m__make_cmp_key\u001b[0m\u001b[0;34m(\u001b[0m\u001b[0mv\u001b[0m\u001b[0;34m)\u001b[0m \u001b[0;32mfor\u001b[0m \u001b[0mv\u001b[0m \u001b[0;32min\u001b[0m \u001b[0mvalue\u001b[0m\u001b[0;34m]\u001b[0m\u001b[0;34m)\u001b[0m\u001b[0;34m\u001b[0m\u001b[0;34m\u001b[0m\u001b[0m\n\u001b[0m\u001b[1;32m    358\u001b[0m     \u001b[0;32mif\u001b[0m \u001b[0misinstance\u001b[0m\u001b[0;34m(\u001b[0m\u001b[0mvalue\u001b[0m\u001b[0;34m,\u001b[0m \u001b[0mlist\u001b[0m\u001b[0;34m)\u001b[0m\u001b[0;34m:\u001b[0m\u001b[0;34m\u001b[0m\u001b[0;34m\u001b[0m\u001b[0m\n\u001b[1;32m    359\u001b[0m       \u001b[0;32mreturn\u001b[0m \u001b[0;34m(\u001b[0m\u001b[0mlist\u001b[0m\u001b[0;34m,\u001b[0m \u001b[0mtuple\u001b[0m\u001b[0;34m(\u001b[0m\u001b[0;34m[\u001b[0m\u001b[0mself\u001b[0m\u001b[0;34m.\u001b[0m\u001b[0m__make_cmp_key\u001b[0m\u001b[0;34m(\u001b[0m\u001b[0mv\u001b[0m\u001b[0;34m)\u001b[0m \u001b[0;32mfor\u001b[0m \u001b[0mv\u001b[0m \u001b[0;32min\u001b[0m \u001b[0mvalue\u001b[0m\u001b[0;34m]\u001b[0m\u001b[0;34m)\u001b[0m\u001b[0;34m)\u001b[0m\u001b[0;34m\u001b[0m\u001b[0;34m\u001b[0m\u001b[0m\n",
            "\u001b[0;32m/usr/local/lib/python3.6/dist-packages/tensorflow/python/framework/type_spec.py\u001b[0m in \u001b[0;36m__make_cmp_key\u001b[0;34m(self, value)\u001b[0m\n\u001b[1;32m    355\u001b[0m       ])\n\u001b[1;32m    356\u001b[0m     \u001b[0;32mif\u001b[0m \u001b[0misinstance\u001b[0m\u001b[0;34m(\u001b[0m\u001b[0mvalue\u001b[0m\u001b[0;34m,\u001b[0m \u001b[0mtuple\u001b[0m\u001b[0;34m)\u001b[0m\u001b[0;34m:\u001b[0m\u001b[0;34m\u001b[0m\u001b[0;34m\u001b[0m\u001b[0m\n\u001b[0;32m--> 357\u001b[0;31m       \u001b[0;32mreturn\u001b[0m \u001b[0mtuple\u001b[0m\u001b[0;34m(\u001b[0m\u001b[0;34m[\u001b[0m\u001b[0mself\u001b[0m\u001b[0;34m.\u001b[0m\u001b[0m__make_cmp_key\u001b[0m\u001b[0;34m(\u001b[0m\u001b[0mv\u001b[0m\u001b[0;34m)\u001b[0m \u001b[0;32mfor\u001b[0m \u001b[0mv\u001b[0m \u001b[0;32min\u001b[0m \u001b[0mvalue\u001b[0m\u001b[0;34m]\u001b[0m\u001b[0;34m)\u001b[0m\u001b[0;34m\u001b[0m\u001b[0;34m\u001b[0m\u001b[0m\n\u001b[0m\u001b[1;32m    358\u001b[0m     \u001b[0;32mif\u001b[0m \u001b[0misinstance\u001b[0m\u001b[0;34m(\u001b[0m\u001b[0mvalue\u001b[0m\u001b[0;34m,\u001b[0m \u001b[0mlist\u001b[0m\u001b[0;34m)\u001b[0m\u001b[0;34m:\u001b[0m\u001b[0;34m\u001b[0m\u001b[0;34m\u001b[0m\u001b[0m\n\u001b[1;32m    359\u001b[0m       \u001b[0;32mreturn\u001b[0m \u001b[0;34m(\u001b[0m\u001b[0mlist\u001b[0m\u001b[0;34m,\u001b[0m \u001b[0mtuple\u001b[0m\u001b[0;34m(\u001b[0m\u001b[0;34m[\u001b[0m\u001b[0mself\u001b[0m\u001b[0;34m.\u001b[0m\u001b[0m__make_cmp_key\u001b[0m\u001b[0;34m(\u001b[0m\u001b[0mv\u001b[0m\u001b[0;34m)\u001b[0m \u001b[0;32mfor\u001b[0m \u001b[0mv\u001b[0m \u001b[0;32min\u001b[0m \u001b[0mvalue\u001b[0m\u001b[0;34m]\u001b[0m\u001b[0;34m)\u001b[0m\u001b[0;34m)\u001b[0m\u001b[0;34m\u001b[0m\u001b[0;34m\u001b[0m\u001b[0m\n",
            "\u001b[0;32m/usr/local/lib/python3.6/dist-packages/tensorflow/python/framework/type_spec.py\u001b[0m in \u001b[0;36m<listcomp>\u001b[0;34m(.0)\u001b[0m\n\u001b[1;32m    355\u001b[0m       ])\n\u001b[1;32m    356\u001b[0m     \u001b[0;32mif\u001b[0m \u001b[0misinstance\u001b[0m\u001b[0;34m(\u001b[0m\u001b[0mvalue\u001b[0m\u001b[0;34m,\u001b[0m \u001b[0mtuple\u001b[0m\u001b[0;34m)\u001b[0m\u001b[0;34m:\u001b[0m\u001b[0;34m\u001b[0m\u001b[0;34m\u001b[0m\u001b[0m\n\u001b[0;32m--> 357\u001b[0;31m       \u001b[0;32mreturn\u001b[0m \u001b[0mtuple\u001b[0m\u001b[0;34m(\u001b[0m\u001b[0;34m[\u001b[0m\u001b[0mself\u001b[0m\u001b[0;34m.\u001b[0m\u001b[0m__make_cmp_key\u001b[0m\u001b[0;34m(\u001b[0m\u001b[0mv\u001b[0m\u001b[0;34m)\u001b[0m \u001b[0;32mfor\u001b[0m \u001b[0mv\u001b[0m \u001b[0;32min\u001b[0m \u001b[0mvalue\u001b[0m\u001b[0;34m]\u001b[0m\u001b[0;34m)\u001b[0m\u001b[0;34m\u001b[0m\u001b[0;34m\u001b[0m\u001b[0m\n\u001b[0m\u001b[1;32m    358\u001b[0m     \u001b[0;32mif\u001b[0m \u001b[0misinstance\u001b[0m\u001b[0;34m(\u001b[0m\u001b[0mvalue\u001b[0m\u001b[0;34m,\u001b[0m \u001b[0mlist\u001b[0m\u001b[0;34m)\u001b[0m\u001b[0;34m:\u001b[0m\u001b[0;34m\u001b[0m\u001b[0;34m\u001b[0m\u001b[0m\n\u001b[1;32m    359\u001b[0m       \u001b[0;32mreturn\u001b[0m \u001b[0;34m(\u001b[0m\u001b[0mlist\u001b[0m\u001b[0;34m,\u001b[0m \u001b[0mtuple\u001b[0m\u001b[0;34m(\u001b[0m\u001b[0;34m[\u001b[0m\u001b[0mself\u001b[0m\u001b[0;34m.\u001b[0m\u001b[0m__make_cmp_key\u001b[0m\u001b[0;34m(\u001b[0m\u001b[0mv\u001b[0m\u001b[0;34m)\u001b[0m \u001b[0;32mfor\u001b[0m \u001b[0mv\u001b[0m \u001b[0;32min\u001b[0m \u001b[0mvalue\u001b[0m\u001b[0;34m]\u001b[0m\u001b[0;34m)\u001b[0m\u001b[0;34m)\u001b[0m\u001b[0;34m\u001b[0m\u001b[0;34m\u001b[0m\u001b[0m\n",
            "\u001b[0;32m/usr/local/lib/python3.6/dist-packages/tensorflow/python/framework/type_spec.py\u001b[0m in \u001b[0;36m__make_cmp_key\u001b[0;34m(self, value)\u001b[0m\n\u001b[1;32m    352\u001b[0m           tuple([self.__make_cmp_key(key),\n\u001b[1;32m    353\u001b[0m                  self.__make_cmp_key(value[key])])\n\u001b[0;32m--> 354\u001b[0;31m           \u001b[0;32mfor\u001b[0m \u001b[0mkey\u001b[0m \u001b[0;32min\u001b[0m \u001b[0msorted\u001b[0m\u001b[0;34m(\u001b[0m\u001b[0mvalue\u001b[0m\u001b[0;34m.\u001b[0m\u001b[0mkeys\u001b[0m\u001b[0;34m(\u001b[0m\u001b[0;34m)\u001b[0m\u001b[0;34m)\u001b[0m\u001b[0;34m\u001b[0m\u001b[0;34m\u001b[0m\u001b[0m\n\u001b[0m\u001b[1;32m    355\u001b[0m       ])\n\u001b[1;32m    356\u001b[0m     \u001b[0;32mif\u001b[0m \u001b[0misinstance\u001b[0m\u001b[0;34m(\u001b[0m\u001b[0mvalue\u001b[0m\u001b[0;34m,\u001b[0m \u001b[0mtuple\u001b[0m\u001b[0;34m)\u001b[0m\u001b[0;34m:\u001b[0m\u001b[0;34m\u001b[0m\u001b[0;34m\u001b[0m\u001b[0m\n",
            "\u001b[0;32m/usr/local/lib/python3.6/dist-packages/tensorflow/python/framework/type_spec.py\u001b[0m in \u001b[0;36m<listcomp>\u001b[0;34m(.0)\u001b[0m\n\u001b[1;32m    352\u001b[0m           tuple([self.__make_cmp_key(key),\n\u001b[1;32m    353\u001b[0m                  self.__make_cmp_key(value[key])])\n\u001b[0;32m--> 354\u001b[0;31m           \u001b[0;32mfor\u001b[0m \u001b[0mkey\u001b[0m \u001b[0;32min\u001b[0m \u001b[0msorted\u001b[0m\u001b[0;34m(\u001b[0m\u001b[0mvalue\u001b[0m\u001b[0;34m.\u001b[0m\u001b[0mkeys\u001b[0m\u001b[0;34m(\u001b[0m\u001b[0;34m)\u001b[0m\u001b[0;34m)\u001b[0m\u001b[0;34m\u001b[0m\u001b[0;34m\u001b[0m\u001b[0m\n\u001b[0m\u001b[1;32m    355\u001b[0m       ])\n\u001b[1;32m    356\u001b[0m     \u001b[0;32mif\u001b[0m \u001b[0misinstance\u001b[0m\u001b[0;34m(\u001b[0m\u001b[0mvalue\u001b[0m\u001b[0;34m,\u001b[0m \u001b[0mtuple\u001b[0m\u001b[0;34m)\u001b[0m\u001b[0;34m:\u001b[0m\u001b[0;34m\u001b[0m\u001b[0;34m\u001b[0m\u001b[0m\n",
            "\u001b[0;32m/usr/local/lib/python3.6/dist-packages/tensorflow/python/framework/type_spec.py\u001b[0m in \u001b[0;36m__make_cmp_key\u001b[0;34m(self, value)\u001b[0m\n\u001b[1;32m    344\u001b[0m     \u001b[0;32mif\u001b[0m \u001b[0misinstance\u001b[0m\u001b[0;34m(\u001b[0m\u001b[0mvalue\u001b[0m\u001b[0;34m,\u001b[0m \u001b[0;34m(\u001b[0m\u001b[0mint\u001b[0m\u001b[0;34m,\u001b[0m \u001b[0mfloat\u001b[0m\u001b[0;34m,\u001b[0m \u001b[0mbool\u001b[0m\u001b[0;34m,\u001b[0m \u001b[0mdtypes\u001b[0m\u001b[0;34m.\u001b[0m\u001b[0mDType\u001b[0m\u001b[0;34m,\u001b[0m \u001b[0mTypeSpec\u001b[0m\u001b[0;34m)\u001b[0m\u001b[0;34m)\u001b[0m\u001b[0;34m:\u001b[0m\u001b[0;34m\u001b[0m\u001b[0;34m\u001b[0m\u001b[0m\n\u001b[1;32m    345\u001b[0m       \u001b[0;32mreturn\u001b[0m \u001b[0mvalue\u001b[0m\u001b[0;34m\u001b[0m\u001b[0;34m\u001b[0m\u001b[0m\n\u001b[0;32m--> 346\u001b[0;31m     \u001b[0;32mif\u001b[0m \u001b[0misinstance\u001b[0m\u001b[0;34m(\u001b[0m\u001b[0mvalue\u001b[0m\u001b[0;34m,\u001b[0m \u001b[0mcompat\u001b[0m\u001b[0;34m.\u001b[0m\u001b[0mbytes_or_text_types\u001b[0m\u001b[0;34m)\u001b[0m\u001b[0;34m:\u001b[0m\u001b[0;34m\u001b[0m\u001b[0;34m\u001b[0m\u001b[0m\n\u001b[0m\u001b[1;32m    347\u001b[0m       \u001b[0;32mreturn\u001b[0m \u001b[0mvalue\u001b[0m\u001b[0;34m\u001b[0m\u001b[0;34m\u001b[0m\u001b[0m\n\u001b[1;32m    348\u001b[0m     \u001b[0;32mif\u001b[0m \u001b[0mvalue\u001b[0m \u001b[0;32mis\u001b[0m \u001b[0;32mNone\u001b[0m\u001b[0;34m:\u001b[0m\u001b[0;34m\u001b[0m\u001b[0;34m\u001b[0m\u001b[0m\n",
            "\u001b[0;31mKeyboardInterrupt\u001b[0m: "
          ]
        }
      ]
    },
    {
      "cell_type": "markdown",
      "metadata": {
        "id": "p6rDbZRUe6iG",
        "colab_type": "text"
      },
      "source": [
        "Dự đoán và xuất file kế quả"
      ]
    },
    {
      "cell_type": "code",
      "metadata": {
        "id": "w7lxEOfQZN6H",
        "colab_type": "code",
        "colab": {}
      },
      "source": [
        "y_predict_pred= nets_2.predict(X_predict_scaled)"
      ],
      "execution_count": null,
      "outputs": []
    },
    {
      "cell_type": "code",
      "metadata": {
        "id": "W1TuIo4Qe_fe",
        "colab_type": "code",
        "colab": {}
      },
      "source": [
        "res_df = pd.DataFrame({'id': test_set.id, 'label': y_predict_pred.reshape(y_predict_pred.shape[0])})\n",
        "res_df.to_csv('simple_submission.csv', index=False)"
      ],
      "execution_count": null,
      "outputs": []
    },
    {
      "cell_type": "code",
      "metadata": {
        "id": "tU60gEzEfHfB",
        "colab_type": "code",
        "colab": {}
      },
      "source": [
        ""
      ],
      "execution_count": null,
      "outputs": []
    }
  ]
}