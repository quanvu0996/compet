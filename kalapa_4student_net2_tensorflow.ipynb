{
  "nbformat": 4,
  "nbformat_minor": 0,
  "metadata": {
    "colab": {
      "name": "kalapa_4student_net2_tensorflow.ipynb",
      "provenance": [],
      "collapsed_sections": [],
      "toc_visible": true,
      "mount_file_id": "https://github.com/quanvu0996/compet/blob/master/kalapa_4student_net2_tensorflow.ipynb",
      "authorship_tag": "ABX9TyMvdm5na2gQefLdpuk33vr0",
      "include_colab_link": true
    },
    "kernelspec": {
      "name": "python3",
      "display_name": "Python 3"
    }
  },
  "cells": [
    {
      "cell_type": "markdown",
      "metadata": {
        "id": "view-in-github",
        "colab_type": "text"
      },
      "source": [
        "<a href=\"https://colab.research.google.com/github/quanvu0996/compet/blob/master/kalapa_4student_net2_tensorflow.ipynb\" target=\"_parent\"><img src=\"https://colab.research.google.com/assets/colab-badge.svg\" alt=\"Open In Colab\"/></a>"
      ]
    },
    {
      "cell_type": "code",
      "metadata": {
        "id": "OD0B2zVuWpZ3",
        "colab_type": "code",
        "colab": {}
      },
      "source": [
        "import numpy as np\n",
        "import pandas as pd\n",
        "import tensorflow as tf\n",
        "from tensorflow.keras.layers import Dense, DenseFeatures, Dropout, BatchNormalization\n",
        "from tensorflow.keras import Sequential\n",
        "from tensorflow.keras.metrics import AUC, Precision, Recall\n",
        "import tensorflow.keras.backend as K\n",
        "from tensorflow import feature_column as fc\n",
        "import matplotlib.pyplot as plt\n",
        "import seaborn as sns; sns.set(style=\"ticks\", color_codes=True)\n",
        "from sklearn.preprocessing import StandardScaler\n",
        "from sklearn.model_selection import train_test_split\n",
        "from sklearn.metrics import accuracy_score, precision_score, recall_score, f1_score\n",
        "\n",
        "%matplotlib inline"
      ],
      "execution_count": 21,
      "outputs": []
    },
    {
      "cell_type": "code",
      "metadata": {
        "id": "4xw8EKyqXF34",
        "colab_type": "code",
        "colab": {
          "base_uri": "https://localhost:8080/",
          "height": 52
        },
        "outputId": "e13d0859-1d1a-456d-8843-4c31c692496f"
      },
      "source": [
        "print(pd.__version__)\n",
        "print(tf.__version__)"
      ],
      "execution_count": 22,
      "outputs": [
        {
          "output_type": "stream",
          "text": [
            "1.0.5\n",
            "2.3.0\n"
          ],
          "name": "stdout"
        }
      ]
    },
    {
      "cell_type": "markdown",
      "metadata": {
        "id": "zy1CWgz8Xo2a",
        "colab_type": "text"
      },
      "source": [
        "## Load data"
      ]
    },
    {
      "cell_type": "code",
      "metadata": {
        "id": "i-kw2uF8XI8g",
        "colab_type": "code",
        "colab": {}
      },
      "source": [
        "submision_path = '/content/drive/My Drive/Data/colabs_data/kalapa_4students/simple_submission.csv'\n",
        "train_path = '/content/drive/My Drive/Data/colabs_data/kalapa_4students/train.csv'\n",
        "test_path = '/content/drive/My Drive/Data/colabs_data/kalapa_4students/test.csv'"
      ],
      "execution_count": 23,
      "outputs": []
    },
    {
      "cell_type": "code",
      "metadata": {
        "id": "N6MXUjGuXLQa",
        "colab_type": "code",
        "colab": {
          "base_uri": "https://localhost:8080/",
          "height": 107
        },
        "outputId": "ea233c07-f09a-4221-fc28-39f2754e1595"
      },
      "source": [
        "def load_data(train_path, test_path, label_col = 'label'):\n",
        "    train_set = pd.read_csv(train_path)\n",
        "    test_set = pd.read_csv(test_path)\n",
        "    return train_set, test_set\n",
        "\n",
        "train_set, test_set = load_data( train_path, test_path )\n",
        "cols = train_set.columns"
      ],
      "execution_count": 24,
      "outputs": [
        {
          "output_type": "stream",
          "text": [
            "/usr/local/lib/python3.6/dist-packages/IPython/core/interactiveshell.py:2822: DtypeWarning: Columns (35,43) have mixed types.Specify dtype option on import or set low_memory=False.\n",
            "  if self.run_code(code, result):\n",
            "/usr/local/lib/python3.6/dist-packages/IPython/core/interactiveshell.py:2822: DtypeWarning: Columns (34,42) have mixed types.Specify dtype option on import or set low_memory=False.\n",
            "  if self.run_code(code, result):\n"
          ],
          "name": "stderr"
        }
      ]
    },
    {
      "cell_type": "code",
      "metadata": {
        "id": "1pPllECZx4X1",
        "colab_type": "code",
        "colab": {
          "base_uri": "https://localhost:8080/",
          "height": 105
        },
        "outputId": "1f10c9a3-1c69-493d-8b61-5b956d2338ef"
      },
      "source": [
        "train_set.info()"
      ],
      "execution_count": 25,
      "outputs": [
        {
          "output_type": "stream",
          "text": [
            "<class 'pandas.core.frame.DataFrame'>\n",
            "RangeIndex: 53030 entries, 0 to 53029\n",
            "Columns: 195 entries, id to Field_82\n",
            "dtypes: float64(133), int64(3), object(59)\n",
            "memory usage: 78.9+ MB\n"
          ],
          "name": "stdout"
        }
      ]
    },
    {
      "cell_type": "markdown",
      "metadata": {
        "id": "h9GQa7jQXv8g",
        "colab_type": "text"
      },
      "source": [
        "### Data trasforming"
      ]
    },
    {
      "cell_type": "code",
      "metadata": {
        "id": "ckJE8Rza3Lco",
        "colab_type": "code",
        "colab": {}
      },
      "source": [
        "# train_set[cols_categorical].head()\n",
        "# train_set.Field_61.unique()"
      ],
      "execution_count": 26,
      "outputs": []
    },
    {
      "cell_type": "code",
      "metadata": {
        "id": "gPNgmPkZ9JgS",
        "colab_type": "code",
        "colab": {}
      },
      "source": [
        "# len(train_set.Field_45.unique())\n",
        "# cols_id"
      ],
      "execution_count": 27,
      "outputs": []
    },
    {
      "cell_type": "code",
      "metadata": {
        "id": "AKyv3i9N_NRe",
        "colab_type": "code",
        "colab": {}
      },
      "source": [
        "# len(train_set.homeTownCity.unique())"
      ],
      "execution_count": 28,
      "outputs": []
    },
    {
      "cell_type": "code",
      "metadata": {
        "id": "FaeOcozU419_",
        "colab_type": "code",
        "colab": {}
      },
      "source": [
        "# train_set.C_endDate.unique()\n",
        "# train_set.homeTownCity.hist()\n",
        "# print(cols_docs)"
      ],
      "execution_count": 29,
      "outputs": []
    },
    {
      "cell_type": "code",
      "metadata": {
        "id": "YBy1t6IdBRfM",
        "colab_type": "code",
        "colab": {
          "base_uri": "https://localhost:8080/",
          "height": 267
        },
        "outputId": "669dba83-e757-4c97-e2c1-28ed9b4d8d82"
      },
      "source": [
        "train_set[cols_date].head()"
      ],
      "execution_count": 30,
      "outputs": [
        {
          "output_type": "execute_result",
          "data": {
            "text/html": [
              "<div>\n",
              "<style scoped>\n",
              "    .dataframe tbody tr th:only-of-type {\n",
              "        vertical-align: middle;\n",
              "    }\n",
              "\n",
              "    .dataframe tbody tr th {\n",
              "        vertical-align: top;\n",
              "    }\n",
              "\n",
              "    .dataframe thead th {\n",
              "        text-align: right;\n",
              "    }\n",
              "</style>\n",
              "<table border=\"1\" class=\"dataframe\">\n",
              "  <thead>\n",
              "    <tr style=\"text-align: right;\">\n",
              "      <th></th>\n",
              "      <th>Field_1</th>\n",
              "      <th>Field_2</th>\n",
              "      <th>Field_5</th>\n",
              "      <th>Field_6</th>\n",
              "      <th>Field_7</th>\n",
              "      <th>Field_8</th>\n",
              "      <th>Field_9</th>\n",
              "      <th>Field_10</th>\n",
              "      <th>Field_11</th>\n",
              "      <th>Field_14</th>\n",
              "      <th>Field_15</th>\n",
              "      <th>Field_25</th>\n",
              "      <th>Field_32</th>\n",
              "      <th>Field_33</th>\n",
              "      <th>Field_34</th>\n",
              "      <th>Field_35</th>\n",
              "      <th>Field_40</th>\n",
              "      <th>Field_43</th>\n",
              "      <th>Field_44</th>\n",
              "      <th>F_startDate</th>\n",
              "      <th>F_endDate</th>\n",
              "      <th>E_startDate</th>\n",
              "      <th>E_endDate</th>\n",
              "      <th>C_startDate</th>\n",
              "      <th>C_endDate</th>\n",
              "      <th>G_startDate</th>\n",
              "      <th>G_endDate</th>\n",
              "      <th>A_startDate</th>\n",
              "      <th>A_endDate</th>\n",
              "    </tr>\n",
              "  </thead>\n",
              "  <tbody>\n",
              "    <tr>\n",
              "      <th>0</th>\n",
              "      <td>2019-07-24T03:39:02.854Z</td>\n",
              "      <td>2019-07-31T20:10:02Z</td>\n",
              "      <td>2018-12-27</td>\n",
              "      <td>2018-12-27</td>\n",
              "      <td>2019-01-01</td>\n",
              "      <td>2019-07-31</td>\n",
              "      <td>2018-12-27</td>\n",
              "      <td>1.0</td>\n",
              "      <td>2019-07-31</td>\n",
              "      <td>1.0</td>\n",
              "      <td>NaN</td>\n",
              "      <td>2018-12-27</td>\n",
              "      <td>2018-12-28</td>\n",
              "      <td>2022-09-01</td>\n",
              "      <td>20180107</td>\n",
              "      <td>2019-07-31</td>\n",
              "      <td>2019-01-01</td>\n",
              "      <td>2017-01-03T16:06:41.157Z</td>\n",
              "      <td>2019-11-12T04:09:58.381Z</td>\n",
              "      <td>NaN</td>\n",
              "      <td>NaN</td>\n",
              "      <td>NaN</td>\n",
              "      <td>NaN</td>\n",
              "      <td>NaN</td>\n",
              "      <td>NaN</td>\n",
              "      <td>NaN</td>\n",
              "      <td>NaN</td>\n",
              "      <td>2019-06-11</td>\n",
              "      <td>2019-08-17</td>\n",
              "    </tr>\n",
              "    <tr>\n",
              "      <th>1</th>\n",
              "      <td>NaN</td>\n",
              "      <td>NaN</td>\n",
              "      <td>NaN</td>\n",
              "      <td>NaN</td>\n",
              "      <td>NaN</td>\n",
              "      <td>NaN</td>\n",
              "      <td>NaN</td>\n",
              "      <td>NaN</td>\n",
              "      <td>NaN</td>\n",
              "      <td>NaN</td>\n",
              "      <td>NaN</td>\n",
              "      <td>NaN</td>\n",
              "      <td>NaN</td>\n",
              "      <td>NaN</td>\n",
              "      <td>NaN</td>\n",
              "      <td>NaN</td>\n",
              "      <td>NaN</td>\n",
              "      <td>NaN</td>\n",
              "      <td>NaN</td>\n",
              "      <td>NaN</td>\n",
              "      <td>NaN</td>\n",
              "      <td>NaN</td>\n",
              "      <td>NaN</td>\n",
              "      <td>NaN</td>\n",
              "      <td>NaN</td>\n",
              "      <td>NaN</td>\n",
              "      <td>NaN</td>\n",
              "      <td>2019-07-17</td>\n",
              "      <td>2019-07-17</td>\n",
              "    </tr>\n",
              "    <tr>\n",
              "      <th>2</th>\n",
              "      <td>2019-01-17T07:15:26.367Z</td>\n",
              "      <td>2019-01-17T07:17:45Z</td>\n",
              "      <td>2019-01-17</td>\n",
              "      <td>2019-01-17</td>\n",
              "      <td>2019-01-01</td>\n",
              "      <td>2019-12-31</td>\n",
              "      <td>2019-01-17</td>\n",
              "      <td>1.0</td>\n",
              "      <td>NaN</td>\n",
              "      <td>1.0</td>\n",
              "      <td>2019-01-17</td>\n",
              "      <td>2019-01-17</td>\n",
              "      <td>2019-01-17</td>\n",
              "      <td>2023-03-01</td>\n",
              "      <td>20190102</td>\n",
              "      <td>NaN</td>\n",
              "      <td>2019-01-01</td>\n",
              "      <td>2019-01-07T08:29:01.623Z</td>\n",
              "      <td>2019-08-26T09:27:23.191Z</td>\n",
              "      <td>2019-08-18</td>\n",
              "      <td>2019-08-18</td>\n",
              "      <td>2019-08-18</td>\n",
              "      <td>2019-09-11</td>\n",
              "      <td>NaN</td>\n",
              "      <td>NaN</td>\n",
              "      <td>NaN</td>\n",
              "      <td>NaN</td>\n",
              "      <td>2019-09-19</td>\n",
              "      <td>2019-11-05</td>\n",
              "    </tr>\n",
              "    <tr>\n",
              "      <th>3</th>\n",
              "      <td>NaN</td>\n",
              "      <td>NaN</td>\n",
              "      <td>NaN</td>\n",
              "      <td>NaN</td>\n",
              "      <td>NaN</td>\n",
              "      <td>NaN</td>\n",
              "      <td>NaN</td>\n",
              "      <td>NaN</td>\n",
              "      <td>NaN</td>\n",
              "      <td>NaN</td>\n",
              "      <td>NaN</td>\n",
              "      <td>NaN</td>\n",
              "      <td>NaN</td>\n",
              "      <td>NaN</td>\n",
              "      <td>NaN</td>\n",
              "      <td>NaN</td>\n",
              "      <td>NaN</td>\n",
              "      <td>NaN</td>\n",
              "      <td>NaN</td>\n",
              "      <td>NaN</td>\n",
              "      <td>NaN</td>\n",
              "      <td>NaN</td>\n",
              "      <td>NaN</td>\n",
              "      <td>NaN</td>\n",
              "      <td>NaN</td>\n",
              "      <td>NaN</td>\n",
              "      <td>NaN</td>\n",
              "      <td>NaN</td>\n",
              "      <td>NaN</td>\n",
              "    </tr>\n",
              "    <tr>\n",
              "      <th>4</th>\n",
              "      <td>NaN</td>\n",
              "      <td>NaN</td>\n",
              "      <td>NaN</td>\n",
              "      <td>NaN</td>\n",
              "      <td>NaN</td>\n",
              "      <td>NaN</td>\n",
              "      <td>NaN</td>\n",
              "      <td>NaN</td>\n",
              "      <td>NaN</td>\n",
              "      <td>NaN</td>\n",
              "      <td>NaN</td>\n",
              "      <td>NaN</td>\n",
              "      <td>NaN</td>\n",
              "      <td>NaN</td>\n",
              "      <td>NaN</td>\n",
              "      <td>NaN</td>\n",
              "      <td>NaN</td>\n",
              "      <td>NaN</td>\n",
              "      <td>NaN</td>\n",
              "      <td>NaN</td>\n",
              "      <td>NaN</td>\n",
              "      <td>NaN</td>\n",
              "      <td>NaN</td>\n",
              "      <td>NaN</td>\n",
              "      <td>NaN</td>\n",
              "      <td>NaN</td>\n",
              "      <td>NaN</td>\n",
              "      <td>NaN</td>\n",
              "      <td>NaN</td>\n",
              "    </tr>\n",
              "  </tbody>\n",
              "</table>\n",
              "</div>"
            ],
            "text/plain": [
              "                    Field_1               Field_2  ... A_startDate   A_endDate\n",
              "0  2019-07-24T03:39:02.854Z  2019-07-31T20:10:02Z  ...  2019-06-11  2019-08-17\n",
              "1                       NaN                   NaN  ...  2019-07-17  2019-07-17\n",
              "2  2019-01-17T07:15:26.367Z  2019-01-17T07:17:45Z  ...  2019-09-19  2019-11-05\n",
              "3                       NaN                   NaN  ...         NaN         NaN\n",
              "4                       NaN                   NaN  ...         NaN         NaN\n",
              "\n",
              "[5 rows x 29 columns]"
            ]
          },
          "metadata": {
            "tags": []
          },
          "execution_count": 30
        }
      ]
    },
    {
      "cell_type": "code",
      "metadata": {
        "id": "oGfzWBUhX-6e",
        "colab_type": "code",
        "colab": {}
      },
      "source": [
        "# Nhãn\n",
        "cols_label = ['label']\n",
        "# Đặc trưng binary\n",
        "cols_fts_binary = [i for i in train_set.select_dtypes(include=['float64','int64']).columns \n",
        "                   if len(set(train_set[i].fillna(0)) - {0,1} ) == 0 and i not in cols_label]\n",
        "# định dang datte yyyy-mm-dd\n",
        "cols_date = ['Field_1','Field_2','Field_5','Field_6','Field_7','Field_8','Field_9','Field_10','Field_11'\n",
        "             ,'Field_15','Field_25','Field_32','Field_33','Field_35','Field_40','Field_43','Field_44'\n",
        "             ,'F_startDate','F_endDate','E_startDate','E_endDate','C_startDate','C_endDate','G_startDate','G_endDate'\n",
        "             ,'A_startDate','A_endDate']\n",
        "# định dạng date yyymmdd\n",
        "cols_date2 = ['ngaySinh', 'Field_34']\n",
        "# Đặc trưng dạng văn bản\n",
        "cols_docs = ['Field_46','diaChi','Field_48','Field_49','currentLocationName','homeTownName','Field_56']\n",
        "# Định danh bản ghi\n",
        "cols_id = ['id','Field_45'] +[i for i in train_set.select_dtypes(include = ['object']).columns \n",
        "                              if len(train_set[i].unique()) >=350 and i not in cols_date + cols_date2+cols_docs]\n",
        "# Đặc trưng dạng categorical\n",
        "cols_categorical = [i for i in train_set.select_dtypes(include = ['object']).columns\n",
        "                    if i not in cols_id + cols_label+cols_date2+cols_date+cols_docs]\n",
        "# Đặc trưng số\n",
        "cols_fts_num = [ i for i in test_set.select_dtypes(include=['float64','int64']).columns \n",
        "                if i not in cols_id + cols_label + cols_fts_binary + cols_date2+cols_date+cols_docs]"
      ],
      "execution_count": 31,
      "outputs": []
    },
    {
      "cell_type": "code",
      "metadata": {
        "id": "8IZeRfJ1Yn1r",
        "colab_type": "code",
        "colab": {}
      },
      "source": [
        "# cols_categorical\n",
        "cols_date2 = ['ngaySinh', 'Field_34']"
      ],
      "execution_count": 82,
      "outputs": []
    },
    {
      "cell_type": "code",
      "metadata": {
        "id": "80edhA5WEB28",
        "colab_type": "code",
        "colab": {}
      },
      "source": [
        "# Đặc trưng số có dạng như categorical\n",
        "cols_num_like_cat = [i for i in cols_fts_num if len(train_set[i].unique()) <= 15 ]\n",
        "# Đặc trưng số đã kiểm chứng\n",
        "cols_num = [i for i in cols_fts_num if i not in cols_num_like_cat]\n",
        "\n",
        "cols_categorical = cols_categorical + cols_num_like_cat\n",
        "cols_fts_num = [i for i in cols_fts_num if i not in cols_num_like_cat ]"
      ],
      "execution_count": 33,
      "outputs": []
    },
    {
      "cell_type": "code",
      "metadata": {
        "id": "FIiuayh8ERZ1",
        "colab_type": "code",
        "colab": {}
      },
      "source": [
        "# for i in cols_fts_num :\n",
        "#   print(i, len(train_set[i].unique()))"
      ],
      "execution_count": 34,
      "outputs": []
    },
    {
      "cell_type": "markdown",
      "metadata": {
        "id": "7KBEmyXJymwc",
        "colab_type": "text"
      },
      "source": [
        "Missing values"
      ]
    },
    {
      "cell_type": "code",
      "metadata": {
        "id": "pux-LyY-aCs3",
        "colab_type": "code",
        "colab": {}
      },
      "source": [
        "train_data = train_set\n",
        "predict_data = test_set\n",
        "\n",
        "# Categorical: Fill giá trị null như một giá trị khác\n",
        "train_data[cols_categorical] = train_set[cols_categorical].astype('object').fillna('#NULL#').applymap(str)\n",
        "predict_data[cols_categorical] = test_set[cols_categorical].astype('object').fillna('#NULL#').applymap(str)"
      ],
      "execution_count": null,
      "outputs": []
    },
    {
      "cell_type": "code",
      "metadata": {
        "id": "sgOqbv6jbVAR",
        "colab_type": "code",
        "colab": {
          "base_uri": "https://localhost:8080/",
          "height": 230
        },
        "outputId": "5c560ee0-8602-4654-9548-54378ce07778"
      },
      "source": [
        "train_data[col]"
      ],
      "execution_count": 81,
      "outputs": [
        {
          "output_type": "execute_result",
          "data": {
            "text/plain": [
              "0        20180107\n",
              "1             NaN\n",
              "2        20190102\n",
              "3             NaN\n",
              "4             NaN\n",
              "           ...   \n",
              "53025    20191205\n",
              "53026         NaN\n",
              "53027    20170709\n",
              "53028         NaN\n",
              "53029         NaN\n",
              "Name: Field_34, Length: 53030, dtype: object"
            ]
          },
          "metadata": {
            "tags": []
          },
          "execution_count": 81
        }
      ]
    },
    {
      "cell_type": "code",
      "metadata": {
        "id": "eR4iXeN61WRY",
        "colab_type": "code",
        "colab": {}
      },
      "source": [
        "# Date: với dữ liệu ngày thì tạo ra các cột ngày tương ứng và cross colum => embedding để giảm chiều\n",
        "\n",
        "def trans_date_fts(df, col, format = 'yyyy-mm-dd'):\n",
        "  '''format là 'yyyy-mm-dd' hoặc 'yyyymmdd' '''\n",
        "\n",
        "  year_name = 'year_of'+col \n",
        "  month_name = 'month_of' + col\n",
        "  day_name = 'day_of' + col\n",
        "  if format == 'yyyy-mm-dd':\n",
        "    df[year_name] = df[col].apply(lambda x: str(x[:4]) if len(str(x)) >8 else '#NULL#')\n",
        "    df[month_name] = df[col].apply(lambda x: str(x[5:7]) if len(str(x)) >8 else '#NULL#')\n",
        "    df[day_name] = df[col].apply(lambda x: str(x[8:10]) if len(str(x)) >8 else '#NULL#')\n",
        "  else:\n",
        "    df[year_name] = df[col].apply(lambda x: str(x)[:4] if len(str(x)) >8 else '#NULL#')\n",
        "    df[month_name] = df[col].apply(lambda x: str(x)[4:6] if len(str(x)) >8 else '#NULL#')\n",
        "    df[day_name] = df[col].apply(lambda x: str(x)[6:8] if len(str(x)) >8 else '#NULL#')\n",
        "\n",
        "  ft1 = fc.categorical_column_with_vocabulary_list(year_name, df[year_name].unique() )\n",
        "  ft2 = fc.categorical_column_with_vocabulary_list(month_name, df[month_name].unique() )\n",
        "  ft3 = fc.categorical_column_with_vocabulary_list(day_name, df[day_name].unique() )\n",
        "  ft = fc.crossed_column([ft1, ft2, ft3], hash_bucket_size = 366)\n",
        "  ft = fc.embedding_column(ft, dimension= 64)\n",
        "\n",
        "  return df, ft, [year_name, month_name, day_name]\n",
        "\n",
        "fts_col_date = []\n",
        "date_derivated_fts = []\n",
        "for col in cols_date:\n",
        "  train_data, date_fts_list_add, date_fts_name = trans_date_fts(train_data, col,format = 'yyyy-mm-dd')\n",
        "  fts_col_date.append( date_fts_list_add )\n",
        "  date_derivated_fts += date_fts_name\n",
        "for col in cols_date2:\n",
        "  train_data, date_fts_list_add, date_fts_name = trans_date_fts(train_data, col,format = 'yyyymmdd')\n",
        "  fts_col_date.append( date_fts_list_add )\n",
        "  date_derivated_fts += date_fts_name\n",
        "\n",
        "for col in cols_date:\n",
        "  predict_data, date_fts_list_add, date_fts_name = trans_date_fts(predict_data, col,format = 'yyyy-mm-dd')\n",
        "for col in cols_date2:\n",
        "  predict_data, date_fts_list_add, date_fts_name = trans_date_fts(predict_data, col,format = 'yyyymmdd')\n"
      ],
      "execution_count": 103,
      "outputs": []
    },
    {
      "cell_type": "code",
      "metadata": {
        "id": "1uFvOxnbaFHb",
        "colab_type": "code",
        "colab": {}
      },
      "source": [
        "X_train, X_test, y_train, y_test = train_test_split(train_data\n",
        "                                                   ,train_data['label'].values\n",
        "                                                   , stratify = train_data['label'].values \n",
        "                                                   ,test_size = 0.2\n",
        "                                                   )"
      ],
      "execution_count": 85,
      "outputs": []
    },
    {
      "cell_type": "code",
      "metadata": {
        "id": "EkPgKvK0ymEk",
        "colab_type": "code",
        "colab": {}
      },
      "source": [
        "# Numerical: các trường chưa xử lý+ numerical fill giá trị -1\n",
        "\n",
        "# train_data[cols_fts_num] = train_set[cols_fts_num].fillna(-1)\n",
        "# predict_data[cols_fts_num] = test_set[cols_fts_num].fillna(-1)\n",
        "# X_train[cols_fts_num] = (X_train[cols_fts_num] - X_train[cols_fts_num].mean() )/ X_train[cols_fts_num].std()\n",
        "# X_test[cols_fts_num] = (X_test[cols_fts_num] - X_train[cols_fts_num].mean() )/ X_train[cols_fts_num].std()\n",
        "# predict_data[cols_fts_num] = (predict_data[cols_fts_num] - X_train[cols_fts_num].mean() )/ X_train[cols_fts_num].std()\n",
        "X_train = X_train.fillna(0)\n",
        "X_test = X_test.fillna(0)\n",
        "predict_data = predict_data.fillna(0)"
      ],
      "execution_count": 87,
      "outputs": []
    },
    {
      "cell_type": "markdown",
      "metadata": {
        "id": "CYNNUzJFoprL",
        "colab_type": "text"
      },
      "source": [
        "Định nghĩa features"
      ]
    },
    {
      "cell_type": "code",
      "metadata": {
        "id": "rI0R61duyk5b",
        "colab_type": "code",
        "colab": {}
      },
      "source": [
        "feature_columns = []\n",
        "fts_cols = cols_fts_binary+cols_fts_num+cols_categorical + date_derivated_fts\n",
        "\n",
        "# Với biến binary, load trực tiếp vào model\n",
        "for col in cols_fts_binary:\n",
        "  feature_columns.append(\n",
        "      fc.numeric_column(col, dtype=tf.float32)\n",
        "  )\n",
        "# Với các biến numeric, sử dụng standard scaler + định nghĩa\n",
        "# X_train[cols_fts_num] = (X_train[cols_fts_num] - X_train[cols_fts_num].mean() )/ X_train[cols_fts_num].std()\n",
        "# X_test[cols_fts_num] = (X_test[cols_fts_num] - X_train[cols_fts_num].mean() )/ X_train[cols_fts_num].std()\n",
        "\n",
        "for col in cols_fts_num:\n",
        "  mean = X_train[col].mean()\n",
        "  std = X_train[col].std()\n",
        "  feature_columns.append(\n",
        "      fc.numeric_column(col,\n",
        "                        dtype=tf.float32\n",
        "                        #, normalizer_fn = lambda x: ( x - mean )/ std \n",
        "                        ))\n",
        "# Với các biến categorical, embed với số chiều bằng 1/10 +1 số chiều gốc\n",
        "def embed_trans(feature_name, vocab):\n",
        "  ft = fc.categorical_column_with_vocabulary_list(feature_name, vocab)\n",
        "  ft = fc.embedding_column( ft,dimension= int(len(vocab)/10) +5 )\n",
        "  return ft\n",
        "for col in cols_categorical:\n",
        "  vocabulary = train_set[col].unique()\n",
        "  feature_columns.append(\n",
        "      embed_trans(col, vocabulary)\n",
        "  )\n",
        "\n",
        "\n",
        "# Xây dựng layer\n",
        "all_fts_cols = feature_columns +fts_col_date\n",
        "feature_layer = DenseFeatures(all_fts_cols)"
      ],
      "execution_count": 105,
      "outputs": []
    },
    {
      "cell_type": "code",
      "metadata": {
        "id": "BCOJ67grXrbb",
        "colab_type": "code",
        "colab": {}
      },
      "source": [
        "# A utility method to create a tf.data dataset from a Pandas Dataframe\n",
        "def df_to_dataset(X, y, shuffle=True, batch_size=32):\n",
        "  ds = tf.data.Dataset.from_tensor_slices((X.to_dict(orient='list'), y))\n",
        "  if shuffle:\n",
        "    ds = ds.shuffle(buffer_size=len(X))\n",
        "  ds = ds.batch(batch_size)\n",
        "  return ds"
      ],
      "execution_count": 93,
      "outputs": []
    },
    {
      "cell_type": "code",
      "metadata": {
        "id": "OamRsjnvEsmP",
        "colab_type": "code",
        "colab": {
          "base_uri": "https://localhost:8080/",
          "height": 296
        },
        "outputId": "76fd6ab3-9ab0-47de-bbd1-1a0aee1d922e"
      },
      "source": [
        "X_test.head()"
      ],
      "execution_count": 94,
      "outputs": [
        {
          "output_type": "execute_result",
          "data": {
            "text/html": [
              "<div>\n",
              "<style scoped>\n",
              "    .dataframe tbody tr th:only-of-type {\n",
              "        vertical-align: middle;\n",
              "    }\n",
              "\n",
              "    .dataframe tbody tr th {\n",
              "        vertical-align: top;\n",
              "    }\n",
              "\n",
              "    .dataframe thead th {\n",
              "        text-align: right;\n",
              "    }\n",
              "</style>\n",
              "<table border=\"1\" class=\"dataframe\">\n",
              "  <thead>\n",
              "    <tr style=\"text-align: right;\">\n",
              "      <th></th>\n",
              "      <th>id</th>\n",
              "      <th>label</th>\n",
              "      <th>Field_1</th>\n",
              "      <th>Field_2</th>\n",
              "      <th>Field_3</th>\n",
              "      <th>Field_4</th>\n",
              "      <th>Field_5</th>\n",
              "      <th>Field_6</th>\n",
              "      <th>Field_7</th>\n",
              "      <th>Field_8</th>\n",
              "      <th>Field_9</th>\n",
              "      <th>Field_10</th>\n",
              "      <th>Field_11</th>\n",
              "      <th>Field_12</th>\n",
              "      <th>Field_13</th>\n",
              "      <th>Field_14</th>\n",
              "      <th>Field_15</th>\n",
              "      <th>Field_16</th>\n",
              "      <th>Field_17</th>\n",
              "      <th>Field_18</th>\n",
              "      <th>Field_19</th>\n",
              "      <th>Field_20</th>\n",
              "      <th>Field_21</th>\n",
              "      <th>Field_22</th>\n",
              "      <th>Field_23</th>\n",
              "      <th>Field_24</th>\n",
              "      <th>Field_25</th>\n",
              "      <th>Field_26</th>\n",
              "      <th>Field_27</th>\n",
              "      <th>Field_28</th>\n",
              "      <th>Field_29</th>\n",
              "      <th>Field_30</th>\n",
              "      <th>Field_31</th>\n",
              "      <th>Field_32</th>\n",
              "      <th>Field_33</th>\n",
              "      <th>Field_34</th>\n",
              "      <th>Field_35</th>\n",
              "      <th>ngaySinh</th>\n",
              "      <th>namSinh</th>\n",
              "      <th>gioiTinh</th>\n",
              "      <th>...</th>\n",
              "      <th>day_ofField_43</th>\n",
              "      <th>year_ofField_44</th>\n",
              "      <th>month_ofField_44</th>\n",
              "      <th>day_ofField_44</th>\n",
              "      <th>year_ofF_startDate</th>\n",
              "      <th>month_ofF_startDate</th>\n",
              "      <th>day_ofF_startDate</th>\n",
              "      <th>year_ofF_endDate</th>\n",
              "      <th>month_ofF_endDate</th>\n",
              "      <th>day_ofF_endDate</th>\n",
              "      <th>year_ofE_startDate</th>\n",
              "      <th>month_ofE_startDate</th>\n",
              "      <th>day_ofE_startDate</th>\n",
              "      <th>year_ofE_endDate</th>\n",
              "      <th>month_ofE_endDate</th>\n",
              "      <th>day_ofE_endDate</th>\n",
              "      <th>year_ofC_startDate</th>\n",
              "      <th>month_ofC_startDate</th>\n",
              "      <th>day_ofC_startDate</th>\n",
              "      <th>year_ofC_endDate</th>\n",
              "      <th>month_ofC_endDate</th>\n",
              "      <th>day_ofC_endDate</th>\n",
              "      <th>year_ofG_startDate</th>\n",
              "      <th>month_ofG_startDate</th>\n",
              "      <th>day_ofG_startDate</th>\n",
              "      <th>year_ofG_endDate</th>\n",
              "      <th>month_ofG_endDate</th>\n",
              "      <th>day_ofG_endDate</th>\n",
              "      <th>year_ofA_startDate</th>\n",
              "      <th>month_ofA_startDate</th>\n",
              "      <th>day_ofA_startDate</th>\n",
              "      <th>year_ofA_endDate</th>\n",
              "      <th>month_ofA_endDate</th>\n",
              "      <th>day_ofA_endDate</th>\n",
              "      <th>year_ofngaySinh</th>\n",
              "      <th>month_ofngaySinh</th>\n",
              "      <th>day_ofngaySinh</th>\n",
              "      <th>year_ofField_34</th>\n",
              "      <th>month_ofField_34</th>\n",
              "      <th>day_ofField_34</th>\n",
              "    </tr>\n",
              "  </thead>\n",
              "  <tbody>\n",
              "    <tr>\n",
              "      <th>44181</th>\n",
              "      <td>44181</td>\n",
              "      <td>0</td>\n",
              "      <td>2019-11-01T11:16:00.437Z</td>\n",
              "      <td>2019-11-01T11:17:20Z</td>\n",
              "      <td>2.0</td>\n",
              "      <td>T1</td>\n",
              "      <td>2019-11-01</td>\n",
              "      <td>2019-11-01</td>\n",
              "      <td>2019-10-01</td>\n",
              "      <td>2019-12-31</td>\n",
              "      <td>2019-11-01</td>\n",
              "      <td>1.0</td>\n",
              "      <td>0</td>\n",
              "      <td>#NULL#</td>\n",
              "      <td>1.0</td>\n",
              "      <td>1.0</td>\n",
              "      <td>2019-11-01</td>\n",
              "      <td>1.0</td>\n",
              "      <td>1.0</td>\n",
              "      <td>0</td>\n",
              "      <td>0.0</td>\n",
              "      <td>3969700.0</td>\n",
              "      <td>4.5</td>\n",
              "      <td>1.0</td>\n",
              "      <td>8.0</td>\n",
              "      <td>1.0</td>\n",
              "      <td>2019-11-01</td>\n",
              "      <td>1.0</td>\n",
              "      <td>0.0</td>\n",
              "      <td>0.0</td>\n",
              "      <td>0.0</td>\n",
              "      <td>1.0</td>\n",
              "      <td>1.0</td>\n",
              "      <td>2019-11-01</td>\n",
              "      <td>2024-02-22</td>\n",
              "      <td>20191004</td>\n",
              "      <td>0</td>\n",
              "      <td>19930306.0</td>\n",
              "      <td>0.0</td>\n",
              "      <td>FEMALE</td>\n",
              "      <td>...</td>\n",
              "      <td>23</td>\n",
              "      <td>2019</td>\n",
              "      <td>06</td>\n",
              "      <td>27</td>\n",
              "      <td>#NULL#</td>\n",
              "      <td>#NULL#</td>\n",
              "      <td>#NULL#</td>\n",
              "      <td>#NULL#</td>\n",
              "      <td>#NULL#</td>\n",
              "      <td>#NULL#</td>\n",
              "      <td>#NULL#</td>\n",
              "      <td>#NULL#</td>\n",
              "      <td>#NULL#</td>\n",
              "      <td>#NULL#</td>\n",
              "      <td>#NULL#</td>\n",
              "      <td>#NULL#</td>\n",
              "      <td>#NULL#</td>\n",
              "      <td>#NULL#</td>\n",
              "      <td>#NULL#</td>\n",
              "      <td>#NULL#</td>\n",
              "      <td>#NULL#</td>\n",
              "      <td>#NULL#</td>\n",
              "      <td>#NULL#</td>\n",
              "      <td>#NULL#</td>\n",
              "      <td>#NULL#</td>\n",
              "      <td>#NULL#</td>\n",
              "      <td>#NULL#</td>\n",
              "      <td>#NULL#</td>\n",
              "      <td>2019</td>\n",
              "      <td>09</td>\n",
              "      <td>06</td>\n",
              "      <td>2019</td>\n",
              "      <td>09</td>\n",
              "      <td>21</td>\n",
              "      <td>1993</td>\n",
              "      <td>03</td>\n",
              "      <td>06</td>\n",
              "      <td>#NULL#</td>\n",
              "      <td>#NULL#</td>\n",
              "      <td>#NULL#</td>\n",
              "    </tr>\n",
              "    <tr>\n",
              "      <th>29618</th>\n",
              "      <td>29618</td>\n",
              "      <td>0</td>\n",
              "      <td>0</td>\n",
              "      <td>0</td>\n",
              "      <td>#NULL#</td>\n",
              "      <td>#NULL#</td>\n",
              "      <td>0</td>\n",
              "      <td>0</td>\n",
              "      <td>0</td>\n",
              "      <td>0</td>\n",
              "      <td>0</td>\n",
              "      <td>0.0</td>\n",
              "      <td>0</td>\n",
              "      <td>#NULL#</td>\n",
              "      <td>0.0</td>\n",
              "      <td>0.0</td>\n",
              "      <td>0</td>\n",
              "      <td>0.0</td>\n",
              "      <td>0.0</td>\n",
              "      <td>0</td>\n",
              "      <td>0.0</td>\n",
              "      <td>0.0</td>\n",
              "      <td>#NULL#</td>\n",
              "      <td>#NULL#</td>\n",
              "      <td>0.0</td>\n",
              "      <td>0.0</td>\n",
              "      <td>0</td>\n",
              "      <td>0.0</td>\n",
              "      <td>0.0</td>\n",
              "      <td>0.0</td>\n",
              "      <td>0.0</td>\n",
              "      <td>0.0</td>\n",
              "      <td>0.0</td>\n",
              "      <td>0</td>\n",
              "      <td>0</td>\n",
              "      <td>0</td>\n",
              "      <td>0</td>\n",
              "      <td>0.0</td>\n",
              "      <td>#NULL#</td>\n",
              "      <td>#NULL#</td>\n",
              "      <td>...</td>\n",
              "      <td>#NULL#</td>\n",
              "      <td>#NULL#</td>\n",
              "      <td>#NULL#</td>\n",
              "      <td>#NULL#</td>\n",
              "      <td>#NULL#</td>\n",
              "      <td>#NULL#</td>\n",
              "      <td>#NULL#</td>\n",
              "      <td>#NULL#</td>\n",
              "      <td>#NULL#</td>\n",
              "      <td>#NULL#</td>\n",
              "      <td>#NULL#</td>\n",
              "      <td>#NULL#</td>\n",
              "      <td>#NULL#</td>\n",
              "      <td>#NULL#</td>\n",
              "      <td>#NULL#</td>\n",
              "      <td>#NULL#</td>\n",
              "      <td>#NULL#</td>\n",
              "      <td>#NULL#</td>\n",
              "      <td>#NULL#</td>\n",
              "      <td>#NULL#</td>\n",
              "      <td>#NULL#</td>\n",
              "      <td>#NULL#</td>\n",
              "      <td>#NULL#</td>\n",
              "      <td>#NULL#</td>\n",
              "      <td>#NULL#</td>\n",
              "      <td>#NULL#</td>\n",
              "      <td>#NULL#</td>\n",
              "      <td>#NULL#</td>\n",
              "      <td>#NULL#</td>\n",
              "      <td>#NULL#</td>\n",
              "      <td>#NULL#</td>\n",
              "      <td>#NULL#</td>\n",
              "      <td>#NULL#</td>\n",
              "      <td>#NULL#</td>\n",
              "      <td>#NULL#</td>\n",
              "      <td>#NULL#</td>\n",
              "      <td>#NULL#</td>\n",
              "      <td>#NULL#</td>\n",
              "      <td>#NULL#</td>\n",
              "      <td>#NULL#</td>\n",
              "    </tr>\n",
              "    <tr>\n",
              "      <th>48677</th>\n",
              "      <td>48677</td>\n",
              "      <td>1</td>\n",
              "      <td>2018-04-02T12:47:33.015Z</td>\n",
              "      <td>2018-04-02T12:47:33.015Z</td>\n",
              "      <td>2.0</td>\n",
              "      <td>T1</td>\n",
              "      <td>2018-01-03</td>\n",
              "      <td>2018-01-03</td>\n",
              "      <td>2018-01-01</td>\n",
              "      <td>2018-03-31</td>\n",
              "      <td>2018-01-03</td>\n",
              "      <td>1.0</td>\n",
              "      <td>2018-03-31</td>\n",
              "      <td>G8</td>\n",
              "      <td>1.0</td>\n",
              "      <td>1.0</td>\n",
              "      <td>2018-01-03</td>\n",
              "      <td>1.0</td>\n",
              "      <td>1.0</td>\n",
              "      <td>0</td>\n",
              "      <td>0.0</td>\n",
              "      <td>4000000.0</td>\n",
              "      <td>4.5</td>\n",
              "      <td>1.0</td>\n",
              "      <td>15.0</td>\n",
              "      <td>1.0</td>\n",
              "      <td>2018-01-03</td>\n",
              "      <td>1.0</td>\n",
              "      <td>0.0</td>\n",
              "      <td>0.0</td>\n",
              "      <td>3.0</td>\n",
              "      <td>1.0</td>\n",
              "      <td>1.0</td>\n",
              "      <td>2018-01-03</td>\n",
              "      <td>2021-10-01</td>\n",
              "      <td>20170903</td>\n",
              "      <td>2018-03-31</td>\n",
              "      <td>19890317.0</td>\n",
              "      <td>0.0</td>\n",
              "      <td>MALE</td>\n",
              "      <td>...</td>\n",
              "      <td>01</td>\n",
              "      <td>2019</td>\n",
              "      <td>10</td>\n",
              "      <td>02</td>\n",
              "      <td>#NULL#</td>\n",
              "      <td>#NULL#</td>\n",
              "      <td>#NULL#</td>\n",
              "      <td>#NULL#</td>\n",
              "      <td>#NULL#</td>\n",
              "      <td>#NULL#</td>\n",
              "      <td>#NULL#</td>\n",
              "      <td>#NULL#</td>\n",
              "      <td>#NULL#</td>\n",
              "      <td>#NULL#</td>\n",
              "      <td>#NULL#</td>\n",
              "      <td>#NULL#</td>\n",
              "      <td>#NULL#</td>\n",
              "      <td>#NULL#</td>\n",
              "      <td>#NULL#</td>\n",
              "      <td>#NULL#</td>\n",
              "      <td>#NULL#</td>\n",
              "      <td>#NULL#</td>\n",
              "      <td>#NULL#</td>\n",
              "      <td>#NULL#</td>\n",
              "      <td>#NULL#</td>\n",
              "      <td>#NULL#</td>\n",
              "      <td>#NULL#</td>\n",
              "      <td>#NULL#</td>\n",
              "      <td>#NULL#</td>\n",
              "      <td>#NULL#</td>\n",
              "      <td>#NULL#</td>\n",
              "      <td>#NULL#</td>\n",
              "      <td>#NULL#</td>\n",
              "      <td>#NULL#</td>\n",
              "      <td>1989</td>\n",
              "      <td>03</td>\n",
              "      <td>17</td>\n",
              "      <td>#NULL#</td>\n",
              "      <td>#NULL#</td>\n",
              "      <td>#NULL#</td>\n",
              "    </tr>\n",
              "    <tr>\n",
              "      <th>12224</th>\n",
              "      <td>12224</td>\n",
              "      <td>0</td>\n",
              "      <td>0</td>\n",
              "      <td>0</td>\n",
              "      <td>#NULL#</td>\n",
              "      <td>#NULL#</td>\n",
              "      <td>0</td>\n",
              "      <td>0</td>\n",
              "      <td>0</td>\n",
              "      <td>0</td>\n",
              "      <td>0</td>\n",
              "      <td>0.0</td>\n",
              "      <td>0</td>\n",
              "      <td>#NULL#</td>\n",
              "      <td>0.0</td>\n",
              "      <td>0.0</td>\n",
              "      <td>0</td>\n",
              "      <td>0.0</td>\n",
              "      <td>0.0</td>\n",
              "      <td>0</td>\n",
              "      <td>0.0</td>\n",
              "      <td>0.0</td>\n",
              "      <td>#NULL#</td>\n",
              "      <td>#NULL#</td>\n",
              "      <td>0.0</td>\n",
              "      <td>0.0</td>\n",
              "      <td>0</td>\n",
              "      <td>0.0</td>\n",
              "      <td>0.0</td>\n",
              "      <td>0.0</td>\n",
              "      <td>0.0</td>\n",
              "      <td>0.0</td>\n",
              "      <td>0.0</td>\n",
              "      <td>0</td>\n",
              "      <td>0</td>\n",
              "      <td>0</td>\n",
              "      <td>0</td>\n",
              "      <td>0.0</td>\n",
              "      <td>#NULL#</td>\n",
              "      <td>#NULL#</td>\n",
              "      <td>...</td>\n",
              "      <td>#NULL#</td>\n",
              "      <td>#NULL#</td>\n",
              "      <td>#NULL#</td>\n",
              "      <td>#NULL#</td>\n",
              "      <td>#NULL#</td>\n",
              "      <td>#NULL#</td>\n",
              "      <td>#NULL#</td>\n",
              "      <td>#NULL#</td>\n",
              "      <td>#NULL#</td>\n",
              "      <td>#NULL#</td>\n",
              "      <td>#NULL#</td>\n",
              "      <td>#NULL#</td>\n",
              "      <td>#NULL#</td>\n",
              "      <td>#NULL#</td>\n",
              "      <td>#NULL#</td>\n",
              "      <td>#NULL#</td>\n",
              "      <td>#NULL#</td>\n",
              "      <td>#NULL#</td>\n",
              "      <td>#NULL#</td>\n",
              "      <td>#NULL#</td>\n",
              "      <td>#NULL#</td>\n",
              "      <td>#NULL#</td>\n",
              "      <td>#NULL#</td>\n",
              "      <td>#NULL#</td>\n",
              "      <td>#NULL#</td>\n",
              "      <td>#NULL#</td>\n",
              "      <td>#NULL#</td>\n",
              "      <td>#NULL#</td>\n",
              "      <td>2019</td>\n",
              "      <td>08</td>\n",
              "      <td>28</td>\n",
              "      <td>2019</td>\n",
              "      <td>08</td>\n",
              "      <td>30</td>\n",
              "      <td>#NULL#</td>\n",
              "      <td>#NULL#</td>\n",
              "      <td>#NULL#</td>\n",
              "      <td>#NULL#</td>\n",
              "      <td>#NULL#</td>\n",
              "      <td>#NULL#</td>\n",
              "    </tr>\n",
              "    <tr>\n",
              "      <th>33041</th>\n",
              "      <td>33041</td>\n",
              "      <td>1</td>\n",
              "      <td>2019-08-26T02:25:33.646Z</td>\n",
              "      <td>2019-08-31T20:12:27Z</td>\n",
              "      <td>1.0</td>\n",
              "      <td>GH</td>\n",
              "      <td>2018-12-24</td>\n",
              "      <td>2018-12-24</td>\n",
              "      <td>2019-01-01</td>\n",
              "      <td>2019-08-31</td>\n",
              "      <td>2018-12-24</td>\n",
              "      <td>1.0</td>\n",
              "      <td>2019-08-31</td>\n",
              "      <td>G8</td>\n",
              "      <td>1.0</td>\n",
              "      <td>1.0</td>\n",
              "      <td>0</td>\n",
              "      <td>1.0</td>\n",
              "      <td>1.0</td>\n",
              "      <td>Đ0451</td>\n",
              "      <td>0.0</td>\n",
              "      <td>4258600.0</td>\n",
              "      <td>4.5</td>\n",
              "      <td>1.0</td>\n",
              "      <td>5.0</td>\n",
              "      <td>1.0</td>\n",
              "      <td>2018-12-24</td>\n",
              "      <td>1.0</td>\n",
              "      <td>0.0</td>\n",
              "      <td>0.0</td>\n",
              "      <td>2.0</td>\n",
              "      <td>1.0</td>\n",
              "      <td>1.0</td>\n",
              "      <td>2018-12-24</td>\n",
              "      <td>2023-08-01</td>\n",
              "      <td>2.01809e+07</td>\n",
              "      <td>2019-08-31</td>\n",
              "      <td>19890109.0</td>\n",
              "      <td>0.0</td>\n",
              "      <td>MALE</td>\n",
              "      <td>...</td>\n",
              "      <td>24</td>\n",
              "      <td>2019</td>\n",
              "      <td>06</td>\n",
              "      <td>26</td>\n",
              "      <td>2019</td>\n",
              "      <td>09</td>\n",
              "      <td>02</td>\n",
              "      <td>2019</td>\n",
              "      <td>09</td>\n",
              "      <td>02</td>\n",
              "      <td>2019</td>\n",
              "      <td>09</td>\n",
              "      <td>02</td>\n",
              "      <td>2019</td>\n",
              "      <td>09</td>\n",
              "      <td>04</td>\n",
              "      <td>#NULL#</td>\n",
              "      <td>#NULL#</td>\n",
              "      <td>#NULL#</td>\n",
              "      <td>#NULL#</td>\n",
              "      <td>#NULL#</td>\n",
              "      <td>#NULL#</td>\n",
              "      <td>2019</td>\n",
              "      <td>09</td>\n",
              "      <td>02</td>\n",
              "      <td>2019</td>\n",
              "      <td>09</td>\n",
              "      <td>02</td>\n",
              "      <td>2019</td>\n",
              "      <td>03</td>\n",
              "      <td>18</td>\n",
              "      <td>2019</td>\n",
              "      <td>09</td>\n",
              "      <td>13</td>\n",
              "      <td>1989</td>\n",
              "      <td>01</td>\n",
              "      <td>09</td>\n",
              "      <td>2018</td>\n",
              "      <td>09</td>\n",
              "      <td>04</td>\n",
              "    </tr>\n",
              "  </tbody>\n",
              "</table>\n",
              "<p>5 rows × 282 columns</p>\n",
              "</div>"
            ],
            "text/plain": [
              "          id  label  ... month_ofField_34 day_ofField_34\n",
              "44181  44181      0  ...           #NULL#         #NULL#\n",
              "29618  29618      0  ...           #NULL#         #NULL#\n",
              "48677  48677      1  ...           #NULL#         #NULL#\n",
              "12224  12224      0  ...           #NULL#         #NULL#\n",
              "33041  33041      1  ...               09             04\n",
              "\n",
              "[5 rows x 282 columns]"
            ]
          },
          "metadata": {
            "tags": []
          },
          "execution_count": 94
        }
      ]
    },
    {
      "cell_type": "code",
      "metadata": {
        "id": "CLNgUTm4X1vn",
        "colab_type": "code",
        "colab": {}
      },
      "source": [
        "# scaler_1 = StandardScaler()\n",
        "# X_train_scaled = scaler_1.fit_transform(X_train)\n",
        "# X_test_scaled = scaler_1.transform(X_test)\n",
        "# X_predict_scaled = scaler_1.transform( test_set[cols_fts_num].fillna(0) )"
      ],
      "execution_count": 41,
      "outputs": []
    },
    {
      "cell_type": "code",
      "metadata": {
        "id": "K3m7hDYZX3fg",
        "colab_type": "code",
        "colab": {}
      },
      "source": [
        "nets_2 = Sequential(\n",
        "    [\n",
        "    feature_layer,\n",
        "    BatchNormalization (),\n",
        "    Dense(512, activation ='relu'),\n",
        "    Dropout(0.25), \n",
        "    BatchNormalization (),\n",
        "    Dense(256, activation ='relu'),\n",
        "    Dropout(0.25), \n",
        "    Dense(128, activation ='relu'),\n",
        "    Dropout(0.25), \n",
        "    BatchNormalization (),\n",
        "    Dense(64, activation ='relu'),\n",
        "    Dropout(0.1), \n",
        "    Dense(16, activation ='relu'),\n",
        "    Dense(1, activation ='sigmoid')])\n",
        "nets_2.compile(optimizer = 'adam', loss = 'binary_crossentropy', metrics = ['acc', AUC() ] ) #, Precision(), Recall()] )"
      ],
      "execution_count": 96,
      "outputs": []
    },
    {
      "cell_type": "code",
      "metadata": {
        "id": "mWz5G94lY81G",
        "colab_type": "code",
        "colab": {
          "base_uri": "https://localhost:8080/",
          "height": 1000
        },
        "outputId": "6a88a02f-5907-4333-9745-c7fcecb2d375"
      },
      "source": [
        "batch_size = 5000 # A small batch sized is used for demonstration purposes\n",
        "train_ds = df_to_dataset(X_train[fts_cols], y_train, batch_size=batch_size)\n",
        "test_ds = df_to_dataset(X_test[fts_cols], y_test, shuffle=False, batch_size=batch_size)\n",
        "predict_ds = df_to_dataset(predict_data[fts_cols], predict_data['id'], shuffle=False, batch_size=batch_size)\n",
        "\n",
        "history = nets_2.fit( train_ds , epochs = 10\n",
        "                    , validation_data = test_ds)\n",
        "nets_2.summary()"
      ],
      "execution_count": 108,
      "outputs": [
        {
          "output_type": "stream",
          "text": [
            "Epoch 1/10\n",
            "9/9 [==============================] - 22s 2s/step - loss: 0.4267 - acc: 0.8012 - auc_2: 0.8582 - val_loss: 0.6569 - val_acc: 0.7075 - val_auc_2: 0.6656\n",
            "Epoch 2/10\n",
            "9/9 [==============================] - 23s 3s/step - loss: 0.4233 - acc: 0.8028 - auc_2: 0.8593 - val_loss: 0.6654 - val_acc: 0.7061 - val_auc_2: 0.6679\n",
            "Epoch 3/10\n",
            "9/9 [==============================] - 23s 3s/step - loss: 0.4175 - acc: 0.8048 - auc_2: 0.8626 - val_loss: 0.6757 - val_acc: 0.7061 - val_auc_2: 0.6702\n",
            "Epoch 4/10\n",
            "9/9 [==============================] - 23s 3s/step - loss: 0.4114 - acc: 0.8069 - auc_2: 0.8665 - val_loss: 0.6854 - val_acc: 0.7054 - val_auc_2: 0.6714\n",
            "Epoch 5/10\n",
            "9/9 [==============================] - 25s 3s/step - loss: 0.4054 - acc: 0.8112 - auc_2: 0.8704 - val_loss: 0.6936 - val_acc: 0.7052 - val_auc_2: 0.6714\n",
            "Epoch 6/10\n",
            "9/9 [==============================] - 23s 3s/step - loss: 0.3994 - acc: 0.8144 - auc_2: 0.8746 - val_loss: 0.7001 - val_acc: 0.7053 - val_auc_2: 0.6710\n",
            "Epoch 7/10\n",
            "9/9 [==============================] - 23s 3s/step - loss: 0.3967 - acc: 0.8144 - auc_2: 0.8763 - val_loss: 0.7058 - val_acc: 0.7041 - val_auc_2: 0.6702\n",
            "Epoch 8/10\n",
            "9/9 [==============================] - 23s 3s/step - loss: 0.3925 - acc: 0.8179 - auc_2: 0.8794 - val_loss: 0.7106 - val_acc: 0.7038 - val_auc_2: 0.6699\n",
            "Epoch 9/10\n",
            "9/9 [==============================] - 23s 3s/step - loss: 0.3887 - acc: 0.8180 - auc_2: 0.8814 - val_loss: 0.7157 - val_acc: 0.7039 - val_auc_2: 0.6695\n",
            "Epoch 10/10\n",
            "9/9 [==============================] - 23s 3s/step - loss: 0.3821 - acc: 0.8230 - auc_2: 0.8858 - val_loss: 0.7210 - val_acc: 0.7041 - val_auc_2: 0.6688\n",
            "Model: \"sequential_2\"\n",
            "_________________________________________________________________\n",
            "Layer (type)                 Output Shape              Param #   \n",
            "=================================================================\n",
            "dense_features_2 (DenseFeatu multiple                  696242    \n",
            "_________________________________________________________________\n",
            "batch_normalization_6 (Batch multiple                  8956      \n",
            "_________________________________________________________________\n",
            "dense_12 (Dense)             multiple                  1146880   \n",
            "_________________________________________________________________\n",
            "dropout_8 (Dropout)          multiple                  0         \n",
            "_________________________________________________________________\n",
            "batch_normalization_7 (Batch multiple                  2048      \n",
            "_________________________________________________________________\n",
            "dense_13 (Dense)             multiple                  131328    \n",
            "_________________________________________________________________\n",
            "dropout_9 (Dropout)          multiple                  0         \n",
            "_________________________________________________________________\n",
            "dense_14 (Dense)             multiple                  32896     \n",
            "_________________________________________________________________\n",
            "dropout_10 (Dropout)         multiple                  0         \n",
            "_________________________________________________________________\n",
            "batch_normalization_8 (Batch multiple                  512       \n",
            "_________________________________________________________________\n",
            "dense_15 (Dense)             multiple                  8256      \n",
            "_________________________________________________________________\n",
            "dropout_11 (Dropout)         multiple                  0         \n",
            "_________________________________________________________________\n",
            "dense_16 (Dense)             multiple                  1040      \n",
            "_________________________________________________________________\n",
            "dense_17 (Dense)             multiple                  17        \n",
            "=================================================================\n",
            "Total params: 2,028,175\n",
            "Trainable params: 2,022,417\n",
            "Non-trainable params: 5,758\n",
            "_________________________________________________________________\n"
          ],
          "name": "stdout"
        }
      ]
    },
    {
      "cell_type": "markdown",
      "metadata": {
        "id": "p6rDbZRUe6iG",
        "colab_type": "text"
      },
      "source": [
        "Dự đoán và xuất file kế quả"
      ]
    },
    {
      "cell_type": "code",
      "metadata": {
        "id": "HP_mm9exIdAw",
        "colab_type": "code",
        "colab": {
          "base_uri": "https://localhost:8080/",
          "height": 285
        },
        "outputId": "41088e05-4ab6-4c91-ba93-26e57506a640"
      },
      "source": [
        "plt.plot(history.history['loss'])\n",
        "plt.plot(history.history['val_loss'])"
      ],
      "execution_count": 109,
      "outputs": [
        {
          "output_type": "execute_result",
          "data": {
            "text/plain": [
              "[<matplotlib.lines.Line2D at 0x7f34b2035fd0>]"
            ]
          },
          "metadata": {
            "tags": []
          },
          "execution_count": 109
        },
        {
          "output_type": "display_data",
          "data": {
            "image/png": "[encoded data removed]",
            "text/plain": [
              "<Figure size 432x288 with 1 Axes>"
            ]
          },
          "metadata": {
            "tags": [],
            "needs_background": "light"
          }
        }
      ]
    },
    {
      "cell_type": "code",
      "metadata": {
        "id": "w7lxEOfQZN6H",
        "colab_type": "code",
        "colab": {
          "base_uri": "https://localhost:8080/",
          "height": 196
        },
        "outputId": "2fc7d5f4-c1f3-49cc-ac74-ed57eb30e575"
      },
      "source": [
        "y_predict_pred= nets_2.predict(predict_ds )\n",
        "y_predict_pred"
      ],
      "execution_count": 110,
      "outputs": [
        {
          "output_type": "stream",
          "text": [
            "WARNING:tensorflow:Layers in a Sequential model should only have a single input tensor, but we receive a <class 'dict'> input: {'Field_13': <tf.Tensor 'ExpandDims_9:0' shape=(None, 1) dtype=float32>, 'Field_14': <tf.Tensor 'ExpandDims_10:0' shape=(None, 1) dtype=float32>, 'Field_16': <tf.Tensor 'ExpandDims_11:0' shape=(None, 1) dtype=float32>, 'Field_17': <tf.Tensor 'ExpandDims_12:0' shape=(None, 1) dtype=float32>, 'Field_24': <tf.Tensor 'ExpandDims_18:0' shape=(None, 1) dtype=float32>, 'Field_26': <tf.Tensor 'ExpandDims_19:0' shape=(None, 1) dtype=float32>, 'Field_30': <tf.Tensor 'ExpandDims_24:0' shape=(None, 1) dtype=float32>, 'Field_31': <tf.Tensor 'ExpandDims_25:0' shape=(None, 1) dtype=float32>, 'Field_37': <tf.Tensor 'ExpandDims_27:0' shape=(None, 1) dtype=float32>, 'Field_39': <tf.Tensor 'ExpandDims_29:0' shape=(None, 1) dtype=float32>, 'Field_41': <tf.Tensor 'ExpandDims_31:0' shape=(None, 1) dtype=float32>, 'Field_42': <tf.Tensor 'ExpandDims_32:0' shape=(None, 1) dtype=float32>, 'Field_50': <tf.Tensor 'ExpandDims_34:0' shape=(None, 1) dtype=float32>, 'Field_51': <tf.Tensor 'ExpandDims_35:0' shape=(None, 1) dtype=float32>, 'Field_52': <tf.Tensor 'ExpandDims_36:0' shape=(None, 1) dtype=float32>, 'Field_53': <tf.Tensor 'ExpandDims_37:0' shape=(None, 1) dtype=float32>, 'Field_57': <tf.Tensor 'ExpandDims_40:0' shape=(None, 1) dtype=float32>, 'Field_73': <tf.Tensor 'ExpandDims_55:0' shape=(None, 1) dtype=float32>, 'partner0_A': <tf.Tensor 'ExpandDims_143:0' shape=(None, 1) dtype=float32>, 'partner0_B': <tf.Tensor 'ExpandDims_144:0' shape=(None, 1) dtype=float32>, 'partner0_C': <tf.Tensor 'ExpandDims_145:0' shape=(None, 1) dtype=float32>, 'partner0_D': <tf.Tensor 'ExpandDims_146:0' shape=(None, 1) dtype=float32>, 'partner0_E': <tf.Tensor 'ExpandDims_147:0' shape=(None, 1) dtype=float32>, 'partner0_F': <tf.Tensor 'ExpandDims_148:0' shape=(None, 1) dtype=float32>, 'partner0_G': <tf.Tensor 'ExpandDims_149:0' shape=(None, 1) dtype=float32>, 'partner0_H': <tf.Tensor 'ExpandDims_150:0' shape=(None, 1) dtype=float32>, 'partner0_K': <tf.Tensor 'ExpandDims_151:0' shape=(None, 1) dtype=float32>, 'partner0_L': <tf.Tensor 'ExpandDims_152:0' shape=(None, 1) dtype=float32>, 'partner1_A': <tf.Tensor 'ExpandDims_153:0' shape=(None, 1) dtype=float32>, 'partner1_B': <tf.Tensor 'ExpandDims_154:0' shape=(None, 1) dtype=float32>, 'partner1_C': <tf.Tensor 'ExpandDims_155:0' shape=(None, 1) dtype=float32>, 'partner1_D': <tf.Tensor 'ExpandDims_156:0' shape=(None, 1) dtype=float32>, 'partner1_E': <tf.Tensor 'ExpandDims_157:0' shape=(None, 1) dtype=float32>, 'partner1_F': <tf.Tensor 'ExpandDims_158:0' shape=(None, 1) dtype=float32>, 'partner1_G': <tf.Tensor 'ExpandDims_159:0' shape=(None, 1) dtype=float32>, 'partner1_H': <tf.Tensor 'ExpandDims_160:0' shape=(None, 1) dtype=float32>, 'partner1_K': <tf.Tensor 'ExpandDims_161:0' shape=(None, 1) dtype=float32>, 'partner1_L': <tf.Tensor 'ExpandDims_162:0' shape=(None, 1) dtype=float32>, 'partner2_A': <tf.Tensor 'ExpandDims_163:0' shape=(None, 1) dtype=float32>, 'partner2_B': <tf.Tensor 'ExpandDims_164:0' shape=(None, 1) dtype=float32>, 'partner2_C': <tf.Tensor 'ExpandDims_165:0' shape=(None, 1) dtype=float32>, 'partner2_D': <tf.Tensor 'ExpandDims_166:0' shape=(None, 1) dtype=float32>, 'partner2_E': <tf.Tensor 'ExpandDims_167:0' shape=(None, 1) dtype=float32>, 'partner2_F': <tf.Tensor 'ExpandDims_168:0' shape=(None, 1) dtype=float32>, 'partner2_G': <tf.Tensor 'ExpandDims_169:0' shape=(None, 1) dtype=float32>, 'partner2_H': <tf.Tensor 'ExpandDims_170:0' shape=(None, 1) dtype=float32>, 'partner2_K': <tf.Tensor 'ExpandDims_171:0' shape=(None, 1) dtype=float32>, 'partner2_L': <tf.Tensor 'ExpandDims_172:0' shape=(None, 1) dtype=float32>, 'partner3_A': <tf.Tensor 'ExpandDims_173:0' shape=(None, 1) dtype=float32>, 'partner3_B': <tf.Tensor 'ExpandDims_174:0' shape=(None, 1) dtype=float32>, 'partner3_C': <tf.Tensor 'ExpandDims_175:0' shape=(None, 1) dtype=float32>, 'partner3_D': <tf.Tensor 'ExpandDims_176:0' shape=(None, 1) dtype=float32>, 'partner3_E': <tf.Tensor 'ExpandDims_177:0' shape=(None, 1) dtype=float32>, 'partner3_F': <tf.Tensor 'ExpandDims_178:0' shape=(None, 1) dtype=float32>, 'partner3_G': <tf.Tensor 'ExpandDims_179:0' shape=(None, 1) dtype=float32>, 'partner3_H': <tf.Tensor 'ExpandDims_180:0' shape=(None, 1) dtype=float32>, 'partner3_K': <tf.Tensor 'ExpandDims_181:0' shape=(None, 1) dtype=float32>, 'partner3_L': <tf.Tensor 'ExpandDims_182:0' shape=(None, 1) dtype=float32>, 'partner4_A': <tf.Tensor 'ExpandDims_183:0' shape=(None, 1) dtype=float32>, 'partner4_B': <tf.Tensor 'ExpandDims_184:0' shape=(None, 1) dtype=float32>, 'partner4_C': <tf.Tensor 'ExpandDims_185:0' shape=(None, 1) dtype=float32>, 'partner4_D': <tf.Tensor 'ExpandDims_186:0' shape=(None, 1) dtype=float32>, 'partner4_E': <tf.Tensor 'ExpandDims_187:0' shape=(None, 1) dtype=float32>, 'partner4_F': <tf.Tensor 'ExpandDims_188:0' shape=(None, 1) dtype=float32>, 'partner4_G': <tf.Tensor 'ExpandDims_189:0' shape=(None, 1) dtype=float32>, 'partner4_H': <tf.Tensor 'ExpandDims_190:0' shape=(None, 1) dtype=float32>, 'partner4_K': <tf.Tensor 'ExpandDims_191:0' shape=(None, 1) dtype=float32>, 'partner4_L': <tf.Tensor 'ExpandDims_192:0' shape=(None, 1) dtype=float32>, 'partner5_A': <tf.Tensor 'ExpandDims_193:0' shape=(None, 1) dtype=float32>, 'partner5_B': <tf.Tensor 'ExpandDims_194:0' shape=(None, 1) dtype=float32>, 'partner5_C': <tf.Tensor 'ExpandDims_195:0' shape=(None, 1) dtype=float32>, 'partner5_D': <tf.Tensor 'ExpandDims_196:0' shape=(None, 1) dtype=float32>, 'partner5_E': <tf.Tensor 'ExpandDims_197:0' shape=(None, 1) dtype=float32>, 'partner5_F': <tf.Tensor 'ExpandDims_198:0' shape=(None, 1) dtype=float32>, 'partner5_G': <tf.Tensor 'ExpandDims_199:0' shape=(None, 1) dtype=float32>, 'partner5_H': <tf.Tensor 'ExpandDims_200:0' shape=(None, 1) dtype=float32>, 'partner5_K': <tf.Tensor 'ExpandDims_201:0' shape=(None, 1) dtype=float32>, 'partner5_L': <tf.Tensor 'ExpandDims_202:0' shape=(None, 1) dtype=float32>, 'Field_19': <tf.Tensor 'ExpandDims_13:0' shape=(None, 1) dtype=float32>, 'Field_20': <tf.Tensor 'ExpandDims_14:0' shape=(None, 1) dtype=float32>, 'Field_23': <tf.Tensor 'ExpandDims_17:0' shape=(None, 1) dtype=float32>, 'Field_27': <tf.Tensor 'ExpandDims_20:0' shape=(None, 1) dtype=float32>, 'Field_28': <tf.Tensor 'ExpandDims_21:0' shape=(None, 1) dtype=float32>, 'Field_29': <tf.Tensor 'ExpandDims_22:0' shape=(None, 1) dtype=float32>, 'Field_59': <tf.Tensor 'ExpandDims_42:0' shape=(None, 1) dtype=float32>, 'Field_60': <tf.Tensor 'ExpandDims_43:0' shape=(None, 1) dtype=float32>, 'Field_67': <tf.Tensor 'ExpandDims_50:0' shape=(None, 1) dtype=float32>, 'Field_69': <tf.Tensor 'ExpandDims_51:0' shape=(None, 1) dtype=float32>, 'Field_70': <tf.Tensor 'ExpandDims_52:0' shape=(None, 1) dtype=float32>, 'Field_71': <tf.Tensor 'ExpandDims_53:0' shape=(None, 1) dtype=float32>, 'Field_72': <tf.Tensor 'ExpandDims_54:0' shape=(None, 1) dtype=float32>, 'Field_74': <tf.Tensor 'ExpandDims_56:0' shape=(None, 1) dtype=float32>, 'Field_77': <tf.Tensor 'ExpandDims_59:0' shape=(None, 1) dtype=float32>, 'friendCount': <tf.Tensor 'ExpandDims_103:0' shape=(None, 1) dtype=float32>, 'subscriberCount': <tf.Tensor 'ExpandDims_203:0' shape=(None, 1) dtype=float32>, 'currentLocationLocationId': <tf.Tensor 'ExpandDims_70:0' shape=(None, 1) dtype=float32>, 'currentLocationLatitude': <tf.Tensor 'ExpandDims_69:0' shape=(None, 1) dtype=float32>, 'currentLocationLongitude': <tf.Tensor 'ExpandDims_71:0' shape=(None, 1) dtype=float32>, 'homeTownLocationId': <tf.Tensor 'ExpandDims_107:0' shape=(None, 1) dtype=float32>, 'homeTownLatitude': <tf.Tensor 'ExpandDims_106:0' shape=(None, 1) dtype=float32>, 'homeTownLongitude': <tf.Tensor 'ExpandDims_108:0' shape=(None, 1) dtype=float32>, 'numOrg': <tf.Tensor 'ExpandDims_141:0' shape=(None, 1) dtype=float32>, 'F_numQuery': <tf.Tensor 'ExpandDims_7:0' shape=(None, 1) dtype=float32>, 'E_numQuery': <tf.Tensor 'ExpandDims_5:0' shape=(None, 1) dtype=float32>, 'C_numQuery': <tf.Tensor 'ExpandDims_3:0' shape=(None, 1) dtype=float32>, 'A_numQuery': <tf.Tensor 'ExpandDims_1:0' shape=(None, 1) dtype=float32>, 'summary_6m': <tf.Tensor 'ExpandDims_207:0' shape=(None, 1) dtype=float32>, 'summary_3m': <tf.Tensor 'ExpandDims_206:0' shape=(None, 1) dtype=float32>, 'summary_1m': <tf.Tensor 'ExpandDims_204:0' shape=(None, 1) dtype=float32>, 'summary_1w': <tf.Tensor 'ExpandDims_205:0' shape=(None, 1) dtype=float32>, 'Field_78': <tf.Tensor 'ExpandDims_60:0' shape=(None, 1) dtype=float32>, 'Field_79': <tf.Tensor 'ExpandDims_61:0' shape=(None, 1) dtype=float32>, 'Field_80': <tf.Tensor 'ExpandDims_62:0' shape=(None, 1) dtype=float32>, 'Field_81': <tf.Tensor 'ExpandDims_63:0' shape=(None, 1) dtype=float32>, 'Field_4': <tf.Tensor 'ExpandDims_30:0' shape=(None, 1) dtype=string>, 'Field_12': <tf.Tensor 'ExpandDims_8:0' shape=(None, 1) dtype=string>, 'gioiTinh': <tf.Tensor 'ExpandDims_104:0' shape=(None, 1) dtype=string>, 'Field_36': <tf.Tensor 'ExpandDims_26:0' shape=(None, 1) dtype=string>, 'Field_38': <tf.Tensor 'ExpandDims_28:0' shape=(None, 1) dtype=string>, 'Field_47': <tf.Tensor 'ExpandDims_33:0' shape=(None, 1) dtype=string>, 'Field_54': <tf.Tensor 'ExpandDims_38:0' shape=(None, 1) dtype=string>, 'Field_55': <tf.Tensor 'ExpandDims_39:0' shape=(None, 1) dtype=string>, 'Field_61': <tf.Tensor 'ExpandDims_44:0' shape=(None, 1) dtype=string>, 'Field_62': <tf.Tensor 'ExpandDims_45:0' shape=(None, 1) dtype=string>, 'Field_65': <tf.Tensor 'ExpandDims_48:0' shape=(None, 1) dtype=string>, 'Field_66': <tf.Tensor 'ExpandDims_49:0' shape=(None, 1) dtype=string>, 'info_social_sex': <tf.Tensor 'ExpandDims_110:0' shape=(None, 1) dtype=string>, 'data.basic_info.locale': <tf.Tensor 'ExpandDims_73:0' shape=(None, 1) dtype=string>, 'currentLocationCountry': <tf.Tensor 'ExpandDims_68:0' shape=(None, 1) dtype=string>, 'currentLocationState': <tf.Tensor 'ExpandDims_72:0' shape=(None, 1) dtype=string>, 'homeTownCountry': <tf.Tensor 'ExpandDims_105:0' shape=(None, 1) dtype=string>, 'homeTownState': <tf.Tensor 'ExpandDims_109:0' shape=(None, 1) dtype=string>, 'brief': <tf.Tensor 'ExpandDims_67:0' shape=(None, 1) dtype=string>, 'Field_3': <tf.Tensor 'ExpandDims_23:0' shape=(None, 1) dtype=string>, 'Field_21': <tf.Tensor 'ExpandDims_15:0' shape=(None, 1) dtype=string>, 'Field_22': <tf.Tensor 'ExpandDims_16:0' shape=(None, 1) dtype=string>, 'namSinh': <tf.Tensor 'ExpandDims_140:0' shape=(None, 1) dtype=string>, 'Field_58': <tf.Tensor 'ExpandDims_41:0' shape=(None, 1) dtype=string>, 'Field_63': <tf.Tensor 'ExpandDims_46:0' shape=(None, 1) dtype=string>, 'Field_64': <tf.Tensor 'ExpandDims_47:0' shape=(None, 1) dtype=string>, 'Field_75': <tf.Tensor 'ExpandDims_57:0' shape=(None, 1) dtype=string>, 'Field_76': <tf.Tensor 'ExpandDims_58:0' shape=(None, 1) dtype=string>, 'topFriends': <tf.Tensor 'ExpandDims_208:0' shape=(None, 1) dtype=string>, 'F_numOrg': <tf.Tensor 'ExpandDims_6:0' shape=(None, 1) dtype=string>, 'E_numOrg': <tf.Tensor 'ExpandDims_4:0' shape=(None, 1) dtype=string>, 'C_numOrg': <tf.Tensor 'ExpandDims_2:0' shape=(None, 1) dtype=string>, 'G_numOrg': <tf.Tensor 'ExpandDims_65:0' shape=(None, 1) dtype=string>, 'G_numQuery': <tf.Tensor 'ExpandDims_66:0' shape=(None, 1) dtype=string>, 'A_numOrg': <tf.Tensor 'ExpandDims:0' shape=(None, 1) dtype=string>, 'num_of_phone': <tf.Tensor 'ExpandDims_142:0' shape=(None, 1) dtype=string>, 'Field_82': <tf.Tensor 'ExpandDims_64:0' shape=(None, 1) dtype=string>, 'year_ofField_1': <tf.Tensor 'ExpandDims_217:0' shape=(None, 1) dtype=string>, 'month_ofField_1': <tf.Tensor 'ExpandDims_119:0' shape=(None, 1) dtype=string>, 'day_ofField_1': <tf.Tensor 'ExpandDims_82:0' shape=(None, 1) dtype=string>, 'year_ofField_2': <tf.Tensor 'ExpandDims_221:0' shape=(None, 1) dtype=string>, 'month_ofField_2': <tf.Tensor 'ExpandDims_123:0' shape=(None, 1) dtype=string>, 'day_ofField_2': <tf.Tensor 'ExpandDims_86:0' shape=(None, 1) dtype=string>, 'year_ofField_5': <tf.Tensor 'ExpandDims_230:0' shape=(None, 1) dtype=string>, 'month_ofField_5': <tf.Tensor 'ExpandDims_132:0' shape=(None, 1) dtype=string>, 'day_ofField_5': <tf.Tensor 'ExpandDims_95:0' shape=(None, 1) dtype=string>, 'year_ofField_6': <tf.Tensor 'ExpandDims_231:0' shape=(None, 1) dtype=string>, 'month_ofField_6': <tf.Tensor 'ExpandDims_133:0' shape=(None, 1) dtype=string>, 'day_ofField_6': <tf.Tensor 'ExpandDims_96:0' shape=(None, 1) dtype=string>, 'year_ofField_7': <tf.Tensor 'ExpandDims_232:0' shape=(None, 1) dtype=string>, 'month_ofField_7': <tf.Tensor 'ExpandDims_134:0' shape=(None, 1) dtype=string>, 'day_ofField_7': <tf.Tensor 'ExpandDims_97:0' shape=(None, 1) dtype=string>, 'year_ofField_8': <tf.Tensor 'ExpandDims_233:0' shape=(None, 1) dtype=string>, 'month_ofField_8': <tf.Tensor 'ExpandDims_135:0' shape=(None, 1) dtype=string>, 'day_ofField_8': <tf.Tensor 'ExpandDims_98:0' shape=(None, 1) dtype=string>, 'year_ofField_9': <tf.Tensor 'ExpandDims_234:0' shape=(None, 1) dtype=string>, 'month_ofField_9': <tf.Tensor 'ExpandDims_136:0' shape=(None, 1) dtype=string>, 'day_ofField_9': <tf.Tensor 'ExpandDims_99:0' shape=(None, 1) dtype=string>, 'year_ofField_10': <tf.Tensor 'ExpandDims_218:0' shape=(None, 1) dtype=string>, 'month_ofField_10': <tf.Tensor 'ExpandDims_120:0' shape=(None, 1) dtype=string>, 'day_ofField_10': <tf.Tensor 'ExpandDims_83:0' shape=(None, 1) dtype=string>, 'year_ofField_11': <tf.Tensor 'ExpandDims_219:0' shape=(None, 1) dtype=string>, 'month_ofField_11': <tf.Tensor 'ExpandDims_121:0' shape=(None, 1) dtype=string>, 'day_ofField_11': <tf.Tensor 'ExpandDims_84:0' shape=(None, 1) dtype=string>, 'year_ofField_15': <tf.Tensor 'ExpandDims_220:0' shape=(None, 1) dtype=string>, 'month_ofField_15': <tf.Tensor 'ExpandDims_122:0' shape=(None, 1) dtype=string>, 'day_ofField_15': <tf.Tensor 'ExpandDims_85:0' shape=(None, 1) dtype=string>, 'year_ofField_25': <tf.Tensor 'ExpandDims_222:0' shape=(None, 1) dtype=string>, 'month_ofField_25': <tf.Tensor 'ExpandDims_124:0' shape=(None, 1) dtype=string>, 'day_ofField_25': <tf.Tensor 'ExpandDims_87:0' shape=(None, 1) dtype=string>, 'year_ofField_32': <tf.Tensor 'ExpandDims_223:0' shape=(None, 1) dtype=string>, 'month_ofField_32': <tf.Tensor 'ExpandDims_125:0' shape=(None, 1) dtype=string>, 'day_ofField_32': <tf.Tensor 'ExpandDims_88:0' shape=(None, 1) dtype=string>, 'year_ofField_33': <tf.Tensor 'ExpandDims_224:0' shape=(None, 1) dtype=string>, 'month_ofField_33': <tf.Tensor 'ExpandDims_126:0' shape=(None, 1) dtype=string>, 'day_ofField_33': <tf.Tensor 'ExpandDims_89:0' shape=(None, 1) dtype=string>, 'year_ofField_35': <tf.Tensor 'ExpandDims_226:0' shape=(None, 1) dtype=string>, 'month_ofField_35': <tf.Tensor 'ExpandDims_128:0' shape=(None, 1) dtype=string>, 'day_ofField_35': <tf.Tensor 'ExpandDims_91:0' shape=(None, 1) dtype=string>, 'year_ofField_40': <tf.Tensor 'ExpandDims_227:0' shape=(None, 1) dtype=string>, 'month_ofField_40': <tf.Tensor 'ExpandDims_129:0' shape=(None, 1) dtype=string>, 'day_ofField_40': <tf.Tensor 'ExpandDims_92:0' shape=(None, 1) dtype=string>, 'year_ofField_43': <tf.Tensor 'ExpandDims_228:0' shape=(None, 1) dtype=string>, 'month_ofField_43': <tf.Tensor 'ExpandDims_130:0' shape=(None, 1) dtype=string>, 'day_ofField_43': <tf.Tensor 'ExpandDims_93:0' shape=(None, 1) dtype=string>, 'year_ofField_44': <tf.Tensor 'ExpandDims_229:0' shape=(None, 1) dtype=string>, 'month_ofField_44': <tf.Tensor 'ExpandDims_131:0' shape=(None, 1) dtype=string>, 'day_ofField_44': <tf.Tensor 'ExpandDims_94:0' shape=(None, 1) dtype=string>, 'year_ofF_startDate': <tf.Tensor 'ExpandDims_216:0' shape=(None, 1) dtype=string>, 'month_ofF_startDate': <tf.Tensor 'ExpandDims_118:0' shape=(None, 1) dtype=string>, 'day_ofF_startDate': <tf.Tensor 'ExpandDims_81:0' shape=(None, 1) dtype=string>, 'year_ofF_endDate': <tf.Tensor 'ExpandDims_215:0' shape=(None, 1) dtype=string>, 'month_ofF_endDate': <tf.Tensor 'ExpandDims_117:0' shape=(None, 1) dtype=string>, 'day_ofF_endDate': <tf.Tensor 'ExpandDims_80:0' shape=(None, 1) dtype=string>, 'year_ofE_startDate': <tf.Tensor 'ExpandDims_214:0' shape=(None, 1) dtype=string>, 'month_ofE_startDate': <tf.Tensor 'ExpandDims_116:0' shape=(None, 1) dtype=string>, 'day_ofE_startDate': <tf.Tensor 'ExpandDims_79:0' shape=(None, 1) dtype=string>, 'year_ofE_endDate': <tf.Tensor 'ExpandDims_213:0' shape=(None, 1) dtype=string>, 'month_ofE_endDate': <tf.Tensor 'ExpandDims_115:0' shape=(None, 1) dtype=string>, 'day_ofE_endDate': <tf.Tensor 'ExpandDims_78:0' shape=(None, 1) dtype=string>, 'year_ofC_startDate': <tf.Tensor 'ExpandDims_212:0' shape=(None, 1) dtype=string>, 'month_ofC_startDate': <tf.Tensor 'ExpandDims_114:0' shape=(None, 1) dtype=string>, 'day_ofC_startDate': <tf.Tensor 'ExpandDims_77:0' shape=(None, 1) dtype=string>, 'year_ofC_endDate': <tf.Tensor 'ExpandDims_211:0' shape=(None, 1) dtype=string>, 'month_ofC_endDate': <tf.Tensor 'ExpandDims_113:0' shape=(None, 1) dtype=string>, 'day_ofC_endDate': <tf.Tensor 'ExpandDims_76:0' shape=(None, 1) dtype=string>, 'year_ofG_startDate': <tf.Tensor 'ExpandDims_236:0' shape=(None, 1) dtype=string>, 'month_ofG_startDate': <tf.Tensor 'ExpandDims_138:0' shape=(None, 1) dtype=string>, 'day_ofG_startDate': <tf.Tensor 'ExpandDims_101:0' shape=(None, 1) dtype=string>, 'year_ofG_endDate': <tf.Tensor 'ExpandDims_235:0' shape=(None, 1) dtype=string>, 'month_ofG_endDate': <tf.Tensor 'ExpandDims_137:0' shape=(None, 1) dtype=string>, 'day_ofG_endDate': <tf.Tensor 'ExpandDims_100:0' shape=(None, 1) dtype=string>, 'year_ofA_startDate': <tf.Tensor 'ExpandDims_210:0' shape=(None, 1) dtype=string>, 'month_ofA_startDate': <tf.Tensor 'ExpandDims_112:0' shape=(None, 1) dtype=string>, 'day_ofA_startDate': <tf.Tensor 'ExpandDims_75:0' shape=(None, 1) dtype=string>, 'year_ofA_endDate': <tf.Tensor 'ExpandDims_209:0' shape=(None, 1) dtype=string>, 'month_ofA_endDate': <tf.Tensor 'ExpandDims_111:0' shape=(None, 1) dtype=string>, 'day_ofA_endDate': <tf.Tensor 'ExpandDims_74:0' shape=(None, 1) dtype=string>, 'year_ofngaySinh': <tf.Tensor 'ExpandDims_237:0' shape=(None, 1) dtype=string>, 'month_ofngaySinh': <tf.Tensor 'ExpandDims_139:0' shape=(None, 1) dtype=string>, 'day_ofngaySinh': <tf.Tensor 'ExpandDims_102:0' shape=(None, 1) dtype=string>, 'year_ofField_34': <tf.Tensor 'ExpandDims_225:0' shape=(None, 1) dtype=string>, 'month_ofField_34': <tf.Tensor 'ExpandDims_127:0' shape=(None, 1) dtype=string>, 'day_ofField_34': <tf.Tensor 'ExpandDims_90:0' shape=(None, 1) dtype=string>}\n",
            "Consider rewriting this model with the Functional API.\n"
          ],
          "name": "stdout"
        },
        {
          "output_type": "execute_result",
          "data": {
            "text/plain": [
              "array([[0.02542269],\n",
              "       [0.01386628],\n",
              "       [0.39215073],\n",
              "       ...,\n",
              "       [0.003939  ],\n",
              "       [0.20829582],\n",
              "       [0.07240468]], dtype=float32)"
            ]
          },
          "metadata": {
            "tags": []
          },
          "execution_count": 110
        }
      ]
    },
    {
      "cell_type": "code",
      "metadata": {
        "id": "W1TuIo4Qe_fe",
        "colab_type": "code",
        "colab": {}
      },
      "source": [
        "res_df = pd.DataFrame({'id': test_set.id, 'label': y_predict_pred.reshape(y_predict_pred.shape[0])})\n",
        "res_df.to_csv('submission.csv', index=False)"
      ],
      "execution_count": 111,
      "outputs": []
    },
    {
      "cell_type": "code",
      "metadata": {
        "id": "DZfHrliHSNEY",
        "colab_type": "code",
        "colab": {}
      },
      "source": [
        ""
      ],
      "execution_count": null,
      "outputs": []
    }
  ]
}