{
  "nbformat": 4,
  "nbformat_minor": 0,
  "metadata": {
    "kernelspec": {
      "display_name": "Python 3",
      "language": "python",
      "name": "python3"
    },
    "language_info": {
      "codemirror_mode": {
        "name": "ipython",
        "version": 3
      },
      "file_extension": ".py",
      "mimetype": "text/x-python",
      "name": "python",
      "nbconvert_exporter": "python",
      "pygments_lexer": "ipython3",
      "version": "3.7.4"
    },
    "colab": {
      "name": "kerasfm_moa.ipynb",
      "provenance": []
    }
  },
  "cells": [
    {
      "cell_type": "code",
      "metadata": {
        "id": "TAcvThKf-Kgt",
        "outputId": "67fd9dac-23e0-45d6-9845-4341873e631e",
        "colab": {
          "base_uri": "https://localhost:8080/"
        }
      },
      "source": [
        "import numpy as np\n",
        "import pandas as pd\n",
        "import copy\n",
        "\n",
        "import tensorflow as tf\n",
        "from tensorflow import feature_column as fc\n",
        "from tensorflow.keras.losses import BinaryCrossentropy\n",
        "from tensorflow.keras.layers import (Dense, DenseFeatures, Dropout, \n",
        "                                     BatchNormalization, Embedding, Input, Concatenate, Average,\n",
        "                                     InputLayer, Lambda)\n",
        "from tensorflow.keras.metrics import AUC, Precision, Recall\n",
        "from tensorflow.keras import backend as K, Sequential, Model\n",
        "from tensorflow.keras.callbacks import ReduceLROnPlateau, EarlyStopping\n",
        "from tensorflow.keras.optimizers import Adam\n",
        "\n",
        "from tensorflow_addons.layers import WeightNormalization\n",
        "from keras.wrappers.scikit_learn import KerasRegressor\n",
        "import keras\n",
        "\n",
        "from sklearn.preprocessing import QuantileTransformer, StandardScaler\n",
        "from sklearn.base import BaseEstimator, TransformerMixin\n",
        "from sklearn.pipeline import Pipeline, FeatureUnion\n",
        "from sklearn.compose import ColumnTransformer\n",
        "from sklearn.feature_selection import VarianceThreshold\n",
        "from sklearn.decomposition import PCA\n",
        "\n",
        "import matplotlib.pyplot as plt\n",
        "from math import log2\n",
        "\n",
        "print(pd.__version__)\n",
        "print(tf.__version__)"
      ],
      "execution_count": 4,
      "outputs": [
        {
          "output_type": "stream",
          "text": [
            "1.1.4\n",
            "2.3.0\n"
          ],
          "name": "stdout"
        }
      ]
    },
    {
      "cell_type": "code",
      "metadata": {
        "id": "EQaN_1GI-Kg2"
      },
      "source": [
        "# Loading data and encoding\n",
        "\n",
        "folder_path = '/content/drive/My Drive/Data/colabs_data/MOA_kaggle/'\n",
        "raw_test = pd.read_csv(folder_path + 'test_features.csv')\n",
        "raw_train = pd.read_csv(folder_path + 'train_features.csv')\n",
        "raw_targets = pd.read_csv(folder_path + 'train_targets_scored.csv')\n",
        "\n",
        "# Phân loại dữ liệu\n",
        "cols_id = ['sig_id']\n",
        "cols_to_remove = ['cp_type']\n",
        "cols_fts = [i for i in raw_train.columns if i not in cols_id +cols_to_remove]\n",
        "cols_gene = [col for col in raw_train.columns if col.startswith(\"g-\")]\n",
        "cols_cell = [col for col in raw_train.columns if col.startswith(\"c-\")]\n",
        "cols_experiment = [col for col in cols_fts if col not in cols_gene+cols_cell]\n",
        "cols_target = [i for i in raw_targets.columns if i not in cols_id]\n",
        "num_fts, num_labels = len(cols_fts), len(cols_target)\n",
        "\n",
        "# xử lý categorical\n",
        "def transform_data(input_data):\n",
        "    '''Clean data and encoding\n",
        "        * input_data: table '''\n",
        "    out = input_data.copy()\n",
        "    out['cp_dose'] = out['cp_dose'].map({'D1':0, 'D2':1})\n",
        "    out['cp_time'] = out['cp_time']/72\n",
        "    \n",
        "    return out\n",
        "\n",
        "to_train = transform_data(raw_train[raw_train['cp_type'] != 'ctl_vehicle'])\n",
        "to_train_targets = raw_targets.iloc[to_train.index]\n",
        "to_pred  = transform_data(raw_test)\n",
        "to_pred_non_ctl = to_pred[to_pred['cp_type'] != 'ctl_vehicle']"
      ],
      "execution_count": 5,
      "outputs": []
    },
    {
      "cell_type": "code",
      "metadata": {
        "id": "XVI4ntXz-Kg7"
      },
      "source": [
        "# preprocessing pipeline\n",
        "def pipe_line_builder(variance_threshold, quantiles_num, pca_dims):\n",
        "    '''Dựng pipe line cho từng nhóm columns\n",
        "    :quantiles_num: int: số quantile khi normalise\n",
        "    :pca_dims: int: số chiều pca'''\n",
        "    variance = VarianceThreshold(variance_threshold)\n",
        "    norm = QuantileTransformer(n_quantiles=quantiles_num,random_state=0, output_distribution=\"uniform\")\n",
        "    pca = PCA(n_components = pca_dims)\n",
        "    # kmean = KMeans(kmean_centroids)\n",
        "    p_var_norm = Pipeline([ \n",
        "        ('norm', norm),\n",
        "        ('var', variance) ])\n",
        "    p_var_norm_pca = Pipeline([ \n",
        "        ('norm1', norm),\n",
        "        ('pca', pca),\n",
        "        ('norm2', norm),\n",
        "        ('var', variance)\n",
        "    ])\n",
        "    return FeatureUnion([\n",
        "        ('norm', p_var_norm)\n",
        "        , ('norm_pca', p_var_norm_pca) \n",
        "        ])\n",
        "\n",
        "pipe = ColumnTransformer([\n",
        "     ('gene', pipe_line_builder(variance_threshold = 0.01, quantiles_num = 200, pca_dims = 700), cols_gene),\n",
        "     ('cell', pipe_line_builder(variance_threshold = 0.01, quantiles_num = 200, pca_dims = 80), cols_cell),\n",
        "     ('experiment', pipe_line_builder(variance_threshold = 0.01, quantiles_num = 200, pca_dims = 1), cols_experiment)\n",
        "    ])"
      ],
      "execution_count": 51,
      "outputs": []
    },
    {
      "cell_type": "code",
      "metadata": {
        "id": "iiVoS8KvOxMk",
        "outputId": "58e65823-c59f-41bc-fd0c-8b2d51d152dc",
        "colab": {
          "base_uri": "https://localhost:8080/"
        }
      },
      "source": [
        "# Final data\n",
        "pipe.fit(to_train[cols_fts].append(to_pred[cols_fts]))\n",
        "X_train = pipe.transform(to_train[cols_fts])\n",
        "y_train = to_train_targets[cols_target]\n",
        "X_train"
      ],
      "execution_count": 52,
      "outputs": [
        {
          "output_type": "execute_result",
          "data": {
            "text/plain": [
              "array([[0.87047727, 0.81529306, 0.33266332, ..., 0.        , 0.        ,\n",
              "        0.35056234],\n",
              "       [0.54761259, 0.74794623, 0.60334811, ..., 1.        , 0.        ,\n",
              "        0.        ],\n",
              "       [0.78220426, 0.82517133, 0.92153293, ..., 0.49748744, 0.        ,\n",
              "        0.16582915],\n",
              "       ...,\n",
              "       [0.02575215, 0.71645031, 0.27318006, ..., 0.        , 1.        ,\n",
              "        1.        ],\n",
              "       [0.79270725, 0.65587714, 0.66309486, ..., 0.        , 0.        ,\n",
              "        0.35056234],\n",
              "       [0.10201595, 0.94168209, 0.38792301, ..., 1.        , 0.        ,\n",
              "        0.        ]])"
            ]
          },
          "metadata": {
            "tags": []
          },
          "execution_count": 52
        }
      ]
    },
    {
      "cell_type": "code",
      "metadata": {
        "id": "EdCB7Zb3S9YI",
        "outputId": "c527be30-c7c2-4467-de7a-9f721968627a",
        "colab": {
          "base_uri": "https://localhost:8080/"
        }
      },
      "source": [
        "np.std(X_train, axis = 0)**2"
      ],
      "execution_count": 59,
      "outputs": [
        {
          "output_type": "execute_result",
          "data": {
            "text/plain": [
              "(1655,)"
            ]
          },
          "metadata": {
            "tags": []
          },
          "execution_count": 59
        }
      ]
    },
    {
      "cell_type": "code",
      "metadata": {
        "id": "pmbUDLogS_d8",
        "outputId": "466a49ef-74b1-4cf4-9c1c-d2f6afb9dfb1",
        "colab": {
          "base_uri": "https://localhost:8080/"
        }
      },
      "source": [
        "len(cols_gene+cols_cell+ cols_experiment)"
      ],
      "execution_count": 53,
      "outputs": [
        {
          "output_type": "execute_result",
          "data": {
            "text/plain": [
              "874"
            ]
          },
          "metadata": {
            "tags": []
          },
          "execution_count": 53
        }
      ]
    },
    {
      "cell_type": "code",
      "metadata": {
        "id": "fqcmQpSSPSsm",
        "outputId": "bb09ef70-2188-4086-a50f-d2203004f801",
        "colab": {
          "base_uri": "https://localhost:8080/",
          "height": 264
        }
      },
      "source": [
        "for i in range(100):\n",
        "  plt.hist( X_train[:,i], 50,histtype= 'step')"
      ],
      "execution_count": 60,
      "outputs": [
        {
          "output_type": "display_data",
          "data": {
            "image/png": "[encoded data removed]",
            "text/plain": [
              "<Figure size 432x288 with 1 Axes>"
            ]
          },
          "metadata": {
            "tags": [],
            "needs_background": "light"
          }
        }
      ]
    },
    {
      "cell_type": "code",
      "metadata": {
        "id": "0ygTg-wSR0di",
        "outputId": "61d0fe72-6a04-4232-8473-176cc445a5cc",
        "colab": {
          "base_uri": "https://localhost:8080/"
        }
      },
      "source": [
        "X_train.shape"
      ],
      "execution_count": 61,
      "outputs": [
        {
          "output_type": "execute_result",
          "data": {
            "text/plain": [
              "(21948, 1655)"
            ]
          },
          "metadata": {
            "tags": []
          },
          "execution_count": 61
        }
      ]
    },
    {
      "cell_type": "code",
      "metadata": {
        "id": "7yvt9CES-KhG",
        "outputId": "5cad3d18-98e2-4b05-da77-e7ee575d1ca4",
        "colab": {
          "base_uri": "https://localhost:8080/"
        }
      },
      "source": [
        "# Tiếp cận theo hướng recommend - cell -> chemical | cell/gene: user, chemial: item\n",
        "n_components = 256\n",
        "\n",
        "u_fts_num = X_train.shape[1]#num_fts\n",
        "i_fts_num = num_labels\n",
        "\n",
        "#User embedding\n",
        "input_u = Input(shape = (u_fts_num,) , name ='input_u1' )\n",
        "layer_u = WeightNormalization(Dense(n_components, activation = 'relu', kernel_initializer='he_normal', name ='layer_u1')) (input_u)\n",
        "layer_u = BatchNormalization() (layer_u)\n",
        "\n",
        "#Item embedding\n",
        "  # Addition information for item_info\n",
        "chemical_category = tf.transpose(\n",
        "        tf.constant(\n",
        "            [[1 if '_inhibitor' in i else 0 for i in cols_target],\n",
        "               [1 if '_agonist' in i else 0 for i in cols_target],\n",
        "               [1 if '_agent' in i else 0 for i in cols_target],\n",
        "               [1 if '_antagonist' in i else 0 for i in cols_target],\n",
        "               [1 if '_blocker' in i else 0 for i in cols_target],\n",
        "               [1 if '_activator' in i else 0 for i in cols_target] \n",
        "             ]))\n",
        "\n",
        "  # Full item fts: addition + onehot\n",
        "item_ft = tf.concat(\n",
        "    [chemical_category ,\n",
        "     tf.eye(i_fts_num, dtype = tf.int32) # Create tensor 0-1 coresponse with chemical labels\n",
        "    ], axis = 1\n",
        ")\n",
        "layer_i = Dense(n_components, activation = 'relu', kernel_initializer='he_normal', name ='layer_u1') (item_ft)\n",
        "\n",
        "# Dot product user - item\n",
        "def dot_2layer(x):\n",
        "    return K.dot( x[0], K.transpose(x[1]))\n",
        "dot_ui = Lambda( dot_2layer, name = 'lambda_dot' ) ([layer_u,layer_i])\n",
        "# dot_ui= BatchNormalization() (dot_ui)\n",
        "dot_ui= WeightNormalization(Dense(512, activation=\"relu\", kernel_initializer='he_normal')) (dot_ui)\n",
        "# dot_ui= BatchNormalization() (dot_ui)\n",
        "dot_ui= WeightNormalization(Dense(256, activation=\"relu\", kernel_initializer='he_normal')) (dot_ui)\n",
        "# dot_ui= BatchNormalization() (dot_ui)\n",
        "dot_ui = Dense(i_fts_num, activation = 'sigmoid', kernel_initializer='he_normal', name = 'labels')(dot_ui)\n",
        "\n",
        "# Compile model\n",
        "model = Model(inputs=[input_u, ], outputs= [dot_ui])\n",
        "opt = Adam(lr=0.0005)\n",
        "model.compile(loss= BinaryCrossentropy(label_smoothing=0.0005), optimizer=opt)\n",
        "print( model.summary() )\n",
        "\n",
        "# tf.keras.utils.plot_model(model,show_shapes=True)"
      ],
      "execution_count": 62,
      "outputs": [
        {
          "output_type": "stream",
          "text": [
            "Model: \"functional_3\"\n",
            "_________________________________________________________________\n",
            "Layer (type)                 Output Shape              Param #   \n",
            "=================================================================\n",
            "input_u1 (InputLayer)        [(None, 1655)]            0         \n",
            "_________________________________________________________________\n",
            "weight_normalization_2 (Weig (None, 256)               848129    \n",
            "_________________________________________________________________\n",
            "batch_normalization (BatchNo (None, 256)               1024      \n",
            "_________________________________________________________________\n",
            "tf_op_layer_MatMul_1 (Tensor [(None, 206)]             0         \n",
            "_________________________________________________________________\n",
            "weight_normalization_3 (Weig (None, 512)               212481    \n",
            "_________________________________________________________________\n",
            "weight_normalization_4 (Weig (None, 256)               262913    \n",
            "_________________________________________________________________\n",
            "labels (Dense)               (None, 206)               52942     \n",
            "=================================================================\n",
            "Total params: 1,377,489\n",
            "Trainable params: 715,726\n",
            "Non-trainable params: 661,763\n",
            "_________________________________________________________________\n",
            "None\n"
          ],
          "name": "stdout"
        }
      ]
    },
    {
      "cell_type": "code",
      "metadata": {
        "id": "IFRar0K_Vh3j",
        "outputId": "4b4e008e-4275-42ce-881c-37e5df9039a3",
        "colab": {
          "base_uri": "https://localhost:8080/"
        }
      },
      "source": [
        "X_train.shape"
      ],
      "execution_count": 65,
      "outputs": [
        {
          "output_type": "execute_result",
          "data": {
            "text/plain": [
              "(21948, 1655)"
            ]
          },
          "metadata": {
            "tags": []
          },
          "execution_count": 65
        }
      ]
    },
    {
      "cell_type": "code",
      "metadata": {
        "id": "L7FaaZNRVk7C",
        "outputId": "15ed1334-b7c4-4068-e259-558e13239e55",
        "colab": {
          "base_uri": "https://localhost:8080/"
        }
      },
      "source": [
        "to_train_targets[cols_target].shape"
      ],
      "execution_count": 66,
      "outputs": [
        {
          "output_type": "execute_result",
          "data": {
            "text/plain": [
              "(21948, 206)"
            ]
          },
          "metadata": {
            "tags": []
          },
          "execution_count": 66
        }
      ]
    },
    {
      "cell_type": "code",
      "metadata": {
        "id": "m5W0-VN7-KhL",
        "outputId": "93ca6645-2bc8-49c8-ae14-c677643887d6",
        "colab": {
          "base_uri": "https://localhost:8080/",
          "height": 778
        }
      },
      "source": [
        "reduce_lr = ReduceLROnPlateau(monitor='val_loss', factor=0.3, patience=5, mode='min', min_lr=1E-5, verbose=1)\n",
        "early_stopping = EarlyStopping(monitor='val_loss', min_delta=1E-5, patience=15, mode='min',restore_best_weights=True, verbose=1)\n",
        "\n",
        "model.fit(X_train, to_train_targets[cols_target], batch_size=64, epochs=150,validation_split = 0.3\n",
        "         ,callbacks=[reduce_lr, early_stopping])"
      ],
      "execution_count": 64,
      "outputs": [
        {
          "output_type": "stream",
          "text": [
            "Epoch 1/150\n"
          ],
          "name": "stdout"
        },
        {
          "output_type": "error",
          "ename": "ValueError",
          "evalue": "ignored",
          "traceback": [
            "\u001b[0;31m---------------------------------------------------------------------------\u001b[0m",
            "\u001b[0;31mValueError\u001b[0m                                Traceback (most recent call last)",
            "\u001b[0;32m<ipython-input-64-f0db80b4d4f0>\u001b[0m in \u001b[0;36m<module>\u001b[0;34m()\u001b[0m\n\u001b[1;32m      3\u001b[0m \u001b[0;34m\u001b[0m\u001b[0m\n\u001b[1;32m      4\u001b[0m model.fit(X_train, to_train_targets[cols_target], batch_size=64, epochs=150,validation_split = 0.3\n\u001b[0;32m----> 5\u001b[0;31m          ,callbacks=[reduce_lr, early_stopping])\n\u001b[0m",
            "\u001b[0;32m/usr/local/lib/python3.6/dist-packages/tensorflow/python/keras/engine/training.py\u001b[0m in \u001b[0;36m_method_wrapper\u001b[0;34m(self, *args, **kwargs)\u001b[0m\n\u001b[1;32m    106\u001b[0m   \u001b[0;32mdef\u001b[0m \u001b[0m_method_wrapper\u001b[0m\u001b[0;34m(\u001b[0m\u001b[0mself\u001b[0m\u001b[0;34m,\u001b[0m \u001b[0;34m*\u001b[0m\u001b[0margs\u001b[0m\u001b[0;34m,\u001b[0m \u001b[0;34m**\u001b[0m\u001b[0mkwargs\u001b[0m\u001b[0;34m)\u001b[0m\u001b[0;34m:\u001b[0m\u001b[0;34m\u001b[0m\u001b[0;34m\u001b[0m\u001b[0m\n\u001b[1;32m    107\u001b[0m     \u001b[0;32mif\u001b[0m \u001b[0;32mnot\u001b[0m \u001b[0mself\u001b[0m\u001b[0;34m.\u001b[0m\u001b[0m_in_multi_worker_mode\u001b[0m\u001b[0;34m(\u001b[0m\u001b[0;34m)\u001b[0m\u001b[0;34m:\u001b[0m  \u001b[0;31m# pylint: disable=protected-access\u001b[0m\u001b[0;34m\u001b[0m\u001b[0;34m\u001b[0m\u001b[0m\n\u001b[0;32m--> 108\u001b[0;31m       \u001b[0;32mreturn\u001b[0m \u001b[0mmethod\u001b[0m\u001b[0;34m(\u001b[0m\u001b[0mself\u001b[0m\u001b[0;34m,\u001b[0m \u001b[0;34m*\u001b[0m\u001b[0margs\u001b[0m\u001b[0;34m,\u001b[0m \u001b[0;34m**\u001b[0m\u001b[0mkwargs\u001b[0m\u001b[0;34m)\u001b[0m\u001b[0;34m\u001b[0m\u001b[0;34m\u001b[0m\u001b[0m\n\u001b[0m\u001b[1;32m    109\u001b[0m \u001b[0;34m\u001b[0m\u001b[0m\n\u001b[1;32m    110\u001b[0m     \u001b[0;31m# Running inside `run_distribute_coordinator` already.\u001b[0m\u001b[0;34m\u001b[0m\u001b[0;34m\u001b[0m\u001b[0;34m\u001b[0m\u001b[0m\n",
            "\u001b[0;32m/usr/local/lib/python3.6/dist-packages/tensorflow/python/keras/engine/training.py\u001b[0m in \u001b[0;36mfit\u001b[0;34m(self, x, y, batch_size, epochs, verbose, callbacks, validation_split, validation_data, shuffle, class_weight, sample_weight, initial_epoch, steps_per_epoch, validation_steps, validation_batch_size, validation_freq, max_queue_size, workers, use_multiprocessing)\u001b[0m\n\u001b[1;32m   1096\u001b[0m                 batch_size=batch_size):\n\u001b[1;32m   1097\u001b[0m               \u001b[0mcallbacks\u001b[0m\u001b[0;34m.\u001b[0m\u001b[0mon_train_batch_begin\u001b[0m\u001b[0;34m(\u001b[0m\u001b[0mstep\u001b[0m\u001b[0;34m)\u001b[0m\u001b[0;34m\u001b[0m\u001b[0;34m\u001b[0m\u001b[0m\n\u001b[0;32m-> 1098\u001b[0;31m               \u001b[0mtmp_logs\u001b[0m \u001b[0;34m=\u001b[0m \u001b[0mtrain_function\u001b[0m\u001b[0;34m(\u001b[0m\u001b[0miterator\u001b[0m\u001b[0;34m)\u001b[0m\u001b[0;34m\u001b[0m\u001b[0;34m\u001b[0m\u001b[0m\n\u001b[0m\u001b[1;32m   1099\u001b[0m               \u001b[0;32mif\u001b[0m \u001b[0mdata_handler\u001b[0m\u001b[0;34m.\u001b[0m\u001b[0mshould_sync\u001b[0m\u001b[0;34m:\u001b[0m\u001b[0;34m\u001b[0m\u001b[0;34m\u001b[0m\u001b[0m\n\u001b[1;32m   1100\u001b[0m                 \u001b[0mcontext\u001b[0m\u001b[0;34m.\u001b[0m\u001b[0masync_wait\u001b[0m\u001b[0;34m(\u001b[0m\u001b[0;34m)\u001b[0m\u001b[0;34m\u001b[0m\u001b[0;34m\u001b[0m\u001b[0m\n",
            "\u001b[0;32m/usr/local/lib/python3.6/dist-packages/tensorflow/python/eager/def_function.py\u001b[0m in \u001b[0;36m__call__\u001b[0;34m(self, *args, **kwds)\u001b[0m\n\u001b[1;32m    778\u001b[0m       \u001b[0;32melse\u001b[0m\u001b[0;34m:\u001b[0m\u001b[0;34m\u001b[0m\u001b[0;34m\u001b[0m\u001b[0m\n\u001b[1;32m    779\u001b[0m         \u001b[0mcompiler\u001b[0m \u001b[0;34m=\u001b[0m \u001b[0;34m\"nonXla\"\u001b[0m\u001b[0;34m\u001b[0m\u001b[0;34m\u001b[0m\u001b[0m\n\u001b[0;32m--> 780\u001b[0;31m         \u001b[0mresult\u001b[0m \u001b[0;34m=\u001b[0m \u001b[0mself\u001b[0m\u001b[0;34m.\u001b[0m\u001b[0m_call\u001b[0m\u001b[0;34m(\u001b[0m\u001b[0;34m*\u001b[0m\u001b[0margs\u001b[0m\u001b[0;34m,\u001b[0m \u001b[0;34m**\u001b[0m\u001b[0mkwds\u001b[0m\u001b[0;34m)\u001b[0m\u001b[0;34m\u001b[0m\u001b[0;34m\u001b[0m\u001b[0m\n\u001b[0m\u001b[1;32m    781\u001b[0m \u001b[0;34m\u001b[0m\u001b[0m\n\u001b[1;32m    782\u001b[0m       \u001b[0mnew_tracing_count\u001b[0m \u001b[0;34m=\u001b[0m \u001b[0mself\u001b[0m\u001b[0;34m.\u001b[0m\u001b[0m_get_tracing_count\u001b[0m\u001b[0;34m(\u001b[0m\u001b[0;34m)\u001b[0m\u001b[0;34m\u001b[0m\u001b[0;34m\u001b[0m\u001b[0m\n",
            "\u001b[0;32m/usr/local/lib/python3.6/dist-packages/tensorflow/python/eager/def_function.py\u001b[0m in \u001b[0;36m_call\u001b[0;34m(self, *args, **kwds)\u001b[0m\n\u001b[1;32m    814\u001b[0m       \u001b[0mresults\u001b[0m \u001b[0;34m=\u001b[0m \u001b[0mself\u001b[0m\u001b[0;34m.\u001b[0m\u001b[0m_stateful_fn\u001b[0m\u001b[0;34m(\u001b[0m\u001b[0;34m*\u001b[0m\u001b[0margs\u001b[0m\u001b[0;34m,\u001b[0m \u001b[0;34m**\u001b[0m\u001b[0mkwds\u001b[0m\u001b[0;34m)\u001b[0m\u001b[0;34m\u001b[0m\u001b[0;34m\u001b[0m\u001b[0m\n\u001b[1;32m    815\u001b[0m       \u001b[0;32mif\u001b[0m \u001b[0mself\u001b[0m\u001b[0;34m.\u001b[0m\u001b[0m_created_variables\u001b[0m\u001b[0;34m:\u001b[0m\u001b[0;34m\u001b[0m\u001b[0;34m\u001b[0m\u001b[0m\n\u001b[0;32m--> 816\u001b[0;31m         raise ValueError(\"Creating variables on a non-first call to a function\"\n\u001b[0m\u001b[1;32m    817\u001b[0m                          \" decorated with tf.function.\")\n\u001b[1;32m    818\u001b[0m       \u001b[0;32mreturn\u001b[0m \u001b[0mresults\u001b[0m\u001b[0;34m\u001b[0m\u001b[0;34m\u001b[0m\u001b[0m\n",
            "\u001b[0;31mValueError\u001b[0m: Creating variables on a non-first call to a function decorated with tf.function."
          ]
        }
      ]
    },
    {
      "cell_type": "code",
      "metadata": {
        "id": "9lYFRWucVi9R"
      },
      "source": [
        ""
      ],
      "execution_count": null,
      "outputs": []
    },
    {
      "cell_type": "code",
      "metadata": {
        "id": "-ShJX9oI-KhQ"
      },
      "source": [
        "'''\n",
        "Dùng batch 64 -> dùng tiếp 128 thì thấy loss giảm\n",
        "Tăng batch_size lên 256 thì thấy val_loss tăng\n",
        "Training không với batch 128 thì thấy loss vẫn cao\n",
        "'''"
      ],
      "execution_count": null,
      "outputs": []
    }
  ]
}