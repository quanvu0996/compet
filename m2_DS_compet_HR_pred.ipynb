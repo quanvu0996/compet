{
  "nbformat": 4,
  "nbformat_minor": 0,
  "metadata": {
    "kernelspec": {
      "display_name": "Python 3",
      "language": "python",
      "name": "python3"
    },
    "language_info": {
      "codemirror_mode": {
        "name": "ipython",
        "version": 3
      },
      "file_extension": ".py",
      "mimetype": "text/x-python",
      "name": "python",
      "nbconvert_exporter": "python",
      "pygments_lexer": "ipython3",
      "version": "3.8.0"
    },
    "colab": {
      "name": "m1_DS_compet_HR_pred.ipynb",
      "provenance": []
    },
    "accelerator": "GPU"
  },
  "cells": [
    {
      "cell_type": "code",
      "metadata": {
        "colab": {
          "base_uri": "https://localhost:8080/"
        },
        "id": "fI6Nz6W9-7V5",
        "outputId": "04b77f7e-14e2-478f-9c37-7de5ec8fae72"
      },
      "source": [
        "# FOR GOOGLE COLAB\n",
        "from google.colab import drive\n",
        "drive.mount('/content/drive')\n",
        "!pip install xgboost\n",
        "!pip install catboost\n",
        "!pip install lightgbm"
      ],
      "execution_count": null,
      "outputs": [
        {
          "output_type": "stream",
          "text": [
            "Drive already mounted at /content/drive; to attempt to forcibly remount, call drive.mount(\"/content/drive\", force_remount=True).\n",
            "Requirement already satisfied: xgboost in /usr/local/lib/python3.6/dist-packages (0.90)\n",
            "Requirement already satisfied: scipy in /usr/local/lib/python3.6/dist-packages (from xgboost) (1.4.1)\n",
            "Requirement already satisfied: numpy in /usr/local/lib/python3.6/dist-packages (from xgboost) (1.19.4)\n",
            "Requirement already satisfied: catboost in /usr/local/lib/python3.6/dist-packages (0.24.4)\n",
            "Requirement already satisfied: plotly in /usr/local/lib/python3.6/dist-packages (from catboost) (4.4.1)\n",
            "Requirement already satisfied: scipy in /usr/local/lib/python3.6/dist-packages (from catboost) (1.4.1)\n",
            "Requirement already satisfied: numpy>=1.16.0 in /usr/local/lib/python3.6/dist-packages (from catboost) (1.19.4)\n",
            "Requirement already satisfied: matplotlib in /usr/local/lib/python3.6/dist-packages (from catboost) (3.2.2)\n",
            "Requirement already satisfied: graphviz in /usr/local/lib/python3.6/dist-packages (from catboost) (0.10.1)\n",
            "Requirement already satisfied: pandas>=0.24.0 in /usr/local/lib/python3.6/dist-packages (from catboost) (1.1.5)\n",
            "Requirement already satisfied: six in /usr/local/lib/python3.6/dist-packages (from catboost) (1.15.0)\n",
            "Requirement already satisfied: retrying>=1.3.3 in /usr/local/lib/python3.6/dist-packages (from plotly->catboost) (1.3.3)\n",
            "Requirement already satisfied: python-dateutil>=2.1 in /usr/local/lib/python3.6/dist-packages (from matplotlib->catboost) (2.8.1)\n",
            "Requirement already satisfied: cycler>=0.10 in /usr/local/lib/python3.6/dist-packages (from matplotlib->catboost) (0.10.0)\n",
            "Requirement already satisfied: kiwisolver>=1.0.1 in /usr/local/lib/python3.6/dist-packages (from matplotlib->catboost) (1.3.1)\n",
            "Requirement already satisfied: pyparsing!=2.0.4,!=2.1.2,!=2.1.6,>=2.0.1 in /usr/local/lib/python3.6/dist-packages (from matplotlib->catboost) (2.4.7)\n",
            "Requirement already satisfied: pytz>=2017.2 in /usr/local/lib/python3.6/dist-packages (from pandas>=0.24.0->catboost) (2018.9)\n",
            "Requirement already satisfied: lightgbm in /usr/local/lib/python3.6/dist-packages (2.2.3)\n",
            "Requirement already satisfied: numpy in /usr/local/lib/python3.6/dist-packages (from lightgbm) (1.19.4)\n",
            "Requirement already satisfied: scipy in /usr/local/lib/python3.6/dist-packages (from lightgbm) (1.4.1)\n",
            "Requirement already satisfied: scikit-learn in /usr/local/lib/python3.6/dist-packages (from lightgbm) (0.22.2.post1)\n",
            "Requirement already satisfied: joblib>=0.11 in /usr/local/lib/python3.6/dist-packages (from scikit-learn->lightgbm) (1.0.0)\n"
          ],
          "name": "stdout"
        }
      ]
    },
    {
      "cell_type": "code",
      "metadata": {
        "id": "hCBgXO9G-2K3"
      },
      "source": [
        "import numpy as np\n",
        "import pandas as pd\n",
        "import tensorflow as tf\n",
        "import sklearn as sk\n",
        "import matplotlib.pyplot as plt\n",
        "from sklearn.model_selection import train_test_split\n",
        "from sklearn.pipeline import Pipeline\n",
        "from sklearn.compose import ColumnTransformer\n",
        "from sklearn import preprocessing\n",
        "from sklearn import ensemble\n",
        "from sklearn.impute import SimpleImputer\n",
        "from sklearn.metrics import accuracy_score, precision_score, recall_score, f1_score,roc_curve, auc, confusion_matrix\n",
        "from sklearn.base import BaseEstimator, TransformerMixin\n",
        "from sklearn.svm import LinearSVC\n",
        "from sklearn.linear_model import LogisticRegression\n",
        "from xgboost import XGBClassifier\n",
        "from catboost import CatBoostClassifier\n",
        "from lightgbm import LGBMClassifier"
      ],
      "execution_count": null,
      "outputs": []
    },
    {
      "cell_type": "code",
      "metadata": {
        "id": "D6i9oHav-2LS"
      },
      "source": [
        "# numerical data processing\n",
        "def _transfrom_basic(df ):\n",
        "    df['is_fresher'] = df['previous_year_rating'].apply(lambda x: 1 if x ==0 else 0 )\n",
        "    df['age_2'] = pd.cut( x=df['age'], bins=[20, 29, 39, 49], labels=['0', '1', '2'] )\n",
        "    return df\n",
        "\n",
        "\n",
        "class AddStatisticFt(BaseEstimator, TransformerMixin):\n",
        "    def fit(self,X,y=None):\n",
        "        return self # not relevant here\n",
        "\n",
        "    def transform(self,X):\n",
        "        inp = X.copy()\n",
        "        pro1 = np.expand_dims( np.mean(inp, axis = 1) , -1)\n",
        "        pro2 = np.expand_dims( np.std(inp, axis = 1) , -1)\n",
        "        pro3 = np.expand_dims( np.median(inp, axis = 1) , -1)\n",
        "        pro4 = np.expand_dims( np.var(inp, axis = 1) , -1)\n",
        "        return np.concatenate([inp, pro1, pro2, pro3, pro4], axis= 1) \n",
        "\n",
        "\n",
        "# Multicolumn Label encoder\n",
        "class MultiColumnLabelEncoder(BaseEstimator, TransformerMixin):\n",
        "    def __init__(self,columns = None):\n",
        "        self.columns = columns # array of column names to encode\n",
        "        self.dict_encoder = {}\n",
        "\n",
        "    def fit(self,X,y=None):\n",
        "        for i in self.columns:\n",
        "            encoder = preprocessing.LabelEncoder()\n",
        "            encoder.fit(X[i].astype(str))\n",
        "            self.dict_encoder[i] = encoder\n",
        "        return self # not relevant here\n",
        "\n",
        "    def transform(self,X):\n",
        "        output = X[self.columns].copy()\n",
        "        for i in self.columns:\n",
        "            output[i] = self.dict_encoder[i].transform(output[i])\n",
        "        return output\n",
        "\n",
        "def evaluate_model(model, X, y):\n",
        "    try:\n",
        "        y_pred = model.predict_proba(X)[:, 1]\n",
        "    except:\n",
        "        y_pred = model.predict(X)\n",
        "\n",
        "    fpr_rt_lm, tpr_rt_lm, _ = roc_curve(y, y_pred)\n",
        "    auc_s = auc(fpr_rt_lm, tpr_rt_lm)\n",
        "    print('AUC: ', auc_s)\n",
        "    print('Gini: ', 2*auc_s - 1)\n",
        "\n",
        "    plt.plot([0, 1], [0, 1], 'k--')\n",
        "    plt.plot(fpr_rt_lm, tpr_rt_lm, label='RT + LR')\n",
        "    plt.xlabel('False positive rate')\n",
        "    plt.ylabel('True positive rate')\n",
        "    plt.title('ROC curve')\n",
        "    plt.legend(loc='best')\n",
        "    plt.show()"
      ],
      "execution_count": null,
      "outputs": []
    },
    {
      "cell_type": "code",
      "metadata": {
        "id": "RZ8BTebr-2LT"
      },
      "source": [
        "folder_path = '/content/drive/MyDrive/Data/colabs_data/HR_pred'\n",
        "train_path = folder_path + '/train_LZdllcl.csv'\n",
        "test_path = folder_path +  '/test_2umaH9m.csv'"
      ],
      "execution_count": null,
      "outputs": []
    },
    {
      "cell_type": "code",
      "metadata": {
        "id": "MnHwmWdN-2LU"
      },
      "source": [
        "# Data loading\n",
        "df_train = pd.read_csv(train_path)\n",
        "df_test = pd.read_csv(test_path)"
      ],
      "execution_count": null,
      "outputs": []
    },
    {
      "cell_type": "code",
      "metadata": {
        "id": "4_6VJhCa-2LU"
      },
      "source": [
        "# cols classifying\n",
        "cols_id = ['employee_id']\n",
        "col_label = 'is_promoted'\n",
        "cols_ft = [col for col in df_train.columns if col not in cols_id + [col_label] ] +['is_fresher', 'age_2']\n",
        "cols_ft_cat = [col for col in df_train.columns if col not in cols_id + [col_label] and df_train[col].dtype=='object'] +['age_2']\n",
        "cols_ft_num = [col for col in cols_ft if col not in cols_ft_cat] + ['is_fresher']"
      ],
      "execution_count": null,
      "outputs": []
    },
    {
      "cell_type": "code",
      "metadata": {
        "scrolled": true,
        "id": "tzHdJP0p-2LV"
      },
      "source": [
        "# for i in cols_ft_cat:\n",
        "#     print( df_train.groupby(i)['employee_id'].count().sort_values(ascending = False) )\n",
        "# # => dữ liệu khá sạch"
      ],
      "execution_count": null,
      "outputs": []
    },
    {
      "cell_type": "code",
      "metadata": {
        "id": "iKgxFwKd-2LW"
      },
      "source": [
        "df_train = _transfrom_basic(df_train)\n",
        "df_test = _transfrom_basic(df_test)\n",
        "\n",
        "df_train[cols_ft_cat] = df_train[cols_ft_cat].fillna('missing')\n",
        "df_test[cols_ft_cat] = df_test[cols_ft_cat].fillna('missing')"
      ],
      "execution_count": null,
      "outputs": []
    },
    {
      "cell_type": "code",
      "metadata": {
        "id": "j21D_Kv3-2LX"
      },
      "source": [
        "X_train, X_test, y_train, y_test = train_test_split( df_train[cols_ft], df_train[col_label], test_size=0.33, random_state=42)"
      ],
      "execution_count": null,
      "outputs": []
    },
    {
      "cell_type": "code",
      "metadata": {
        "scrolled": true,
        "id": "SJBzG09j-2LX"
      },
      "source": [
        "# Model compile\n",
        "estimators = [\n",
        "    (\n",
        "        'xgb', XGBClassifier(learning_rate =0.1, n_estimators=494, max_depth=5, subsample = 0.70, verbosity = 0,\n",
        "              scale_pos_weight = 2.5, updater =\"grow_histmaker\", base_score  = 0.2)\n",
        "    ),\n",
        "    (\n",
        "        'catboost', CatBoostClassifier(learning_rate=0.15, n_estimators=494, subsample=0.085, max_depth=5, scale_pos_weight=2.5)\n",
        "    ),\n",
        "    (\n",
        "        'lightgbm', LGBMClassifier(subsample_freq = 2,  objective =\"binary\",  importance_type = \"gain\",  verbosity = -1,   max_bin = 60,  \n",
        "                              num_leaves = 300,  boosting_type = 'dart',  learning_rate=0.15,   n_estimators=494,  \n",
        "                              max_depth=5,   scale_pos_weight=2.5)\n",
        "    ),\n",
        "\n",
        "]\n",
        "clf = ensemble.VotingClassifier(estimators= estimators, voting='soft',weights=[5,5,5.2])\n",
        "# ensemble.StackingClassifier(\n",
        "#     estimators=estimators, final_estimator=LogisticRegression(), \n",
        "#     cv = 10, n_jobs = -1\n",
        "# )\n",
        "\n",
        "p_cat = Pipeline([\n",
        "#     ('imputer', SimpleImputer(strategy='constant', fill_value='missing')) ,\n",
        "    ('encode', preprocessing.OneHotEncoder()) #  MultiColumnLabelEncoder(columns = cols_ft_cat )\n",
        "])\n",
        "p_num = Pipeline([\n",
        "    ('add_cols', NumericalProcessing()),\n",
        "    ('fillna', SimpleImputer(strategy='constant', fill_value=0)),\n",
        "    ('norm', preprocessing.RobustScaler()),\n",
        "    ('add_stats',AddStatisticFt())\n",
        "])\n",
        "p1 = ColumnTransformer([\n",
        "    ('cat', p_cat, cols_ft_cat ),\n",
        "    ('num', p_num, cols_ft_num)\n",
        "])\n",
        "\n",
        "p1.fit(pd.concat([df_train[cols_ft], df_test[cols_ft]]))\n",
        "\n",
        "pipe = Pipeline([\n",
        "    ('transformer', p1),\n",
        "    ('predictor', clf)\n",
        "])\n",
        "\n",
        "#### Fitting\n",
        "pipe.fit(df_train[cols_ft], df_train[col_label])\n",
        "# pipe.fit(X_train, y_train)\n",
        "\n",
        "# Evaluating\n",
        "print('Test AUC')\n",
        "evaluate_model(pipe, X_test[cols_ft], y_test)\n",
        "\n",
        "print('Train AUC')\n",
        "evaluate_model(pipe, X_train[cols_ft], y_train)"
      ],
      "execution_count": null,
      "outputs": []
    },
    {
      "cell_type": "code",
      "metadata": {
        "id": "0wbhFU2e-2La"
      },
      "source": [
        "df_test['is_promoted'] = pipe.predict(df_test[cols_ft])"
      ],
      "execution_count": null,
      "outputs": []
    },
    {
      "cell_type": "code",
      "metadata": {
        "id": "4-5AHpV8-2Lb"
      },
      "source": [
        "# df_test[['employee_id', 'is_promoted']].to_csv( folder_path + '/submission.csv', index = False)\r\n",
        "df_test[['employee_id', 'is_promoted']].to_csv( 'submission.csv', index = False)"
      ],
      "execution_count": null,
      "outputs": []
    },
    {
      "cell_type": "code",
      "metadata": {
        "id": "OfdTshVK-2Lb"
      },
      "source": [
        ""
      ],
      "execution_count": null,
      "outputs": []
    }
  ]
}