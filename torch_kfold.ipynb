{
  "nbformat": 4,
  "nbformat_minor": 0,
  "metadata": {
    "kernelspec": {
      "name": "python3",
      "display_name": "Python 3",
      "language": "python"
    },
    "language_info": {
      "name": "python",
      "version": "3.7.6",
      "mimetype": "text/x-python",
      "codemirror_mode": {
        "name": "ipython",
        "version": 3
      },
      "pygments_lexer": "ipython3",
      "nbconvert_exporter": "python",
      "file_extension": ".py"
    },
    "colab": {
      "name": "torch_kfold.ipynb",
      "provenance": []
    },
    "accelerator": "GPU"
  },
  "cells": [
    {
      "cell_type": "code",
      "metadata": {
        "_uuid": "8f2839f25d086af736a60e9eeb907d3b93b6e0e5",
        "_cell_guid": "b1076dfc-b9ad-4769-8c92-a6c4dae69d19",
        "trusted": true,
        "_kg_hide-input": true,
        "id": "40gIn_b5Ag6-"
      },
      "source": [
        "# import sys\n",
        "# sys.path.append('../input/iterativestratification')\n",
        "# from iterstrat.ml_stratifiers import MultilabelStratifiedKFold"
      ],
      "execution_count": 7,
      "outputs": []
    },
    {
      "cell_type": "code",
      "metadata": {
        "id": "vfn8ddokAnPV",
        "outputId": "0a77cd4d-6fa6-4d18-85c7-6c390bb515b2",
        "colab": {
          "base_uri": "https://localhost:8080/"
        }
      },
      "source": [
        "from google.colab import drive\n",
        "drive.mount('/content/drive')"
      ],
      "execution_count": 1,
      "outputs": [
        {
          "output_type": "stream",
          "text": [
            "Mounted at /content/drive\n"
          ],
          "name": "stdout"
        }
      ]
    },
    {
      "cell_type": "code",
      "metadata": {
        "_uuid": "d629ff2d2480ee46fbb7e2d37f6b5fab8052498a",
        "_cell_guid": "79c7e3d0-c299-4dcb-8224-4455121ee9b0",
        "trusted": true,
        "_kg_hide-input": true,
        "id": "40l9uRYQAg7M",
        "outputId": "4b1155c1-80ac-40e0-97d5-aa21fad85441",
        "colab": {
          "base_uri": "https://localhost:8080/"
        }
      },
      "source": [
        "import numpy as np\n",
        "import pandas as pd\n",
        "import copy\n",
        "import os\n",
        "\n",
        "import tensorflow as tf\n",
        "from tensorflow import feature_column as fc\n",
        "from tensorflow.keras.losses import BinaryCrossentropy\n",
        "from tensorflow.keras.layers import (Dense, DenseFeatures, Dropout, \n",
        "                                     BatchNormalization, Embedding, Input, Concatenate, Average,\n",
        "                                     InputLayer, Lambda)\n",
        "from tensorflow.keras.metrics import AUC, Precision, Recall\n",
        "from tensorflow.keras import backend as K, Sequential, Model\n",
        "from tensorflow.keras.callbacks import ReduceLROnPlateau, EarlyStopping\n",
        "from tensorflow.keras.optimizers import Adam, RMSprop\n",
        "\n",
        "from tensorflow_addons.layers import WeightNormalization\n",
        "from keras.wrappers.scikit_learn import KerasRegressor\n",
        "import keras\n",
        "\n",
        "from sklearn.preprocessing import QuantileTransformer, StandardScaler\n",
        "from sklearn.base import BaseEstimator, TransformerMixin\n",
        "from sklearn.pipeline import Pipeline, FeatureUnion\n",
        "from sklearn.compose import ColumnTransformer\n",
        "from sklearn.feature_selection import VarianceThreshold\n",
        "from sklearn.decomposition import PCA\n",
        "from sklearn.model_selection import KFold\n",
        "from sklearn.cluster import KMeans\n",
        "\n",
        "import torch\n",
        "import torch.nn as nn\n",
        "import torch.nn.functional as F\n",
        "import torch.optim as optim\n",
        "from torch.nn.modules.loss import _WeightedLoss\n",
        "from torch.utils.data import DataLoader,  TensorDataset\n",
        "\n",
        "import random\n",
        "\n",
        "import warnings\n",
        "warnings.filterwarnings('ignore')\n",
        "\n",
        "import matplotlib.pyplot as plt\n",
        "from math import log2\n",
        "\n",
        "print(pd.__version__)\n",
        "print(tf.__version__)"
      ],
      "execution_count": 8,
      "outputs": [
        {
          "output_type": "stream",
          "text": [
            "1.1.4\n",
            "2.3.0\n"
          ],
          "name": "stdout"
        }
      ]
    },
    {
      "cell_type": "code",
      "metadata": {
        "trusted": true,
        "_kg_hide-input": true,
        "id": "gcij-OB4Ag7T"
      },
      "source": [
        "# Loading data and encoding\n",
        "\n",
        "folder_path = '/content/drive/My Drive/Data/colabs_data/MOA_kaggle/'\n",
        "raw_test = pd.read_csv(folder_path + 'test_features.csv')\n",
        "raw_train = pd.read_csv(folder_path + 'train_features.csv')\n",
        "raw_targets = pd.read_csv(folder_path + 'train_targets_scored.csv')\n",
        "\n",
        "# Phân loại dữ liệu\n",
        "cols_id = ['sig_id']\n",
        "cols_to_remove = ['cp_type']\n",
        "cols_fts = [i for i in raw_train.columns if i not in cols_id +cols_to_remove]\n",
        "cols_gene = [col for col in raw_train.columns if col.startswith(\"g-\")]\n",
        "cols_cell = [col for col in raw_train.columns if col.startswith(\"c-\")]\n",
        "cols_experiment = [col for col in cols_fts if col not in cols_gene+cols_cell]\n",
        "cols_target = [i for i in raw_targets.columns if i not in cols_id]\n",
        "num_fts, num_labels = len(cols_fts), len(cols_target)\n",
        "\n",
        "# xử lý categorical\n",
        "def transform_data(input_data):\n",
        "    '''Clean data and encoding\n",
        "        * input_data: table '''\n",
        "    out = input_data.copy()\n",
        "    out['cp_dose'] = out['cp_dose'].map({'D1':0, 'D2':1})\n",
        "    out['cp_time'] = out['cp_time']/72\n",
        "    \n",
        "    return out\n",
        "\n",
        "to_train = transform_data(raw_train[raw_train['cp_type'] != 'ctl_vehicle'])\n",
        "to_train_targets = raw_targets.iloc[to_train.index]\n",
        "to_pred  = transform_data(raw_test)\n",
        "to_pred_non_ctl = to_pred[to_pred['cp_type'] != 'ctl_vehicle']"
      ],
      "execution_count": 3,
      "outputs": []
    },
    {
      "cell_type": "code",
      "metadata": {
        "id": "dHmBPeZhc1b6",
        "outputId": "153797ff-f179-4a9e-e952-b8e64f45e563",
        "colab": {
          "base_uri": "https://localhost:8080/",
          "height": 762
        }
      },
      "source": [
        "scaler = QuantileTransformer(n_quantiles=100,random_state=0, output_distribution=\"normal\")\n",
        "scaled_train_fts = scaler.fit_transform(to_train[cols_fts])\n",
        "# kmean = Kmeans(n_clusters = )\n",
        "distortions = []\n",
        "K = range(1,15, 1)\n",
        "for k in K:\n",
        "    kmeanModel = KMeans(n_clusters=k)\n",
        "    kmeanModel.fit(scaled_train_fts)\n",
        "    distortions.append(kmeanModel.inertia_)\n",
        "    print(k, \" : \",kmeanModel.inertia_)\n",
        "    \n",
        "plt.figure(figsize=(16,8))\n",
        "plt.plot(K, distortions, 'bx-')\n",
        "plt.xlabel('k')\n",
        "plt.ylabel('Distortion')\n",
        "plt.title('The Elbow Method showing the optimal k')\n",
        "plt.show()"
      ],
      "execution_count": 12,
      "outputs": [
        {
          "output_type": "stream",
          "text": [
            "1  :  20254572.911334965\n",
            "2  :  17837862.70677919\n",
            "3  :  17240687.1472074\n",
            "4  :  16696893.061556797\n",
            "5  :  16380092.476128293\n",
            "6  :  16145758.242495641\n",
            "7  :  15933070.083596867\n",
            "8  :  15721919.769195586\n",
            "9  :  15552311.197275728\n",
            "10  :  15411201.016965305\n",
            "11  :  15275110.404905742\n",
            "12  :  15147023.306696098\n",
            "13  :  15043092.142752526\n",
            "14  :  14936886.076654375\n"
          ],
          "name": "stdout"
        },
        {
          "output_type": "display_data",
          "data": {
            "image/png": "[encoded data removed]",
            "text/plain": [
              "<Figure size 1152x576 with 1 Axes>"
            ]
          },
          "metadata": {
            "tags": [],
            "needs_background": "light"
          }
        }
      ]
    },
    {
      "cell_type": "code",
      "metadata": {
        "trusted": true,
        "_kg_hide-input": true,
        "id": "r5IZap1yAg7Y"
      },
      "source": [
        "# preprocessing pipeline\n",
        "def pipe_line_builder(quantiles_num, pca_dims):\n",
        "    '''Dựng pipe line cho từng nhóm columns\n",
        "    :quantiles_num: int: số quantile khi normalise\n",
        "    :pca_dims: int: số chiều pca'''\n",
        "    norm = QuantileTransformer(n_quantiles=quantiles_num,random_state=0, output_distribution=\"normal\")\n",
        "    pca = PCA(n_components = pca_dims)\n",
        "    # kmean = KMeans(kmean_centroids)\n",
        "    p_norm_pca = Pipeline([ \n",
        "        ('norm', norm),\n",
        "        ('pca', pca)\n",
        "    ])\n",
        "    return FeatureUnion([\n",
        "        ('norm', norm), \n",
        "        ('norm_pca', p_norm_pca) \n",
        "        ])\n",
        "\n",
        "pipe = Pipeline([\n",
        "    ('norm_pca', ColumnTransformer([\n",
        "                     ('gene', pipe_line_builder(quantiles_num = 200, pca_dims = 600), cols_gene),\n",
        "                     ('cell', pipe_line_builder(quantiles_num = 200, pca_dims = 50), cols_cell),\n",
        "                    ]) \n",
        "    ), \n",
        "    ('var', VarianceThreshold(0.02)) \n",
        "])\n",
        "\n",
        "pipe = ColumnTransformer([\n",
        "    ('gene_cell', pipe, cols_gene+ cols_cell),\n",
        "    ('experiment', 'passthrough', cols_experiment)\n",
        "])"
      ],
      "execution_count": 4,
      "outputs": []
    },
    {
      "cell_type": "code",
      "metadata": {
        "trusted": true,
        "id": "9XXsZg1FAg7d",
        "outputId": "d57490ff-d923-4dc4-886b-102166c13a7c",
        "colab": {
          "base_uri": "https://localhost:8080/"
        }
      },
      "source": [
        "# Final data\n",
        "pipe.fit(to_train[cols_fts].append(to_pred[cols_fts]))\n",
        "X_train = pipe.transform(to_train[cols_fts])\n",
        "X_pred = pipe.transform(to_pred_non_ctl[cols_fts])\n",
        "y_train_df = to_train_targets[cols_target]\n",
        "X_train"
      ],
      "execution_count": 12,
      "outputs": [
        {
          "output_type": "execute_result",
          "data": {
            "text/plain": [
              "array([[ 1.12865013,  0.89757181, -0.43257076, ...,  1.90982532,\n",
              "         0.33333333,  0.        ],\n",
              "       [ 0.11963182,  0.66804082,  0.2620229 , ...,  0.04832474,\n",
              "         1.        ,  0.        ],\n",
              "       [ 0.77965924,  0.93525417,  1.41545837, ..., -0.8483429 ,\n",
              "         0.66666667,  0.        ],\n",
              "       ...,\n",
              "       [-1.94725399,  0.5723286 , -0.60322335, ..., -0.2740858 ,\n",
              "         0.33333333,  1.        ],\n",
              "       [ 0.81585077,  0.40123688,  0.42092442, ..., -1.10770323,\n",
              "         0.33333333,  0.        ],\n",
              "       [-1.27014803,  1.56905205, -0.28473651, ..., -0.15900133,\n",
              "         1.        ,  0.        ]])"
            ]
          },
          "metadata": {
            "tags": []
          },
          "execution_count": 12
        }
      ]
    },
    {
      "cell_type": "code",
      "metadata": {
        "trusted": true,
        "id": "Lk0vIJw9Ag7j"
      },
      "source": [
        "class Model(nn.Module):\n",
        "    def __init__(self, n_features, n_targets, hidden_size=512, dropratio=0.2):\n",
        "        super(Model, self).__init__()\n",
        "        self.batch_norm1 = nn.BatchNorm1d(n_features)\n",
        "        self.dropout1 = nn.Dropout(dropratio)\n",
        "        self.dense1 = nn.utils.weight_norm(nn.Linear(n_features, hidden_size))\n",
        "        \n",
        "        self.batch_norm2 = nn.BatchNorm1d(hidden_size)\n",
        "        self.dropout2 = nn.Dropout(dropratio)\n",
        "        self.dense2 = nn.utils.weight_norm(nn.Linear(hidden_size, hidden_size))\n",
        "        \n",
        "        # self.batch_norm2a = nn.BatchNorm1d(hidden_size)\n",
        "        # self.dropout2a = nn.Dropout(dropratio)\n",
        "        # self.dense2a = nn.utils.weight_norm(nn.Linear(hidden_size, 512))\n",
        "        \n",
        "        self.batch_norm3 = nn.BatchNorm1d(hidden_size)\n",
        "        self.dropout3 = nn.Dropout(dropratio)\n",
        "        self.dense3 = nn.utils.weight_norm(nn.Linear( hidden_size, n_targets))\n",
        "        \n",
        "        self.relu = nn.ReLU()\n",
        "        self.sigmoid = nn.Sigmoid()\n",
        "        \n",
        "    def forward(self, x):\n",
        "        x = self.batch_norm1(x)\n",
        "        x = self.dropout1(x)\n",
        "        x = self.relu(self.dense1(x))\n",
        "        \n",
        "        x = self.batch_norm2(x)\n",
        "        x = self.dropout2(x)\n",
        "        x = self.relu(self.dense2(x))\n",
        "        \n",
        "        # x = self.batch_norm2a(x)\n",
        "        # x = self.dropout2a(x)\n",
        "        # x = self.relu(self.dense2a(x))\n",
        "        \n",
        "        x = self.batch_norm3(x)\n",
        "        x = self.dropout3(x)\n",
        "        x = self.dense3(x)\n",
        "#         x = self.sigmoid(x)\n",
        "        \n",
        "        return x\n",
        "\n",
        "# label smmothing\n",
        "class SmoothCrossEntropyLoss(_WeightedLoss):\n",
        "    def __init__(self, weight=None, reduction='mean', smoothing=0.0):\n",
        "        super().__init__(weight=weight, reduction=reduction)\n",
        "        self.smoothing = smoothing\n",
        "        self.weight = weight\n",
        "        self.reduction = reduction\n",
        "\n",
        "    @staticmethod\n",
        "    def _smooth(targets, n_classes, smoothing=0.0):\n",
        "        assert 0 <= smoothing <= 1\n",
        "        with torch.no_grad():\n",
        "#             targets = targets * (1.0 - smoothing) + 0.5 * smoothing\n",
        "            targets = targets * (1 - smoothing) + torch.ones_like(targets).to(device) * smoothing / n_classes\n",
        "        return targets\n",
        "\n",
        "    def forward(self, inputs, targets):\n",
        "        targets = SmoothCrossEntropyLoss()._smooth(targets, inputs.shape[1], self.smoothing)\n",
        "\n",
        "        if self.weight is not None:\n",
        "            inputs = inputs * self.weight.unsqueeze(0)\n",
        "\n",
        "        loss = F.binary_cross_entropy_with_logits(inputs, targets)\n",
        "\n",
        "        return loss\n",
        "\n",
        "def running_train(X_train, Y_train, X_val, Y_val, dataloader, i_fold=None, seed=None):\n",
        "    # prepare for train\n",
        "    model = Model(n_features=X_train.shape[1], n_targets=Y_train.shape[1], hidden_size=hsize, dropratio=dropratio).to(device)\n",
        "    criterion = SmoothCrossEntropyLoss(smoothing=smoothing)\n",
        "    metric = lambda inputs, targets : F.binary_cross_entropy((torch.clamp(torch.sigmoid(inputs), p_min, p_max)), targets)\n",
        "    optimizer = torch.optim.Adam(params=model.parameters(), lr=lr, weight_decay=wd)\n",
        "    if lr_scheduler == 'OneCycleLR' or lr_scheduler == 'both':\n",
        "        scheduler1 = torch.optim.lr_scheduler.OneCycleLR(optimizer=optimizer, pct_start=pct_start, div_factor=div_factor, \n",
        "                                                    max_lr=1e-2, epochs=nepoch, steps_per_epoch=len(dataloader))\n",
        "    if lr_scheduler == 'ReduceLROnPlateau' or lr_scheduler == 'both':\n",
        "        scheduler2 = torch.optim.lr_scheduler.ReduceLROnPlateau(optimizer=optimizer, mode='min', factor=0.5, patience=3)\n",
        "    # train\n",
        "    min_valmetric = np.inf\n",
        "    step = 0\n",
        "    for epoch in range(nepoch):\n",
        "        train_loss = 0\n",
        "        train_metric = 0\n",
        "        for i, (X, Y) in enumerate(dataloader):\n",
        "            model.train()\n",
        "            predictions = model(X.to(device=device))\n",
        "            loss = criterion(predictions, Y.to(device=device))\n",
        "            optimizer.zero_grad()\n",
        "            loss.backward()\n",
        "            optimizer.step()\n",
        "            if lr_scheduler == 'OneCycleLR' or lr_scheduler == 'both':\n",
        "                scheduler1.step()\n",
        "\n",
        "            train_loss += loss.item()\n",
        "            train_metric += metric(predictions, Y.to(device=device))\n",
        "\n",
        "        train_loss /= len(dataloader)\n",
        "        train_metric /= len(dataloader)\n",
        "        model.eval()\n",
        "        predictions = model(X_val.to(device=device))\n",
        "\n",
        "        val_loss = criterion(predictions, Y_val.to(device=device))\n",
        "        val_metric = metric(predictions, Y_val.to(device=device))\n",
        "        if lr_scheduler == 'ReduceLROnPlateau' or lr_scheduler == 'both':\n",
        "            scheduler2.step(val_metric)\n",
        "        print('Epoch {}/{}, Train Loss={:5f}, Train Metric={:.5f}, Val Loss={:.5f}, Val Metric={:.5f}'.format(\n",
        "            epoch + 1, nepoch, train_loss, train_metric, val_loss, val_metric))\n",
        "        if val_metric.item() < min_valmetric:\n",
        "            min_valmetric = val_metric.item()\n",
        "            model_name = 'model_{}_{}.pth'.format(i_fold + 1, seed) if eval_strategy == 'kfold' else 'model_single.pth'\n",
        "            torch.save(model.state_dict(), model_name)\n",
        "        elif earlystop:\n",
        "            step += 1\n",
        "            if step > earlystop_step:\n",
        "                break"
      ],
      "execution_count": 13,
      "outputs": []
    },
    {
      "cell_type": "code",
      "metadata": {
        "trusted": true,
        "id": "EwFydPO7Ag7o"
      },
      "source": [
        "# Hypter-parameters\n",
        "device = ('cuda' if torch.cuda.is_available() else 'cpu')\n",
        "\n",
        "# model\n",
        "hsize = 1024\n",
        "dropratio = 0.2\n",
        "\n",
        "# train\n",
        "batchsize = 128\n",
        "lr = 0.001\n",
        "wd = 1e-5\n",
        "smoothing = 0.001\n",
        "p_min = smoothing\n",
        "p_max = 1 - smoothing\n",
        "nepoch = 20\n",
        "earlystop = True\n",
        "earlystop_step = 10\n",
        "\n",
        "# lr_scheduler, options: ['OneCycleLR', 'ReduceLROnPlateau', 'both']\n",
        "lr_scheduler = 'OneCycleLR'\n",
        "# OneCycleLR\n",
        "pct_start = 0.1\n",
        "div_factor = 1e3\n",
        "# ReduceLROnPlateau\n",
        "factor=0.5\n",
        "patience=3\n",
        "\n",
        "# kfold\n",
        "nseed = 5\n",
        "NFOLDS = 10\n",
        "eval_strategy = 'kfold'"
      ],
      "execution_count": 14,
      "outputs": []
    },
    {
      "cell_type": "code",
      "metadata": {
        "trusted": true,
        "id": "6zSqTDrwAg7s",
        "outputId": "51135bb0-32a6-4a0f-9b0b-dafe511fc3d1",
        "colab": {
          "base_uri": "https://localhost:8080/",
          "height": 558
        }
      },
      "source": [
        "kf = KFold(n_splits= NFOLDS, shuffle = True)\n",
        "\n",
        "ss= np.zeros([to_pred_non_ctl.shape[0], num_labels])\n",
        "seed = 0\n",
        "\n",
        "for i_fold, (train_index, val_index) in enumerate(kf.split(X_train)):\n",
        "    print('Training at fold: ', i_fold)\n",
        "    tf.keras.backend.clear_session()\n",
        "    \n",
        "    # Get data\n",
        "    fold_X_train, fold_y_train = X_train[train_index], to_train_targets[cols_target].values[train_index]\n",
        "    \n",
        "    fold_X_val, fold_y_val = X_train[val_index], to_train_targets[cols_target].values[val_index]\n",
        "    \n",
        "    # compile model\n",
        "    \n",
        "    \n",
        "    X_train_tensor = torch.from_numpy(fold_X_train).to(dtype=torch.float32)\n",
        "    y_train_tensor = torch.from_numpy(fold_y_train).to(dtype=torch.float32)\n",
        "    X_val_tensor = torch.from_numpy(fold_X_val).to(dtype=torch.float32)\n",
        "    y_val_tensor = torch.from_numpy(fold_y_val).to(dtype=torch.float32)\n",
        "    \n",
        "    \n",
        "    dataset = TensorDataset(X_train_tensor, y_train_tensor)\n",
        "    dataloader = DataLoader(dataset, batch_size= 64, shuffle=True)\n",
        "\n",
        "    # train\n",
        "    running_train(X_train_tensor, y_train_tensor, X_val_tensor, y_val_tensor, dataloader, i_fold=i_fold, seed=seed)\n",
        "    \n",
        "    # Predict\n",
        "    model = Model(n_features=X_train_tensor.shape[1], \n",
        "                  n_targets=y_train_tensor.shape[1], \n",
        "                  hidden_size=hsize, \n",
        "                  dropratio=dropratio).to(device)\n",
        "    model.load_state_dict(torch.load('model_{}_{}.pth'.format(i_fold + 1, seed)))\n",
        "    model.eval()\n",
        "\n",
        "    # predict on test\n",
        "    X_pred_tensor = torch.from_numpy(X_pred).to(dtype=torch.float32)\n",
        "    print('predict on test...')\n",
        "    prediction_test = torch.clamp(torch.sigmoid(model(X_pred_tensor.to(device=device)).detach().cpu()), p_min, p_max)\n",
        "    \n",
        "    print('  done.\\n')\n",
        "    ss += prediction_test.numpy()\n",
        "\n",
        "ss = ss/NFOLDS"
      ],
      "execution_count": 15,
      "outputs": [
        {
          "output_type": "stream",
          "text": [
            "Training at fold:  0\n",
            "Epoch 1/20, Train Loss=0.334341, Train Metric=0.33431, Val Loss=0.02063, Val Metric=0.02061\n",
            "Epoch 2/20, Train Loss=0.019669, Train Metric=0.01961, Val Loss=0.01808, Val Metric=0.01815\n",
            "Epoch 3/20, Train Loss=0.017989, Train Metric=0.01807, Val Loss=0.01767, Val Metric=0.01777\n",
            "Epoch 4/20, Train Loss=0.017805, Train Metric=0.01791, Val Loss=0.01782, Val Metric=0.01790\n",
            "Epoch 5/20, Train Loss=0.017881, Train Metric=0.01797, Val Loss=0.01767, Val Metric=0.01775\n",
            "Epoch 6/20, Train Loss=0.018006, Train Metric=0.01809, Val Loss=0.01802, Val Metric=0.01809\n",
            "Epoch 7/20, Train Loss=0.018073, Train Metric=0.01815, Val Loss=0.01796, Val Metric=0.01805\n",
            "Epoch 8/20, Train Loss=0.018038, Train Metric=0.01812, Val Loss=0.01775, Val Metric=0.01783\n",
            "Epoch 9/20, Train Loss=0.018066, Train Metric=0.01815, Val Loss=0.01785, Val Metric=0.01793\n",
            "Epoch 10/20, Train Loss=0.017977, Train Metric=0.01805, Val Loss=0.01767, Val Metric=0.01775\n"
          ],
          "name": "stdout"
        },
        {
          "output_type": "error",
          "ename": "RuntimeError",
          "evalue": "ignored",
          "traceback": [
            "\u001b[0;31m---------------------------------------------------------------------------\u001b[0m",
            "\u001b[0;31mRuntimeError\u001b[0m                              Traceback (most recent call last)",
            "\u001b[0;32m<ipython-input-15-ba3f1a0e8c75>\u001b[0m in \u001b[0;36m<module>\u001b[0;34m()\u001b[0m\n\u001b[1;32m     26\u001b[0m \u001b[0;34m\u001b[0m\u001b[0m\n\u001b[1;32m     27\u001b[0m     \u001b[0;31m# train\u001b[0m\u001b[0;34m\u001b[0m\u001b[0;34m\u001b[0m\u001b[0;34m\u001b[0m\u001b[0m\n\u001b[0;32m---> 28\u001b[0;31m     \u001b[0mrunning_train\u001b[0m\u001b[0;34m(\u001b[0m\u001b[0mX_train_tensor\u001b[0m\u001b[0;34m,\u001b[0m \u001b[0my_train_tensor\u001b[0m\u001b[0;34m,\u001b[0m \u001b[0mX_val_tensor\u001b[0m\u001b[0;34m,\u001b[0m \u001b[0my_val_tensor\u001b[0m\u001b[0;34m,\u001b[0m \u001b[0mdataloader\u001b[0m\u001b[0;34m,\u001b[0m \u001b[0mi_fold\u001b[0m\u001b[0;34m=\u001b[0m\u001b[0mi_fold\u001b[0m\u001b[0;34m,\u001b[0m \u001b[0mseed\u001b[0m\u001b[0;34m=\u001b[0m\u001b[0mseed\u001b[0m\u001b[0;34m)\u001b[0m\u001b[0;34m\u001b[0m\u001b[0;34m\u001b[0m\u001b[0m\n\u001b[0m\u001b[1;32m     29\u001b[0m \u001b[0;34m\u001b[0m\u001b[0m\n\u001b[1;32m     30\u001b[0m     \u001b[0;31m# Predict\u001b[0m\u001b[0;34m\u001b[0m\u001b[0;34m\u001b[0m\u001b[0;34m\u001b[0m\u001b[0m\n",
            "\u001b[0;32m<ipython-input-13-d21475141c1f>\u001b[0m in \u001b[0;36mrunning_train\u001b[0;34m(X_train, Y_train, X_val, Y_val, dataloader, i_fold, seed)\u001b[0m\n\u001b[1;32m     86\u001b[0m         \u001b[0;32mfor\u001b[0m \u001b[0mi\u001b[0m\u001b[0;34m,\u001b[0m \u001b[0;34m(\u001b[0m\u001b[0mX\u001b[0m\u001b[0;34m,\u001b[0m \u001b[0mY\u001b[0m\u001b[0;34m)\u001b[0m \u001b[0;32min\u001b[0m \u001b[0menumerate\u001b[0m\u001b[0;34m(\u001b[0m\u001b[0mdataloader\u001b[0m\u001b[0;34m)\u001b[0m\u001b[0;34m:\u001b[0m\u001b[0;34m\u001b[0m\u001b[0;34m\u001b[0m\u001b[0m\n\u001b[1;32m     87\u001b[0m             \u001b[0mmodel\u001b[0m\u001b[0;34m.\u001b[0m\u001b[0mtrain\u001b[0m\u001b[0;34m(\u001b[0m\u001b[0;34m)\u001b[0m\u001b[0;34m\u001b[0m\u001b[0;34m\u001b[0m\u001b[0m\n\u001b[0;32m---> 88\u001b[0;31m             \u001b[0mpredictions\u001b[0m \u001b[0;34m=\u001b[0m \u001b[0mmodel\u001b[0m\u001b[0;34m(\u001b[0m\u001b[0mX\u001b[0m\u001b[0;34m.\u001b[0m\u001b[0mto\u001b[0m\u001b[0;34m(\u001b[0m\u001b[0mdevice\u001b[0m\u001b[0;34m=\u001b[0m\u001b[0mdevice\u001b[0m\u001b[0;34m)\u001b[0m\u001b[0;34m)\u001b[0m\u001b[0;34m\u001b[0m\u001b[0;34m\u001b[0m\u001b[0m\n\u001b[0m\u001b[1;32m     89\u001b[0m             \u001b[0mloss\u001b[0m \u001b[0;34m=\u001b[0m \u001b[0mcriterion\u001b[0m\u001b[0;34m(\u001b[0m\u001b[0mpredictions\u001b[0m\u001b[0;34m,\u001b[0m \u001b[0mY\u001b[0m\u001b[0;34m.\u001b[0m\u001b[0mto\u001b[0m\u001b[0;34m(\u001b[0m\u001b[0mdevice\u001b[0m\u001b[0;34m=\u001b[0m\u001b[0mdevice\u001b[0m\u001b[0;34m)\u001b[0m\u001b[0;34m)\u001b[0m\u001b[0;34m\u001b[0m\u001b[0;34m\u001b[0m\u001b[0m\n\u001b[1;32m     90\u001b[0m             \u001b[0moptimizer\u001b[0m\u001b[0;34m.\u001b[0m\u001b[0mzero_grad\u001b[0m\u001b[0;34m(\u001b[0m\u001b[0;34m)\u001b[0m\u001b[0;34m\u001b[0m\u001b[0;34m\u001b[0m\u001b[0m\n",
            "\u001b[0;31mRuntimeError\u001b[0m: CUDA error: device-side assert triggered"
          ]
        }
      ]
    },
    {
      "cell_type": "markdown",
      "metadata": {
        "id": "DpgoaO9IAg7y"
      },
      "source": [
        "MODELING"
      ]
    },
    {
      "cell_type": "code",
      "metadata": {
        "trusted": true,
        "id": "tvj4xBR5Ag70"
      },
      "source": [
        "# HyperParameters\n",
        "\n",
        "DEVICE = ('cuda' if torch.cuda.is_available() else 'cpu')\n",
        "EPOCHS = 25\n",
        "BATCH_SIZE = 128\n",
        "LEARNING_RATE = 1e-3\n",
        "WEIGHT_DECAY = 1e-5\n",
        "NFOLDS = 7           \n",
        "EARLY_STOPPING_STEPS = 10\n",
        "EARLY_STOP = False\n",
        "\n",
        "num_features= X_train.shape[1]\n",
        "num_targets= num_labels\n",
        "hidden_size=1500\n"
      ],
      "execution_count": null,
      "outputs": []
    },
    {
      "cell_type": "code",
      "metadata": {
        "trusted": true,
        "id": "-LQuJ9IBAg76"
      },
      "source": [
        "sub = sample_submission.drop(columns=target_cols).merge(test[['sig_id']+target_cols], on='sig_id', how='left').fillna(0)\n",
        "sub.to_csv('submission.csv', index=False)"
      ],
      "execution_count": null,
      "outputs": []
    },
    {
      "cell_type": "code",
      "metadata": {
        "trusted": true,
        "id": "BhyN6yzSAg7-"
      },
      "source": [
        "sub.shape"
      ],
      "execution_count": null,
      "outputs": []
    }
  ]
}