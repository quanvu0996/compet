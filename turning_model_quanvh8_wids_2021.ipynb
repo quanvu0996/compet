{
  "nbformat": 4,
  "nbformat_minor": 0,
  "metadata": {
    "colab": {
      "name": "Untitled2.ipynb",
      "provenance": [],
      "toc_visible": true,
      "authorship_tag": "ABX9TyNGD2BBwbm6FoEdfbws9WeZ",
      "include_colab_link": true
    },
    "kernelspec": {
      "name": "python3",
      "display_name": "Python 3"
    }
  },
  "cells": [
    {
      "cell_type": "markdown",
      "metadata": {
        "id": "view-in-github",
        "colab_type": "text"
      },
      "source": [
        "<a href=\"https://colab.research.google.com/github/quanvu0996/compet/blob/master/turning_model_quanvh8_wids_2021.ipynb\" target=\"_parent\"><img src=\"https://colab.research.google.com/assets/colab-badge.svg\" alt=\"Open In Colab\"/></a>"
      ]
    },
    {
      "cell_type": "markdown",
      "metadata": {
        "id": "i7QTj43OSQt4"
      },
      "source": [
        "# ENVIROMENT SETTING"
      ]
    },
    {
      "cell_type": "code",
      "metadata": {
        "id": "3-ysumBpQ4mN"
      },
      "source": [
        "# COLAB ONLY\r\n",
        "from google.colab import drive\r\n",
        "drive.mount('/content/drive')"
      ],
      "execution_count": null,
      "outputs": []
    },
    {
      "cell_type": "code",
      "metadata": {
        "id": "P8fGRgDuRn_M"
      },
      "source": [
        "import numpy as np\r\n",
        "import pandas as pd\r\n",
        "import matplotlib.pyplot as plt\r\n",
        "import tensorflow as tf\r\n",
        "\r\n",
        "import sklearn as sk\r\n",
        "from sklearn.model_selection import train_test_split, StratifiedKFold, cross_val_score\r\n",
        "from sklearn.pipeline import Pipeline\r\n",
        "from sklearn.compose import ColumnTransformer\r\n",
        "from sklearn import preprocessing\r\n",
        "from sklearn import ensemble\r\n",
        "from sklearn.impute import SimpleImputer\r\n",
        "from sklearn.metrics import accuracy_score, precision_score, recall_score, f1_score,roc_curve, auc, confusion_matrix\r\n",
        "from sklearn.base import BaseEstimator, TransformerMixin\r\n",
        "from sklearn.svm import LinearSVC\r\n",
        "from sklearn.linear_model import LogisticRegression\r\n",
        "from sklearn.decomposition import PCA, TruncatedSVD\r\n",
        "\r\n",
        "from multiprocessing.pool import ThreadPool\r\n",
        "from multiprocessing import Pool \r\n",
        "from scipy.stats import ks_2samp\r\n",
        "\r\n",
        "from xgboost import XGBClassifier\r\n",
        "# from catboost import CatBoostClassifier\r\n",
        "from lightgbm import LGBMClassifier"
      ],
      "execution_count": 10,
      "outputs": []
    },
    {
      "cell_type": "markdown",
      "metadata": {
        "id": "KV6S5I3RTht0"
      },
      "source": [
        "#### Data loading"
      ]
    },
    {
      "cell_type": "code",
      "metadata": {
        "id": "RzGlxfR_SM6k",
        "outputId": "32d43701-2ced-41e4-accc-cc810cab9917",
        "colab": {
          "base_uri": "https://localhost:8080/"
        }
      },
      "source": [
        "folder_path = '/content/drive/MyDrive/Data/colabs_data/WiDS' #Kaggle: ../input/widsdatathon2021/ #Local PC: '.'\r\n",
        "df_train = pd.read_csv(folder_path + \"/TrainingWiDS2021.csv\")\r\n",
        "df_test = pd.read_csv(folder_path + \"/UnlabeledWiDS2021.csv\")\r\n",
        "print(df_train.shape)\r\n",
        "print(df_test.shape)"
      ],
      "execution_count": 4,
      "outputs": [
        {
          "output_type": "stream",
          "text": [
            "(130157, 181)\n",
            "(10234, 180)\n"
          ],
          "name": "stdout"
        }
      ]
    },
    {
      "cell_type": "markdown",
      "metadata": {
        "id": "_SURT1ngTnG3"
      },
      "source": [
        "#### Feature classification\r\n",
        "Phân loại các loại nhãn dữ liệu cần xử lý\r\n"
      ]
    },
    {
      "cell_type": "code",
      "metadata": {
        "id": "x76dIln_Txzo"
      },
      "source": [
        "# Data type \r\n",
        "col_target = 'diabetes_mellitus'\r\n",
        "cols_id = ['encounter_id', 'Unnamed: 0']\r\n",
        "cols_cat = [i for i in df_train.select_dtypes('object').columns if i not in cols_id + [col_target]]\r\n",
        "cols_num = [i for i in df_train if i not in cols_cat + cols_id + [col_target] ]\r\n",
        "cols_ft = cols_cat + cols_num"
      ],
      "execution_count": 5,
      "outputs": []
    },
    {
      "cell_type": "markdown",
      "metadata": {
        "id": "CiBmAzr7UKJl"
      },
      "source": [
        "BASELINE DATA PIPELINE\r\n",
        "Chạy model mà không thêm feature"
      ]
    },
    {
      "cell_type": "markdown",
      "metadata": {
        "id": "ZypnAq_rTD2G"
      },
      "source": [
        "# DATA PROCESSING\r\n",
        "Prepare and transform data"
      ]
    },
    {
      "cell_type": "code",
      "metadata": {
        "id": "UhyvrTktTcr6",
        "outputId": "3b51397f-7e32-4498-8df0-eabfe6f1c42e",
        "colab": {
          "base_uri": "https://localhost:8080/"
        }
      },
      "source": [
        "p_cat = Pipeline([\r\n",
        "  ('imputer', SimpleImputer(strategy='constant', fill_value='missing')) ,\r\n",
        "  ('encode', preprocessing.OrdinalEncoder())\r\n",
        "])\r\n",
        "p_num = Pipeline([\r\n",
        "  ('fillna', SimpleImputer(strategy='constant', fill_value= -10000))\r\n",
        "])\r\n",
        "p1 = ColumnTransformer([\r\n",
        "  ('cat', p_cat, cols_cat),\r\n",
        "  ('num', p_num, cols_num)\r\n",
        "])\r\n",
        "\r\n",
        "pipe = Pipeline([\r\n",
        "  ('transformer', p1),\r\n",
        "  ('predictor', XGBClassifier(n_estimators= 100, n_jobs= -1, max_depth = 5 ))\r\n",
        "])\r\n",
        "\r\n",
        "cv_auc = cross_val_score( pipe, df_train[cols_ft], df_train[col_target], \r\n",
        "                         cv = 5, scoring = 'roc_auc', verbose = 1, n_jobs = -1)"
      ],
      "execution_count": null,
      "outputs": [
        {
          "output_type": "stream",
          "text": [
            "[Parallel(n_jobs=-1)]: Using backend LokyBackend with 2 concurrent workers.\n"
          ],
          "name": "stderr"
        }
      ]
    },
    {
      "cell_type": "code",
      "metadata": {
        "id": "gvgsSKIyXR9R"
      },
      "source": [
        "print(cv_auc)"
      ],
      "execution_count": null,
      "outputs": []
    },
    {
      "cell_type": "markdown",
      "metadata": {
        "id": "w7MvOsQeSh3D"
      },
      "source": [
        "## ADD DERIVED FEATURES"
      ]
    },
    {
      "cell_type": "code",
      "metadata": {
        "id": "8ur1n2dJSOmp"
      },
      "source": [
        ""
      ],
      "execution_count": null,
      "outputs": []
    },
    {
      "cell_type": "markdown",
      "metadata": {
        "id": "ahyN_Kc5Sx5s"
      },
      "source": [
        "# MODEL TURNING"
      ]
    },
    {
      "cell_type": "code",
      "metadata": {
        "id": "D6EIRnR7Sz7j"
      },
      "source": [
        ""
      ],
      "execution_count": null,
      "outputs": []
    },
    {
      "cell_type": "markdown",
      "metadata": {
        "id": "CCS0ZNYZS0m0"
      },
      "source": [
        "# SUBMISSION"
      ]
    },
    {
      "cell_type": "code",
      "metadata": {
        "id": "ff0fkXbbS3Nh"
      },
      "source": [
        ""
      ],
      "execution_count": null,
      "outputs": []
    }
  ]
}